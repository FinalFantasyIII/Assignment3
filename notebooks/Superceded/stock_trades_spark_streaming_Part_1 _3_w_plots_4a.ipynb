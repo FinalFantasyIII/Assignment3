{
 "cells": [
  {
   "cell_type": "code",
   "execution_count": 1,
   "id": "37c90656",
   "metadata": {},
   "outputs": [],
   "source": [
    "from pyspark.sql import SparkSession\n",
    "from IPython.display import display, clear_output\n",
    "import time\n",
    "from pyspark.sql import functions as F\n",
    "from pyspark.sql.types import StructType, StructField, IntegerType, StringType"
   ]
  },
  {
   "cell_type": "code",
   "execution_count": 2,
   "id": "d2c65f56",
   "metadata": {},
   "outputs": [],
   "source": [
    "spark = SparkSession.builder \\\n",
    "        .appName('kafka') \\\n",
    "        .getOrCreate()"
   ]
  },
  {
   "cell_type": "code",
   "execution_count": 3,
   "id": "1e17e932",
   "metadata": {},
   "outputs": [],
   "source": [
    "stream_df = spark \\\n",
    "  .readStream \\\n",
    "  .format(\"kafka\") \\\n",
    "  .option(\"kafka.bootstrap.servers\", \"broker:29092\") \\\n",
    "  .option(\"startingOffsets\", \"latest\") \\\n",
    "  .option(\"subscribe\", \"stock-trades\") \\\n",
    "  .load()"
   ]
  },
  {
   "cell_type": "code",
   "execution_count": 4,
   "id": "29f6672b",
   "metadata": {},
   "outputs": [
    {
     "name": "stdout",
     "output_type": "stream",
     "text": [
      "root\n",
      " |-- key: binary (nullable = true)\n",
      " |-- value: binary (nullable = true)\n",
      " |-- topic: string (nullable = true)\n",
      " |-- partition: integer (nullable = true)\n",
      " |-- offset: long (nullable = true)\n",
      " |-- timestamp: timestamp (nullable = true)\n",
      " |-- timestampType: integer (nullable = true)\n",
      "\n"
     ]
    }
   ],
   "source": [
    "stream_df.printSchema()"
   ]
  },
  {
   "cell_type": "code",
   "execution_count": 5,
   "id": "cec03b01",
   "metadata": {},
   "outputs": [],
   "source": [
    "raw_stream = stream_df \\\n",
    "    .writeStream \\\n",
    "    .format(\"memory\") \\\n",
    "    .queryName(\"raw_stocktrade_view\") \\\n",
    "    .start()"
   ]
  },
  {
   "cell_type": "code",
   "execution_count": 6,
   "id": "74cf1b3b",
   "metadata": {},
   "outputs": [],
   "source": [
    "clear_output(wait=True)\n",
    "time.sleep(10)"
   ]
  },
  {
   "cell_type": "code",
   "execution_count": 7,
   "id": "1dbf66e2",
   "metadata": {},
   "outputs": [
    {
     "name": "stdout",
     "output_type": "stream",
     "text": [
      "+----------------+--------------------+------------+---------+------+--------------------+-------------+\n",
      "|             key|               value|       topic|partition|offset|           timestamp|timestampType|\n",
      "+----------------+--------------------+------------+---------+------+--------------------+-------------+\n",
      "|[5A 54 45 53 54]|[7B 22 73 63 68 6...|stock-trades|        0|399374|2021-06-07 01:09:...|            0|\n",
      "|[5A 54 45 53 54]|[7B 22 73 63 68 6...|stock-trades|        0|399375|2021-06-07 01:09:...|            0|\n",
      "|[5A 57 5A 5A 54]|[7B 22 73 63 68 6...|stock-trades|        0|399376|2021-06-07 01:09:...|            0|\n",
      "|[5A 54 45 53 54]|[7B 22 73 63 68 6...|stock-trades|        0|399377|2021-06-07 01:09:...|            0|\n",
      "|[5A 57 5A 5A 54]|[7B 22 73 63 68 6...|stock-trades|        0|399378|2021-06-07 01:09:...|            0|\n",
      "|[5A 54 45 53 54]|[7B 22 73 63 68 6...|stock-trades|        0|399379|2021-06-07 01:09:...|            0|\n",
      "|[5A 4A 5A 5A 54]|[7B 22 73 63 68 6...|stock-trades|        0|399380|2021-06-07 01:09:...|            0|\n",
      "|[5A 54 45 53 54]|[7B 22 73 63 68 6...|stock-trades|        0|399381|2021-06-07 01:09:...|            0|\n",
      "|[5A 56 5A 5A 54]|[7B 22 73 63 68 6...|stock-trades|        0|399382|2021-06-07 01:09:...|            0|\n",
      "|   [5A 42 5A 58]|[7B 22 73 63 68 6...|stock-trades|        0|399383|2021-06-07 01:09:...|            0|\n",
      "|[5A 54 45 53 54]|[7B 22 73 63 68 6...|stock-trades|        0|399384|2021-06-07 01:09:...|            0|\n",
      "|[5A 54 45 53 54]|[7B 22 73 63 68 6...|stock-trades|        0|399385|2021-06-07 01:09:...|            0|\n",
      "|[5A 58 5A 5A 54]|[7B 22 73 63 68 6...|stock-trades|        0|399386|2021-06-07 01:09:...|            0|\n",
      "|[5A 4A 5A 5A 54]|[7B 22 73 63 68 6...|stock-trades|        0|399387|2021-06-07 01:09:...|            0|\n",
      "|[5A 58 5A 5A 54]|[7B 22 73 63 68 6...|stock-trades|        0|399388|2021-06-07 01:09:...|            0|\n",
      "|[5A 4A 5A 5A 54]|[7B 22 73 63 68 6...|stock-trades|        0|399389|2021-06-07 01:09:...|            0|\n",
      "|      [5A 56 56]|[7B 22 73 63 68 6...|stock-trades|        0|399390|2021-06-07 01:09:...|            0|\n",
      "|[5A 58 5A 5A 54]|[7B 22 73 63 68 6...|stock-trades|        0|399391|2021-06-07 01:09:...|            0|\n",
      "|[5A 54 45 53 54]|[7B 22 73 63 68 6...|stock-trades|        0|399392|2021-06-07 01:09:...|            0|\n",
      "|[5A 4A 5A 5A 54]|[7B 22 73 63 68 6...|stock-trades|        0|399393|2021-06-07 01:09:...|            0|\n",
      "+----------------+--------------------+------------+---------+------+--------------------+-------------+\n",
      "only showing top 20 rows\n",
      "\n"
     ]
    },
    {
     "data": {
      "text/plain": [
       "None"
      ]
     },
     "metadata": {},
     "output_type": "display_data"
    }
   ],
   "source": [
    "clear_output(wait=True)\n",
    "display(spark.sql('SELECT * FROM raw_stocktrade_view').show(20))\n",
    "time.sleep(1)"
   ]
  },
  {
   "cell_type": "code",
   "execution_count": 8,
   "id": "8fa7b407",
   "metadata": {},
   "outputs": [],
   "source": [
    "time.sleep(1)"
   ]
  },
  {
   "cell_type": "code",
   "execution_count": 9,
   "id": "88d7ff3f",
   "metadata": {},
   "outputs": [],
   "source": [
    "raw_stream.stop()"
   ]
  },
  {
   "cell_type": "code",
   "execution_count": 10,
   "id": "770e5501",
   "metadata": {},
   "outputs": [],
   "source": [
    "string_stream_df = stream_df \\\n",
    "    .withColumn(\"key\", stream_df[\"key\"].cast(StringType())) \\\n",
    "    .withColumn(\"value\", stream_df[\"value\"].cast(StringType()))"
   ]
  },
  {
   "cell_type": "code",
   "execution_count": 11,
   "id": "af3ede75",
   "metadata": {},
   "outputs": [],
   "source": [
    "string_stream = string_stream_df \\\n",
    "    .writeStream \\\n",
    "    .format(\"memory\") \\\n",
    "    .queryName(\"string_stocktrade_view\") \\\n",
    "    .start()"
   ]
  },
  {
   "cell_type": "code",
   "execution_count": 12,
   "id": "73d93e18",
   "metadata": {},
   "outputs": [
    {
     "name": "stdout",
     "output_type": "stream",
     "text": [
      "+-----+-------------------------------------------------------------------------------------------------------------------------------------------------------------------------------------------------------------------------------------------------------------------------------------------------------------------------------------------------------------------------------------------------------------------------------------------------------------------------------------------------------------------------------------------------------------------------------------------------------------------------------------------------------------------------------------------------------------------------------------------------------------------------------------------------------------------------------------------------------------------------------------------------------------------------------------------------------------------------------------------------------------+------------+---------+------+-----------------------+-------------+\n",
      "|key  |value                                                                                                                                                                                                                                                                                                                                                                                                                                                                                                                                                                                                                                                                                                                                                                                                                                                                                                                                                                                                        |topic       |partition|offset|timestamp              |timestampType|\n",
      "+-----+-------------------------------------------------------------------------------------------------------------------------------------------------------------------------------------------------------------------------------------------------------------------------------------------------------------------------------------------------------------------------------------------------------------------------------------------------------------------------------------------------------------------------------------------------------------------------------------------------------------------------------------------------------------------------------------------------------------------------------------------------------------------------------------------------------------------------------------------------------------------------------------------------------------------------------------------------------------------------------------------------------------+------------+---------+------+-----------------------+-------------+\n",
      "|ZXZZT|{\"schema\":{\"type\":\"struct\",\"fields\":[{\"type\":\"string\",\"optional\":false,\"doc\":\"A simulated trade side (buy or sell or short)\",\"field\":\"side\"},{\"type\":\"int32\",\"optional\":false,\"doc\":\"A simulated random quantity of the trade\",\"field\":\"quantity\"},{\"type\":\"string\",\"optional\":false,\"doc\":\"Simulated stock symbols\",\"field\":\"symbol\"},{\"type\":\"int32\",\"optional\":false,\"doc\":\"A simulated random trade price in pennies\",\"field\":\"price\"},{\"type\":\"string\",\"optional\":false,\"doc\":\"Simulated accounts assigned to the trade\",\"field\":\"account\"},{\"type\":\"string\",\"optional\":false,\"doc\":\"The simulated user who executed the trade\",\"field\":\"userid\"}],\"optional\":false,\"name\":\"ksql.StockTrade\",\"doc\":\"Defines a hypothetical stock trade using some known test stock symbols.\",\"parameters\":{\"connect.record.doc\":\"Defines a hypothetical stock trade using some known test stock symbols.\"}},\"payload\":{\"side\":\"BUY\",\"quantity\":1562,\"symbol\":\"ZXZZT\",\"price\":375,\"account\":\"ABC123\",\"userid\":\"User_1\"}} |stock-trades|0        |401355|2021-06-07 01:10:29.261|0            |\n",
      "|ZVZZT|{\"schema\":{\"type\":\"struct\",\"fields\":[{\"type\":\"string\",\"optional\":false,\"doc\":\"A simulated trade side (buy or sell or short)\",\"field\":\"side\"},{\"type\":\"int32\",\"optional\":false,\"doc\":\"A simulated random quantity of the trade\",\"field\":\"quantity\"},{\"type\":\"string\",\"optional\":false,\"doc\":\"Simulated stock symbols\",\"field\":\"symbol\"},{\"type\":\"int32\",\"optional\":false,\"doc\":\"A simulated random trade price in pennies\",\"field\":\"price\"},{\"type\":\"string\",\"optional\":false,\"doc\":\"Simulated accounts assigned to the trade\",\"field\":\"account\"},{\"type\":\"string\",\"optional\":false,\"doc\":\"The simulated user who executed the trade\",\"field\":\"userid\"}],\"optional\":false,\"name\":\"ksql.StockTrade\",\"doc\":\"Defines a hypothetical stock trade using some known test stock symbols.\",\"parameters\":{\"connect.record.doc\":\"Defines a hypothetical stock trade using some known test stock symbols.\"}},\"payload\":{\"side\":\"BUY\",\"quantity\":2736,\"symbol\":\"ZVZZT\",\"price\":735,\"account\":\"XYZ789\",\"userid\":\"User_9\"}} |stock-trades|0        |401356|2021-06-07 01:10:29.284|0            |\n",
      "|ZWZZT|{\"schema\":{\"type\":\"struct\",\"fields\":[{\"type\":\"string\",\"optional\":false,\"doc\":\"A simulated trade side (buy or sell or short)\",\"field\":\"side\"},{\"type\":\"int32\",\"optional\":false,\"doc\":\"A simulated random quantity of the trade\",\"field\":\"quantity\"},{\"type\":\"string\",\"optional\":false,\"doc\":\"Simulated stock symbols\",\"field\":\"symbol\"},{\"type\":\"int32\",\"optional\":false,\"doc\":\"A simulated random trade price in pennies\",\"field\":\"price\"},{\"type\":\"string\",\"optional\":false,\"doc\":\"Simulated accounts assigned to the trade\",\"field\":\"account\"},{\"type\":\"string\",\"optional\":false,\"doc\":\"The simulated user who executed the trade\",\"field\":\"userid\"}],\"optional\":false,\"name\":\"ksql.StockTrade\",\"doc\":\"Defines a hypothetical stock trade using some known test stock symbols.\",\"parameters\":{\"connect.record.doc\":\"Defines a hypothetical stock trade using some known test stock symbols.\"}},\"payload\":{\"side\":\"BUY\",\"quantity\":3150,\"symbol\":\"ZWZZT\",\"price\":640,\"account\":\"XYZ789\",\"userid\":\"User_8\"}} |stock-trades|0        |401357|2021-06-07 01:10:29.317|0            |\n",
      "|ZTEST|{\"schema\":{\"type\":\"struct\",\"fields\":[{\"type\":\"string\",\"optional\":false,\"doc\":\"A simulated trade side (buy or sell or short)\",\"field\":\"side\"},{\"type\":\"int32\",\"optional\":false,\"doc\":\"A simulated random quantity of the trade\",\"field\":\"quantity\"},{\"type\":\"string\",\"optional\":false,\"doc\":\"Simulated stock symbols\",\"field\":\"symbol\"},{\"type\":\"int32\",\"optional\":false,\"doc\":\"A simulated random trade price in pennies\",\"field\":\"price\"},{\"type\":\"string\",\"optional\":false,\"doc\":\"Simulated accounts assigned to the trade\",\"field\":\"account\"},{\"type\":\"string\",\"optional\":false,\"doc\":\"The simulated user who executed the trade\",\"field\":\"userid\"}],\"optional\":false,\"name\":\"ksql.StockTrade\",\"doc\":\"Defines a hypothetical stock trade using some known test stock symbols.\",\"parameters\":{\"connect.record.doc\":\"Defines a hypothetical stock trade using some known test stock symbols.\"}},\"payload\":{\"side\":\"BUY\",\"quantity\":4336,\"symbol\":\"ZTEST\",\"price\":755,\"account\":\"ABC123\",\"userid\":\"User_3\"}} |stock-trades|0        |401358|2021-06-07 01:10:29.368|0            |\n",
      "|ZTEST|{\"schema\":{\"type\":\"struct\",\"fields\":[{\"type\":\"string\",\"optional\":false,\"doc\":\"A simulated trade side (buy or sell or short)\",\"field\":\"side\"},{\"type\":\"int32\",\"optional\":false,\"doc\":\"A simulated random quantity of the trade\",\"field\":\"quantity\"},{\"type\":\"string\",\"optional\":false,\"doc\":\"Simulated stock symbols\",\"field\":\"symbol\"},{\"type\":\"int32\",\"optional\":false,\"doc\":\"A simulated random trade price in pennies\",\"field\":\"price\"},{\"type\":\"string\",\"optional\":false,\"doc\":\"Simulated accounts assigned to the trade\",\"field\":\"account\"},{\"type\":\"string\",\"optional\":false,\"doc\":\"The simulated user who executed the trade\",\"field\":\"userid\"}],\"optional\":false,\"name\":\"ksql.StockTrade\",\"doc\":\"Defines a hypothetical stock trade using some known test stock symbols.\",\"parameters\":{\"connect.record.doc\":\"Defines a hypothetical stock trade using some known test stock symbols.\"}},\"payload\":{\"side\":\"SELL\",\"quantity\":2331,\"symbol\":\"ZTEST\",\"price\":224,\"account\":\"ABC123\",\"userid\":\"User_5\"}}|stock-trades|0        |401359|2021-06-07 01:10:29.402|0            |\n",
      "|ZWZZT|{\"schema\":{\"type\":\"struct\",\"fields\":[{\"type\":\"string\",\"optional\":false,\"doc\":\"A simulated trade side (buy or sell or short)\",\"field\":\"side\"},{\"type\":\"int32\",\"optional\":false,\"doc\":\"A simulated random quantity of the trade\",\"field\":\"quantity\"},{\"type\":\"string\",\"optional\":false,\"doc\":\"Simulated stock symbols\",\"field\":\"symbol\"},{\"type\":\"int32\",\"optional\":false,\"doc\":\"A simulated random trade price in pennies\",\"field\":\"price\"},{\"type\":\"string\",\"optional\":false,\"doc\":\"Simulated accounts assigned to the trade\",\"field\":\"account\"},{\"type\":\"string\",\"optional\":false,\"doc\":\"The simulated user who executed the trade\",\"field\":\"userid\"}],\"optional\":false,\"name\":\"ksql.StockTrade\",\"doc\":\"Defines a hypothetical stock trade using some known test stock symbols.\",\"parameters\":{\"connect.record.doc\":\"Defines a hypothetical stock trade using some known test stock symbols.\"}},\"payload\":{\"side\":\"SELL\",\"quantity\":3237,\"symbol\":\"ZWZZT\",\"price\":597,\"account\":\"LMN456\",\"userid\":\"User_1\"}}|stock-trades|0        |401360|2021-06-07 01:10:29.406|0            |\n",
      "|ZJZZT|{\"schema\":{\"type\":\"struct\",\"fields\":[{\"type\":\"string\",\"optional\":false,\"doc\":\"A simulated trade side (buy or sell or short)\",\"field\":\"side\"},{\"type\":\"int32\",\"optional\":false,\"doc\":\"A simulated random quantity of the trade\",\"field\":\"quantity\"},{\"type\":\"string\",\"optional\":false,\"doc\":\"Simulated stock symbols\",\"field\":\"symbol\"},{\"type\":\"int32\",\"optional\":false,\"doc\":\"A simulated random trade price in pennies\",\"field\":\"price\"},{\"type\":\"string\",\"optional\":false,\"doc\":\"Simulated accounts assigned to the trade\",\"field\":\"account\"},{\"type\":\"string\",\"optional\":false,\"doc\":\"The simulated user who executed the trade\",\"field\":\"userid\"}],\"optional\":false,\"name\":\"ksql.StockTrade\",\"doc\":\"Defines a hypothetical stock trade using some known test stock symbols.\",\"parameters\":{\"connect.record.doc\":\"Defines a hypothetical stock trade using some known test stock symbols.\"}},\"payload\":{\"side\":\"BUY\",\"quantity\":513,\"symbol\":\"ZJZZT\",\"price\":765,\"account\":\"ABC123\",\"userid\":\"User_5\"}}  |stock-trades|0        |401361|2021-06-07 01:10:29.414|0            |\n",
      "|ZJZZT|{\"schema\":{\"type\":\"struct\",\"fields\":[{\"type\":\"string\",\"optional\":false,\"doc\":\"A simulated trade side (buy or sell or short)\",\"field\":\"side\"},{\"type\":\"int32\",\"optional\":false,\"doc\":\"A simulated random quantity of the trade\",\"field\":\"quantity\"},{\"type\":\"string\",\"optional\":false,\"doc\":\"Simulated stock symbols\",\"field\":\"symbol\"},{\"type\":\"int32\",\"optional\":false,\"doc\":\"A simulated random trade price in pennies\",\"field\":\"price\"},{\"type\":\"string\",\"optional\":false,\"doc\":\"Simulated accounts assigned to the trade\",\"field\":\"account\"},{\"type\":\"string\",\"optional\":false,\"doc\":\"The simulated user who executed the trade\",\"field\":\"userid\"}],\"optional\":false,\"name\":\"ksql.StockTrade\",\"doc\":\"Defines a hypothetical stock trade using some known test stock symbols.\",\"parameters\":{\"connect.record.doc\":\"Defines a hypothetical stock trade using some known test stock symbols.\"}},\"payload\":{\"side\":\"BUY\",\"quantity\":4046,\"symbol\":\"ZJZZT\",\"price\":623,\"account\":\"LMN456\",\"userid\":\"User_2\"}} |stock-trades|0        |401362|2021-06-07 01:10:29.431|0            |\n",
      "|ZXZZT|{\"schema\":{\"type\":\"struct\",\"fields\":[{\"type\":\"string\",\"optional\":false,\"doc\":\"A simulated trade side (buy or sell or short)\",\"field\":\"side\"},{\"type\":\"int32\",\"optional\":false,\"doc\":\"A simulated random quantity of the trade\",\"field\":\"quantity\"},{\"type\":\"string\",\"optional\":false,\"doc\":\"Simulated stock symbols\",\"field\":\"symbol\"},{\"type\":\"int32\",\"optional\":false,\"doc\":\"A simulated random trade price in pennies\",\"field\":\"price\"},{\"type\":\"string\",\"optional\":false,\"doc\":\"Simulated accounts assigned to the trade\",\"field\":\"account\"},{\"type\":\"string\",\"optional\":false,\"doc\":\"The simulated user who executed the trade\",\"field\":\"userid\"}],\"optional\":false,\"name\":\"ksql.StockTrade\",\"doc\":\"Defines a hypothetical stock trade using some known test stock symbols.\",\"parameters\":{\"connect.record.doc\":\"Defines a hypothetical stock trade using some known test stock symbols.\"}},\"payload\":{\"side\":\"SELL\",\"quantity\":2909,\"symbol\":\"ZXZZT\",\"price\":254,\"account\":\"XYZ789\",\"userid\":\"User_9\"}}|stock-trades|0        |401363|2021-06-07 01:10:29.489|0            |\n",
      "|ZVZZT|{\"schema\":{\"type\":\"struct\",\"fields\":[{\"type\":\"string\",\"optional\":false,\"doc\":\"A simulated trade side (buy or sell or short)\",\"field\":\"side\"},{\"type\":\"int32\",\"optional\":false,\"doc\":\"A simulated random quantity of the trade\",\"field\":\"quantity\"},{\"type\":\"string\",\"optional\":false,\"doc\":\"Simulated stock symbols\",\"field\":\"symbol\"},{\"type\":\"int32\",\"optional\":false,\"doc\":\"A simulated random trade price in pennies\",\"field\":\"price\"},{\"type\":\"string\",\"optional\":false,\"doc\":\"Simulated accounts assigned to the trade\",\"field\":\"account\"},{\"type\":\"string\",\"optional\":false,\"doc\":\"The simulated user who executed the trade\",\"field\":\"userid\"}],\"optional\":false,\"name\":\"ksql.StockTrade\",\"doc\":\"Defines a hypothetical stock trade using some known test stock symbols.\",\"parameters\":{\"connect.record.doc\":\"Defines a hypothetical stock trade using some known test stock symbols.\"}},\"payload\":{\"side\":\"BUY\",\"quantity\":3866,\"symbol\":\"ZVZZT\",\"price\":737,\"account\":\"ABC123\",\"userid\":\"User_3\"}} |stock-trades|0        |401364|2021-06-07 01:10:29.504|0            |\n",
      "|ZXZZT|{\"schema\":{\"type\":\"struct\",\"fields\":[{\"type\":\"string\",\"optional\":false,\"doc\":\"A simulated trade side (buy or sell or short)\",\"field\":\"side\"},{\"type\":\"int32\",\"optional\":false,\"doc\":\"A simulated random quantity of the trade\",\"field\":\"quantity\"},{\"type\":\"string\",\"optional\":false,\"doc\":\"Simulated stock symbols\",\"field\":\"symbol\"},{\"type\":\"int32\",\"optional\":false,\"doc\":\"A simulated random trade price in pennies\",\"field\":\"price\"},{\"type\":\"string\",\"optional\":false,\"doc\":\"Simulated accounts assigned to the trade\",\"field\":\"account\"},{\"type\":\"string\",\"optional\":false,\"doc\":\"The simulated user who executed the trade\",\"field\":\"userid\"}],\"optional\":false,\"name\":\"ksql.StockTrade\",\"doc\":\"Defines a hypothetical stock trade using some known test stock symbols.\",\"parameters\":{\"connect.record.doc\":\"Defines a hypothetical stock trade using some known test stock symbols.\"}},\"payload\":{\"side\":\"BUY\",\"quantity\":2877,\"symbol\":\"ZXZZT\",\"price\":963,\"account\":\"XYZ789\",\"userid\":\"User_8\"}} |stock-trades|0        |401365|2021-06-07 01:10:29.555|0            |\n",
      "|ZTEST|{\"schema\":{\"type\":\"struct\",\"fields\":[{\"type\":\"string\",\"optional\":false,\"doc\":\"A simulated trade side (buy or sell or short)\",\"field\":\"side\"},{\"type\":\"int32\",\"optional\":false,\"doc\":\"A simulated random quantity of the trade\",\"field\":\"quantity\"},{\"type\":\"string\",\"optional\":false,\"doc\":\"Simulated stock symbols\",\"field\":\"symbol\"},{\"type\":\"int32\",\"optional\":false,\"doc\":\"A simulated random trade price in pennies\",\"field\":\"price\"},{\"type\":\"string\",\"optional\":false,\"doc\":\"Simulated accounts assigned to the trade\",\"field\":\"account\"},{\"type\":\"string\",\"optional\":false,\"doc\":\"The simulated user who executed the trade\",\"field\":\"userid\"}],\"optional\":false,\"name\":\"ksql.StockTrade\",\"doc\":\"Defines a hypothetical stock trade using some known test stock symbols.\",\"parameters\":{\"connect.record.doc\":\"Defines a hypothetical stock trade using some known test stock symbols.\"}},\"payload\":{\"side\":\"BUY\",\"quantity\":1414,\"symbol\":\"ZTEST\",\"price\":145,\"account\":\"LMN456\",\"userid\":\"User_2\"}} |stock-trades|0        |401366|2021-06-07 01:10:29.57 |0            |\n",
      "|ZWZZT|{\"schema\":{\"type\":\"struct\",\"fields\":[{\"type\":\"string\",\"optional\":false,\"doc\":\"A simulated trade side (buy or sell or short)\",\"field\":\"side\"},{\"type\":\"int32\",\"optional\":false,\"doc\":\"A simulated random quantity of the trade\",\"field\":\"quantity\"},{\"type\":\"string\",\"optional\":false,\"doc\":\"Simulated stock symbols\",\"field\":\"symbol\"},{\"type\":\"int32\",\"optional\":false,\"doc\":\"A simulated random trade price in pennies\",\"field\":\"price\"},{\"type\":\"string\",\"optional\":false,\"doc\":\"Simulated accounts assigned to the trade\",\"field\":\"account\"},{\"type\":\"string\",\"optional\":false,\"doc\":\"The simulated user who executed the trade\",\"field\":\"userid\"}],\"optional\":false,\"name\":\"ksql.StockTrade\",\"doc\":\"Defines a hypothetical stock trade using some known test stock symbols.\",\"parameters\":{\"connect.record.doc\":\"Defines a hypothetical stock trade using some known test stock symbols.\"}},\"payload\":{\"side\":\"BUY\",\"quantity\":1065,\"symbol\":\"ZWZZT\",\"price\":691,\"account\":\"LMN456\",\"userid\":\"User_6\"}} |stock-trades|0        |401367|2021-06-07 01:10:29.625|0            |\n",
      "|ZBZX |{\"schema\":{\"type\":\"struct\",\"fields\":[{\"type\":\"string\",\"optional\":false,\"doc\":\"A simulated trade side (buy or sell or short)\",\"field\":\"side\"},{\"type\":\"int32\",\"optional\":false,\"doc\":\"A simulated random quantity of the trade\",\"field\":\"quantity\"},{\"type\":\"string\",\"optional\":false,\"doc\":\"Simulated stock symbols\",\"field\":\"symbol\"},{\"type\":\"int32\",\"optional\":false,\"doc\":\"A simulated random trade price in pennies\",\"field\":\"price\"},{\"type\":\"string\",\"optional\":false,\"doc\":\"Simulated accounts assigned to the trade\",\"field\":\"account\"},{\"type\":\"string\",\"optional\":false,\"doc\":\"The simulated user who executed the trade\",\"field\":\"userid\"}],\"optional\":false,\"name\":\"ksql.StockTrade\",\"doc\":\"Defines a hypothetical stock trade using some known test stock symbols.\",\"parameters\":{\"connect.record.doc\":\"Defines a hypothetical stock trade using some known test stock symbols.\"}},\"payload\":{\"side\":\"SELL\",\"quantity\":3093,\"symbol\":\"ZBZX\",\"price\":890,\"account\":\"XYZ789\",\"userid\":\"User_6\"}} |stock-trades|0        |401368|2021-06-07 01:10:29.63 |0            |\n",
      "|ZXZZT|{\"schema\":{\"type\":\"struct\",\"fields\":[{\"type\":\"string\",\"optional\":false,\"doc\":\"A simulated trade side (buy or sell or short)\",\"field\":\"side\"},{\"type\":\"int32\",\"optional\":false,\"doc\":\"A simulated random quantity of the trade\",\"field\":\"quantity\"},{\"type\":\"string\",\"optional\":false,\"doc\":\"Simulated stock symbols\",\"field\":\"symbol\"},{\"type\":\"int32\",\"optional\":false,\"doc\":\"A simulated random trade price in pennies\",\"field\":\"price\"},{\"type\":\"string\",\"optional\":false,\"doc\":\"Simulated accounts assigned to the trade\",\"field\":\"account\"},{\"type\":\"string\",\"optional\":false,\"doc\":\"The simulated user who executed the trade\",\"field\":\"userid\"}],\"optional\":false,\"name\":\"ksql.StockTrade\",\"doc\":\"Defines a hypothetical stock trade using some known test stock symbols.\",\"parameters\":{\"connect.record.doc\":\"Defines a hypothetical stock trade using some known test stock symbols.\"}},\"payload\":{\"side\":\"SELL\",\"quantity\":3297,\"symbol\":\"ZXZZT\",\"price\":447,\"account\":\"XYZ789\",\"userid\":\"User_4\"}}|stock-trades|0        |401369|2021-06-07 01:10:29.648|0            |\n",
      "|ZBZX |{\"schema\":{\"type\":\"struct\",\"fields\":[{\"type\":\"string\",\"optional\":false,\"doc\":\"A simulated trade side (buy or sell or short)\",\"field\":\"side\"},{\"type\":\"int32\",\"optional\":false,\"doc\":\"A simulated random quantity of the trade\",\"field\":\"quantity\"},{\"type\":\"string\",\"optional\":false,\"doc\":\"Simulated stock symbols\",\"field\":\"symbol\"},{\"type\":\"int32\",\"optional\":false,\"doc\":\"A simulated random trade price in pennies\",\"field\":\"price\"},{\"type\":\"string\",\"optional\":false,\"doc\":\"Simulated accounts assigned to the trade\",\"field\":\"account\"},{\"type\":\"string\",\"optional\":false,\"doc\":\"The simulated user who executed the trade\",\"field\":\"userid\"}],\"optional\":false,\"name\":\"ksql.StockTrade\",\"doc\":\"Defines a hypothetical stock trade using some known test stock symbols.\",\"parameters\":{\"connect.record.doc\":\"Defines a hypothetical stock trade using some known test stock symbols.\"}},\"payload\":{\"side\":\"BUY\",\"quantity\":745,\"symbol\":\"ZBZX\",\"price\":845,\"account\":\"XYZ789\",\"userid\":\"User_7\"}}   |stock-trades|0        |401370|2021-06-07 01:10:29.663|0            |\n",
      "|ZXZZT|{\"schema\":{\"type\":\"struct\",\"fields\":[{\"type\":\"string\",\"optional\":false,\"doc\":\"A simulated trade side (buy or sell or short)\",\"field\":\"side\"},{\"type\":\"int32\",\"optional\":false,\"doc\":\"A simulated random quantity of the trade\",\"field\":\"quantity\"},{\"type\":\"string\",\"optional\":false,\"doc\":\"Simulated stock symbols\",\"field\":\"symbol\"},{\"type\":\"int32\",\"optional\":false,\"doc\":\"A simulated random trade price in pennies\",\"field\":\"price\"},{\"type\":\"string\",\"optional\":false,\"doc\":\"Simulated accounts assigned to the trade\",\"field\":\"account\"},{\"type\":\"string\",\"optional\":false,\"doc\":\"The simulated user who executed the trade\",\"field\":\"userid\"}],\"optional\":false,\"name\":\"ksql.StockTrade\",\"doc\":\"Defines a hypothetical stock trade using some known test stock symbols.\",\"parameters\":{\"connect.record.doc\":\"Defines a hypothetical stock trade using some known test stock symbols.\"}},\"payload\":{\"side\":\"BUY\",\"quantity\":162,\"symbol\":\"ZXZZT\",\"price\":237,\"account\":\"LMN456\",\"userid\":\"User_3\"}}  |stock-trades|0        |401371|2021-06-07 01:10:29.679|0            |\n",
      "|ZVV  |{\"schema\":{\"type\":\"struct\",\"fields\":[{\"type\":\"string\",\"optional\":false,\"doc\":\"A simulated trade side (buy or sell or short)\",\"field\":\"side\"},{\"type\":\"int32\",\"optional\":false,\"doc\":\"A simulated random quantity of the trade\",\"field\":\"quantity\"},{\"type\":\"string\",\"optional\":false,\"doc\":\"Simulated stock symbols\",\"field\":\"symbol\"},{\"type\":\"int32\",\"optional\":false,\"doc\":\"A simulated random trade price in pennies\",\"field\":\"price\"},{\"type\":\"string\",\"optional\":false,\"doc\":\"Simulated accounts assigned to the trade\",\"field\":\"account\"},{\"type\":\"string\",\"optional\":false,\"doc\":\"The simulated user who executed the trade\",\"field\":\"userid\"}],\"optional\":false,\"name\":\"ksql.StockTrade\",\"doc\":\"Defines a hypothetical stock trade using some known test stock symbols.\",\"parameters\":{\"connect.record.doc\":\"Defines a hypothetical stock trade using some known test stock symbols.\"}},\"payload\":{\"side\":\"BUY\",\"quantity\":4396,\"symbol\":\"ZVV\",\"price\":184,\"account\":\"LMN456\",\"userid\":\"User_6\"}}   |stock-trades|0        |401372|2021-06-07 01:10:29.679|0            |\n",
      "|ZJZZT|{\"schema\":{\"type\":\"struct\",\"fields\":[{\"type\":\"string\",\"optional\":false,\"doc\":\"A simulated trade side (buy or sell or short)\",\"field\":\"side\"},{\"type\":\"int32\",\"optional\":false,\"doc\":\"A simulated random quantity of the trade\",\"field\":\"quantity\"},{\"type\":\"string\",\"optional\":false,\"doc\":\"Simulated stock symbols\",\"field\":\"symbol\"},{\"type\":\"int32\",\"optional\":false,\"doc\":\"A simulated random trade price in pennies\",\"field\":\"price\"},{\"type\":\"string\",\"optional\":false,\"doc\":\"Simulated accounts assigned to the trade\",\"field\":\"account\"},{\"type\":\"string\",\"optional\":false,\"doc\":\"The simulated user who executed the trade\",\"field\":\"userid\"}],\"optional\":false,\"name\":\"ksql.StockTrade\",\"doc\":\"Defines a hypothetical stock trade using some known test stock symbols.\",\"parameters\":{\"connect.record.doc\":\"Defines a hypothetical stock trade using some known test stock symbols.\"}},\"payload\":{\"side\":\"SELL\",\"quantity\":568,\"symbol\":\"ZJZZT\",\"price\":535,\"account\":\"ABC123\",\"userid\":\"User_1\"}} |stock-trades|0        |401373|2021-06-07 01:10:29.706|0            |\n",
      "|ZVZZT|{\"schema\":{\"type\":\"struct\",\"fields\":[{\"type\":\"string\",\"optional\":false,\"doc\":\"A simulated trade side (buy or sell or short)\",\"field\":\"side\"},{\"type\":\"int32\",\"optional\":false,\"doc\":\"A simulated random quantity of the trade\",\"field\":\"quantity\"},{\"type\":\"string\",\"optional\":false,\"doc\":\"Simulated stock symbols\",\"field\":\"symbol\"},{\"type\":\"int32\",\"optional\":false,\"doc\":\"A simulated random trade price in pennies\",\"field\":\"price\"},{\"type\":\"string\",\"optional\":false,\"doc\":\"Simulated accounts assigned to the trade\",\"field\":\"account\"},{\"type\":\"string\",\"optional\":false,\"doc\":\"The simulated user who executed the trade\",\"field\":\"userid\"}],\"optional\":false,\"name\":\"ksql.StockTrade\",\"doc\":\"Defines a hypothetical stock trade using some known test stock symbols.\",\"parameters\":{\"connect.record.doc\":\"Defines a hypothetical stock trade using some known test stock symbols.\"}},\"payload\":{\"side\":\"BUY\",\"quantity\":290,\"symbol\":\"ZVZZT\",\"price\":111,\"account\":\"LMN456\",\"userid\":\"User_2\"}}  |stock-trades|0        |401374|2021-06-07 01:10:29.719|0            |\n",
      "+-----+-------------------------------------------------------------------------------------------------------------------------------------------------------------------------------------------------------------------------------------------------------------------------------------------------------------------------------------------------------------------------------------------------------------------------------------------------------------------------------------------------------------------------------------------------------------------------------------------------------------------------------------------------------------------------------------------------------------------------------------------------------------------------------------------------------------------------------------------------------------------------------------------------------------------------------------------------------------------------------------------------------------+------------+---------+------+-----------------------+-------------+\n",
      "only showing top 20 rows\n",
      "\n"
     ]
    },
    {
     "data": {
      "text/plain": [
       "None"
      ]
     },
     "metadata": {},
     "output_type": "display_data"
    }
   ],
   "source": [
    "clear_output(wait=True)\n",
    "display(spark.sql('SELECT * FROM string_stocktrade_view').show(20, False))\n",
    "time.sleep(1)"
   ]
  },
  {
   "cell_type": "code",
   "execution_count": 13,
   "id": "386860b2",
   "metadata": {},
   "outputs": [],
   "source": [
    "string_stream.stop()"
   ]
  },
  {
   "cell_type": "code",
   "execution_count": 14,
   "id": "dc3f2406",
   "metadata": {},
   "outputs": [],
   "source": [
    "schema_stocktrade = StructType([\n",
    "    StructField('payload', StructType([\n",
    "        StructField(\"side\", StringType(),  True),\n",
    "        StructField(\"quantity\", IntegerType(), True),\n",
    "        StructField(\"symbol\", StringType(),  True),\n",
    "        StructField(\"price\", IntegerType(),  True),\n",
    "        StructField(\"account\", StringType(),  True),\n",
    "        StructField(\"userid\", StringType(),  True)      \n",
    "    ]))\n",
    "])"
   ]
  },
  {
   "cell_type": "code",
   "execution_count": 15,
   "id": "56da42f0",
   "metadata": {},
   "outputs": [],
   "source": [
    "json_stream_df = string_stream_df\\\n",
    "    .withColumn(\"value\", F.from_json(\"value\", schema_stocktrade))"
   ]
  },
  {
   "cell_type": "code",
   "execution_count": 16,
   "id": "d6313e37",
   "metadata": {},
   "outputs": [
    {
     "name": "stdout",
     "output_type": "stream",
     "text": [
      "root\n",
      " |-- key: string (nullable = true)\n",
      " |-- value: struct (nullable = true)\n",
      " |    |-- payload: struct (nullable = true)\n",
      " |    |    |-- side: string (nullable = true)\n",
      " |    |    |-- quantity: integer (nullable = true)\n",
      " |    |    |-- symbol: string (nullable = true)\n",
      " |    |    |-- price: integer (nullable = true)\n",
      " |    |    |-- account: string (nullable = true)\n",
      " |    |    |-- userid: string (nullable = true)\n",
      " |-- topic: string (nullable = true)\n",
      " |-- partition: integer (nullable = true)\n",
      " |-- offset: long (nullable = true)\n",
      " |-- timestamp: timestamp (nullable = true)\n",
      " |-- timestampType: integer (nullable = true)\n",
      "\n"
     ]
    }
   ],
   "source": [
    "json_stream_df.printSchema()"
   ]
  },
  {
   "cell_type": "code",
   "execution_count": 17,
   "id": "88ecd598",
   "metadata": {},
   "outputs": [],
   "source": [
    "json_stream = json_stream_df \\\n",
    "    .writeStream \\\n",
    "    .format(\"memory\") \\\n",
    "    .queryName(\"extract_stock_view\") \\\n",
    "    .start()"
   ]
  },
  {
   "cell_type": "code",
   "execution_count": 18,
   "id": "0822eae2",
   "metadata": {},
   "outputs": [
    {
     "name": "stdout",
     "output_type": "stream",
     "text": [
      "+-----+--------------------+------------+---------+------+--------------------+-------------+\n",
      "|  key|               value|       topic|partition|offset|           timestamp|timestampType|\n",
      "+-----+--------------------+------------+---------+------+--------------------+-------------+\n",
      "|ZVZZT|{{SELL, 4408, ZVZ...|stock-trades|        0|402276|2021-06-07 01:10:...|            0|\n",
      "| ZBZX|{{BUY, 4362, ZBZX...|stock-trades|        0|402277|2021-06-07 01:10:...|            0|\n",
      "|ZXZZT|{{SELL, 4522, ZXZ...|stock-trades|        0|402278|2021-06-07 01:10:...|            0|\n",
      "|ZVZZT|{{SELL, 848, ZVZZ...|stock-trades|        0|402279|2021-06-07 01:10:...|            0|\n",
      "|ZWZZT|{{SELL, 2794, ZWZ...|stock-trades|        0|402280|2021-06-07 01:10:...|            0|\n",
      "|ZXZZT|{{BUY, 3438, ZXZZ...|stock-trades|        0|402281|2021-06-07 01:10:...|            0|\n",
      "|ZWZZT|{{BUY, 3303, ZWZZ...|stock-trades|        0|402282|2021-06-07 01:10:...|            0|\n",
      "|ZTEST|{{SELL, 4782, ZTE...|stock-trades|        0|402283|2021-06-07 01:10:...|            0|\n",
      "|ZTEST|{{SELL, 4926, ZTE...|stock-trades|        0|402284|2021-06-07 01:10:...|            0|\n",
      "|ZXZZT|{{BUY, 1944, ZXZZ...|stock-trades|        0|402285|2021-06-07 01:10:...|            0|\n",
      "|ZTEST|{{BUY, 3524, ZTES...|stock-trades|        0|402286|2021-06-07 01:10:...|            0|\n",
      "|ZTEST|{{SELL, 2459, ZTE...|stock-trades|        0|402287|2021-06-07 01:10:...|            0|\n",
      "|ZWZZT|{{SELL, 733, ZWZZ...|stock-trades|        0|402288|2021-06-07 01:10:...|            0|\n",
      "|ZWZZT|{{BUY, 904, ZWZZT...|stock-trades|        0|402289|2021-06-07 01:10:...|            0|\n",
      "|ZWZZT|{{SELL, 3277, ZWZ...|stock-trades|        0|402290|2021-06-07 01:10:...|            0|\n",
      "|ZVZZT|{{SELL, 4744, ZVZ...|stock-trades|        0|402291|2021-06-07 01:10:...|            0|\n",
      "|ZWZZT|{{BUY, 3570, ZWZZ...|stock-trades|        0|402292|2021-06-07 01:10:...|            0|\n",
      "|ZWZZT|{{SELL, 3800, ZWZ...|stock-trades|        0|402293|2021-06-07 01:10:...|            0|\n",
      "|ZWZZT|{{BUY, 3814, ZWZZ...|stock-trades|        0|402294|2021-06-07 01:10:...|            0|\n",
      "|ZWZZT|{{BUY, 382, ZWZZT...|stock-trades|        0|402295|2021-06-07 01:10:...|            0|\n",
      "+-----+--------------------+------------+---------+------+--------------------+-------------+\n",
      "only showing top 20 rows\n",
      "\n"
     ]
    },
    {
     "data": {
      "text/plain": [
       "None"
      ]
     },
     "metadata": {},
     "output_type": "display_data"
    }
   ],
   "source": [
    "clear_output(wait=True)\n",
    "display(spark.sql('SELECT * FROM extract_stock_view').show(20))\n",
    "time.sleep(1)"
   ]
  },
  {
   "cell_type": "code",
   "execution_count": 19,
   "id": "baf13f6c",
   "metadata": {},
   "outputs": [],
   "source": [
    "json_stream.stop()"
   ]
  },
  {
   "cell_type": "code",
   "execution_count": 20,
   "id": "bb6526aa",
   "metadata": {},
   "outputs": [],
   "source": [
    "stocktrade_stream_df = json_stream_df \\\n",
    "    .select( \\\n",
    "        F.col(\"key\").alias(\"event_key\"), \\\n",
    "        F.col(\"topic\").alias(\"event_topic\"), \\\n",
    "        F.col(\"timestamp\").alias(\"event_timestamp\"), \\\n",
    "        \"value.payload.account\", \\\n",
    "        \"value.payload.symbol\", \\\n",
    "        \"value.payload.side\", \\\n",
    "        \"value.payload.price\", \\\n",
    "        \"value.payload.quantity\", \\\n",
    "        \"value.payload.userid\"\n",
    "    )"
   ]
  },
  {
   "cell_type": "code",
   "execution_count": 21,
   "id": "ddcd752e",
   "metadata": {},
   "outputs": [
    {
     "name": "stdout",
     "output_type": "stream",
     "text": [
      "root\n",
      " |-- event_key: string (nullable = true)\n",
      " |-- event_topic: string (nullable = true)\n",
      " |-- event_timestamp: timestamp (nullable = true)\n",
      " |-- account: string (nullable = true)\n",
      " |-- symbol: string (nullable = true)\n",
      " |-- side: string (nullable = true)\n",
      " |-- price: integer (nullable = true)\n",
      " |-- quantity: integer (nullable = true)\n",
      " |-- userid: string (nullable = true)\n",
      "\n"
     ]
    }
   ],
   "source": [
    "stocktrade_stream_df.printSchema()"
   ]
  },
  {
   "cell_type": "code",
   "execution_count": 22,
   "id": "2566b9e4",
   "metadata": {},
   "outputs": [],
   "source": [
    "stocktrade_stream = stocktrade_stream_df \\\n",
    "    .writeStream \\\n",
    "    .format(\"memory\") \\\n",
    "    .queryName(\"stocktrade_view\") \\\n",
    "    .start()"
   ]
  },
  {
   "cell_type": "code",
   "execution_count": 23,
   "id": "ed159130",
   "metadata": {},
   "outputs": [
    {
     "name": "stdout",
     "output_type": "stream",
     "text": [
      "+---------+------------+--------------------+-------+------+----+-----+--------+------+\n",
      "|event_key| event_topic|     event_timestamp|account|symbol|side|price|quantity|userid|\n",
      "+---------+------------+--------------------+-------+------+----+-----+--------+------+\n",
      "|    ZWZZT|stock-trades|2021-06-07 01:11:...| LMN456| ZWZZT| BUY|  825|    3061|User_1|\n",
      "|    ZWZZT|stock-trades|2021-06-07 01:11:...| LMN456| ZWZZT| BUY|  112|    1849|User_9|\n",
      "|    ZVZZT|stock-trades|2021-06-07 01:11:...| XYZ789| ZVZZT|SELL|  999|     505|User_2|\n",
      "|    ZXZZT|stock-trades|2021-06-07 01:11:...| LMN456| ZXZZT| BUY|  787|    2044|User_2|\n",
      "|    ZJZZT|stock-trades|2021-06-07 01:11:...| LMN456| ZJZZT| BUY|   81|      51|User_5|\n",
      "|    ZJZZT|stock-trades|2021-06-07 01:11:...| ABC123| ZJZZT| BUY|  863|     905|User_9|\n",
      "|    ZJZZT|stock-trades|2021-06-07 01:11:...| ABC123| ZJZZT|SELL|  511|     878|User_1|\n",
      "|    ZXZZT|stock-trades|2021-06-07 01:11:...| LMN456| ZXZZT| BUY|  415|    3660|User_1|\n",
      "|    ZXZZT|stock-trades|2021-06-07 01:11:...| LMN456| ZXZZT| BUY|  596|    2624|User_4|\n",
      "|    ZJZZT|stock-trades|2021-06-07 01:11:...| ABC123| ZJZZT|SELL|  743|    4608|User_9|\n",
      "|    ZWZZT|stock-trades|2021-06-07 01:11:...| ABC123| ZWZZT| BUY|  988|    3152|User_1|\n",
      "|    ZWZZT|stock-trades|2021-06-07 01:11:...| LMN456| ZWZZT|SELL|  973|    4186|User_1|\n",
      "|    ZVZZT|stock-trades|2021-06-07 01:11:...| LMN456| ZVZZT|SELL|  977|    4770|User_3|\n",
      "|    ZTEST|stock-trades|2021-06-07 01:11:...| ABC123| ZTEST| BUY|  652|    4390|User_8|\n",
      "|    ZTEST|stock-trades|2021-06-07 01:11:...| LMN456| ZTEST|SELL|  990|    1918|User_2|\n",
      "|    ZXZZT|stock-trades|2021-06-07 01:11:...| LMN456| ZXZZT|SELL|  762|    4811|User_8|\n",
      "|    ZVZZT|stock-trades|2021-06-07 01:11:...| ABC123| ZVZZT| BUY|   72|     803|User_7|\n",
      "|    ZTEST|stock-trades|2021-06-07 01:11:...| XYZ789| ZTEST|SELL|  283|    4261|User_5|\n",
      "|     ZBZX|stock-trades|2021-06-07 01:11:...| ABC123|  ZBZX|SELL|  537|    4439|User_4|\n",
      "|    ZVZZT|stock-trades|2021-06-07 01:11:...| ABC123| ZVZZT|SELL|  457|    1474|User_2|\n",
      "+---------+------------+--------------------+-------+------+----+-----+--------+------+\n",
      "only showing top 20 rows\n",
      "\n"
     ]
    },
    {
     "data": {
      "text/plain": [
       "None"
      ]
     },
     "metadata": {},
     "output_type": "display_data"
    }
   ],
   "source": [
    "clear_output(wait=True)\n",
    "display(spark.sql('SELECT * FROM stocktrade_view').show(20))\n",
    "time.sleep(1)"
   ]
  },
  {
   "cell_type": "code",
   "execution_count": 24,
   "id": "ee548b0d",
   "metadata": {},
   "outputs": [
    {
     "name": "stdout",
     "output_type": "stream",
     "text": [
      "+---------+-----+-----+------+\n",
      "|event_key|count|price|   qty|\n",
      "+---------+-----+-----+------+\n",
      "|    ZXZZT|   89|437.0|2431.0|\n",
      "|    ZVZZT|   87|575.0|2378.0|\n",
      "|    ZTEST|   88|498.0|2462.0|\n",
      "|    ZWZZT|   80|474.0|2580.0|\n",
      "|    ZJZZT|   92|507.0|2374.0|\n",
      "|      ZVV|   79|472.0|2340.0|\n",
      "|     ZBZX|   81|511.0|2463.0|\n",
      "+---------+-----+-----+------+\n",
      "\n"
     ]
    },
    {
     "data": {
      "text/plain": [
       "None"
      ]
     },
     "metadata": {},
     "output_type": "display_data"
    }
   ],
   "source": [
    "clear_output(wait=True)\n",
    "display(spark.sql('SELECT event_key, COUNT(1) AS count, round(mean(price),0) as price, round(mean(quantity),0) as qty FROM stocktrade_view GROUP BY 1').show(20))\n",
    "time.sleep(1)"
   ]
  },
  {
   "cell_type": "code",
   "execution_count": 25,
   "id": "1f2bd3e0",
   "metadata": {},
   "outputs": [],
   "source": [
    "stocktrade_stream.stop()"
   ]
  },
  {
   "cell_type": "code",
   "execution_count": 26,
   "id": "89087ba4",
   "metadata": {},
   "outputs": [],
   "source": [
    "window_duration = '60 seconds'\n",
    "slide_duration = '10 seconds'"
   ]
  },
  {
   "cell_type": "code",
   "execution_count": 27,
   "id": "b1f31cce",
   "metadata": {},
   "outputs": [],
   "source": [
    "windowed_count_df = stocktrade_stream_df \\\n",
    "    .withWatermark(\"event_timestamp\", \"1 minutes\") \\\n",
    "    .groupBy(F.window(stocktrade_stream_df.event_timestamp, window_duration, slide_duration), stocktrade_stream_df.symbol) \\\n",
    "    .count()"
   ]
  },
  {
   "cell_type": "code",
   "execution_count": 28,
   "id": "d20366f6",
   "metadata": {},
   "outputs": [],
   "source": [
    "count_stream = windowed_count_df \\\n",
    "    .writeStream \\\n",
    "    .format(\"memory\") \\\n",
    "    .outputMode(\"Complete\") \\\n",
    "    .queryName(\"count_view\") \\\n",
    "    .start()"
   ]
  },
  {
   "cell_type": "code",
   "execution_count": 86,
   "id": "599d72ce",
   "metadata": {},
   "outputs": [
    {
     "name": "stdout",
     "output_type": "stream",
     "text": [
      "+--------------------+------+-----+\n",
      "|              window|symbol|count|\n",
      "+--------------------+------+-----+\n",
      "|{2021-06-06 11:50...| ZTEST|   30|\n",
      "|{2021-06-06 11:51...| ZWZZT|   26|\n",
      "|{2021-06-06 11:50...| ZTEST|   30|\n",
      "|{2021-06-06 11:50...|  ZBZX|   33|\n",
      "|{2021-06-06 11:50...|  ZBZX|   33|\n",
      "|{2021-06-06 11:51...|  ZBZX|   21|\n",
      "|{2021-06-06 11:50...| ZVZZT|   35|\n",
      "|{2021-06-06 11:50...| ZJZZT|   39|\n",
      "|{2021-06-06 11:50...| ZVZZT|   35|\n",
      "|{2021-06-06 11:50...| ZTEST|   12|\n",
      "|{2021-06-06 11:50...| ZXZZT|   16|\n",
      "|{2021-06-06 11:50...| ZWZZT|   32|\n",
      "|{2021-06-06 11:51...|   ZVV|   31|\n",
      "|{2021-06-06 11:50...|  ZBZX|   33|\n",
      "|{2021-06-06 11:50...|  ZBZX|   33|\n",
      "|{2021-06-06 11:50...| ZWZZT|   32|\n",
      "|{2021-06-06 11:50...| ZXZZT|   52|\n",
      "|{2021-06-06 11:50...| ZVZZT|   10|\n",
      "|{2021-06-06 11:50...|   ZVV|   43|\n",
      "|{2021-06-06 11:50...| ZVZZT|   35|\n",
      "+--------------------+------+-----+\n",
      "\n"
     ]
    },
    {
     "data": {
      "text/plain": [
       "None"
      ]
     },
     "metadata": {},
     "output_type": "display_data"
    },
    {
     "ename": "KeyboardInterrupt",
     "evalue": "",
     "output_type": "error",
     "traceback": [
      "\u001b[0;31m---------------------------------------------------------------------------\u001b[0m",
      "\u001b[0;31mKeyboardInterrupt\u001b[0m                         Traceback (most recent call last)",
      "\u001b[0;32m<ipython-input-86-18d3403f5de3>\u001b[0m in \u001b[0;36m<module>\u001b[0;34m\u001b[0m\n\u001b[1;32m      2\u001b[0m     \u001b[0mclear_output\u001b[0m\u001b[0;34m(\u001b[0m\u001b[0mwait\u001b[0m\u001b[0;34m=\u001b[0m\u001b[0;32mTrue\u001b[0m\u001b[0;34m)\u001b[0m\u001b[0;34m\u001b[0m\u001b[0;34m\u001b[0m\u001b[0m\n\u001b[1;32m      3\u001b[0m     \u001b[0mdisplay\u001b[0m\u001b[0;34m(\u001b[0m\u001b[0mspark\u001b[0m\u001b[0;34m.\u001b[0m\u001b[0msql\u001b[0m\u001b[0;34m(\u001b[0m\u001b[0;34m'SELECT * FROM count_view LIMIT 20'\u001b[0m\u001b[0;34m)\u001b[0m\u001b[0;34m.\u001b[0m\u001b[0mshow\u001b[0m\u001b[0;34m(\u001b[0m\u001b[0;34m)\u001b[0m\u001b[0;34m)\u001b[0m\u001b[0;34m\u001b[0m\u001b[0;34m\u001b[0m\u001b[0m\n\u001b[0;32m----> 4\u001b[0;31m     \u001b[0mtime\u001b[0m\u001b[0;34m.\u001b[0m\u001b[0msleep\u001b[0m\u001b[0;34m(\u001b[0m\u001b[0;36m1\u001b[0m\u001b[0;34m)\u001b[0m\u001b[0;34m\u001b[0m\u001b[0;34m\u001b[0m\u001b[0m\n\u001b[0m",
      "\u001b[0;31mKeyboardInterrupt\u001b[0m: "
     ]
    }
   ],
   "source": [
    "while True:\n",
    "    clear_output(wait=True)\n",
    "    display(spark.sql('SELECT * FROM count_view LIMIT 20').show())\n",
    "    time.sleep(1)"
   ]
  },
  {
   "cell_type": "code",
   "execution_count": 67,
   "id": "7e2c5ede",
   "metadata": {},
   "outputs": [],
   "source": [
    "# count_stream.stop()"
   ]
  },
  {
   "cell_type": "code",
   "execution_count": 29,
   "id": "0f822265",
   "metadata": {},
   "outputs": [
    {
     "data": {
      "text/html": [
       "<div>\n",
       "<style scoped>\n",
       "    .dataframe tbody tr th:only-of-type {\n",
       "        vertical-align: middle;\n",
       "    }\n",
       "\n",
       "    .dataframe tbody tr th {\n",
       "        vertical-align: top;\n",
       "    }\n",
       "\n",
       "    .dataframe thead th {\n",
       "        text-align: right;\n",
       "    }\n",
       "</style>\n",
       "<table border=\"1\" class=\"dataframe\">\n",
       "  <thead>\n",
       "    <tr style=\"text-align: right;\">\n",
       "      <th></th>\n",
       "      <th>event_key</th>\n",
       "      <th>event_topic</th>\n",
       "      <th>event_timestamp</th>\n",
       "      <th>account</th>\n",
       "      <th>symbol</th>\n",
       "      <th>side</th>\n",
       "      <th>price</th>\n",
       "      <th>quantity</th>\n",
       "      <th>userid</th>\n",
       "    </tr>\n",
       "  </thead>\n",
       "  <tbody>\n",
       "    <tr>\n",
       "      <th>0</th>\n",
       "      <td>ZVV</td>\n",
       "      <td>stock-trades</td>\n",
       "      <td>2021-06-07 01:11:29.144</td>\n",
       "      <td>XYZ789</td>\n",
       "      <td>ZVV</td>\n",
       "      <td>SELL</td>\n",
       "      <td>274</td>\n",
       "      <td>2994</td>\n",
       "      <td>User_6</td>\n",
       "    </tr>\n",
       "    <tr>\n",
       "      <th>1</th>\n",
       "      <td>ZVZZT</td>\n",
       "      <td>stock-trades</td>\n",
       "      <td>2021-06-07 01:11:29.140</td>\n",
       "      <td>ABC123</td>\n",
       "      <td>ZVZZT</td>\n",
       "      <td>SELL</td>\n",
       "      <td>429</td>\n",
       "      <td>2081</td>\n",
       "      <td>User_4</td>\n",
       "    </tr>\n",
       "    <tr>\n",
       "      <th>2</th>\n",
       "      <td>ZVZZT</td>\n",
       "      <td>stock-trades</td>\n",
       "      <td>2021-06-07 01:11:29.112</td>\n",
       "      <td>ABC123</td>\n",
       "      <td>ZVZZT</td>\n",
       "      <td>BUY</td>\n",
       "      <td>591</td>\n",
       "      <td>518</td>\n",
       "      <td>User_3</td>\n",
       "    </tr>\n",
       "    <tr>\n",
       "      <th>3</th>\n",
       "      <td>ZVZZT</td>\n",
       "      <td>stock-trades</td>\n",
       "      <td>2021-06-07 01:11:29.107</td>\n",
       "      <td>ABC123</td>\n",
       "      <td>ZVZZT</td>\n",
       "      <td>SELL</td>\n",
       "      <td>147</td>\n",
       "      <td>3518</td>\n",
       "      <td>User_4</td>\n",
       "    </tr>\n",
       "    <tr>\n",
       "      <th>4</th>\n",
       "      <td>ZWZZT</td>\n",
       "      <td>stock-trades</td>\n",
       "      <td>2021-06-07 01:11:29.104</td>\n",
       "      <td>ABC123</td>\n",
       "      <td>ZWZZT</td>\n",
       "      <td>SELL</td>\n",
       "      <td>909</td>\n",
       "      <td>4786</td>\n",
       "      <td>User_2</td>\n",
       "    </tr>\n",
       "    <tr>\n",
       "      <th>...</th>\n",
       "      <td>...</td>\n",
       "      <td>...</td>\n",
       "      <td>...</td>\n",
       "      <td>...</td>\n",
       "      <td>...</td>\n",
       "      <td>...</td>\n",
       "      <td>...</td>\n",
       "      <td>...</td>\n",
       "      <td>...</td>\n",
       "    </tr>\n",
       "    <tr>\n",
       "      <th>739</th>\n",
       "      <td>ZJZZT</td>\n",
       "      <td>stock-trades</td>\n",
       "      <td>2021-06-07 01:11:10.728</td>\n",
       "      <td>LMN456</td>\n",
       "      <td>ZJZZT</td>\n",
       "      <td>BUY</td>\n",
       "      <td>81</td>\n",
       "      <td>51</td>\n",
       "      <td>User_5</td>\n",
       "    </tr>\n",
       "    <tr>\n",
       "      <th>740</th>\n",
       "      <td>ZXZZT</td>\n",
       "      <td>stock-trades</td>\n",
       "      <td>2021-06-07 01:11:10.687</td>\n",
       "      <td>LMN456</td>\n",
       "      <td>ZXZZT</td>\n",
       "      <td>BUY</td>\n",
       "      <td>787</td>\n",
       "      <td>2044</td>\n",
       "      <td>User_2</td>\n",
       "    </tr>\n",
       "    <tr>\n",
       "      <th>741</th>\n",
       "      <td>ZVZZT</td>\n",
       "      <td>stock-trades</td>\n",
       "      <td>2021-06-07 01:11:10.666</td>\n",
       "      <td>XYZ789</td>\n",
       "      <td>ZVZZT</td>\n",
       "      <td>SELL</td>\n",
       "      <td>999</td>\n",
       "      <td>505</td>\n",
       "      <td>User_2</td>\n",
       "    </tr>\n",
       "    <tr>\n",
       "      <th>742</th>\n",
       "      <td>ZWZZT</td>\n",
       "      <td>stock-trades</td>\n",
       "      <td>2021-06-07 01:11:10.636</td>\n",
       "      <td>LMN456</td>\n",
       "      <td>ZWZZT</td>\n",
       "      <td>BUY</td>\n",
       "      <td>112</td>\n",
       "      <td>1849</td>\n",
       "      <td>User_9</td>\n",
       "    </tr>\n",
       "    <tr>\n",
       "      <th>743</th>\n",
       "      <td>ZWZZT</td>\n",
       "      <td>stock-trades</td>\n",
       "      <td>2021-06-07 01:11:10.590</td>\n",
       "      <td>LMN456</td>\n",
       "      <td>ZWZZT</td>\n",
       "      <td>BUY</td>\n",
       "      <td>825</td>\n",
       "      <td>3061</td>\n",
       "      <td>User_1</td>\n",
       "    </tr>\n",
       "  </tbody>\n",
       "</table>\n",
       "<p>744 rows × 9 columns</p>\n",
       "</div>"
      ],
      "text/plain": [
       "    event_key   event_topic         event_timestamp account symbol  side  \\\n",
       "0         ZVV  stock-trades 2021-06-07 01:11:29.144  XYZ789    ZVV  SELL   \n",
       "1       ZVZZT  stock-trades 2021-06-07 01:11:29.140  ABC123  ZVZZT  SELL   \n",
       "2       ZVZZT  stock-trades 2021-06-07 01:11:29.112  ABC123  ZVZZT   BUY   \n",
       "3       ZVZZT  stock-trades 2021-06-07 01:11:29.107  ABC123  ZVZZT  SELL   \n",
       "4       ZWZZT  stock-trades 2021-06-07 01:11:29.104  ABC123  ZWZZT  SELL   \n",
       "..        ...           ...                     ...     ...    ...   ...   \n",
       "739     ZJZZT  stock-trades 2021-06-07 01:11:10.728  LMN456  ZJZZT   BUY   \n",
       "740     ZXZZT  stock-trades 2021-06-07 01:11:10.687  LMN456  ZXZZT   BUY   \n",
       "741     ZVZZT  stock-trades 2021-06-07 01:11:10.666  XYZ789  ZVZZT  SELL   \n",
       "742     ZWZZT  stock-trades 2021-06-07 01:11:10.636  LMN456  ZWZZT   BUY   \n",
       "743     ZWZZT  stock-trades 2021-06-07 01:11:10.590  LMN456  ZWZZT   BUY   \n",
       "\n",
       "     price  quantity  userid  \n",
       "0      274      2994  User_6  \n",
       "1      429      2081  User_4  \n",
       "2      591       518  User_3  \n",
       "3      147      3518  User_4  \n",
       "4      909      4786  User_2  \n",
       "..     ...       ...     ...  \n",
       "739     81        51  User_5  \n",
       "740    787      2044  User_2  \n",
       "741    999       505  User_2  \n",
       "742    112      1849  User_9  \n",
       "743    825      3061  User_1  \n",
       "\n",
       "[744 rows x 9 columns]"
      ]
     },
     "execution_count": 29,
     "metadata": {},
     "output_type": "execute_result"
    }
   ],
   "source": [
    "########################\n",
    "# Visualisations\n",
    "########################\n",
    "# Graphing real-time data\n",
    "# loading packages\n",
    "import time\n",
    "import random as rd\n",
    "import numpy as np\n",
    "from IPython.display import clear_output\n",
    "import matplotlib.pyplot as plt\n",
    "\n",
    "# sample data from stocktrade_view\n",
    "x_y = spark.sql('''SELECT * FROM stocktrade_view order by event_timestamp desc limit 2000''')\n",
    "x_y_df = x_y.toPandas()\n",
    "x_y_df"
   ]
  },
  {
   "cell_type": "code",
   "execution_count": 30,
   "id": "dcdd3df0",
   "metadata": {},
   "outputs": [
    {
     "data": {
      "image/png": "[encoded data removed]",
      "text/plain": [
       "<Figure size 432x288 with 1 Axes>"
      ]
     },
     "metadata": {
      "needs_background": "light"
     },
     "output_type": "display_data"
    },
    {
     "ename": "KeyboardInterrupt",
     "evalue": "",
     "output_type": "error",
     "traceback": [
      "\u001b[0;31m---------------------------------------------------------------------------\u001b[0m",
      "\u001b[0;31mKeyboardInterrupt\u001b[0m                         Traceback (most recent call last)",
      "\u001b[0;32m<ipython-input-30-189b252234f3>\u001b[0m in \u001b[0;36m<module>\u001b[0;34m\u001b[0m\n\u001b[1;32m     72\u001b[0m \u001b[0;34m\u001b[0m\u001b[0m\n\u001b[1;32m     73\u001b[0m     \u001b[0;31m# updating every 10 s\u001b[0m\u001b[0;34m\u001b[0m\u001b[0;34m\u001b[0m\u001b[0;34m\u001b[0m\u001b[0m\n\u001b[0;32m---> 74\u001b[0;31m     \u001b[0mtime\u001b[0m\u001b[0;34m.\u001b[0m\u001b[0msleep\u001b[0m\u001b[0;34m(\u001b[0m\u001b[0;36m10\u001b[0m\u001b[0;34m)\u001b[0m\u001b[0;34m\u001b[0m\u001b[0;34m\u001b[0m\u001b[0m\n\u001b[0m",
      "\u001b[0;31mKeyboardInterrupt\u001b[0m: "
     ]
    }
   ],
   "source": [
    "stocktrade_stream.stop()\n",
    "# Plotting tranded amount vs stock (symbol)\n",
    "# taking the most recent 200 transactions\n",
    "x_y = spark.sql('''SELECT \n",
    "                        symbol\n",
    "                        , side\n",
    "                        , sum(price*quantity)/100 as traded_amount_in_dollars\n",
    "                    FROM (select * from stocktrade_view order by event_timestamp desc limit 200) as current\n",
    "                    group by \n",
    "                            side\n",
    "                            , symbol\n",
    "                        ''')\n",
    "x_y_df = x_y.toPandas()\n",
    "# sorting values by 2 columns\n",
    "x_y_df = x_y_df.sort_values(by = ['symbol', 'side'])\n",
    "print(x_y_df)\n",
    "\n",
    "\n",
    "def live_bar_plot(df, figsize=(7,5), title = 'Traded amount of last 200 transactions'):\n",
    "    clear_output(wait=True)\n",
    "    labels = list(df.symbol.unique())\n",
    "\n",
    "    data = [ df[df['side'] == 'BUY']['traded_amount_in_dollars']\n",
    "            ,df[df['side'] == 'SELL']['traded_amount_in_dollars']\n",
    "           ]\n",
    "    X = np.arange(len(df.symbol.unique()))\n",
    "    fig = plt.figure()\n",
    "    ax = fig.add_axes([0,0,1,1])\n",
    "    ax.bar(X + 0.00, data[0], color = 'g', width = 0.25)\n",
    "    ax.bar(X + 0.25, data[1], color = 'r', width = 0.25)\n",
    "    ax.legend(labels=['BUY', 'SELL'])\n",
    "    ax.set_xticks(X)\n",
    "    ax.set_xticklabels(labels)\n",
    "\n",
    "\n",
    "    plt.title(title)\n",
    "    plt.grid(True)\n",
    "    plt.xlabel('Symbol')\n",
    "    plt.ylabel('Traded amount in $')\n",
    "    plt.show();\n",
    "\n",
    "stocktrade_stream = stocktrade_stream_df \\\n",
    "    .writeStream \\\n",
    "    .format(\"memory\") \\\n",
    "    .queryName(\"stocktrade_view\") \\\n",
    "    .start()    \n",
    "\n",
    "\n",
    "\n",
    "while True:\n",
    "    x_y= spark.sql('''SELECT \n",
    "                        symbol\n",
    "                        , side\n",
    "                        , sum(price*quantity)/100 as traded_amount_in_dollars\n",
    "                        , max(event_timestamp) as max_event_timestamp\n",
    "                    FROM (select * from stocktrade_view order by event_timestamp desc limit 200) as current\n",
    "                    group by \n",
    "                            side\n",
    "                            , symbol\n",
    "                    ''')\n",
    "    \n",
    "    x_y_df = x_y.toPandas()\n",
    "    \n",
    "    if x_y_df.shape[0] > 0:\n",
    "        # sorting values by 2 columns\n",
    "        x_y_df = x_y_df.sort_values(by = ['symbol', 'side'])\n",
    "\n",
    "        x_y_df = x_y.toPandas()\n",
    "        print(x_y_df)  \n",
    "\n",
    "        live_bar_plot(x_y_df, title = f'Traded amount of last 200 transactions before {max(x_y_df.max_event_timestamp)}') \n",
    "\n",
    "    # updating every 10 s\n",
    "    time.sleep(10)"
   ]
  },
  {
   "cell_type": "code",
   "execution_count": null,
   "id": "3621d736",
   "metadata": {},
   "outputs": [],
   "source": [
    "def live_scatter_plot(x, y, figsize=(7,5), title='Testing Update'):\n",
    "    clear_output(wait=True)\n",
    "    plt.figure(figsize=figsize)\n",
    "    plt.xlim(0, max(x))\n",
    "    plt.ylim(0, max(y))\n",
    "    x= [float(i) for i in x]\n",
    "    y= [float(i) for i in y]\n",
    "\n",
    "    if len(x) > 1:\n",
    "        plt.scatter(x,y, label='axis y', color='k')\n",
    "        # printing line of best fit\n",
    "        m, b = np.polyfit(x, y, 1)\n",
    "        plt.plot(x, [x * m for x in x] + b)\n",
    "\n",
    "    plt.title(title)\n",
    "    plt.grid(True)\n",
    "    plt.xlabel('Price')\n",
    "    plt.ylabel('Quantity')\n",
    "    plt.show();\n",
    "\n",
    "\n",
    "while True: \n",
    "    x_y = spark.sql('''SELECT * FROM stocktrade_view order by event_timestamp desc limit 200''')\n",
    "    x_y_df = x_y.toPandas()\n",
    "    print(x_y_df)  \n",
    "    live_scatter_plot(x_y_df.price, x_y_df.quantity, title = f'Quantity vs Price in last 200 transactions before {max(x_y_df.event_timestamp)}') \n",
    "    time.sleep(10)"
   ]
  },
  {
   "cell_type": "code",
   "execution_count": null,
   "id": "2cdb5ee4",
   "metadata": {},
   "outputs": [],
   "source": [
    "# Build Spark Query 2 using view \"stocktraide_view\" - order by timestamp"
   ]
  },
  {
   "cell_type": "code",
   "execution_count": 31,
   "id": "6b19df98",
   "metadata": {},
   "outputs": [
    {
     "name": "stdout",
     "output_type": "stream",
     "text": [
      "+---------+------------+--------------------+-------+------+----+-----+--------+------+\n",
      "|event_key| event_topic|     event_timestamp|account|symbol|side|price|quantity|userid|\n",
      "+---------+------------+--------------------+-------+------+----+-----+--------+------+\n",
      "|    ZTEST|stock-trades|2021-06-07 01:13:...| ABC123| ZTEST| BUY|  374|    3533|User_1|\n",
      "|    ZWZZT|stock-trades|2021-06-07 01:13:...| LMN456| ZWZZT| BUY|  683|    4240|User_1|\n",
      "|     ZBZX|stock-trades|2021-06-07 01:13:...| ABC123|  ZBZX|SELL|  739|    4355|User_5|\n",
      "|    ZWZZT|stock-trades|2021-06-07 01:13:...| XYZ789| ZWZZT| BUY|  713|    3298|User_6|\n",
      "|     ZBZX|stock-trades|2021-06-07 01:13:...| ABC123|  ZBZX| BUY|  383|    1177|User_4|\n",
      "|     ZBZX|stock-trades|2021-06-07 01:13:...| LMN456|  ZBZX| BUY|   64|    4445|User_7|\n",
      "|    ZJZZT|stock-trades|2021-06-07 01:13:...| XYZ789| ZJZZT|SELL|  401|     839|User_9|\n",
      "|    ZVZZT|stock-trades|2021-06-07 01:13:...| LMN456| ZVZZT|SELL|  762|    1553|User_6|\n",
      "|    ZXZZT|stock-trades|2021-06-07 01:13:...| XYZ789| ZXZZT| BUY|  221|    3306|User_8|\n",
      "|     ZBZX|stock-trades|2021-06-07 01:13:...| LMN456|  ZBZX|SELL|  644|    3113|User_4|\n",
      "|    ZXZZT|stock-trades|2021-06-07 01:13:...| LMN456| ZXZZT| BUY|  702|     578|User_6|\n",
      "|    ZTEST|stock-trades|2021-06-07 01:13:...| LMN456| ZTEST|SELL|  907|    1154|User_2|\n",
      "|    ZTEST|stock-trades|2021-06-07 01:13:...| ABC123| ZTEST|SELL|  554|    3835|User_5|\n",
      "|    ZTEST|stock-trades|2021-06-07 01:13:...| LMN456| ZTEST|SELL|   92|    3772|User_8|\n",
      "|    ZTEST|stock-trades|2021-06-07 01:13:...| XYZ789| ZTEST|SELL|  293|    2314|User_2|\n",
      "+---------+------------+--------------------+-------+------+----+-----+--------+------+\n",
      "only showing top 15 rows\n",
      "\n"
     ]
    },
    {
     "data": {
      "text/plain": [
       "None"
      ]
     },
     "metadata": {},
     "output_type": "display_data"
    }
   ],
   "source": [
    "clear_output(wait=True)\n",
    "display(spark.sql('SELECT * FROM stocktrade_view order by event_timestamp desc').show(15))\n",
    "time.sleep(1)"
   ]
  },
  {
   "cell_type": "code",
   "execution_count": 69,
   "id": "1b74a765",
   "metadata": {},
   "outputs": [],
   "source": [
    "# Export Query 2 to dataframe then parquet file"
   ]
  },
  {
   "cell_type": "code",
   "execution_count": 39,
   "id": "01d92ef9",
   "metadata": {},
   "outputs": [],
   "source": [
    "from pyspark import SparkFiles\n",
    "from pyspark.sql import SQLContext\n",
    "sc = spark.sparkContext\n",
    "sqlContext = SQLContext(sc)"
   ]
  },
  {
   "cell_type": "code",
   "execution_count": 84,
   "id": "3c4e4c13",
   "metadata": {},
   "outputs": [
    {
     "data": {
      "text/plain": [
       "498378"
      ]
     },
     "execution_count": 84,
     "metadata": {},
     "output_type": "execute_result"
    }
   ],
   "source": [
    "df = sqlContext.sql('SELECT * FROM stocktrade_view')\n",
    "df.count()\n",
    "# Wait for minutes, run this cell again, ensuring stream more than 13000 rows to the training and testing data."
   ]
  },
  {
   "cell_type": "code",
   "execution_count": 85,
   "id": "95ea43d7",
   "metadata": {},
   "outputs": [],
   "source": [
    "df_train = sqlContext.sql('SELECT * FROM stocktrade_view order by event_timestamp limit 10000')\n",
    "df_test = sqlContext.sql('SELECT * FROM stocktrade_view order by event_timestamp desc limit 3000')"
   ]
  },
  {
   "cell_type": "code",
   "execution_count": 86,
   "id": "614341b4",
   "metadata": {},
   "outputs": [],
   "source": [
    "df_train.write.parquet('./query2_alldata.parquet',mode='append')"
   ]
  },
  {
   "cell_type": "code",
   "execution_count": null,
   "id": "ef27ba45",
   "metadata": {},
   "outputs": [],
   "source": [
    "# Read parquet file for visualisation and machine learning"
   ]
  },
  {
   "cell_type": "code",
   "execution_count": 87,
   "id": "d2900676",
   "metadata": {},
   "outputs": [
    {
     "name": "stdout",
     "output_type": "stream",
     "text": [
      "+---------+------------+--------------------+------+-------+------+----+--------+-----+\n",
      "|event_key| event_topic|     event_timestamp|userid|account|symbol|side|quantity|price|\n",
      "+---------+------------+--------------------+------+-------+------+----+--------+-----+\n",
      "|    ZVZZT|stock-trades|2021-06-06 03:06:...|User_5| ABC123| ZVZZT|SELL|    1401|  287|\n",
      "|    ZVZZT|stock-trades|2021-06-06 03:06:...|User_3| LMN456| ZVZZT|SELL|     935|   98|\n",
      "|     ZBZX|stock-trades|2021-06-06 03:06:...|User_1| LMN456|  ZBZX| BUY|    1795|  306|\n",
      "|      ZVV|stock-trades|2021-06-06 03:06:...|User_2| LMN456|   ZVV| BUY|    1220|  106|\n",
      "|    ZJZZT|stock-trades|2021-06-06 03:06:...|User_4| XYZ789| ZJZZT|SELL|     189|  522|\n",
      "|    ZXZZT|stock-trades|2021-06-06 03:06:...|User_7| ABC123| ZXZZT| BUY|    3060|  545|\n",
      "|    ZVZZT|stock-trades|2021-06-06 03:06:...|User_1| XYZ789| ZVZZT|SELL|    3732|  757|\n",
      "|      ZVV|stock-trades|2021-06-06 03:06:...|User_8| XYZ789|   ZVV|SELL|    4210|  614|\n",
      "|    ZWZZT|stock-trades|2021-06-06 03:06:...|User_6| XYZ789| ZWZZT| BUY|    3501|  315|\n",
      "|    ZTEST|stock-trades|2021-06-06 03:06:...|User_8| XYZ789| ZTEST| BUY|    1903|   76|\n",
      "|      ZVV|stock-trades|2021-06-06 03:06:...|User_7| ABC123|   ZVV| BUY|    1969|  820|\n",
      "|    ZTEST|stock-trades|2021-06-06 03:06:...|User_3| LMN456| ZTEST|SELL|    3259|  990|\n",
      "|    ZTEST|stock-trades|2021-06-06 03:06:...|User_9| XYZ789| ZTEST|SELL|    3985|  883|\n",
      "|     ZBZX|stock-trades|2021-06-06 03:06:...|User_7| LMN456|  ZBZX| BUY|    4210|  277|\n",
      "|    ZXZZT|stock-trades|2021-06-06 03:06:...|User_2| LMN456| ZXZZT| BUY|    4547|  847|\n",
      "|    ZXZZT|stock-trades|2021-06-06 03:06:...|User_8| LMN456| ZXZZT|SELL|    2923|  449|\n",
      "|    ZJZZT|stock-trades|2021-06-06 03:06:...|User_4| XYZ789| ZJZZT|SELL|    2867|  578|\n",
      "|    ZJZZT|stock-trades|2021-06-06 03:06:...|User_8| XYZ789| ZJZZT|SELL|    4199|  333|\n",
      "|    ZJZZT|stock-trades|2021-06-06 03:06:...|User_7| ABC123| ZJZZT| BUY|    3060|  428|\n",
      "|      ZVV|stock-trades|2021-06-06 03:06:...|User_4| LMN456|   ZVV| BUY|    3679|   89|\n",
      "+---------+------------+--------------------+------+-------+------+----+--------+-----+\n",
      "only showing top 20 rows\n",
      "\n"
     ]
    }
   ],
   "source": [
    "query2_df = sqlContext.read.parquet('./query_alldata.parquet')\n",
    "query2_df.show(20)"
   ]
  },
  {
   "cell_type": "code",
   "execution_count": 88,
   "id": "1d92e47e",
   "metadata": {},
   "outputs": [],
   "source": [
    "from pyspark.ml.regression import LinearRegression\n",
    "from pyspark.ml import Pipeline\n",
    "from pyspark.ml.evaluation import RegressionEvaluator"
   ]
  },
  {
   "cell_type": "code",
   "execution_count": 89,
   "id": "2c9ef2fe",
   "metadata": {},
   "outputs": [],
   "source": [
    "from pyspark.ml.feature import StringIndexer,VectorAssembler, VectorIndexer\n",
    "from pyspark.ml.feature import OneHotEncoder"
   ]
  },
  {
   "cell_type": "code",
   "execution_count": 105,
   "id": "7280a00c",
   "metadata": {},
   "outputs": [],
   "source": [
    "cat_cols = ['userid','account','symbol','side']"
   ]
  },
  {
   "cell_type": "code",
   "execution_count": 106,
   "id": "a137184d",
   "metadata": {},
   "outputs": [],
   "source": [
    "stages = []"
   ]
  },
  {
   "cell_type": "code",
   "execution_count": 107,
   "id": "06b1d042",
   "metadata": {},
   "outputs": [],
   "source": [
    "for cat_col in cat_cols:\n",
    "    col_indexer = StringIndexer(inputCol=cat_col, outputCol =f\"{cat_col}_ind\")\n",
    "    col_encoder = OneHotEncoder(inputCols=[f\"{cat_col}_ind\"],outputCols=[f\"{cat_col}_ohe\"])\n",
    "    stages += [col_indexer, col_encoder]"
   ]
  },
  {
   "cell_type": "code",
   "execution_count": 108,
   "id": "b6c2e5f7",
   "metadata": {},
   "outputs": [],
   "source": [
    "num_cols = ['price']"
   ]
  },
  {
   "cell_type": "code",
   "execution_count": 109,
   "id": "05066a91",
   "metadata": {},
   "outputs": [],
   "source": [
    "cat_cols_ohe = [f\"{cat_col}_ohe\" for cat_col in cat_cols]"
   ]
  },
  {
   "cell_type": "code",
   "execution_count": 110,
   "id": "2c89f7e3",
   "metadata": {},
   "outputs": [],
   "source": [
    "assembler = VectorAssembler(inputCols=cat_cols_ohe+num_cols, outputCol=\"features\")"
   ]
  },
  {
   "cell_type": "code",
   "execution_count": 111,
   "id": "dc82df24",
   "metadata": {},
   "outputs": [],
   "source": [
    "regression = LinearRegression(labelCol='quantity',regParam = 0, maxIter = 10)"
   ]
  },
  {
   "cell_type": "code",
   "execution_count": 112,
   "id": "ec57b787",
   "metadata": {},
   "outputs": [],
   "source": [
    "stages += [assembler,regression]"
   ]
  },
  {
   "cell_type": "code",
   "execution_count": 113,
   "id": "2ba1a824",
   "metadata": {},
   "outputs": [
    {
     "name": "stdout",
     "output_type": "stream",
     "text": [
      "[StringIndexer_d08e2be0b2c0, OneHotEncoder_eb30f90aedbb, StringIndexer_05101df64eec, OneHotEncoder_2981696932ca, StringIndexer_fee0914a7330, OneHotEncoder_861eb5cf9217, StringIndexer_0d85d1f09118, OneHotEncoder_d659c9b11866, VectorAssembler_87fc6ab69b29, LinearRegression_42724dd8738e]\n"
     ]
    }
   ],
   "source": [
    "print(stages)"
   ]
  },
  {
   "cell_type": "code",
   "execution_count": 114,
   "id": "bda5a62b",
   "metadata": {},
   "outputs": [],
   "source": [
    "pipeline = Pipeline(stages=stages)"
   ]
  },
  {
   "cell_type": "code",
   "execution_count": 115,
   "id": "8e71316d",
   "metadata": {},
   "outputs": [],
   "source": [
    "pipeline = pipeline.fit(query2_df)"
   ]
  },
  {
   "cell_type": "code",
   "execution_count": 116,
   "id": "86b39743",
   "metadata": {},
   "outputs": [],
   "source": [
    "train_assessment = pipeline.transform(df_test)"
   ]
  },
  {
   "cell_type": "code",
   "execution_count": 117,
   "id": "515d9fa6",
   "metadata": {},
   "outputs": [
    {
     "name": "stdout",
     "output_type": "stream",
     "text": [
      "1431.7742297525147\n"
     ]
    }
   ],
   "source": [
    "lr_evaluator = RegressionEvaluator(metricName=\"rmse\", labelCol=regression.getLabelCol(), \\\n",
    "                                   predictionCol=regression.getPredictionCol())\n",
    "RMSE = lr_evaluator.evaluate(train_assessment)\n",
    "print(RMSE)"
   ]
  },
  {
   "cell_type": "code",
   "execution_count": 118,
   "id": "b6cb3c41",
   "metadata": {},
   "outputs": [
    {
     "name": "stdout",
     "output_type": "stream",
     "text": [
      "+---------+------------+--------------------+-------+------+----+-----+--------+------+----------+-------------+-----------+-------------+----------+-------------+--------+-------------+--------------------+------------------+\n",
      "|event_key| event_topic|     event_timestamp|account|symbol|side|price|quantity|userid|userid_ind|   userid_ohe|account_ind|  account_ohe|symbol_ind|   symbol_ohe|side_ind|     side_ohe|            features|        prediction|\n",
      "+---------+------------+--------------------+-------+------+----+-----+--------+------+----------+-------------+-----------+-------------+----------+-------------+--------+-------------+--------------------+------------------+\n",
      "|     ZBZX|stock-trades|2021-06-07 04:49:...| LMN456|  ZBZX| BUY|  915|      95|User_5|       6.0|(8,[6],[1.0])|        1.0|(2,[1],[1.0])|       0.0|(6,[0],[1.0])|     1.0|    (1,[],[])|(18,[6,9,10,17],[...|2479.3670265602386|\n",
      "|      ZVV|stock-trades|2021-06-07 04:49:...| XYZ789|   ZVV|SELL|  475|       3|User_1|       4.0|(8,[4],[1.0])|        0.0|(2,[0],[1.0])|       1.0|(6,[1],[1.0])|     0.0|(1,[0],[1.0])|(18,[4,8,11,16,17...| 2491.262428222574|\n",
      "|    ZWZZT|stock-trades|2021-06-07 04:49:...| LMN456| ZWZZT|SELL|  619|     198|User_2|       3.0|(8,[3],[1.0])|        1.0|(2,[1],[1.0])|       2.0|(6,[2],[1.0])|     0.0|(1,[0],[1.0])|(18,[3,9,12,16,17...| 2515.850714614019|\n",
      "|    ZXZZT|stock-trades|2021-06-07 04:49:...| LMN456| ZXZZT|SELL|  702|    2103|User_5|       6.0|(8,[6],[1.0])|        1.0|(2,[1],[1.0])|       4.0|(6,[4],[1.0])|     0.0|(1,[0],[1.0])|(18,[6,9,14,16,17...|2497.7314635784555|\n",
      "|      ZVV|stock-trades|2021-06-07 04:49:...| ABC123|   ZVV|SELL|  309|    2338|User_9|       5.0|(8,[5],[1.0])|        2.0|    (2,[],[])|       1.0|(6,[1],[1.0])|     0.0|(1,[0],[1.0])|(18,[5,11,16,17],...| 2506.952469471278|\n",
      "|    ZTEST|stock-trades|2021-06-07 04:49:...| LMN456| ZTEST|SELL|   79|     415|User_2|       3.0|(8,[3],[1.0])|        1.0|(2,[1],[1.0])|       5.0|(6,[5],[1.0])|     0.0|(1,[0],[1.0])|(18,[3,9,15,16,17...|2518.2513133977563|\n",
      "|    ZXZZT|stock-trades|2021-06-07 04:49:...| ABC123| ZXZZT| BUY|  318|    2524|User_3|       1.0|(8,[1],[1.0])|        2.0|    (2,[],[])|       4.0|(6,[4],[1.0])|     1.0|    (1,[],[])|(18,[1,14,17],[1....|2495.9138386889217|\n",
      "|    ZVZZT|stock-trades|2021-06-07 04:49:...| LMN456| ZVZZT| BUY|   65|     559|User_3|       1.0|(8,[1],[1.0])|        1.0|(2,[1],[1.0])|       3.0|(6,[3],[1.0])|     1.0|    (1,[],[])|(18,[1,9,13,17],[...| 2504.735580564372|\n",
      "|    ZJZZT|stock-trades|2021-06-07 04:49:...| XYZ789| ZJZZT| BUY|  670|    4011|User_5|       6.0|(8,[6],[1.0])|        0.0|(2,[0],[1.0])|       6.0|    (6,[],[])|     1.0|    (1,[],[])|(18,[6,8,17],[1.0...|2473.8541535658287|\n",
      "|    ZTEST|stock-trades|2021-06-07 04:49:...| XYZ789| ZTEST| BUY|  681|      63|User_8|       0.0|(8,[0],[1.0])|        0.0|(2,[0],[1.0])|       5.0|(6,[5],[1.0])|     1.0|    (1,[],[])|(18,[0,8,15,17],[...|2491.5841024164297|\n",
      "+---------+------------+--------------------+-------+------+----+-----+--------+------+----------+-------------+-----------+-------------+----------+-------------+--------+-------------+--------------------+------------------+\n",
      "only showing top 10 rows\n",
      "\n"
     ]
    }
   ],
   "source": [
    "train_assessment.show(10)"
   ]
  },
  {
   "cell_type": "code",
   "execution_count": 119,
   "id": "8a2415cb",
   "metadata": {},
   "outputs": [
    {
     "data": {
      "text/plain": [
       "3000"
      ]
     },
     "execution_count": 119,
     "metadata": {},
     "output_type": "execute_result"
    }
   ],
   "source": [
    "train_assessment.count()"
   ]
  },
  {
   "cell_type": "code",
   "execution_count": null,
   "id": "637e336e",
   "metadata": {},
   "outputs": [],
   "source": []
  }
 ],
 "metadata": {
  "kernelspec": {
   "display_name": "Python 3",
   "language": "python",
   "name": "python3"
  },
  "language_info": {
   "codemirror_mode": {
    "name": "ipython",
    "version": 3
   },
   "file_extension": ".py",
   "mimetype": "text/x-python",
   "name": "python",
   "nbconvert_exporter": "python",
   "pygments_lexer": "ipython3",
   "version": "3.8.8"
  }
 },
 "nbformat": 4,
 "nbformat_minor": 5
}
