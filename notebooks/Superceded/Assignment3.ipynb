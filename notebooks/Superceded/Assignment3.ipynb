{
 "cells": [
  {
   "cell_type": "code",
   "execution_count": 1,
   "id": "16b2c55c",
   "metadata": {},
   "outputs": [],
   "source": [
    "from pyspark.sql import SparkSession\n",
    "from IPython.display import display, clear_output\n",
    "import time\n",
    "from pyspark.sql import functions as F\n",
    "from pyspark.sql.types import StructType, StructField, IntegerType, StringType"
   ]
  },
  {
   "cell_type": "code",
   "execution_count": 2,
   "id": "da8d31d7",
   "metadata": {},
   "outputs": [],
   "source": [
    "spark = SparkSession.builder \\\n",
    "        .appName('kafka') \\\n",
    "        .getOrCreate()"
   ]
  },
  {
   "cell_type": "code",
   "execution_count": 3,
   "id": "b20f4e46",
   "metadata": {},
   "outputs": [],
   "source": [
    "stream_df = spark \\\n",
    "  .readStream \\\n",
    "  .format(\"kafka\") \\\n",
    "  .option(\"kafka.bootstrap.servers\", \"broker:29092\") \\\n",
    "  .option(\"startingOffsets\", \"earliest\") \\\n",
    "  .option(\"subscribe\", \"stock-trades\") \\\n",
    "  .load()"
   ]
  },
  {
   "cell_type": "code",
   "execution_count": 4,
   "id": "30bb6b92",
   "metadata": {},
   "outputs": [
    {
     "name": "stdout",
     "output_type": "stream",
     "text": [
      "root\n",
      " |-- key: binary (nullable = true)\n",
      " |-- value: binary (nullable = true)\n",
      " |-- topic: string (nullable = true)\n",
      " |-- partition: integer (nullable = true)\n",
      " |-- offset: long (nullable = true)\n",
      " |-- timestamp: timestamp (nullable = true)\n",
      " |-- timestampType: integer (nullable = true)\n",
      "\n"
     ]
    }
   ],
   "source": [
    "stream_df.printSchema()"
   ]
  },
  {
   "cell_type": "code",
   "execution_count": 5,
   "id": "174039bd",
   "metadata": {},
   "outputs": [],
   "source": [
    "raw_stream = stream_df \\\n",
    "    .writeStream \\\n",
    "    .format(\"memory\") \\\n",
    "    .queryName(\"raw_stocktrade_view\") \\\n",
    "    .start()"
   ]
  },
  {
   "cell_type": "code",
   "execution_count": 6,
   "id": "3e71487e",
   "metadata": {},
   "outputs": [],
   "source": [
    "clear_output(wait=True)"
   ]
  },
  {
   "cell_type": "code",
   "execution_count": 7,
   "id": "f9badaf6",
   "metadata": {},
   "outputs": [],
   "source": [
    "time.sleep(10)"
   ]
  },
  {
   "cell_type": "code",
   "execution_count": 8,
   "id": "ca54d381",
   "metadata": {},
   "outputs": [
    {
     "name": "stdout",
     "output_type": "stream",
     "text": [
      "+----------------+--------------------+------------+---------+-------+--------------------+-------------+\n",
      "|             key|               value|       topic|partition| offset|           timestamp|timestampType|\n",
      "+----------------+--------------------+------------+---------+-------+--------------------+-------------+\n",
      "|      [5A 56 56]|[7B 22 73 63 68 6...|stock-trades|        0|1897636|2021-06-10 10:26:...|            0|\n",
      "|   [5A 42 5A 58]|[7B 22 73 63 68 6...|stock-trades|        0|1897637|2021-06-10 10:26:...|            0|\n",
      "|[5A 57 5A 5A 54]|[7B 22 73 63 68 6...|stock-trades|        0|1897638|2021-06-10 10:26:...|            0|\n",
      "|[5A 56 5A 5A 54]|[7B 22 73 63 68 6...|stock-trades|        0|1897639|2021-06-10 10:26:...|            0|\n",
      "|   [5A 42 5A 58]|[7B 22 73 63 68 6...|stock-trades|        0|1897640|2021-06-10 10:26:...|            0|\n",
      "|[5A 4A 5A 5A 54]|[7B 22 73 63 68 6...|stock-trades|        0|1897641|2021-06-10 10:26:...|            0|\n",
      "|[5A 57 5A 5A 54]|[7B 22 73 63 68 6...|stock-trades|        0|1897642|2021-06-10 10:26:...|            0|\n",
      "|   [5A 42 5A 58]|[7B 22 73 63 68 6...|stock-trades|        0|1897643|2021-06-10 10:26:...|            0|\n",
      "|   [5A 42 5A 58]|[7B 22 73 63 68 6...|stock-trades|        0|1897644|2021-06-10 10:26:...|            0|\n",
      "|[5A 57 5A 5A 54]|[7B 22 73 63 68 6...|stock-trades|        0|1897645|2021-06-10 10:26:...|            0|\n",
      "|[5A 54 45 53 54]|[7B 22 73 63 68 6...|stock-trades|        0|1897646|2021-06-10 10:26:...|            0|\n",
      "|[5A 56 5A 5A 54]|[7B 22 73 63 68 6...|stock-trades|        0|1897647|2021-06-10 10:26:...|            0|\n",
      "|[5A 56 5A 5A 54]|[7B 22 73 63 68 6...|stock-trades|        0|1897648|2021-06-10 10:26:...|            0|\n",
      "|      [5A 56 56]|[7B 22 73 63 68 6...|stock-trades|        0|1897649|2021-06-10 10:26:...|            0|\n",
      "|[5A 58 5A 5A 54]|[7B 22 73 63 68 6...|stock-trades|        0|1897650|2021-06-10 10:26:...|            0|\n",
      "|[5A 54 45 53 54]|[7B 22 73 63 68 6...|stock-trades|        0|1897651|2021-06-10 10:26:...|            0|\n",
      "|[5A 57 5A 5A 54]|[7B 22 73 63 68 6...|stock-trades|        0|1897652|2021-06-10 10:26:...|            0|\n",
      "|[5A 57 5A 5A 54]|[7B 22 73 63 68 6...|stock-trades|        0|1897653|2021-06-10 10:26:...|            0|\n",
      "|[5A 54 45 53 54]|[7B 22 73 63 68 6...|stock-trades|        0|1897654|2021-06-10 10:26:...|            0|\n",
      "|[5A 4A 5A 5A 54]|[7B 22 73 63 68 6...|stock-trades|        0|1897655|2021-06-10 10:26:...|            0|\n",
      "+----------------+--------------------+------------+---------+-------+--------------------+-------------+\n",
      "only showing top 20 rows\n",
      "\n"
     ]
    },
    {
     "data": {
      "text/plain": [
       "None"
      ]
     },
     "metadata": {},
     "output_type": "display_data"
    }
   ],
   "source": [
    "clear_output(wait=True)\n",
    "display(spark.sql('SELECT * FROM raw_stocktrade_view').show(20))\n",
    "time.sleep(1)"
   ]
  },
  {
   "cell_type": "code",
   "execution_count": 9,
   "id": "fb9da014",
   "metadata": {},
   "outputs": [],
   "source": [
    "raw_stream.stop()"
   ]
  },
  {
   "cell_type": "code",
   "execution_count": 15,
   "id": "45fb68b0",
   "metadata": {},
   "outputs": [],
   "source": [
    "string_stream_df = stream_df \\\n",
    "    .withColumn(\"key\", stream_df[\"key\"].cast(StringType())) \\\n",
    "    .withColumn(\"value\", stream_df[\"value\"].cast(StringType()))"
   ]
  },
  {
   "cell_type": "code",
   "execution_count": 16,
   "id": "87189222",
   "metadata": {},
   "outputs": [],
   "source": [
    "string_stream = string_stream_df \\\n",
    "    .writeStream \\\n",
    "    .format(\"memory\") \\\n",
    "    .queryName(\"string_stocktrade_view\") \\\n",
    "    .start()"
   ]
  },
  {
   "cell_type": "code",
   "execution_count": 17,
   "id": "dc9d1568",
   "metadata": {},
   "outputs": [
    {
     "name": "stdout",
     "output_type": "stream",
     "text": [
      "+---+-----+-----+---------+------+---------+-------------+\n",
      "|key|value|topic|partition|offset|timestamp|timestampType|\n",
      "+---+-----+-----+---------+------+---------+-------------+\n",
      "+---+-----+-----+---------+------+---------+-------------+\n",
      "\n"
     ]
    },
    {
     "data": {
      "text/plain": [
       "None"
      ]
     },
     "metadata": {},
     "output_type": "display_data"
    }
   ],
   "source": [
    "clear_output(wait=True)\n",
    "display(spark.sql('SELECT * FROM string_stocktrade_view').show(20, False))\n",
    "time.sleep(1)"
   ]
  },
  {
   "cell_type": "code",
   "execution_count": 18,
   "id": "0316b77b",
   "metadata": {},
   "outputs": [],
   "source": [
    "string_stream.stop()"
   ]
  },
  {
   "cell_type": "code",
   "execution_count": 19,
   "id": "c829f227",
   "metadata": {},
   "outputs": [],
   "source": [
    "schema_stocktrade = StructType([\n",
    "    StructField('payload', StructType([\n",
    "        StructField(\"side\", StringType(),  True),\n",
    "        StructField(\"quantity\", IntegerType(), True),\n",
    "        StructField(\"symbol\", StringType(),  True),\n",
    "        StructField(\"price\", IntegerType(),  True),\n",
    "        StructField(\"account\", StringType(),  True),\n",
    "        StructField(\"userid\", StringType(),  True)      \n",
    "    ]))\n",
    "])"
   ]
  },
  {
   "cell_type": "code",
   "execution_count": 20,
   "id": "40318075",
   "metadata": {},
   "outputs": [],
   "source": [
    "json_stream_df = string_stream_df\\\n",
    "    .withColumn(\"value\", F.from_json(\"value\", schema_stocktrade))"
   ]
  },
  {
   "cell_type": "code",
   "execution_count": 21,
   "id": "49da233a",
   "metadata": {},
   "outputs": [
    {
     "name": "stdout",
     "output_type": "stream",
     "text": [
      "root\n",
      " |-- key: string (nullable = true)\n",
      " |-- value: struct (nullable = true)\n",
      " |    |-- payload: struct (nullable = true)\n",
      " |    |    |-- side: string (nullable = true)\n",
      " |    |    |-- quantity: integer (nullable = true)\n",
      " |    |    |-- symbol: string (nullable = true)\n",
      " |    |    |-- price: integer (nullable = true)\n",
      " |    |    |-- account: string (nullable = true)\n",
      " |    |    |-- userid: string (nullable = true)\n",
      " |-- topic: string (nullable = true)\n",
      " |-- partition: integer (nullable = true)\n",
      " |-- offset: long (nullable = true)\n",
      " |-- timestamp: timestamp (nullable = true)\n",
      " |-- timestampType: integer (nullable = true)\n",
      "\n"
     ]
    }
   ],
   "source": [
    "json_stream_df.printSchema()"
   ]
  },
  {
   "cell_type": "code",
   "execution_count": 22,
   "id": "3d9cc293",
   "metadata": {},
   "outputs": [],
   "source": [
    "json_stream = json_stream_df \\\n",
    "    .writeStream \\\n",
    "    .format(\"memory\") \\\n",
    "    .queryName(\"extract_stock_view\") \\\n",
    "    .start()"
   ]
  },
  {
   "cell_type": "code",
   "execution_count": 24,
   "id": "a2b35d9a",
   "metadata": {},
   "outputs": [
    {
     "name": "stdout",
     "output_type": "stream",
     "text": [
      "+-----+--------------------+------------+---------+-------+--------------------+-------------+\n",
      "|  key|               value|       topic|partition| offset|           timestamp|timestampType|\n",
      "+-----+--------------------+------------+---------+-------+--------------------+-------------+\n",
      "|  ZVV|{{SELL, 4220, ZVV...|stock-trades|        0|1897636|2021-06-10 10:26:...|            0|\n",
      "| ZBZX|{{BUY, 3823, ZBZX...|stock-trades|        0|1897637|2021-06-10 10:26:...|            0|\n",
      "|ZWZZT|{{SELL, 1571, ZWZ...|stock-trades|        0|1897638|2021-06-10 10:26:...|            0|\n",
      "|ZVZZT|{{BUY, 2419, ZVZZ...|stock-trades|        0|1897639|2021-06-10 10:26:...|            0|\n",
      "| ZBZX|{{BUY, 2499, ZBZX...|stock-trades|        0|1897640|2021-06-10 10:26:...|            0|\n",
      "|ZJZZT|{{SELL, 1568, ZJZ...|stock-trades|        0|1897641|2021-06-10 10:26:...|            0|\n",
      "|ZWZZT|{{SELL, 3373, ZWZ...|stock-trades|        0|1897642|2021-06-10 10:26:...|            0|\n",
      "| ZBZX|{{SELL, 643, ZBZX...|stock-trades|        0|1897643|2021-06-10 10:26:...|            0|\n",
      "| ZBZX|{{SELL, 1913, ZBZ...|stock-trades|        0|1897644|2021-06-10 10:26:...|            0|\n",
      "|ZWZZT|{{BUY, 3476, ZWZZ...|stock-trades|        0|1897645|2021-06-10 10:26:...|            0|\n",
      "|ZTEST|{{BUY, 2969, ZTES...|stock-trades|        0|1897646|2021-06-10 10:26:...|            0|\n",
      "|ZVZZT|{{BUY, 3674, ZVZZ...|stock-trades|        0|1897647|2021-06-10 10:26:...|            0|\n",
      "|ZVZZT|{{BUY, 1376, ZVZZ...|stock-trades|        0|1897648|2021-06-10 10:26:...|            0|\n",
      "|  ZVV|{{SELL, 2728, ZVV...|stock-trades|        0|1897649|2021-06-10 10:26:...|            0|\n",
      "|ZXZZT|{{BUY, 951, ZXZZT...|stock-trades|        0|1897650|2021-06-10 10:26:...|            0|\n",
      "|ZTEST|{{BUY, 548, ZTEST...|stock-trades|        0|1897651|2021-06-10 10:26:...|            0|\n",
      "|ZWZZT|{{BUY, 3715, ZWZZ...|stock-trades|        0|1897652|2021-06-10 10:26:...|            0|\n",
      "|ZWZZT|{{BUY, 1912, ZWZZ...|stock-trades|        0|1897653|2021-06-10 10:26:...|            0|\n",
      "|ZTEST|{{SELL, 862, ZTES...|stock-trades|        0|1897654|2021-06-10 10:26:...|            0|\n",
      "|ZJZZT|{{BUY, 1909, ZJZZ...|stock-trades|        0|1897655|2021-06-10 10:26:...|            0|\n",
      "+-----+--------------------+------------+---------+-------+--------------------+-------------+\n",
      "only showing top 20 rows\n",
      "\n"
     ]
    },
    {
     "data": {
      "text/plain": [
       "None"
      ]
     },
     "metadata": {},
     "output_type": "display_data"
    }
   ],
   "source": [
    "clear_output(wait=True)\n",
    "display(spark.sql('SELECT * FROM extract_stock_view').show(20))\n",
    "time.sleep(1)"
   ]
  },
  {
   "cell_type": "code",
   "execution_count": 25,
   "id": "241a4f8b",
   "metadata": {},
   "outputs": [],
   "source": [
    "json_stream.stop()"
   ]
  },
  {
   "cell_type": "code",
   "execution_count": 26,
   "id": "736836bd",
   "metadata": {},
   "outputs": [],
   "source": [
    "stocktrade_stream_df = json_stream_df \\\n",
    "    .select( \\\n",
    "        F.col(\"key\").alias(\"event_key\"), \\\n",
    "        F.col(\"topic\").alias(\"event_topic\"), \\\n",
    "        F.col(\"timestamp\").alias(\"event_timestamp\"), \\\n",
    "        \"value.payload.account\", \\\n",
    "        \"value.payload.symbol\", \\\n",
    "        \"value.payload.side\", \\\n",
    "        \"value.payload.price\", \\\n",
    "        \"value.payload.quantity\", \\\n",
    "        \"value.payload.userid\"\n",
    "    )"
   ]
  },
  {
   "cell_type": "code",
   "execution_count": 27,
   "id": "2a3ca980",
   "metadata": {},
   "outputs": [
    {
     "name": "stdout",
     "output_type": "stream",
     "text": [
      "root\n",
      " |-- event_key: string (nullable = true)\n",
      " |-- event_topic: string (nullable = true)\n",
      " |-- event_timestamp: timestamp (nullable = true)\n",
      " |-- account: string (nullable = true)\n",
      " |-- symbol: string (nullable = true)\n",
      " |-- side: string (nullable = true)\n",
      " |-- price: integer (nullable = true)\n",
      " |-- quantity: integer (nullable = true)\n",
      " |-- userid: string (nullable = true)\n",
      "\n"
     ]
    }
   ],
   "source": [
    "stocktrade_stream_df.printSchema()"
   ]
  },
  {
   "cell_type": "code",
   "execution_count": 28,
   "id": "f73d7f8e",
   "metadata": {},
   "outputs": [],
   "source": [
    "stocktrade_stream = stocktrade_stream_df \\\n",
    "    .writeStream \\\n",
    "    .format(\"memory\") \\\n",
    "    .queryName(\"stocktrade_view\") \\\n",
    "    .start()"
   ]
  },
  {
   "cell_type": "code",
   "execution_count": 29,
   "id": "8da0bec3",
   "metadata": {},
   "outputs": [
    {
     "name": "stdout",
     "output_type": "stream",
     "text": [
      "+---------+-----------+---------------+-------+------+----+-----+--------+------+\n",
      "|event_key|event_topic|event_timestamp|account|symbol|side|price|quantity|userid|\n",
      "+---------+-----------+---------------+-------+------+----+-----+--------+------+\n",
      "+---------+-----------+---------------+-------+------+----+-----+--------+------+\n",
      "\n"
     ]
    },
    {
     "data": {
      "text/plain": [
       "None"
      ]
     },
     "metadata": {},
     "output_type": "display_data"
    }
   ],
   "source": [
    "clear_output(wait=True)\n",
    "display(spark.sql('SELECT * FROM stocktrade_view').show(20))\n",
    "time.sleep(1)"
   ]
  },
  {
   "cell_type": "code",
   "execution_count": 30,
   "id": "81dd763c",
   "metadata": {},
   "outputs": [
    {
     "name": "stdout",
     "output_type": "stream",
     "text": [
      "+---------+-----+-----+------+\n",
      "|event_key|count|price|   qty|\n",
      "+---------+-----+-----+------+\n",
      "|    ZXZZT| 8411|502.0|2497.0|\n",
      "|    ZVZZT| 8412|499.0|2495.0|\n",
      "|    ZTEST| 8209|502.0|2496.0|\n",
      "|    ZWZZT| 8481|502.0|2533.0|\n",
      "|    ZJZZT| 8388|510.0|2494.0|\n",
      "|      ZVV| 8268|495.0|2495.0|\n",
      "|     ZBZX| 8375|497.0|2518.0|\n",
      "+---------+-----+-----+------+\n",
      "\n"
     ]
    },
    {
     "data": {
      "text/plain": [
       "None"
      ]
     },
     "metadata": {},
     "output_type": "display_data"
    }
   ],
   "source": [
    "clear_output(wait=True)\n",
    "display(spark.sql('SELECT event_key, COUNT(1) AS count, round(mean(price),0) as price, round(mean(quantity),0) as qty FROM stocktrade_view GROUP BY 1').show(20))\n",
    "time.sleep(1)"
   ]
  },
  {
   "cell_type": "code",
   "execution_count": 31,
   "id": "bc88a944",
   "metadata": {},
   "outputs": [],
   "source": [
    "stocktrade_stream.stop()"
   ]
  },
  {
   "cell_type": "code",
   "execution_count": 32,
   "id": "6938d265",
   "metadata": {},
   "outputs": [],
   "source": [
    "window_duration = '60 seconds'\n",
    "slide_duration = '10 seconds'"
   ]
  },
  {
   "cell_type": "code",
   "execution_count": 33,
   "id": "dd16ea85",
   "metadata": {},
   "outputs": [],
   "source": [
    "windowed_count_df = stocktrade_stream_df \\\n",
    "    .withWatermark(\"event_timestamp\", \"1 minutes\") \\\n",
    "    .groupBy(F.window(stocktrade_stream_df.event_timestamp, window_duration, slide_duration), stocktrade_stream_df.symbol) \\\n",
    "    .count()"
   ]
  },
  {
   "cell_type": "code",
   "execution_count": 34,
   "id": "c5f2bdd7",
   "metadata": {},
   "outputs": [],
   "source": [
    "count_stream = windowed_count_df \\\n",
    "    .writeStream \\\n",
    "    .format(\"memory\") \\\n",
    "    .outputMode(\"Complete\") \\\n",
    "    .queryName(\"count_view\") \\\n",
    "    .start()"
   ]
  },
  {
   "cell_type": "code",
   "execution_count": 35,
   "id": "0c6354d8",
   "metadata": {},
   "outputs": [
    {
     "name": "stdout",
     "output_type": "stream",
     "text": [
      "+--------------------+------+-----+\n",
      "|              window|symbol|count|\n",
      "+--------------------+------+-----+\n",
      "|{2021-06-10 10:30...| ZJZZT|  148|\n",
      "|{2021-06-10 10:36...| ZWZZT|  178|\n",
      "|{2021-06-10 10:45...| ZJZZT|  146|\n",
      "|{2021-06-10 10:42...|  ZBZX|  178|\n",
      "|{2021-06-10 10:30...| ZWZZT|  186|\n",
      "|{2021-06-10 10:57...| ZWZZT|  149|\n",
      "|{2021-06-10 10:41...|   ZVV|  162|\n",
      "|{2021-06-10 11:11...| ZXZZT|  158|\n",
      "|{2021-06-10 10:52...| ZWZZT|  205|\n",
      "|{2021-06-10 11:13...| ZTEST|  152|\n",
      "|{2021-06-10 10:48...|   ZVV|  164|\n",
      "|{2021-06-10 11:05...| ZXZZT|  190|\n",
      "|{2021-06-10 10:25...| ZWZZT|  136|\n",
      "|{2021-06-10 10:53...| ZWZZT|  197|\n",
      "|{2021-06-10 10:44...| ZVZZT|  188|\n",
      "|{2021-06-10 10:49...| ZVZZT|  173|\n",
      "|{2021-06-10 10:32...| ZJZZT|  181|\n",
      "|{2021-06-10 10:49...| ZVZZT|  174|\n",
      "|{2021-06-10 10:59...| ZWZZT|  165|\n",
      "|{2021-06-10 10:53...| ZTEST|  145|\n",
      "+--------------------+------+-----+\n",
      "\n"
     ]
    },
    {
     "data": {
      "text/plain": [
       "None"
      ]
     },
     "metadata": {},
     "output_type": "display_data"
    },
    {
     "ename": "KeyboardInterrupt",
     "evalue": "",
     "output_type": "error",
     "traceback": [
      "\u001b[0;31m---------------------------------------------------------------------------\u001b[0m",
      "\u001b[0;31mKeyboardInterrupt\u001b[0m                         Traceback (most recent call last)",
      "\u001b[0;32m<ipython-input-35-18d3403f5de3>\u001b[0m in \u001b[0;36m<module>\u001b[0;34m\u001b[0m\n\u001b[1;32m      2\u001b[0m     \u001b[0mclear_output\u001b[0m\u001b[0;34m(\u001b[0m\u001b[0mwait\u001b[0m\u001b[0;34m=\u001b[0m\u001b[0;32mTrue\u001b[0m\u001b[0;34m)\u001b[0m\u001b[0;34m\u001b[0m\u001b[0;34m\u001b[0m\u001b[0m\n\u001b[1;32m      3\u001b[0m     \u001b[0mdisplay\u001b[0m\u001b[0;34m(\u001b[0m\u001b[0mspark\u001b[0m\u001b[0;34m.\u001b[0m\u001b[0msql\u001b[0m\u001b[0;34m(\u001b[0m\u001b[0;34m'SELECT * FROM count_view LIMIT 20'\u001b[0m\u001b[0;34m)\u001b[0m\u001b[0;34m.\u001b[0m\u001b[0mshow\u001b[0m\u001b[0;34m(\u001b[0m\u001b[0;34m)\u001b[0m\u001b[0;34m)\u001b[0m\u001b[0;34m\u001b[0m\u001b[0;34m\u001b[0m\u001b[0m\n\u001b[0;32m----> 4\u001b[0;31m     \u001b[0mtime\u001b[0m\u001b[0;34m.\u001b[0m\u001b[0msleep\u001b[0m\u001b[0;34m(\u001b[0m\u001b[0;36m1\u001b[0m\u001b[0;34m)\u001b[0m\u001b[0;34m\u001b[0m\u001b[0;34m\u001b[0m\u001b[0m\n\u001b[0m",
      "\u001b[0;31mKeyboardInterrupt\u001b[0m: "
     ]
    }
   ],
   "source": [
    "while True:\n",
    "    clear_output(wait=True)\n",
    "    display(spark.sql('SELECT * FROM count_view LIMIT 20').show())\n",
    "    time.sleep(1)"
   ]
  },
  {
   "cell_type": "code",
   "execution_count": null,
   "id": "79121c94",
   "metadata": {},
   "outputs": [],
   "source": [
    "count_stream.stop()"
   ]
  },
  {
   "cell_type": "code",
   "execution_count": null,
   "id": "1f61fbfc",
   "metadata": {},
   "outputs": [],
   "source": []
  }
 ],
 "metadata": {
  "kernelspec": {
   "display_name": "Python 3",
   "language": "python",
   "name": "python3"
  },
  "language_info": {
   "codemirror_mode": {
    "name": "ipython",
    "version": 3
   },
   "file_extension": ".py",
   "mimetype": "text/x-python",
   "name": "python",
   "nbconvert_exporter": "python",
   "pygments_lexer": "ipython3",
   "version": "3.8.8"
  }
 },
 "nbformat": 4,
 "nbformat_minor": 5
}
