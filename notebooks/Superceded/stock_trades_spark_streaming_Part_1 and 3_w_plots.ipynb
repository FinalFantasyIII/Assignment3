{
 "cells": [
  {
   "cell_type": "code",
   "execution_count": 1,
   "id": "ca1c500e",
   "metadata": {},
   "outputs": [],
   "source": [
    "from pyspark.sql import SparkSession\n",
    "from IPython.display import display, clear_output\n",
    "import time\n",
    "from pyspark.sql import functions as F\n",
    "from pyspark.sql.types import StructType, StructField, IntegerType, StringType"
   ]
  },
  {
   "cell_type": "code",
   "execution_count": 2,
   "id": "09fcc143",
   "metadata": {},
   "outputs": [],
   "source": [
    "spark = SparkSession.builder \\\n",
    "        .appName('kafka') \\\n",
    "        .getOrCreate()"
   ]
  },
  {
   "cell_type": "code",
   "execution_count": 3,
   "id": "14b2001a",
   "metadata": {},
   "outputs": [],
   "source": [
    "stream_df = spark \\\n",
    "  .readStream \\\n",
    "  .format(\"kafka\") \\\n",
    "  .option(\"kafka.bootstrap.servers\", \"broker:29092\") \\\n",
    "  .option(\"startingOffsets\", \"latest\") \\\n",
    "  .option(\"subscribe\", \"stock-trades\") \\\n",
    "  .load()"
   ]
  },
  {
   "cell_type": "code",
   "execution_count": 4,
   "id": "21efb17e",
   "metadata": {},
   "outputs": [
    {
     "name": "stdout",
     "output_type": "stream",
     "text": [
      "root\n",
      " |-- key: binary (nullable = true)\n",
      " |-- value: binary (nullable = true)\n",
      " |-- topic: string (nullable = true)\n",
      " |-- partition: integer (nullable = true)\n",
      " |-- offset: long (nullable = true)\n",
      " |-- timestamp: timestamp (nullable = true)\n",
      " |-- timestampType: integer (nullable = true)\n",
      "\n"
     ]
    }
   ],
   "source": [
    "stream_df.printSchema()"
   ]
  },
  {
   "cell_type": "code",
   "execution_count": 5,
   "id": "a42171b2",
   "metadata": {},
   "outputs": [],
   "source": [
    "raw_stream = stream_df \\\n",
    "    .writeStream \\\n",
    "    .format(\"memory\") \\\n",
    "    .queryName(\"raw_stocktrade_view\") \\\n",
    "    .start()"
   ]
  },
  {
   "cell_type": "code",
   "execution_count": 6,
   "id": "37ae75e1",
   "metadata": {},
   "outputs": [],
   "source": [
    "clear_output(wait=True)"
   ]
  },
  {
   "cell_type": "code",
   "execution_count": 7,
   "id": "436a43ca",
   "metadata": {},
   "outputs": [],
   "source": [
    "time.sleep(10)"
   ]
  },
  {
   "cell_type": "code",
   "execution_count": 8,
   "id": "18d6e93f",
   "metadata": {},
   "outputs": [
    {
     "name": "stdout",
     "output_type": "stream",
     "text": [
      "+----------------+--------------------+------------+---------+------+--------------------+-------------+\n",
      "|             key|               value|       topic|partition|offset|           timestamp|timestampType|\n",
      "+----------------+--------------------+------------+---------+------+--------------------+-------------+\n",
      "|[5A 56 5A 5A 54]|[7B 22 73 63 68 6...|stock-trades|        0|169773|2021-06-06 14:02:...|            0|\n",
      "|[5A 54 45 53 54]|[7B 22 73 63 68 6...|stock-trades|        0|169774|2021-06-06 14:02:...|            0|\n",
      "|[5A 54 45 53 54]|[7B 22 73 63 68 6...|stock-trades|        0|169775|2021-06-06 14:02:...|            0|\n",
      "|[5A 54 45 53 54]|[7B 22 73 63 68 6...|stock-trades|        0|169776|2021-06-06 14:02:...|            0|\n",
      "|[5A 58 5A 5A 54]|[7B 22 73 63 68 6...|stock-trades|        0|169777|2021-06-06 14:02:...|            0|\n",
      "|[5A 54 45 53 54]|[7B 22 73 63 68 6...|stock-trades|        0|169778|2021-06-06 14:02:...|            0|\n",
      "|[5A 58 5A 5A 54]|[7B 22 73 63 68 6...|stock-trades|        0|169779|2021-06-06 14:02:...|            0|\n",
      "|[5A 4A 5A 5A 54]|[7B 22 73 63 68 6...|stock-trades|        0|169780|2021-06-06 14:02:...|            0|\n",
      "|      [5A 56 56]|[7B 22 73 63 68 6...|stock-trades|        0|169781|2021-06-06 14:02:...|            0|\n",
      "|   [5A 42 5A 58]|[7B 22 73 63 68 6...|stock-trades|        0|169782|2021-06-06 14:02:...|            0|\n",
      "|[5A 54 45 53 54]|[7B 22 73 63 68 6...|stock-trades|        0|169783|2021-06-06 14:02:...|            0|\n",
      "|      [5A 56 56]|[7B 22 73 63 68 6...|stock-trades|        0|169784|2021-06-06 14:02:...|            0|\n",
      "|      [5A 56 56]|[7B 22 73 63 68 6...|stock-trades|        0|169785|2021-06-06 14:02:...|            0|\n",
      "|      [5A 56 56]|[7B 22 73 63 68 6...|stock-trades|        0|169786|2021-06-06 14:02:...|            0|\n",
      "|[5A 58 5A 5A 54]|[7B 22 73 63 68 6...|stock-trades|        0|169787|2021-06-06 14:02:...|            0|\n",
      "|   [5A 42 5A 58]|[7B 22 73 63 68 6...|stock-trades|        0|169788|2021-06-06 14:02:...|            0|\n",
      "|[5A 54 45 53 54]|[7B 22 73 63 68 6...|stock-trades|        0|169789|2021-06-06 14:02:...|            0|\n",
      "|[5A 57 5A 5A 54]|[7B 22 73 63 68 6...|stock-trades|        0|169790|2021-06-06 14:02:...|            0|\n",
      "|   [5A 42 5A 58]|[7B 22 73 63 68 6...|stock-trades|        0|169791|2021-06-06 14:02:...|            0|\n",
      "|[5A 4A 5A 5A 54]|[7B 22 73 63 68 6...|stock-trades|        0|169792|2021-06-06 14:02:...|            0|\n",
      "+----------------+--------------------+------------+---------+------+--------------------+-------------+\n",
      "only showing top 20 rows\n",
      "\n"
     ]
    },
    {
     "data": {
      "text/plain": [
       "None"
      ]
     },
     "metadata": {},
     "output_type": "display_data"
    }
   ],
   "source": [
    "clear_output(wait=True)\n",
    "display(spark.sql('SELECT * FROM raw_stocktrade_view').show(20))\n",
    "time.sleep(1)"
   ]
  },
  {
   "cell_type": "code",
   "execution_count": 9,
   "id": "6a93a62c",
   "metadata": {},
   "outputs": [],
   "source": [
    "time.sleep(1)"
   ]
  },
  {
   "cell_type": "code",
   "execution_count": 10,
   "id": "f705fc61",
   "metadata": {},
   "outputs": [],
   "source": [
    "raw_stream.stop()"
   ]
  },
  {
   "cell_type": "code",
   "execution_count": 11,
   "id": "6699e901",
   "metadata": {},
   "outputs": [],
   "source": [
    "string_stream_df = stream_df \\\n",
    "    .withColumn(\"key\", stream_df[\"key\"].cast(StringType())) \\\n",
    "    .withColumn(\"value\", stream_df[\"value\"].cast(StringType()))"
   ]
  },
  {
   "cell_type": "code",
   "execution_count": 12,
   "id": "177178a8",
   "metadata": {},
   "outputs": [],
   "source": [
    "string_stream = string_stream_df \\\n",
    "    .writeStream \\\n",
    "    .format(\"memory\") \\\n",
    "    .queryName(\"string_stocktrade_view\") \\\n",
    "    .start()"
   ]
  },
  {
   "cell_type": "code",
   "execution_count": 13,
   "id": "4c2089d9",
   "metadata": {},
   "outputs": [
    {
     "name": "stdout",
     "output_type": "stream",
     "text": [
      "+---+-----+-----+---------+------+---------+-------------+\n",
      "|key|value|topic|partition|offset|timestamp|timestampType|\n",
      "+---+-----+-----+---------+------+---------+-------------+\n",
      "+---+-----+-----+---------+------+---------+-------------+\n",
      "\n"
     ]
    },
    {
     "data": {
      "text/plain": [
       "None"
      ]
     },
     "metadata": {},
     "output_type": "display_data"
    }
   ],
   "source": [
    "clear_output(wait=True)\n",
    "display(spark.sql('SELECT * FROM string_stocktrade_view').show(20, False))\n",
    "time.sleep(1)"
   ]
  },
  {
   "cell_type": "code",
   "execution_count": 14,
   "id": "77c1e839",
   "metadata": {},
   "outputs": [],
   "source": [
    "string_stream.stop()"
   ]
  },
  {
   "cell_type": "code",
   "execution_count": 15,
   "id": "2b8c5a0f",
   "metadata": {},
   "outputs": [],
   "source": [
    "schema_stocktrade = StructType([\n",
    "    StructField('payload', StructType([\n",
    "        StructField(\"side\", StringType(),  True),\n",
    "        StructField(\"quantity\", IntegerType(), True),\n",
    "        StructField(\"symbol\", StringType(),  True),\n",
    "        StructField(\"price\", IntegerType(),  True),\n",
    "        StructField(\"account\", StringType(),  True),\n",
    "        StructField(\"userid\", StringType(),  True)      \n",
    "    ]))\n",
    "])"
   ]
  },
  {
   "cell_type": "code",
   "execution_count": 16,
   "id": "0a858b3b",
   "metadata": {},
   "outputs": [],
   "source": [
    "json_stream_df = string_stream_df\\\n",
    "    .withColumn(\"value\", F.from_json(\"value\", schema_stocktrade))"
   ]
  },
  {
   "cell_type": "code",
   "execution_count": 17,
   "id": "b055f652",
   "metadata": {},
   "outputs": [
    {
     "name": "stdout",
     "output_type": "stream",
     "text": [
      "root\n",
      " |-- key: string (nullable = true)\n",
      " |-- value: struct (nullable = true)\n",
      " |    |-- payload: struct (nullable = true)\n",
      " |    |    |-- side: string (nullable = true)\n",
      " |    |    |-- quantity: integer (nullable = true)\n",
      " |    |    |-- symbol: string (nullable = true)\n",
      " |    |    |-- price: integer (nullable = true)\n",
      " |    |    |-- account: string (nullable = true)\n",
      " |    |    |-- userid: string (nullable = true)\n",
      " |-- topic: string (nullable = true)\n",
      " |-- partition: integer (nullable = true)\n",
      " |-- offset: long (nullable = true)\n",
      " |-- timestamp: timestamp (nullable = true)\n",
      " |-- timestampType: integer (nullable = true)\n",
      "\n"
     ]
    }
   ],
   "source": [
    "json_stream_df.printSchema()"
   ]
  },
  {
   "cell_type": "code",
   "execution_count": 18,
   "id": "b6609fbd",
   "metadata": {},
   "outputs": [],
   "source": [
    "json_stream = json_stream_df \\\n",
    "    .writeStream \\\n",
    "    .format(\"memory\") \\\n",
    "    .queryName(\"extract_stock_view\") \\\n",
    "    .start()"
   ]
  },
  {
   "cell_type": "code",
   "execution_count": 19,
   "id": "007f2b3d",
   "metadata": {},
   "outputs": [
    {
     "name": "stdout",
     "output_type": "stream",
     "text": [
      "+---+-----+-----+---------+------+---------+-------------+\n",
      "|key|value|topic|partition|offset|timestamp|timestampType|\n",
      "+---+-----+-----+---------+------+---------+-------------+\n",
      "+---+-----+-----+---------+------+---------+-------------+\n",
      "\n"
     ]
    },
    {
     "data": {
      "text/plain": [
       "None"
      ]
     },
     "metadata": {},
     "output_type": "display_data"
    }
   ],
   "source": [
    "clear_output(wait=True)\n",
    "display(spark.sql('SELECT * FROM extract_stock_view').show(20))\n",
    "time.sleep(1)"
   ]
  },
  {
   "cell_type": "code",
   "execution_count": 20,
   "id": "abb913d2",
   "metadata": {},
   "outputs": [],
   "source": [
    "json_stream.stop()"
   ]
  },
  {
   "cell_type": "code",
   "execution_count": 21,
   "id": "56ee3298",
   "metadata": {},
   "outputs": [],
   "source": [
    "stocktrade_stream_df = json_stream_df \\\n",
    "    .select( \\\n",
    "        F.col(\"key\").alias(\"event_key\"), \\\n",
    "        F.col(\"topic\").alias(\"event_topic\"), \\\n",
    "        F.col(\"timestamp\").alias(\"event_timestamp\"), \\\n",
    "        \"value.payload.account\", \\\n",
    "        \"value.payload.symbol\", \\\n",
    "        \"value.payload.side\", \\\n",
    "        \"value.payload.price\", \\\n",
    "        \"value.payload.quantity\", \\\n",
    "        \"value.payload.userid\"\n",
    "    )"
   ]
  },
  {
   "cell_type": "code",
   "execution_count": 22,
   "id": "63918fd3",
   "metadata": {},
   "outputs": [
    {
     "name": "stdout",
     "output_type": "stream",
     "text": [
      "root\n",
      " |-- event_key: string (nullable = true)\n",
      " |-- event_topic: string (nullable = true)\n",
      " |-- event_timestamp: timestamp (nullable = true)\n",
      " |-- account: string (nullable = true)\n",
      " |-- symbol: string (nullable = true)\n",
      " |-- side: string (nullable = true)\n",
      " |-- price: integer (nullable = true)\n",
      " |-- quantity: integer (nullable = true)\n",
      " |-- userid: string (nullable = true)\n",
      "\n"
     ]
    }
   ],
   "source": [
    "stocktrade_stream_df.printSchema()"
   ]
  },
  {
   "cell_type": "code",
   "execution_count": 23,
   "id": "139993d4",
   "metadata": {},
   "outputs": [],
   "source": [
    "stocktrade_stream = stocktrade_stream_df \\\n",
    "    .writeStream \\\n",
    "    .format(\"memory\") \\\n",
    "    .queryName(\"stocktrade_view\") \\\n",
    "    .start()"
   ]
  },
  {
   "cell_type": "code",
   "execution_count": 24,
   "id": "d39b536c",
   "metadata": {},
   "outputs": [
    {
     "name": "stdout",
     "output_type": "stream",
     "text": [
      "+---------+------------+--------------------+-------+------+----+-----+--------+------+\n",
      "|event_key| event_topic|     event_timestamp|account|symbol|side|price|quantity|userid|\n",
      "+---------+------------+--------------------+-------+------+----+-----+--------+------+\n",
      "|    ZTEST|stock-trades|2021-06-06 14:03:...| LMN456| ZTEST| BUY|  217|     870|User_7|\n",
      "|    ZTEST|stock-trades|2021-06-06 14:03:...| ABC123| ZTEST|SELL|  440|     864|User_4|\n",
      "|    ZJZZT|stock-trades|2021-06-06 14:03:...| ABC123| ZJZZT| BUY|  239|    3869|User_6|\n",
      "|      ZVV|stock-trades|2021-06-06 14:03:...| LMN456|   ZVV| BUY|  835|     920|User_3|\n",
      "|    ZJZZT|stock-trades|2021-06-06 14:03:...| ABC123| ZJZZT| BUY|  581|    1079|User_7|\n",
      "|    ZVZZT|stock-trades|2021-06-06 14:03:...| XYZ789| ZVZZT|SELL|  196|    3682|User_1|\n",
      "|    ZXZZT|stock-trades|2021-06-06 14:03:...| LMN456| ZXZZT| BUY|  672|    4883|User_7|\n",
      "|    ZJZZT|stock-trades|2021-06-06 14:03:...| LMN456| ZJZZT| BUY|  912|    1327|User_9|\n",
      "|      ZVV|stock-trades|2021-06-06 14:03:...| LMN456|   ZVV|SELL|  240|    2428|User_1|\n",
      "|    ZXZZT|stock-trades|2021-06-06 14:03:...| ABC123| ZXZZT| BUY|  148|     864|User_8|\n",
      "|     ZBZX|stock-trades|2021-06-06 14:03:...| LMN456|  ZBZX|SELL|  602|    1762|User_1|\n",
      "|      ZVV|stock-trades|2021-06-06 14:03:...| XYZ789|   ZVV| BUY|  143|      32|User_4|\n",
      "|    ZTEST|stock-trades|2021-06-06 14:03:...| XYZ789| ZTEST| BUY|  877|    2260|User_3|\n",
      "|     ZBZX|stock-trades|2021-06-06 14:03:...| LMN456|  ZBZX| BUY|  920|     932|User_2|\n",
      "|    ZWZZT|stock-trades|2021-06-06 14:03:...| LMN456| ZWZZT|SELL|  147|    3866|User_2|\n",
      "|    ZJZZT|stock-trades|2021-06-06 14:03:...| XYZ789| ZJZZT| BUY|  186|    3687|User_6|\n",
      "|    ZWZZT|stock-trades|2021-06-06 14:03:...| LMN456| ZWZZT| BUY|  828|    1650|User_8|\n",
      "|    ZVZZT|stock-trades|2021-06-06 14:03:...| ABC123| ZVZZT| BUY|  226|    3623|User_3|\n",
      "|     ZBZX|stock-trades|2021-06-06 14:03:...| XYZ789|  ZBZX|SELL|  597|    2382|User_8|\n",
      "|    ZXZZT|stock-trades|2021-06-06 14:03:...| ABC123| ZXZZT|SELL|  655|    3176|User_8|\n",
      "+---------+------------+--------------------+-------+------+----+-----+--------+------+\n",
      "only showing top 20 rows\n",
      "\n"
     ]
    },
    {
     "data": {
      "text/plain": [
       "None"
      ]
     },
     "metadata": {},
     "output_type": "display_data"
    }
   ],
   "source": [
    "clear_output(wait=True)\n",
    "display(spark.sql('SELECT * FROM stocktrade_view').show(20))\n",
    "time.sleep(1)"
   ]
  },
  {
   "cell_type": "code",
   "execution_count": 25,
   "id": "95d373a9",
   "metadata": {},
   "outputs": [
    {
     "name": "stdout",
     "output_type": "stream",
     "text": [
      "+---------+-----+-----+------+\n",
      "|event_key|count|price|   qty|\n",
      "+---------+-----+-----+------+\n",
      "|    ZXZZT|   65|490.0|2609.0|\n",
      "|    ZVZZT|   60|519.0|2374.0|\n",
      "|    ZTEST|   51|445.0|2295.0|\n",
      "|    ZWZZT|   66|506.0|2397.0|\n",
      "|    ZJZZT|   60|544.0|2476.0|\n",
      "|      ZVV|   50|468.0|2446.0|\n",
      "|     ZBZX|   59|502.0|2416.0|\n",
      "+---------+-----+-----+------+\n",
      "\n"
     ]
    },
    {
     "data": {
      "text/plain": [
       "None"
      ]
     },
     "metadata": {},
     "output_type": "display_data"
    }
   ],
   "source": [
    "clear_output(wait=True)\n",
    "display(spark.sql('SELECT event_key, COUNT(1) AS count, round(mean(price),0) as price, round(mean(quantity),0) as qty FROM stocktrade_view GROUP BY 1').show(20))\n",
    "time.sleep(1)"
   ]
  },
  {
   "cell_type": "code",
   "execution_count": 29,
   "id": "c0b50f4d",
   "metadata": {},
   "outputs": [],
   "source": [
    "stocktrade_stream.stop()"
   ]
  },
  {
   "cell_type": "code",
   "execution_count": 63,
   "id": "74e91249",
   "metadata": {},
   "outputs": [],
   "source": [
    "window_duration = '60 seconds'\n",
    "slide_duration = '10 seconds'"
   ]
  },
  {
   "cell_type": "code",
   "execution_count": 64,
   "id": "68d187ac",
   "metadata": {},
   "outputs": [],
   "source": [
    "windowed_count_df = stocktrade_stream_df \\\n",
    "    .withWatermark(\"event_timestamp\", \"1 minutes\") \\\n",
    "    .groupBy(F.window(stocktrade_stream_df.event_timestamp, window_duration, slide_duration), stocktrade_stream_df.symbol) \\\n",
    "    .count()"
   ]
  },
  {
   "cell_type": "code",
   "execution_count": 85,
   "id": "5e60cf63",
   "metadata": {},
   "outputs": [],
   "source": [
    "count_stream = windowed_count_df \\\n",
    "    .writeStream \\\n",
    "    .format(\"memory\") \\\n",
    "    .outputMode(\"Complete\") \\\n",
    "    .queryName(\"count_view\") \\\n",
    "    .start()"
   ]
  },
  {
   "cell_type": "code",
   "execution_count": 86,
   "id": "357ca1c0",
   "metadata": {},
   "outputs": [
    {
     "name": "stdout",
     "output_type": "stream",
     "text": [
      "+--------------------+------+-----+\n",
      "|              window|symbol|count|\n",
      "+--------------------+------+-----+\n",
      "|{2021-06-06 11:50...| ZTEST|   30|\n",
      "|{2021-06-06 11:51...| ZWZZT|   26|\n",
      "|{2021-06-06 11:50...| ZTEST|   30|\n",
      "|{2021-06-06 11:50...|  ZBZX|   33|\n",
      "|{2021-06-06 11:50...|  ZBZX|   33|\n",
      "|{2021-06-06 11:51...|  ZBZX|   21|\n",
      "|{2021-06-06 11:50...| ZVZZT|   35|\n",
      "|{2021-06-06 11:50...| ZJZZT|   39|\n",
      "|{2021-06-06 11:50...| ZVZZT|   35|\n",
      "|{2021-06-06 11:50...| ZTEST|   12|\n",
      "|{2021-06-06 11:50...| ZXZZT|   16|\n",
      "|{2021-06-06 11:50...| ZWZZT|   32|\n",
      "|{2021-06-06 11:51...|   ZVV|   31|\n",
      "|{2021-06-06 11:50...|  ZBZX|   33|\n",
      "|{2021-06-06 11:50...|  ZBZX|   33|\n",
      "|{2021-06-06 11:50...| ZWZZT|   32|\n",
      "|{2021-06-06 11:50...| ZXZZT|   52|\n",
      "|{2021-06-06 11:50...| ZVZZT|   10|\n",
      "|{2021-06-06 11:50...|   ZVV|   43|\n",
      "|{2021-06-06 11:50...| ZVZZT|   35|\n",
      "+--------------------+------+-----+\n",
      "\n"
     ]
    },
    {
     "data": {
      "text/plain": [
       "None"
      ]
     },
     "metadata": {},
     "output_type": "display_data"
    },
    {
     "ename": "KeyboardInterrupt",
     "evalue": "",
     "output_type": "error",
     "traceback": [
      "\u001b[0;31m---------------------------------------------------------------------------\u001b[0m",
      "\u001b[0;31mKeyboardInterrupt\u001b[0m                         Traceback (most recent call last)",
      "\u001b[0;32m<ipython-input-86-18d3403f5de3>\u001b[0m in \u001b[0;36m<module>\u001b[0;34m\u001b[0m\n\u001b[1;32m      2\u001b[0m     \u001b[0mclear_output\u001b[0m\u001b[0;34m(\u001b[0m\u001b[0mwait\u001b[0m\u001b[0;34m=\u001b[0m\u001b[0;32mTrue\u001b[0m\u001b[0;34m)\u001b[0m\u001b[0;34m\u001b[0m\u001b[0;34m\u001b[0m\u001b[0m\n\u001b[1;32m      3\u001b[0m     \u001b[0mdisplay\u001b[0m\u001b[0;34m(\u001b[0m\u001b[0mspark\u001b[0m\u001b[0;34m.\u001b[0m\u001b[0msql\u001b[0m\u001b[0;34m(\u001b[0m\u001b[0;34m'SELECT * FROM count_view LIMIT 20'\u001b[0m\u001b[0;34m)\u001b[0m\u001b[0;34m.\u001b[0m\u001b[0mshow\u001b[0m\u001b[0;34m(\u001b[0m\u001b[0;34m)\u001b[0m\u001b[0;34m)\u001b[0m\u001b[0;34m\u001b[0m\u001b[0;34m\u001b[0m\u001b[0m\n\u001b[0;32m----> 4\u001b[0;31m     \u001b[0mtime\u001b[0m\u001b[0;34m.\u001b[0m\u001b[0msleep\u001b[0m\u001b[0;34m(\u001b[0m\u001b[0;36m1\u001b[0m\u001b[0;34m)\u001b[0m\u001b[0;34m\u001b[0m\u001b[0;34m\u001b[0m\u001b[0m\n\u001b[0m",
      "\u001b[0;31mKeyboardInterrupt\u001b[0m: "
     ]
    }
   ],
   "source": [
    "while True:\n",
    "    clear_output(wait=True)\n",
    "    display(spark.sql('SELECT * FROM count_view LIMIT 20').show())\n",
    "    time.sleep(1)"
   ]
  },
  {
   "cell_type": "code",
   "execution_count": 67,
   "id": "b8daa2ba",
   "metadata": {},
   "outputs": [],
   "source": [
    "count_stream.stop()"
   ]
  },
  {
   "cell_type": "code",
   "execution_count": 35,
   "id": "fe8bc247",
   "metadata": {},
   "outputs": [
    {
     "data": {
      "text/html": [
       "<div>\n",
       "<style scoped>\n",
       "    .dataframe tbody tr th:only-of-type {\n",
       "        vertical-align: middle;\n",
       "    }\n",
       "\n",
       "    .dataframe tbody tr th {\n",
       "        vertical-align: top;\n",
       "    }\n",
       "\n",
       "    .dataframe thead th {\n",
       "        text-align: right;\n",
       "    }\n",
       "</style>\n",
       "<table border=\"1\" class=\"dataframe\">\n",
       "  <thead>\n",
       "    <tr style=\"text-align: right;\">\n",
       "      <th></th>\n",
       "      <th>event_key</th>\n",
       "      <th>event_topic</th>\n",
       "      <th>event_timestamp</th>\n",
       "      <th>account</th>\n",
       "      <th>symbol</th>\n",
       "      <th>side</th>\n",
       "      <th>price</th>\n",
       "      <th>quantity</th>\n",
       "      <th>userid</th>\n",
       "    </tr>\n",
       "  </thead>\n",
       "  <tbody>\n",
       "    <tr>\n",
       "      <th>0</th>\n",
       "      <td>ZXZZT</td>\n",
       "      <td>stock-trades</td>\n",
       "      <td>2021-06-06 14:13:52.849</td>\n",
       "      <td>XYZ789</td>\n",
       "      <td>ZXZZT</td>\n",
       "      <td>BUY</td>\n",
       "      <td>861</td>\n",
       "      <td>1891</td>\n",
       "      <td>User_6</td>\n",
       "    </tr>\n",
       "    <tr>\n",
       "      <th>1</th>\n",
       "      <td>ZVV</td>\n",
       "      <td>stock-trades</td>\n",
       "      <td>2021-06-06 14:13:52.773</td>\n",
       "      <td>LMN456</td>\n",
       "      <td>ZVV</td>\n",
       "      <td>SELL</td>\n",
       "      <td>266</td>\n",
       "      <td>3356</td>\n",
       "      <td>User_8</td>\n",
       "    </tr>\n",
       "    <tr>\n",
       "      <th>2</th>\n",
       "      <td>ZVZZT</td>\n",
       "      <td>stock-trades</td>\n",
       "      <td>2021-06-06 14:13:52.737</td>\n",
       "      <td>ABC123</td>\n",
       "      <td>ZVZZT</td>\n",
       "      <td>SELL</td>\n",
       "      <td>168</td>\n",
       "      <td>2679</td>\n",
       "      <td>User_5</td>\n",
       "    </tr>\n",
       "    <tr>\n",
       "      <th>3</th>\n",
       "      <td>ZVZZT</td>\n",
       "      <td>stock-trades</td>\n",
       "      <td>2021-06-06 14:13:52.659</td>\n",
       "      <td>ABC123</td>\n",
       "      <td>ZVZZT</td>\n",
       "      <td>BUY</td>\n",
       "      <td>700</td>\n",
       "      <td>3978</td>\n",
       "      <td>User_7</td>\n",
       "    </tr>\n",
       "    <tr>\n",
       "      <th>4</th>\n",
       "      <td>ZWZZT</td>\n",
       "      <td>stock-trades</td>\n",
       "      <td>2021-06-06 14:13:52.584</td>\n",
       "      <td>LMN456</td>\n",
       "      <td>ZWZZT</td>\n",
       "      <td>BUY</td>\n",
       "      <td>302</td>\n",
       "      <td>1582</td>\n",
       "      <td>User_9</td>\n",
       "    </tr>\n",
       "    <tr>\n",
       "      <th>...</th>\n",
       "      <td>...</td>\n",
       "      <td>...</td>\n",
       "      <td>...</td>\n",
       "      <td>...</td>\n",
       "      <td>...</td>\n",
       "      <td>...</td>\n",
       "      <td>...</td>\n",
       "      <td>...</td>\n",
       "      <td>...</td>\n",
       "    </tr>\n",
       "    <tr>\n",
       "      <th>822</th>\n",
       "      <td>ZBZX</td>\n",
       "      <td>stock-trades</td>\n",
       "      <td>2021-06-06 14:13:12.380</td>\n",
       "      <td>LMN456</td>\n",
       "      <td>ZBZX</td>\n",
       "      <td>BUY</td>\n",
       "      <td>786</td>\n",
       "      <td>2928</td>\n",
       "      <td>User_6</td>\n",
       "    </tr>\n",
       "    <tr>\n",
       "      <th>823</th>\n",
       "      <td>ZWZZT</td>\n",
       "      <td>stock-trades</td>\n",
       "      <td>2021-06-06 14:13:12.323</td>\n",
       "      <td>XYZ789</td>\n",
       "      <td>ZWZZT</td>\n",
       "      <td>SELL</td>\n",
       "      <td>468</td>\n",
       "      <td>2595</td>\n",
       "      <td>User_5</td>\n",
       "    </tr>\n",
       "    <tr>\n",
       "      <th>824</th>\n",
       "      <td>ZXZZT</td>\n",
       "      <td>stock-trades</td>\n",
       "      <td>2021-06-06 14:13:12.307</td>\n",
       "      <td>XYZ789</td>\n",
       "      <td>ZXZZT</td>\n",
       "      <td>BUY</td>\n",
       "      <td>414</td>\n",
       "      <td>2744</td>\n",
       "      <td>User_8</td>\n",
       "    </tr>\n",
       "    <tr>\n",
       "      <th>825</th>\n",
       "      <td>ZJZZT</td>\n",
       "      <td>stock-trades</td>\n",
       "      <td>2021-06-06 14:13:12.226</td>\n",
       "      <td>XYZ789</td>\n",
       "      <td>ZJZZT</td>\n",
       "      <td>SELL</td>\n",
       "      <td>912</td>\n",
       "      <td>768</td>\n",
       "      <td>User_2</td>\n",
       "    </tr>\n",
       "    <tr>\n",
       "      <th>826</th>\n",
       "      <td>ZXZZT</td>\n",
       "      <td>stock-trades</td>\n",
       "      <td>2021-06-06 14:13:12.223</td>\n",
       "      <td>XYZ789</td>\n",
       "      <td>ZXZZT</td>\n",
       "      <td>SELL</td>\n",
       "      <td>642</td>\n",
       "      <td>641</td>\n",
       "      <td>User_2</td>\n",
       "    </tr>\n",
       "  </tbody>\n",
       "</table>\n",
       "<p>827 rows × 9 columns</p>\n",
       "</div>"
      ],
      "text/plain": [
       "    event_key   event_topic         event_timestamp account symbol  side  \\\n",
       "0       ZXZZT  stock-trades 2021-06-06 14:13:52.849  XYZ789  ZXZZT   BUY   \n",
       "1         ZVV  stock-trades 2021-06-06 14:13:52.773  LMN456    ZVV  SELL   \n",
       "2       ZVZZT  stock-trades 2021-06-06 14:13:52.737  ABC123  ZVZZT  SELL   \n",
       "3       ZVZZT  stock-trades 2021-06-06 14:13:52.659  ABC123  ZVZZT   BUY   \n",
       "4       ZWZZT  stock-trades 2021-06-06 14:13:52.584  LMN456  ZWZZT   BUY   \n",
       "..        ...           ...                     ...     ...    ...   ...   \n",
       "822      ZBZX  stock-trades 2021-06-06 14:13:12.380  LMN456   ZBZX   BUY   \n",
       "823     ZWZZT  stock-trades 2021-06-06 14:13:12.323  XYZ789  ZWZZT  SELL   \n",
       "824     ZXZZT  stock-trades 2021-06-06 14:13:12.307  XYZ789  ZXZZT   BUY   \n",
       "825     ZJZZT  stock-trades 2021-06-06 14:13:12.226  XYZ789  ZJZZT  SELL   \n",
       "826     ZXZZT  stock-trades 2021-06-06 14:13:12.223  XYZ789  ZXZZT  SELL   \n",
       "\n",
       "     price  quantity  userid  \n",
       "0      861      1891  User_6  \n",
       "1      266      3356  User_8  \n",
       "2      168      2679  User_5  \n",
       "3      700      3978  User_7  \n",
       "4      302      1582  User_9  \n",
       "..     ...       ...     ...  \n",
       "822    786      2928  User_6  \n",
       "823    468      2595  User_5  \n",
       "824    414      2744  User_8  \n",
       "825    912       768  User_2  \n",
       "826    642       641  User_2  \n",
       "\n",
       "[827 rows x 9 columns]"
      ]
     },
     "execution_count": 35,
     "metadata": {},
     "output_type": "execute_result"
    }
   ],
   "source": [
    "########################\n",
    "# Visualisations\n",
    "########################\n",
    "# Graphing real-time data\n",
    "# loading packages\n",
    "import time\n",
    "import random as rd\n",
    "import numpy as np\n",
    "from IPython.display import clear_output\n",
    "import matplotlib.pyplot as plt\n",
    "\n",
    "# sample data from stocktrade_view\n",
    "x_y = spark.sql('''SELECT * FROM stocktrade_view order by event_timestamp desc limit 2000''')\n",
    "x_y_df = x_y.toPandas()\n",
    "x_y_df"
   ]
  },
  {
   "cell_type": "code",
   "execution_count": 36,
   "id": "2c94c48e",
   "metadata": {},
   "outputs": [
    {
     "data": {
      "image/png": "[encoded data removed]",
      "text/plain": [
       "<Figure size 432x288 with 1 Axes>"
      ]
     },
     "metadata": {
      "needs_background": "light"
     },
     "output_type": "display_data"
    },
    {
     "ename": "KeyboardInterrupt",
     "evalue": "",
     "output_type": "error",
     "traceback": [
      "\u001b[0;31m---------------------------------------------------------------------------\u001b[0m",
      "\u001b[0;31mKeyboardInterrupt\u001b[0m                         Traceback (most recent call last)",
      "\u001b[0;32m<ipython-input-36-189b252234f3>\u001b[0m in \u001b[0;36m<module>\u001b[0;34m\u001b[0m\n\u001b[1;32m     72\u001b[0m \u001b[0;34m\u001b[0m\u001b[0m\n\u001b[1;32m     73\u001b[0m     \u001b[0;31m# updating every 10 s\u001b[0m\u001b[0;34m\u001b[0m\u001b[0;34m\u001b[0m\u001b[0;34m\u001b[0m\u001b[0m\n\u001b[0;32m---> 74\u001b[0;31m     \u001b[0mtime\u001b[0m\u001b[0;34m.\u001b[0m\u001b[0msleep\u001b[0m\u001b[0;34m(\u001b[0m\u001b[0;36m10\u001b[0m\u001b[0;34m)\u001b[0m\u001b[0;34m\u001b[0m\u001b[0;34m\u001b[0m\u001b[0m\n\u001b[0m",
      "\u001b[0;31mKeyboardInterrupt\u001b[0m: "
     ]
    }
   ],
   "source": [
    "stocktrade_stream.stop()\n",
    "# Plotting tranded amount vs stock (symbol)\n",
    "# taking the most recent 200 transactions\n",
    "x_y = spark.sql('''SELECT \n",
    "                        symbol\n",
    "                        , side\n",
    "                        , sum(price*quantity)/100 as traded_amount_in_dollars\n",
    "                    FROM (select * from stocktrade_view order by event_timestamp desc limit 200) as current\n",
    "                    group by \n",
    "                            side\n",
    "                            , symbol\n",
    "                        ''')\n",
    "x_y_df = x_y.toPandas()\n",
    "# sorting values by 2 columns\n",
    "x_y_df = x_y_df.sort_values(by = ['symbol', 'side'])\n",
    "print(x_y_df)\n",
    "\n",
    "\n",
    "def live_bar_plot(df, figsize=(7,5), title = 'Traded amount of last 200 transactions'):\n",
    "    clear_output(wait=True)\n",
    "    labels = list(df.symbol.unique())\n",
    "\n",
    "    data = [ df[df['side'] == 'BUY']['traded_amount_in_dollars']\n",
    "            ,df[df['side'] == 'SELL']['traded_amount_in_dollars']\n",
    "           ]\n",
    "    X = np.arange(len(df.symbol.unique()))\n",
    "    fig = plt.figure()\n",
    "    ax = fig.add_axes([0,0,1,1])\n",
    "    ax.bar(X + 0.00, data[0], color = 'g', width = 0.25)\n",
    "    ax.bar(X + 0.25, data[1], color = 'r', width = 0.25)\n",
    "    ax.legend(labels=['BUY', 'SELL'])\n",
    "    ax.set_xticks(X)\n",
    "    ax.set_xticklabels(labels)\n",
    "\n",
    "\n",
    "    plt.title(title)\n",
    "    plt.grid(True)\n",
    "    plt.xlabel('Symbol')\n",
    "    plt.ylabel('Traded amount in $')\n",
    "    plt.show();\n",
    "\n",
    "stocktrade_stream = stocktrade_stream_df \\\n",
    "    .writeStream \\\n",
    "    .format(\"memory\") \\\n",
    "    .queryName(\"stocktrade_view\") \\\n",
    "    .start()    \n",
    "\n",
    "\n",
    "\n",
    "while True:\n",
    "    x_y= spark.sql('''SELECT \n",
    "                        symbol\n",
    "                        , side\n",
    "                        , sum(price*quantity)/100 as traded_amount_in_dollars\n",
    "                        , max(event_timestamp) as max_event_timestamp\n",
    "                    FROM (select * from stocktrade_view order by event_timestamp desc limit 200) as current\n",
    "                    group by \n",
    "                            side\n",
    "                            , symbol\n",
    "                    ''')\n",
    "    \n",
    "    x_y_df = x_y.toPandas()\n",
    "    \n",
    "    if x_y_df.shape[0] > 0:\n",
    "        # sorting values by 2 columns\n",
    "        x_y_df = x_y_df.sort_values(by = ['symbol', 'side'])\n",
    "\n",
    "        x_y_df = x_y.toPandas()\n",
    "        print(x_y_df)  \n",
    "\n",
    "        live_bar_plot(x_y_df, title = f'Traded amount of last 200 transactions before {max(x_y_df.max_event_timestamp)}') \n",
    "\n",
    "    # updating every 10 s\n",
    "    time.sleep(10)"
   ]
  },
  {
   "cell_type": "code",
   "execution_count": 37,
   "id": "a6a9e3fd",
   "metadata": {},
   "outputs": [
    {
     "data": {
      "image/png": "[encoded data removed]",
      "text/plain": [
       "<Figure size 504x360 with 1 Axes>"
      ]
     },
     "metadata": {
      "needs_background": "light"
     },
     "output_type": "display_data"
    },
    {
     "ename": "KeyboardInterrupt",
     "evalue": "",
     "output_type": "error",
     "traceback": [
      "\u001b[0;31m---------------------------------------------------------------------------\u001b[0m",
      "\u001b[0;31mKeyboardInterrupt\u001b[0m                         Traceback (most recent call last)",
      "\u001b[0;32m<ipython-input-37-4a92020806d9>\u001b[0m in \u001b[0;36m<module>\u001b[0;34m\u001b[0m\n\u001b[1;32m     25\u001b[0m     \u001b[0mprint\u001b[0m\u001b[0;34m(\u001b[0m\u001b[0mx_y_df\u001b[0m\u001b[0;34m)\u001b[0m\u001b[0;34m\u001b[0m\u001b[0;34m\u001b[0m\u001b[0m\n\u001b[1;32m     26\u001b[0m     \u001b[0mlive_scatter_plot\u001b[0m\u001b[0;34m(\u001b[0m\u001b[0mx_y_df\u001b[0m\u001b[0;34m.\u001b[0m\u001b[0mprice\u001b[0m\u001b[0;34m,\u001b[0m \u001b[0mx_y_df\u001b[0m\u001b[0;34m.\u001b[0m\u001b[0mquantity\u001b[0m\u001b[0;34m,\u001b[0m \u001b[0mtitle\u001b[0m \u001b[0;34m=\u001b[0m \u001b[0;34mf'Quantity vs Price in last 200 transactions before {max(x_y_df.event_timestamp)}'\u001b[0m\u001b[0;34m)\u001b[0m\u001b[0;34m\u001b[0m\u001b[0;34m\u001b[0m\u001b[0m\n\u001b[0;32m---> 27\u001b[0;31m     \u001b[0mtime\u001b[0m\u001b[0;34m.\u001b[0m\u001b[0msleep\u001b[0m\u001b[0;34m(\u001b[0m\u001b[0;36m10\u001b[0m\u001b[0;34m)\u001b[0m\u001b[0;34m\u001b[0m\u001b[0;34m\u001b[0m\u001b[0m\n\u001b[0m",
      "\u001b[0;31mKeyboardInterrupt\u001b[0m: "
     ]
    }
   ],
   "source": [
    "def live_scatter_plot(x, y, figsize=(7,5), title='Testing Update'):\n",
    "    clear_output(wait=True)\n",
    "    plt.figure(figsize=figsize)\n",
    "    plt.xlim(0, max(x))\n",
    "    plt.ylim(0, max(y))\n",
    "    x= [float(i) for i in x]\n",
    "    y= [float(i) for i in y]\n",
    "\n",
    "    if len(x) > 1:\n",
    "        plt.scatter(x,y, label='axis y', color='k')\n",
    "        # printing line of best fit\n",
    "        m, b = np.polyfit(x, y, 1)\n",
    "        plt.plot(x, [x * m for x in x] + b)\n",
    "\n",
    "    plt.title(title)\n",
    "    plt.grid(True)\n",
    "    plt.xlabel('Price')\n",
    "    plt.ylabel('Quantity')\n",
    "    plt.show();\n",
    "\n",
    "\n",
    "while True: \n",
    "    x_y = spark.sql('''SELECT * FROM stocktrade_view order by event_timestamp desc limit 200''')\n",
    "    x_y_df = x_y.toPandas()\n",
    "    print(x_y_df)  \n",
    "    live_scatter_plot(x_y_df.price, x_y_df.quantity, title = f'Quantity vs Price in last 200 transactions before {max(x_y_df.event_timestamp)}') \n",
    "    time.sleep(10)"
   ]
  },
  {
   "cell_type": "code",
   "execution_count": null,
   "id": "360588f3",
   "metadata": {},
   "outputs": [],
   "source": [
    "# Build Spark Query 2 using view \"stocktraide_view\" - order by timestamp"
   ]
  },
  {
   "cell_type": "code",
   "execution_count": 72,
   "id": "8f657e96",
   "metadata": {},
   "outputs": [
    {
     "name": "stdout",
     "output_type": "stream",
     "text": [
      "+---------+------------+--------------------+-------+------+----+-----+--------+------+\n",
      "|event_key| event_topic|     event_timestamp|account|symbol|side|price|quantity|userid|\n",
      "+---------+------------+--------------------+-------+------+----+-----+--------+------+\n",
      "|    ZWZZT|stock-trades|2021-06-06 11:48:...| XYZ789| ZWZZT| BUY|   41|    3964|User_7|\n",
      "|    ZVZZT|stock-trades|2021-06-06 11:48:...| ABC123| ZVZZT|SELL|  329|    4407|User_7|\n",
      "|    ZJZZT|stock-trades|2021-06-06 11:48:...| ABC123| ZJZZT| BUY|  188|    2529|User_2|\n",
      "|    ZXZZT|stock-trades|2021-06-06 11:48:...| ABC123| ZXZZT|SELL|  771|    1123|User_6|\n",
      "|    ZTEST|stock-trades|2021-06-06 11:48:...| XYZ789| ZTEST| BUY|  965|    3562|User_6|\n",
      "|    ZTEST|stock-trades|2021-06-06 11:48:...| XYZ789| ZTEST| BUY|  888|    2541|User_8|\n",
      "|    ZJZZT|stock-trades|2021-06-06 11:48:...| XYZ789| ZJZZT|SELL|  960|    1508|User_5|\n",
      "|    ZWZZT|stock-trades|2021-06-06 11:48:...| ABC123| ZWZZT| BUY|  227|    3603|User_3|\n",
      "|    ZVZZT|stock-trades|2021-06-06 11:48:...| XYZ789| ZVZZT|SELL|  615|    1570|User_4|\n",
      "|    ZTEST|stock-trades|2021-06-06 11:48:...| XYZ789| ZTEST| BUY|  480|    4457|User_4|\n",
      "|    ZWZZT|stock-trades|2021-06-06 11:48:...| LMN456| ZWZZT| BUY|  193|    1390|User_9|\n",
      "|    ZJZZT|stock-trades|2021-06-06 11:48:...| XYZ789| ZJZZT| BUY|  541|    3561|User_8|\n",
      "|    ZXZZT|stock-trades|2021-06-06 11:48:...| XYZ789| ZXZZT| BUY|   19|     451|User_5|\n",
      "|    ZTEST|stock-trades|2021-06-06 11:48:...| XYZ789| ZTEST|SELL|  311|    4773|User_9|\n",
      "|     ZBZX|stock-trades|2021-06-06 11:48:...| XYZ789|  ZBZX|SELL|  973|    2273|User_3|\n",
      "+---------+------------+--------------------+-------+------+----+-----+--------+------+\n",
      "only showing top 15 rows\n",
      "\n"
     ]
    },
    {
     "data": {
      "text/plain": [
       "None"
      ]
     },
     "metadata": {},
     "output_type": "display_data"
    }
   ],
   "source": [
    "clear_output(wait=True)\n",
    "display(spark.sql('SELECT * FROM stocktrade_view order by event_timestamp desc').show(15))\n",
    "time.sleep(1)"
   ]
  },
  {
   "cell_type": "code",
   "execution_count": 69,
   "id": "a7d6ed69",
   "metadata": {},
   "outputs": [],
   "source": [
    "# Export Query 2 to dataframe then parquet file"
   ]
  },
  {
   "cell_type": "code",
   "execution_count": 83,
   "id": "f45c6216",
   "metadata": {},
   "outputs": [],
   "source": [
    "from pyspark import SparkFiles\n",
    "from pyspark.sql import SQLContext\n",
    "sc = spark.sparkContext\n",
    "sqlContext = SQLContext(sc)\n",
    "df = sqlContext.sql('SELECT * FROM stocktrade_view order by event_timestamp desc')"
   ]
  },
  {
   "cell_type": "code",
   "execution_count": 84,
   "id": "02f12f2d",
   "metadata": {},
   "outputs": [
    {
     "data": {
      "text/plain": [
       "155"
      ]
     },
     "execution_count": 84,
     "metadata": {},
     "output_type": "execute_result"
    }
   ],
   "source": [
    "df.count()"
   ]
  },
  {
   "cell_type": "code",
   "execution_count": null,
   "id": "c5dc44b0",
   "metadata": {},
   "outputs": [],
   "source": [
    "df.write.parquet('./query2_alldata.parquet',mode='append')"
   ]
  },
  {
   "cell_type": "code",
   "execution_count": null,
   "id": "41875e99",
   "metadata": {},
   "outputs": [],
   "source": [
    "# Read parquet file for visualisation and machine learning"
   ]
  },
  {
   "cell_type": "code",
   "execution_count": 36,
   "id": "2ea070b7",
   "metadata": {},
   "outputs": [
    {
     "name": "stdout",
     "output_type": "stream",
     "text": [
      "+---------+------------+--------------------+------+-------+------+----+--------+-----+\n",
      "|event_key| event_topic|     event_timestamp|userid|account|symbol|side|quantity|price|\n",
      "+---------+------------+--------------------+------+-------+------+----+--------+-----+\n",
      "|    ZVZZT|stock-trades|2021-06-06 03:06:...|User_5| ABC123| ZVZZT|SELL|    1401|  287|\n",
      "|    ZVZZT|stock-trades|2021-06-06 03:06:...|User_3| LMN456| ZVZZT|SELL|     935|   98|\n",
      "|     ZBZX|stock-trades|2021-06-06 03:06:...|User_1| LMN456|  ZBZX| BUY|    1795|  306|\n",
      "|      ZVV|stock-trades|2021-06-06 03:06:...|User_2| LMN456|   ZVV| BUY|    1220|  106|\n",
      "|    ZJZZT|stock-trades|2021-06-06 03:06:...|User_4| XYZ789| ZJZZT|SELL|     189|  522|\n",
      "|    ZXZZT|stock-trades|2021-06-06 03:06:...|User_7| ABC123| ZXZZT| BUY|    3060|  545|\n",
      "|    ZVZZT|stock-trades|2021-06-06 03:06:...|User_1| XYZ789| ZVZZT|SELL|    3732|  757|\n",
      "|      ZVV|stock-trades|2021-06-06 03:06:...|User_8| XYZ789|   ZVV|SELL|    4210|  614|\n",
      "|    ZWZZT|stock-trades|2021-06-06 03:06:...|User_6| XYZ789| ZWZZT| BUY|    3501|  315|\n",
      "|    ZTEST|stock-trades|2021-06-06 03:06:...|User_8| XYZ789| ZTEST| BUY|    1903|   76|\n",
      "|      ZVV|stock-trades|2021-06-06 03:06:...|User_7| ABC123|   ZVV| BUY|    1969|  820|\n",
      "|    ZTEST|stock-trades|2021-06-06 03:06:...|User_3| LMN456| ZTEST|SELL|    3259|  990|\n",
      "|    ZTEST|stock-trades|2021-06-06 03:06:...|User_9| XYZ789| ZTEST|SELL|    3985|  883|\n",
      "|     ZBZX|stock-trades|2021-06-06 03:06:...|User_7| LMN456|  ZBZX| BUY|    4210|  277|\n",
      "|    ZXZZT|stock-trades|2021-06-06 03:06:...|User_2| LMN456| ZXZZT| BUY|    4547|  847|\n",
      "|    ZXZZT|stock-trades|2021-06-06 03:06:...|User_8| LMN456| ZXZZT|SELL|    2923|  449|\n",
      "|    ZJZZT|stock-trades|2021-06-06 03:06:...|User_4| XYZ789| ZJZZT|SELL|    2867|  578|\n",
      "|    ZJZZT|stock-trades|2021-06-06 03:06:...|User_8| XYZ789| ZJZZT|SELL|    4199|  333|\n",
      "|    ZJZZT|stock-trades|2021-06-06 03:06:...|User_7| ABC123| ZJZZT| BUY|    3060|  428|\n",
      "|      ZVV|stock-trades|2021-06-06 03:06:...|User_4| LMN456|   ZVV| BUY|    3679|   89|\n",
      "+---------+------------+--------------------+------+-------+------+----+--------+-----+\n",
      "only showing top 20 rows\n",
      "\n"
     ]
    }
   ],
   "source": [
    "query2_df = sqlContext.read.parquet('./query_alldata.parquet')\n",
    "query2_df.show(20)"
   ]
  },
  {
   "cell_type": "code",
   "execution_count": null,
   "id": "26fd51b3",
   "metadata": {},
   "outputs": [],
   "source": []
  }
 ],
 "metadata": {
  "kernelspec": {
   "display_name": "Python 3",
   "language": "python",
   "name": "python3"
  },
  "language_info": {
   "codemirror_mode": {
    "name": "ipython",
    "version": 3
   },
   "file_extension": ".py",
   "mimetype": "text/x-python",
   "name": "python",
   "nbconvert_exporter": "python",
   "pygments_lexer": "ipython3",
   "version": "3.8.5"
  }
 },
 "nbformat": 4,
 "nbformat_minor": 5
}
