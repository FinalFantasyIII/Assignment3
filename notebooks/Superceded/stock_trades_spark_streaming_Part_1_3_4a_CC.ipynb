{
 "cells": [
  {
   "cell_type": "code",
   "execution_count": 1,
   "id": "3b9ac6c6",
   "metadata": {},
   "outputs": [],
   "source": [
    "from pyspark.sql import SparkSession\n",
    "from IPython.display import display, clear_output\n",
    "import time\n",
    "from pyspark.sql import functions as F\n",
    "from pyspark.sql.types import StructType, StructField, IntegerType, StringType"
   ]
  },
  {
   "cell_type": "code",
   "execution_count": 2,
   "id": "c3392c5c",
   "metadata": {},
   "outputs": [],
   "source": [
    "spark = SparkSession.builder \\\n",
    "        .appName('kafka') \\\n",
    "        .getOrCreate()"
   ]
  },
  {
   "cell_type": "code",
   "execution_count": 3,
   "id": "5d3ae03c",
   "metadata": {},
   "outputs": [
    {
     "data": {
      "text/plain": [
       "'3.1.1'"
      ]
     },
     "execution_count": 3,
     "metadata": {},
     "output_type": "execute_result"
    }
   ],
   "source": [
    "spark.version"
   ]
  },
  {
   "cell_type": "code",
   "execution_count": 3,
   "id": "5a9fde87",
   "metadata": {},
   "outputs": [],
   "source": [
    "stream_df = spark \\\n",
    "  .readStream \\\n",
    "  .format(\"kafka\") \\\n",
    "  .option(\"kafka.bootstrap.servers\", \"broker:29092\") \\\n",
    "  .option(\"startingOffsets\", \"latest\") \\\n",
    "  .option(\"subscribe\", \"stock-trades\") \\\n",
    "  .load()"
   ]
  },
  {
   "cell_type": "code",
   "execution_count": 4,
   "id": "72cb4ad5",
   "metadata": {},
   "outputs": [
    {
     "name": "stdout",
     "output_type": "stream",
     "text": [
      "root\n",
      " |-- key: binary (nullable = true)\n",
      " |-- value: binary (nullable = true)\n",
      " |-- topic: string (nullable = true)\n",
      " |-- partition: integer (nullable = true)\n",
      " |-- offset: long (nullable = true)\n",
      " |-- timestamp: timestamp (nullable = true)\n",
      " |-- timestampType: integer (nullable = true)\n",
      "\n"
     ]
    }
   ],
   "source": [
    "stream_df.printSchema()"
   ]
  },
  {
   "cell_type": "code",
   "execution_count": 5,
   "id": "aca7249b",
   "metadata": {},
   "outputs": [],
   "source": [
    "raw_stream = stream_df \\\n",
    "    .writeStream \\\n",
    "    .format(\"memory\") \\\n",
    "    .queryName(\"raw_stocktrade_view\") \\\n",
    "    .start()"
   ]
  },
  {
   "cell_type": "code",
   "execution_count": 6,
   "id": "6ae34dd9",
   "metadata": {},
   "outputs": [],
   "source": [
    "clear_output(wait=True)\n",
    "time.sleep(10)"
   ]
  },
  {
   "cell_type": "code",
   "execution_count": 7,
   "id": "93acbb0d",
   "metadata": {},
   "outputs": [
    {
     "name": "stdout",
     "output_type": "stream",
     "text": [
      "+----------------+--------------------+------------+---------+------+--------------------+-------------+\n",
      "|             key|               value|       topic|partition|offset|           timestamp|timestampType|\n",
      "+----------------+--------------------+------------+---------+------+--------------------+-------------+\n",
      "|   [5A 42 5A 58]|[7B 22 73 63 68 6...|stock-trades|        0|  2025|2021-06-12 02:31:...|            0|\n",
      "|      [5A 56 56]|[7B 22 73 63 68 6...|stock-trades|        0|  2026|2021-06-12 02:31:...|            0|\n",
      "|      [5A 56 56]|[7B 22 73 63 68 6...|stock-trades|        0|  2027|2021-06-12 02:31:...|            0|\n",
      "|[5A 58 5A 5A 54]|[7B 22 73 63 68 6...|stock-trades|        0|  2028|2021-06-12 02:31:...|            0|\n",
      "|[5A 54 45 53 54]|[7B 22 73 63 68 6...|stock-trades|        0|  2029|2021-06-12 02:31:...|            0|\n",
      "|[5A 57 5A 5A 54]|[7B 22 73 63 68 6...|stock-trades|        0|  2030|2021-06-12 02:31:...|            0|\n",
      "|[5A 58 5A 5A 54]|[7B 22 73 63 68 6...|stock-trades|        0|  2031|2021-06-12 02:31:...|            0|\n",
      "|   [5A 42 5A 58]|[7B 22 73 63 68 6...|stock-trades|        0|  2032|2021-06-12 02:31:...|            0|\n",
      "|[5A 4A 5A 5A 54]|[7B 22 73 63 68 6...|stock-trades|        0|  2033|2021-06-12 02:31:...|            0|\n",
      "|   [5A 42 5A 58]|[7B 22 73 63 68 6...|stock-trades|        0|  2034|2021-06-12 02:31:...|            0|\n",
      "|[5A 58 5A 5A 54]|[7B 22 73 63 68 6...|stock-trades|        0|  2035|2021-06-12 02:31:...|            0|\n",
      "|[5A 4A 5A 5A 54]|[7B 22 73 63 68 6...|stock-trades|        0|  2036|2021-06-12 02:31:...|            0|\n",
      "|[5A 56 5A 5A 54]|[7B 22 73 63 68 6...|stock-trades|        0|  2037|2021-06-12 02:31:...|            0|\n",
      "|[5A 57 5A 5A 54]|[7B 22 73 63 68 6...|stock-trades|        0|  2038|2021-06-12 02:31:...|            0|\n",
      "|   [5A 42 5A 58]|[7B 22 73 63 68 6...|stock-trades|        0|  2039|2021-06-12 02:31:...|            0|\n",
      "|[5A 54 45 53 54]|[7B 22 73 63 68 6...|stock-trades|        0|  2040|2021-06-12 02:31:...|            0|\n",
      "|[5A 56 5A 5A 54]|[7B 22 73 63 68 6...|stock-trades|        0|  2041|2021-06-12 02:31:...|            0|\n",
      "|[5A 54 45 53 54]|[7B 22 73 63 68 6...|stock-trades|        0|  2042|2021-06-12 02:31:...|            0|\n",
      "|[5A 4A 5A 5A 54]|[7B 22 73 63 68 6...|stock-trades|        0|  2043|2021-06-12 02:31:...|            0|\n",
      "|   [5A 42 5A 58]|[7B 22 73 63 68 6...|stock-trades|        0|  2044|2021-06-12 02:31:...|            0|\n",
      "+----------------+--------------------+------------+---------+------+--------------------+-------------+\n",
      "only showing top 20 rows\n",
      "\n"
     ]
    },
    {
     "data": {
      "text/plain": [
       "None"
      ]
     },
     "metadata": {},
     "output_type": "display_data"
    }
   ],
   "source": [
    "clear_output(wait=True)\n",
    "display(spark.sql('SELECT * FROM raw_stocktrade_view').show(20))\n",
    "time.sleep(1)"
   ]
  },
  {
   "cell_type": "code",
   "execution_count": 8,
   "id": "8667d6a8",
   "metadata": {},
   "outputs": [],
   "source": [
    "time.sleep(1)"
   ]
  },
  {
   "cell_type": "code",
   "execution_count": 9,
   "id": "0f0906c1",
   "metadata": {},
   "outputs": [],
   "source": [
    "raw_stream.stop()"
   ]
  },
  {
   "cell_type": "code",
   "execution_count": 10,
   "id": "49bf67d6",
   "metadata": {},
   "outputs": [],
   "source": [
    "string_stream_df = stream_df \\\n",
    "    .withColumn(\"key\", stream_df[\"key\"].cast(StringType())) \\\n",
    "    .withColumn(\"value\", stream_df[\"value\"].cast(StringType()))"
   ]
  },
  {
   "cell_type": "code",
   "execution_count": 11,
   "id": "286e8ab3",
   "metadata": {},
   "outputs": [],
   "source": [
    "string_stream = string_stream_df \\\n",
    "    .writeStream \\\n",
    "    .format(\"memory\") \\\n",
    "    .queryName(\"string_stocktrade_view\") \\\n",
    "    .start()"
   ]
  },
  {
   "cell_type": "code",
   "execution_count": 12,
   "id": "465f6ff3",
   "metadata": {},
   "outputs": [
    {
     "name": "stdout",
     "output_type": "stream",
     "text": [
      "+-----+-------------------------------------------------------------------------------------------------------------------------------------------------------------------------------------------------------------------------------------------------------------------------------------------------------------------------------------------------------------------------------------------------------------------------------------------------------------------------------------------------------------------------------------------------------------------------------------------------------------------------------------------------------------------------------------------------------------------------------------------------------------------------------------------------------------------------------------------------------------------------------------------------------------------------------------------------------------------------------------------------------------+------------+---------+------+-----------------------+-------------+\n",
      "|key  |value                                                                                                                                                                                                                                                                                                                                                                                                                                                                                                                                                                                                                                                                                                                                                                                                                                                                                                                                                                                                        |topic       |partition|offset|timestamp              |timestampType|\n",
      "+-----+-------------------------------------------------------------------------------------------------------------------------------------------------------------------------------------------------------------------------------------------------------------------------------------------------------------------------------------------------------------------------------------------------------------------------------------------------------------------------------------------------------------------------------------------------------------------------------------------------------------------------------------------------------------------------------------------------------------------------------------------------------------------------------------------------------------------------------------------------------------------------------------------------------------------------------------------------------------------------------------------------------------+------------+---------+------+-----------------------+-------------+\n",
      "|ZWZZT|{\"schema\":{\"type\":\"struct\",\"fields\":[{\"type\":\"string\",\"optional\":false,\"doc\":\"A simulated trade side (buy or sell or short)\",\"field\":\"side\"},{\"type\":\"int32\",\"optional\":false,\"doc\":\"A simulated random quantity of the trade\",\"field\":\"quantity\"},{\"type\":\"string\",\"optional\":false,\"doc\":\"Simulated stock symbols\",\"field\":\"symbol\"},{\"type\":\"int32\",\"optional\":false,\"doc\":\"A simulated random trade price in pennies\",\"field\":\"price\"},{\"type\":\"string\",\"optional\":false,\"doc\":\"Simulated accounts assigned to the trade\",\"field\":\"account\"},{\"type\":\"string\",\"optional\":false,\"doc\":\"The simulated user who executed the trade\",\"field\":\"userid\"}],\"optional\":false,\"name\":\"ksql.StockTrade\",\"doc\":\"Defines a hypothetical stock trade using some known test stock symbols.\",\"parameters\":{\"connect.record.doc\":\"Defines a hypothetical stock trade using some known test stock symbols.\"}},\"payload\":{\"side\":\"SELL\",\"quantity\":2920,\"symbol\":\"ZWZZT\",\"price\":597,\"account\":\"XYZ789\",\"userid\":\"User_5\"}}|stock-trades|0        |2460  |2021-06-12 02:32:00.267|0            |\n",
      "|ZTEST|{\"schema\":{\"type\":\"struct\",\"fields\":[{\"type\":\"string\",\"optional\":false,\"doc\":\"A simulated trade side (buy or sell or short)\",\"field\":\"side\"},{\"type\":\"int32\",\"optional\":false,\"doc\":\"A simulated random quantity of the trade\",\"field\":\"quantity\"},{\"type\":\"string\",\"optional\":false,\"doc\":\"Simulated stock symbols\",\"field\":\"symbol\"},{\"type\":\"int32\",\"optional\":false,\"doc\":\"A simulated random trade price in pennies\",\"field\":\"price\"},{\"type\":\"string\",\"optional\":false,\"doc\":\"Simulated accounts assigned to the trade\",\"field\":\"account\"},{\"type\":\"string\",\"optional\":false,\"doc\":\"The simulated user who executed the trade\",\"field\":\"userid\"}],\"optional\":false,\"name\":\"ksql.StockTrade\",\"doc\":\"Defines a hypothetical stock trade using some known test stock symbols.\",\"parameters\":{\"connect.record.doc\":\"Defines a hypothetical stock trade using some known test stock symbols.\"}},\"payload\":{\"side\":\"SELL\",\"quantity\":1638,\"symbol\":\"ZTEST\",\"price\":664,\"account\":\"ABC123\",\"userid\":\"User_1\"}}|stock-trades|0        |2461  |2021-06-12 02:32:00.312|0            |\n",
      "|ZVV  |{\"schema\":{\"type\":\"struct\",\"fields\":[{\"type\":\"string\",\"optional\":false,\"doc\":\"A simulated trade side (buy or sell or short)\",\"field\":\"side\"},{\"type\":\"int32\",\"optional\":false,\"doc\":\"A simulated random quantity of the trade\",\"field\":\"quantity\"},{\"type\":\"string\",\"optional\":false,\"doc\":\"Simulated stock symbols\",\"field\":\"symbol\"},{\"type\":\"int32\",\"optional\":false,\"doc\":\"A simulated random trade price in pennies\",\"field\":\"price\"},{\"type\":\"string\",\"optional\":false,\"doc\":\"Simulated accounts assigned to the trade\",\"field\":\"account\"},{\"type\":\"string\",\"optional\":false,\"doc\":\"The simulated user who executed the trade\",\"field\":\"userid\"}],\"optional\":false,\"name\":\"ksql.StockTrade\",\"doc\":\"Defines a hypothetical stock trade using some known test stock symbols.\",\"parameters\":{\"connect.record.doc\":\"Defines a hypothetical stock trade using some known test stock symbols.\"}},\"payload\":{\"side\":\"SELL\",\"quantity\":1820,\"symbol\":\"ZVV\",\"price\":724,\"account\":\"ABC123\",\"userid\":\"User_5\"}}  |stock-trades|0        |2462  |2021-06-12 02:32:00.376|0            |\n",
      "|ZBZX |{\"schema\":{\"type\":\"struct\",\"fields\":[{\"type\":\"string\",\"optional\":false,\"doc\":\"A simulated trade side (buy or sell or short)\",\"field\":\"side\"},{\"type\":\"int32\",\"optional\":false,\"doc\":\"A simulated random quantity of the trade\",\"field\":\"quantity\"},{\"type\":\"string\",\"optional\":false,\"doc\":\"Simulated stock symbols\",\"field\":\"symbol\"},{\"type\":\"int32\",\"optional\":false,\"doc\":\"A simulated random trade price in pennies\",\"field\":\"price\"},{\"type\":\"string\",\"optional\":false,\"doc\":\"Simulated accounts assigned to the trade\",\"field\":\"account\"},{\"type\":\"string\",\"optional\":false,\"doc\":\"The simulated user who executed the trade\",\"field\":\"userid\"}],\"optional\":false,\"name\":\"ksql.StockTrade\",\"doc\":\"Defines a hypothetical stock trade using some known test stock symbols.\",\"parameters\":{\"connect.record.doc\":\"Defines a hypothetical stock trade using some known test stock symbols.\"}},\"payload\":{\"side\":\"SELL\",\"quantity\":2592,\"symbol\":\"ZBZX\",\"price\":179,\"account\":\"LMN456\",\"userid\":\"User_8\"}} |stock-trades|0        |2463  |2021-06-12 02:32:00.44 |0            |\n",
      "|ZBZX |{\"schema\":{\"type\":\"struct\",\"fields\":[{\"type\":\"string\",\"optional\":false,\"doc\":\"A simulated trade side (buy or sell or short)\",\"field\":\"side\"},{\"type\":\"int32\",\"optional\":false,\"doc\":\"A simulated random quantity of the trade\",\"field\":\"quantity\"},{\"type\":\"string\",\"optional\":false,\"doc\":\"Simulated stock symbols\",\"field\":\"symbol\"},{\"type\":\"int32\",\"optional\":false,\"doc\":\"A simulated random trade price in pennies\",\"field\":\"price\"},{\"type\":\"string\",\"optional\":false,\"doc\":\"Simulated accounts assigned to the trade\",\"field\":\"account\"},{\"type\":\"string\",\"optional\":false,\"doc\":\"The simulated user who executed the trade\",\"field\":\"userid\"}],\"optional\":false,\"name\":\"ksql.StockTrade\",\"doc\":\"Defines a hypothetical stock trade using some known test stock symbols.\",\"parameters\":{\"connect.record.doc\":\"Defines a hypothetical stock trade using some known test stock symbols.\"}},\"payload\":{\"side\":\"SELL\",\"quantity\":266,\"symbol\":\"ZBZX\",\"price\":600,\"account\":\"ABC123\",\"userid\":\"User_1\"}}  |stock-trades|0        |2464  |2021-06-12 02:32:00.441|0            |\n",
      "|ZVV  |{\"schema\":{\"type\":\"struct\",\"fields\":[{\"type\":\"string\",\"optional\":false,\"doc\":\"A simulated trade side (buy or sell or short)\",\"field\":\"side\"},{\"type\":\"int32\",\"optional\":false,\"doc\":\"A simulated random quantity of the trade\",\"field\":\"quantity\"},{\"type\":\"string\",\"optional\":false,\"doc\":\"Simulated stock symbols\",\"field\":\"symbol\"},{\"type\":\"int32\",\"optional\":false,\"doc\":\"A simulated random trade price in pennies\",\"field\":\"price\"},{\"type\":\"string\",\"optional\":false,\"doc\":\"Simulated accounts assigned to the trade\",\"field\":\"account\"},{\"type\":\"string\",\"optional\":false,\"doc\":\"The simulated user who executed the trade\",\"field\":\"userid\"}],\"optional\":false,\"name\":\"ksql.StockTrade\",\"doc\":\"Defines a hypothetical stock trade using some known test stock symbols.\",\"parameters\":{\"connect.record.doc\":\"Defines a hypothetical stock trade using some known test stock symbols.\"}},\"payload\":{\"side\":\"BUY\",\"quantity\":3658,\"symbol\":\"ZVV\",\"price\":744,\"account\":\"LMN456\",\"userid\":\"User_4\"}}   |stock-trades|0        |2465  |2021-06-12 02:32:00.506|0            |\n",
      "|ZWZZT|{\"schema\":{\"type\":\"struct\",\"fields\":[{\"type\":\"string\",\"optional\":false,\"doc\":\"A simulated trade side (buy or sell or short)\",\"field\":\"side\"},{\"type\":\"int32\",\"optional\":false,\"doc\":\"A simulated random quantity of the trade\",\"field\":\"quantity\"},{\"type\":\"string\",\"optional\":false,\"doc\":\"Simulated stock symbols\",\"field\":\"symbol\"},{\"type\":\"int32\",\"optional\":false,\"doc\":\"A simulated random trade price in pennies\",\"field\":\"price\"},{\"type\":\"string\",\"optional\":false,\"doc\":\"Simulated accounts assigned to the trade\",\"field\":\"account\"},{\"type\":\"string\",\"optional\":false,\"doc\":\"The simulated user who executed the trade\",\"field\":\"userid\"}],\"optional\":false,\"name\":\"ksql.StockTrade\",\"doc\":\"Defines a hypothetical stock trade using some known test stock symbols.\",\"parameters\":{\"connect.record.doc\":\"Defines a hypothetical stock trade using some known test stock symbols.\"}},\"payload\":{\"side\":\"BUY\",\"quantity\":3330,\"symbol\":\"ZWZZT\",\"price\":701,\"account\":\"XYZ789\",\"userid\":\"User_1\"}} |stock-trades|0        |2466  |2021-06-12 02:32:00.605|0            |\n",
      "|ZVZZT|{\"schema\":{\"type\":\"struct\",\"fields\":[{\"type\":\"string\",\"optional\":false,\"doc\":\"A simulated trade side (buy or sell or short)\",\"field\":\"side\"},{\"type\":\"int32\",\"optional\":false,\"doc\":\"A simulated random quantity of the trade\",\"field\":\"quantity\"},{\"type\":\"string\",\"optional\":false,\"doc\":\"Simulated stock symbols\",\"field\":\"symbol\"},{\"type\":\"int32\",\"optional\":false,\"doc\":\"A simulated random trade price in pennies\",\"field\":\"price\"},{\"type\":\"string\",\"optional\":false,\"doc\":\"Simulated accounts assigned to the trade\",\"field\":\"account\"},{\"type\":\"string\",\"optional\":false,\"doc\":\"The simulated user who executed the trade\",\"field\":\"userid\"}],\"optional\":false,\"name\":\"ksql.StockTrade\",\"doc\":\"Defines a hypothetical stock trade using some known test stock symbols.\",\"parameters\":{\"connect.record.doc\":\"Defines a hypothetical stock trade using some known test stock symbols.\"}},\"payload\":{\"side\":\"BUY\",\"quantity\":3205,\"symbol\":\"ZVZZT\",\"price\":84,\"account\":\"ABC123\",\"userid\":\"User_9\"}}  |stock-trades|0        |2467  |2021-06-12 02:32:00.689|0            |\n",
      "|ZBZX |{\"schema\":{\"type\":\"struct\",\"fields\":[{\"type\":\"string\",\"optional\":false,\"doc\":\"A simulated trade side (buy or sell or short)\",\"field\":\"side\"},{\"type\":\"int32\",\"optional\":false,\"doc\":\"A simulated random quantity of the trade\",\"field\":\"quantity\"},{\"type\":\"string\",\"optional\":false,\"doc\":\"Simulated stock symbols\",\"field\":\"symbol\"},{\"type\":\"int32\",\"optional\":false,\"doc\":\"A simulated random trade price in pennies\",\"field\":\"price\"},{\"type\":\"string\",\"optional\":false,\"doc\":\"Simulated accounts assigned to the trade\",\"field\":\"account\"},{\"type\":\"string\",\"optional\":false,\"doc\":\"The simulated user who executed the trade\",\"field\":\"userid\"}],\"optional\":false,\"name\":\"ksql.StockTrade\",\"doc\":\"Defines a hypothetical stock trade using some known test stock symbols.\",\"parameters\":{\"connect.record.doc\":\"Defines a hypothetical stock trade using some known test stock symbols.\"}},\"payload\":{\"side\":\"BUY\",\"quantity\":3300,\"symbol\":\"ZBZX\",\"price\":412,\"account\":\"LMN456\",\"userid\":\"User_6\"}}  |stock-trades|0        |2468  |2021-06-12 02:32:00.699|0            |\n",
      "|ZVV  |{\"schema\":{\"type\":\"struct\",\"fields\":[{\"type\":\"string\",\"optional\":false,\"doc\":\"A simulated trade side (buy or sell or short)\",\"field\":\"side\"},{\"type\":\"int32\",\"optional\":false,\"doc\":\"A simulated random quantity of the trade\",\"field\":\"quantity\"},{\"type\":\"string\",\"optional\":false,\"doc\":\"Simulated stock symbols\",\"field\":\"symbol\"},{\"type\":\"int32\",\"optional\":false,\"doc\":\"A simulated random trade price in pennies\",\"field\":\"price\"},{\"type\":\"string\",\"optional\":false,\"doc\":\"Simulated accounts assigned to the trade\",\"field\":\"account\"},{\"type\":\"string\",\"optional\":false,\"doc\":\"The simulated user who executed the trade\",\"field\":\"userid\"}],\"optional\":false,\"name\":\"ksql.StockTrade\",\"doc\":\"Defines a hypothetical stock trade using some known test stock symbols.\",\"parameters\":{\"connect.record.doc\":\"Defines a hypothetical stock trade using some known test stock symbols.\"}},\"payload\":{\"side\":\"SELL\",\"quantity\":3533,\"symbol\":\"ZVV\",\"price\":729,\"account\":\"LMN456\",\"userid\":\"User_4\"}}  |stock-trades|0        |2469  |2021-06-12 02:32:00.776|0            |\n",
      "|ZXZZT|{\"schema\":{\"type\":\"struct\",\"fields\":[{\"type\":\"string\",\"optional\":false,\"doc\":\"A simulated trade side (buy or sell or short)\",\"field\":\"side\"},{\"type\":\"int32\",\"optional\":false,\"doc\":\"A simulated random quantity of the trade\",\"field\":\"quantity\"},{\"type\":\"string\",\"optional\":false,\"doc\":\"Simulated stock symbols\",\"field\":\"symbol\"},{\"type\":\"int32\",\"optional\":false,\"doc\":\"A simulated random trade price in pennies\",\"field\":\"price\"},{\"type\":\"string\",\"optional\":false,\"doc\":\"Simulated accounts assigned to the trade\",\"field\":\"account\"},{\"type\":\"string\",\"optional\":false,\"doc\":\"The simulated user who executed the trade\",\"field\":\"userid\"}],\"optional\":false,\"name\":\"ksql.StockTrade\",\"doc\":\"Defines a hypothetical stock trade using some known test stock symbols.\",\"parameters\":{\"connect.record.doc\":\"Defines a hypothetical stock trade using some known test stock symbols.\"}},\"payload\":{\"side\":\"BUY\",\"quantity\":259,\"symbol\":\"ZXZZT\",\"price\":206,\"account\":\"LMN456\",\"userid\":\"User_7\"}}  |stock-trades|0        |2470  |2021-06-12 02:32:00.843|0            |\n",
      "|ZXZZT|{\"schema\":{\"type\":\"struct\",\"fields\":[{\"type\":\"string\",\"optional\":false,\"doc\":\"A simulated trade side (buy or sell or short)\",\"field\":\"side\"},{\"type\":\"int32\",\"optional\":false,\"doc\":\"A simulated random quantity of the trade\",\"field\":\"quantity\"},{\"type\":\"string\",\"optional\":false,\"doc\":\"Simulated stock symbols\",\"field\":\"symbol\"},{\"type\":\"int32\",\"optional\":false,\"doc\":\"A simulated random trade price in pennies\",\"field\":\"price\"},{\"type\":\"string\",\"optional\":false,\"doc\":\"Simulated accounts assigned to the trade\",\"field\":\"account\"},{\"type\":\"string\",\"optional\":false,\"doc\":\"The simulated user who executed the trade\",\"field\":\"userid\"}],\"optional\":false,\"name\":\"ksql.StockTrade\",\"doc\":\"Defines a hypothetical stock trade using some known test stock symbols.\",\"parameters\":{\"connect.record.doc\":\"Defines a hypothetical stock trade using some known test stock symbols.\"}},\"payload\":{\"side\":\"SELL\",\"quantity\":2911,\"symbol\":\"ZXZZT\",\"price\":70,\"account\":\"ABC123\",\"userid\":\"User_5\"}} |stock-trades|0        |2471  |2021-06-12 02:32:00.903|0            |\n",
      "|ZXZZT|{\"schema\":{\"type\":\"struct\",\"fields\":[{\"type\":\"string\",\"optional\":false,\"doc\":\"A simulated trade side (buy or sell or short)\",\"field\":\"side\"},{\"type\":\"int32\",\"optional\":false,\"doc\":\"A simulated random quantity of the trade\",\"field\":\"quantity\"},{\"type\":\"string\",\"optional\":false,\"doc\":\"Simulated stock symbols\",\"field\":\"symbol\"},{\"type\":\"int32\",\"optional\":false,\"doc\":\"A simulated random trade price in pennies\",\"field\":\"price\"},{\"type\":\"string\",\"optional\":false,\"doc\":\"Simulated accounts assigned to the trade\",\"field\":\"account\"},{\"type\":\"string\",\"optional\":false,\"doc\":\"The simulated user who executed the trade\",\"field\":\"userid\"}],\"optional\":false,\"name\":\"ksql.StockTrade\",\"doc\":\"Defines a hypothetical stock trade using some known test stock symbols.\",\"parameters\":{\"connect.record.doc\":\"Defines a hypothetical stock trade using some known test stock symbols.\"}},\"payload\":{\"side\":\"SELL\",\"quantity\":3719,\"symbol\":\"ZXZZT\",\"price\":28,\"account\":\"LMN456\",\"userid\":\"User_4\"}} |stock-trades|0        |2472  |2021-06-12 02:32:00.981|0            |\n",
      "|ZVZZT|{\"schema\":{\"type\":\"struct\",\"fields\":[{\"type\":\"string\",\"optional\":false,\"doc\":\"A simulated trade side (buy or sell or short)\",\"field\":\"side\"},{\"type\":\"int32\",\"optional\":false,\"doc\":\"A simulated random quantity of the trade\",\"field\":\"quantity\"},{\"type\":\"string\",\"optional\":false,\"doc\":\"Simulated stock symbols\",\"field\":\"symbol\"},{\"type\":\"int32\",\"optional\":false,\"doc\":\"A simulated random trade price in pennies\",\"field\":\"price\"},{\"type\":\"string\",\"optional\":false,\"doc\":\"Simulated accounts assigned to the trade\",\"field\":\"account\"},{\"type\":\"string\",\"optional\":false,\"doc\":\"The simulated user who executed the trade\",\"field\":\"userid\"}],\"optional\":false,\"name\":\"ksql.StockTrade\",\"doc\":\"Defines a hypothetical stock trade using some known test stock symbols.\",\"parameters\":{\"connect.record.doc\":\"Defines a hypothetical stock trade using some known test stock symbols.\"}},\"payload\":{\"side\":\"SELL\",\"quantity\":1358,\"symbol\":\"ZVZZT\",\"price\":609,\"account\":\"LMN456\",\"userid\":\"User_9\"}}|stock-trades|0        |2473  |2021-06-12 02:32:01.022|0            |\n",
      "|ZTEST|{\"schema\":{\"type\":\"struct\",\"fields\":[{\"type\":\"string\",\"optional\":false,\"doc\":\"A simulated trade side (buy or sell or short)\",\"field\":\"side\"},{\"type\":\"int32\",\"optional\":false,\"doc\":\"A simulated random quantity of the trade\",\"field\":\"quantity\"},{\"type\":\"string\",\"optional\":false,\"doc\":\"Simulated stock symbols\",\"field\":\"symbol\"},{\"type\":\"int32\",\"optional\":false,\"doc\":\"A simulated random trade price in pennies\",\"field\":\"price\"},{\"type\":\"string\",\"optional\":false,\"doc\":\"Simulated accounts assigned to the trade\",\"field\":\"account\"},{\"type\":\"string\",\"optional\":false,\"doc\":\"The simulated user who executed the trade\",\"field\":\"userid\"}],\"optional\":false,\"name\":\"ksql.StockTrade\",\"doc\":\"Defines a hypothetical stock trade using some known test stock symbols.\",\"parameters\":{\"connect.record.doc\":\"Defines a hypothetical stock trade using some known test stock symbols.\"}},\"payload\":{\"side\":\"SELL\",\"quantity\":2210,\"symbol\":\"ZTEST\",\"price\":833,\"account\":\"LMN456\",\"userid\":\"User_7\"}}|stock-trades|0        |2474  |2021-06-12 02:32:01.04 |0            |\n",
      "|ZJZZT|{\"schema\":{\"type\":\"struct\",\"fields\":[{\"type\":\"string\",\"optional\":false,\"doc\":\"A simulated trade side (buy or sell or short)\",\"field\":\"side\"},{\"type\":\"int32\",\"optional\":false,\"doc\":\"A simulated random quantity of the trade\",\"field\":\"quantity\"},{\"type\":\"string\",\"optional\":false,\"doc\":\"Simulated stock symbols\",\"field\":\"symbol\"},{\"type\":\"int32\",\"optional\":false,\"doc\":\"A simulated random trade price in pennies\",\"field\":\"price\"},{\"type\":\"string\",\"optional\":false,\"doc\":\"Simulated accounts assigned to the trade\",\"field\":\"account\"},{\"type\":\"string\",\"optional\":false,\"doc\":\"The simulated user who executed the trade\",\"field\":\"userid\"}],\"optional\":false,\"name\":\"ksql.StockTrade\",\"doc\":\"Defines a hypothetical stock trade using some known test stock symbols.\",\"parameters\":{\"connect.record.doc\":\"Defines a hypothetical stock trade using some known test stock symbols.\"}},\"payload\":{\"side\":\"BUY\",\"quantity\":3774,\"symbol\":\"ZJZZT\",\"price\":699,\"account\":\"ABC123\",\"userid\":\"User_4\"}} |stock-trades|0        |2475  |2021-06-12 02:32:01.108|0            |\n",
      "|ZJZZT|{\"schema\":{\"type\":\"struct\",\"fields\":[{\"type\":\"string\",\"optional\":false,\"doc\":\"A simulated trade side (buy or sell or short)\",\"field\":\"side\"},{\"type\":\"int32\",\"optional\":false,\"doc\":\"A simulated random quantity of the trade\",\"field\":\"quantity\"},{\"type\":\"string\",\"optional\":false,\"doc\":\"Simulated stock symbols\",\"field\":\"symbol\"},{\"type\":\"int32\",\"optional\":false,\"doc\":\"A simulated random trade price in pennies\",\"field\":\"price\"},{\"type\":\"string\",\"optional\":false,\"doc\":\"Simulated accounts assigned to the trade\",\"field\":\"account\"},{\"type\":\"string\",\"optional\":false,\"doc\":\"The simulated user who executed the trade\",\"field\":\"userid\"}],\"optional\":false,\"name\":\"ksql.StockTrade\",\"doc\":\"Defines a hypothetical stock trade using some known test stock symbols.\",\"parameters\":{\"connect.record.doc\":\"Defines a hypothetical stock trade using some known test stock symbols.\"}},\"payload\":{\"side\":\"BUY\",\"quantity\":4940,\"symbol\":\"ZJZZT\",\"price\":6,\"account\":\"ABC123\",\"userid\":\"User_9\"}}   |stock-trades|0        |2476  |2021-06-12 02:32:01.197|0            |\n",
      "|ZJZZT|{\"schema\":{\"type\":\"struct\",\"fields\":[{\"type\":\"string\",\"optional\":false,\"doc\":\"A simulated trade side (buy or sell or short)\",\"field\":\"side\"},{\"type\":\"int32\",\"optional\":false,\"doc\":\"A simulated random quantity of the trade\",\"field\":\"quantity\"},{\"type\":\"string\",\"optional\":false,\"doc\":\"Simulated stock symbols\",\"field\":\"symbol\"},{\"type\":\"int32\",\"optional\":false,\"doc\":\"A simulated random trade price in pennies\",\"field\":\"price\"},{\"type\":\"string\",\"optional\":false,\"doc\":\"Simulated accounts assigned to the trade\",\"field\":\"account\"},{\"type\":\"string\",\"optional\":false,\"doc\":\"The simulated user who executed the trade\",\"field\":\"userid\"}],\"optional\":false,\"name\":\"ksql.StockTrade\",\"doc\":\"Defines a hypothetical stock trade using some known test stock symbols.\",\"parameters\":{\"connect.record.doc\":\"Defines a hypothetical stock trade using some known test stock symbols.\"}},\"payload\":{\"side\":\"SELL\",\"quantity\":21,\"symbol\":\"ZJZZT\",\"price\":567,\"account\":\"LMN456\",\"userid\":\"User_5\"}}  |stock-trades|0        |2477  |2021-06-12 02:32:01.285|0            |\n",
      "|ZJZZT|{\"schema\":{\"type\":\"struct\",\"fields\":[{\"type\":\"string\",\"optional\":false,\"doc\":\"A simulated trade side (buy or sell or short)\",\"field\":\"side\"},{\"type\":\"int32\",\"optional\":false,\"doc\":\"A simulated random quantity of the trade\",\"field\":\"quantity\"},{\"type\":\"string\",\"optional\":false,\"doc\":\"Simulated stock symbols\",\"field\":\"symbol\"},{\"type\":\"int32\",\"optional\":false,\"doc\":\"A simulated random trade price in pennies\",\"field\":\"price\"},{\"type\":\"string\",\"optional\":false,\"doc\":\"Simulated accounts assigned to the trade\",\"field\":\"account\"},{\"type\":\"string\",\"optional\":false,\"doc\":\"The simulated user who executed the trade\",\"field\":\"userid\"}],\"optional\":false,\"name\":\"ksql.StockTrade\",\"doc\":\"Defines a hypothetical stock trade using some known test stock symbols.\",\"parameters\":{\"connect.record.doc\":\"Defines a hypothetical stock trade using some known test stock symbols.\"}},\"payload\":{\"side\":\"BUY\",\"quantity\":704,\"symbol\":\"ZJZZT\",\"price\":793,\"account\":\"XYZ789\",\"userid\":\"User_3\"}}  |stock-trades|0        |2478  |2021-06-12 02:32:01.301|0            |\n",
      "|ZTEST|{\"schema\":{\"type\":\"struct\",\"fields\":[{\"type\":\"string\",\"optional\":false,\"doc\":\"A simulated trade side (buy or sell or short)\",\"field\":\"side\"},{\"type\":\"int32\",\"optional\":false,\"doc\":\"A simulated random quantity of the trade\",\"field\":\"quantity\"},{\"type\":\"string\",\"optional\":false,\"doc\":\"Simulated stock symbols\",\"field\":\"symbol\"},{\"type\":\"int32\",\"optional\":false,\"doc\":\"A simulated random trade price in pennies\",\"field\":\"price\"},{\"type\":\"string\",\"optional\":false,\"doc\":\"Simulated accounts assigned to the trade\",\"field\":\"account\"},{\"type\":\"string\",\"optional\":false,\"doc\":\"The simulated user who executed the trade\",\"field\":\"userid\"}],\"optional\":false,\"name\":\"ksql.StockTrade\",\"doc\":\"Defines a hypothetical stock trade using some known test stock symbols.\",\"parameters\":{\"connect.record.doc\":\"Defines a hypothetical stock trade using some known test stock symbols.\"}},\"payload\":{\"side\":\"BUY\",\"quantity\":4464,\"symbol\":\"ZTEST\",\"price\":914,\"account\":\"ABC123\",\"userid\":\"User_5\"}} |stock-trades|0        |2479  |2021-06-12 02:32:01.374|0            |\n",
      "+-----+-------------------------------------------------------------------------------------------------------------------------------------------------------------------------------------------------------------------------------------------------------------------------------------------------------------------------------------------------------------------------------------------------------------------------------------------------------------------------------------------------------------------------------------------------------------------------------------------------------------------------------------------------------------------------------------------------------------------------------------------------------------------------------------------------------------------------------------------------------------------------------------------------------------------------------------------------------------------------------------------------------------+------------+---------+------+-----------------------+-------------+\n",
      "only showing top 20 rows\n",
      "\n"
     ]
    },
    {
     "data": {
      "text/plain": [
       "None"
      ]
     },
     "metadata": {},
     "output_type": "display_data"
    }
   ],
   "source": [
    "clear_output(wait=True)\n",
    "display(spark.sql('SELECT * FROM string_stocktrade_view').show(20, False))\n",
    "time.sleep(1)"
   ]
  },
  {
   "cell_type": "code",
   "execution_count": 13,
   "id": "303315c1",
   "metadata": {},
   "outputs": [],
   "source": [
    "string_stream.stop()"
   ]
  },
  {
   "cell_type": "code",
   "execution_count": 14,
   "id": "19684031",
   "metadata": {},
   "outputs": [],
   "source": [
    "schema_stocktrade = StructType([\n",
    "    StructField('payload', StructType([\n",
    "        StructField(\"side\", StringType(),  True),\n",
    "        StructField(\"quantity\", IntegerType(), True),\n",
    "        StructField(\"symbol\", StringType(),  True),\n",
    "        StructField(\"price\", IntegerType(),  True),\n",
    "        StructField(\"account\", StringType(),  True),\n",
    "        StructField(\"userid\", StringType(),  True)      \n",
    "    ]))\n",
    "])"
   ]
  },
  {
   "cell_type": "code",
   "execution_count": 15,
   "id": "eebf7e9f",
   "metadata": {},
   "outputs": [],
   "source": [
    "json_stream_df = string_stream_df\\\n",
    "    .withColumn(\"value\", F.from_json(\"value\", schema_stocktrade))"
   ]
  },
  {
   "cell_type": "code",
   "execution_count": 16,
   "id": "077c0a95",
   "metadata": {},
   "outputs": [
    {
     "name": "stdout",
     "output_type": "stream",
     "text": [
      "root\n",
      " |-- key: string (nullable = true)\n",
      " |-- value: struct (nullable = true)\n",
      " |    |-- payload: struct (nullable = true)\n",
      " |    |    |-- side: string (nullable = true)\n",
      " |    |    |-- quantity: integer (nullable = true)\n",
      " |    |    |-- symbol: string (nullable = true)\n",
      " |    |    |-- price: integer (nullable = true)\n",
      " |    |    |-- account: string (nullable = true)\n",
      " |    |    |-- userid: string (nullable = true)\n",
      " |-- topic: string (nullable = true)\n",
      " |-- partition: integer (nullable = true)\n",
      " |-- offset: long (nullable = true)\n",
      " |-- timestamp: timestamp (nullable = true)\n",
      " |-- timestampType: integer (nullable = true)\n",
      "\n"
     ]
    }
   ],
   "source": [
    "json_stream_df.printSchema()"
   ]
  },
  {
   "cell_type": "code",
   "execution_count": 17,
   "id": "1686e4e2",
   "metadata": {},
   "outputs": [],
   "source": [
    "json_stream = json_stream_df \\\n",
    "    .writeStream \\\n",
    "    .format(\"memory\") \\\n",
    "    .queryName(\"extract_stock_view\") \\\n",
    "    .start()"
   ]
  },
  {
   "cell_type": "code",
   "execution_count": 18,
   "id": "6baf31f9",
   "metadata": {},
   "outputs": [
    {
     "name": "stdout",
     "output_type": "stream",
     "text": [
      "+-----+--------------------+------------+---------+------+--------------------+-------------+\n",
      "|  key|               value|       topic|partition|offset|           timestamp|timestampType|\n",
      "+-----+--------------------+------------+---------+------+--------------------+-------------+\n",
      "|ZXZZT|{{SELL, 2502, ZXZ...|stock-trades|        0|  2994|2021-06-12 02:32:...|            0|\n",
      "|ZXZZT|{{SELL, 4226, ZXZ...|stock-trades|        0|  2995|2021-06-12 02:32:...|            0|\n",
      "|ZJZZT|{{BUY, 1184, ZJZZ...|stock-trades|        0|  2996|2021-06-12 02:32:...|            0|\n",
      "|ZWZZT|{{SELL, 4325, ZWZ...|stock-trades|        0|  2997|2021-06-12 02:32:...|            0|\n",
      "|ZJZZT|{{SELL, 4778, ZJZ...|stock-trades|        0|  2998|2021-06-12 02:32:...|            0|\n",
      "|ZXZZT|{{SELL, 2540, ZXZ...|stock-trades|        0|  2999|2021-06-12 02:32:...|            0|\n",
      "|  ZVV|{{SELL, 2604, ZVV...|stock-trades|        0|  3000|2021-06-12 02:32:...|            0|\n",
      "| ZBZX|{{SELL, 3204, ZBZ...|stock-trades|        0|  3001|2021-06-12 02:32:...|            0|\n",
      "|ZVZZT|{{SELL, 3979, ZVZ...|stock-trades|        0|  3002|2021-06-12 02:32:...|            0|\n",
      "|ZJZZT|{{BUY, 4103, ZJZZ...|stock-trades|        0|  3003|2021-06-12 02:32:...|            0|\n",
      "|ZJZZT|{{BUY, 234, ZJZZT...|stock-trades|        0|  3004|2021-06-12 02:32:...|            0|\n",
      "|ZWZZT|{{BUY, 2681, ZWZZ...|stock-trades|        0|  3005|2021-06-12 02:32:...|            0|\n",
      "| ZBZX|{{BUY, 1409, ZBZX...|stock-trades|        0|  3006|2021-06-12 02:32:...|            0|\n",
      "|ZJZZT|{{SELL, 3840, ZJZ...|stock-trades|        0|  3007|2021-06-12 02:32:...|            0|\n",
      "|ZXZZT|{{SELL, 3965, ZXZ...|stock-trades|        0|  3008|2021-06-12 02:32:...|            0|\n",
      "|ZWZZT|{{BUY, 45, ZWZZT,...|stock-trades|        0|  3009|2021-06-12 02:32:...|            0|\n",
      "|  ZVV|{{BUY, 3234, ZVV,...|stock-trades|        0|  3010|2021-06-12 02:32:...|            0|\n",
      "|  ZVV|{{BUY, 4978, ZVV,...|stock-trades|        0|  3011|2021-06-12 02:32:...|            0|\n",
      "|ZWZZT|{{BUY, 3734, ZWZZ...|stock-trades|        0|  3012|2021-06-12 02:32:...|            0|\n",
      "|  ZVV|{{BUY, 302, ZVV, ...|stock-trades|        0|  3013|2021-06-12 02:32:...|            0|\n",
      "+-----+--------------------+------------+---------+------+--------------------+-------------+\n",
      "only showing top 20 rows\n",
      "\n"
     ]
    },
    {
     "data": {
      "text/plain": [
       "None"
      ]
     },
     "metadata": {},
     "output_type": "display_data"
    }
   ],
   "source": [
    "clear_output(wait=True)\n",
    "display(spark.sql('SELECT * FROM extract_stock_view').show(20))\n",
    "time.sleep(1)"
   ]
  },
  {
   "cell_type": "code",
   "execution_count": 19,
   "id": "aa53df66",
   "metadata": {},
   "outputs": [],
   "source": [
    "json_stream.stop()"
   ]
  },
  {
   "cell_type": "code",
   "execution_count": 20,
   "id": "8d6488a6",
   "metadata": {},
   "outputs": [],
   "source": [
    "stocktrade_stream_df = json_stream_df \\\n",
    "    .select( \\\n",
    "        F.col(\"key\").alias(\"event_key\"), \\\n",
    "        F.col(\"topic\").alias(\"event_topic\"), \\\n",
    "        F.col(\"timestamp\").alias(\"event_timestamp\"), \\\n",
    "        \"value.payload.account\", \\\n",
    "        \"value.payload.symbol\", \\\n",
    "        \"value.payload.side\", \\\n",
    "        \"value.payload.price\", \\\n",
    "        \"value.payload.quantity\", \\\n",
    "        \"value.payload.userid\"\n",
    "    )"
   ]
  },
  {
   "cell_type": "code",
   "execution_count": 36,
   "id": "8f62a771",
   "metadata": {},
   "outputs": [
    {
     "name": "stdout",
     "output_type": "stream",
     "text": [
      "root\n",
      " |-- event_key: string (nullable = true)\n",
      " |-- event_topic: string (nullable = true)\n",
      " |-- event_timestamp: timestamp (nullable = true)\n",
      " |-- account: string (nullable = true)\n",
      " |-- symbol: string (nullable = true)\n",
      " |-- side: string (nullable = true)\n",
      " |-- price: integer (nullable = true)\n",
      " |-- quantity: integer (nullable = true)\n",
      " |-- userid: string (nullable = true)\n",
      "\n"
     ]
    }
   ],
   "source": [
    "stocktrade_stream_df.printSchema()"
   ]
  },
  {
   "cell_type": "code",
   "execution_count": 38,
   "id": "ced9ef1d",
   "metadata": {},
   "outputs": [],
   "source": [
    "stocktrade_stream = stocktrade_stream_df \\\n",
    "    .writeStream \\\n",
    "    .format(\"memory\") \\\n",
    "    .queryName(\"stocktrade_view\") \\\n",
    "    .start()"
   ]
  },
  {
   "cell_type": "code",
   "execution_count": 46,
   "id": "60f7876e",
   "metadata": {},
   "outputs": [
    {
     "name": "stdout",
     "output_type": "stream",
     "text": [
      "+---------+------------+--------------------+-------+------+----+-----+--------+------+\n",
      "|event_key| event_topic|     event_timestamp|account|symbol|side|price|quantity|userid|\n",
      "+---------+------------+--------------------+-------+------+----+-----+--------+------+\n",
      "|    ZTEST|stock-trades|2021-06-12 03:19:...| ABC123| ZTEST|SELL|   11|    4678|User_5|\n",
      "|      ZVV|stock-trades|2021-06-12 03:19:...| ABC123|   ZVV|SELL|  771|    3507|User_7|\n",
      "|     ZBZX|stock-trades|2021-06-12 03:19:...| LMN456|  ZBZX| BUY|  351|      54|User_7|\n",
      "|    ZWZZT|stock-trades|2021-06-12 03:19:...| XYZ789| ZWZZT| BUY|  400|    1802|User_1|\n",
      "|    ZTEST|stock-trades|2021-06-12 03:19:...| XYZ789| ZTEST|SELL|  718|    1091|User_4|\n",
      "|    ZVZZT|stock-trades|2021-06-12 03:19:...| LMN456| ZVZZT|SELL|  630|     415|User_7|\n",
      "|      ZVV|stock-trades|2021-06-12 03:19:...| XYZ789|   ZVV|SELL|  523|    2091|User_2|\n",
      "|    ZXZZT|stock-trades|2021-06-12 03:19:...| LMN456| ZXZZT|SELL|  501|    3707|User_8|\n",
      "|      ZVV|stock-trades|2021-06-12 03:19:...| ABC123|   ZVV| BUY|  961|     591|User_2|\n",
      "|    ZVZZT|stock-trades|2021-06-12 03:19:...| ABC123| ZVZZT| BUY|  856|    4257|User_6|\n",
      "|    ZWZZT|stock-trades|2021-06-12 03:19:...| XYZ789| ZWZZT|SELL|  605|    4036|User_9|\n",
      "|    ZWZZT|stock-trades|2021-06-12 03:19:...| XYZ789| ZWZZT|SELL|  131|    4602|User_2|\n",
      "|    ZJZZT|stock-trades|2021-06-12 03:19:...| LMN456| ZJZZT| BUY|  567|    3567|User_8|\n",
      "|     ZBZX|stock-trades|2021-06-12 03:19:...| LMN456|  ZBZX|SELL|  152|     877|User_5|\n",
      "|    ZXZZT|stock-trades|2021-06-12 03:19:...| XYZ789| ZXZZT|SELL|  568|    3213|User_6|\n",
      "|    ZXZZT|stock-trades|2021-06-12 03:19:...| ABC123| ZXZZT| BUY|  508|    1134|User_7|\n",
      "|    ZVZZT|stock-trades|2021-06-12 03:19:...| XYZ789| ZVZZT|SELL|  471|    4376|User_9|\n",
      "|     ZBZX|stock-trades|2021-06-12 03:19:...| LMN456|  ZBZX| BUY|  753|    1844|User_4|\n",
      "|    ZJZZT|stock-trades|2021-06-12 03:19:...| LMN456| ZJZZT|SELL|  107|    3646|User_1|\n",
      "|    ZJZZT|stock-trades|2021-06-12 03:19:...| ABC123| ZJZZT| BUY|  248|    4449|User_5|\n",
      "+---------+------------+--------------------+-------+------+----+-----+--------+------+\n",
      "only showing top 20 rows\n",
      "\n"
     ]
    },
    {
     "data": {
      "text/plain": [
       "None"
      ]
     },
     "metadata": {},
     "output_type": "display_data"
    }
   ],
   "source": [
    "clear_output(wait=True)\n",
    "display(spark.sql('SELECT * FROM stocktrade_view order by event_timestamp desc').show(20))\n",
    "time.sleep(1)"
   ]
  },
  {
   "cell_type": "code",
   "execution_count": 51,
   "id": "a8baeccf",
   "metadata": {},
   "outputs": [
    {
     "name": "stdout",
     "output_type": "stream",
     "text": [
      "+---------+-----+-----+------+\n",
      "|event_key|count|price|   qty|\n",
      "+---------+-----+-----+------+\n",
      "|    ZXZZT|  809|506.0|2477.0|\n",
      "|    ZVZZT|  781|509.0|2526.0|\n",
      "|    ZTEST|  801|501.0|2547.0|\n",
      "|    ZWZZT|  785|489.0|2511.0|\n",
      "|    ZJZZT|  778|496.0|2550.0|\n",
      "|      ZVV|  761|497.0|2537.0|\n",
      "|     ZBZX|  727|504.0|2481.0|\n",
      "+---------+-----+-----+------+\n",
      "\n"
     ]
    },
    {
     "data": {
      "text/plain": [
       "None"
      ]
     },
     "metadata": {},
     "output_type": "display_data"
    }
   ],
   "source": [
    "clear_output(wait=True)\n",
    "display(spark.sql('SELECT event_key, COUNT(1) AS count, round(mean(price),0) as price, round(mean(quantity),0) as qty FROM stocktrade_view GROUP BY 1').show(20))\n",
    "time.sleep(1)"
   ]
  },
  {
   "cell_type": "code",
   "execution_count": 50,
   "id": "7209ab58",
   "metadata": {},
   "outputs": [],
   "source": [
    "stocktrade_stream.stop()"
   ]
  },
  {
   "cell_type": "code",
   "execution_count": 26,
   "id": "fea53f04",
   "metadata": {},
   "outputs": [],
   "source": [
    "window_duration = '60 seconds'\n",
    "slide_duration = '10 seconds'"
   ]
  },
  {
   "cell_type": "code",
   "execution_count": 27,
   "id": "4a30a486",
   "metadata": {},
   "outputs": [],
   "source": [
    "windowed_count_df = stocktrade_stream_df \\\n",
    "    .withWatermark(\"event_timestamp\", \"1 minutes\") \\\n",
    "    .groupBy(F.window(stocktrade_stream_df.event_timestamp, window_duration, slide_duration), stocktrade_stream_df.symbol) \\\n",
    "    .count()"
   ]
  },
  {
   "cell_type": "code",
   "execution_count": 28,
   "id": "e8697653",
   "metadata": {},
   "outputs": [],
   "source": [
    "count_stream = windowed_count_df \\\n",
    "    .writeStream \\\n",
    "    .format(\"memory\") \\\n",
    "    .outputMode(\"Complete\") \\\n",
    "    .queryName(\"count_view\") \\\n",
    "    .start()"
   ]
  },
  {
   "cell_type": "code",
   "execution_count": 29,
   "id": "9af09c5e",
   "metadata": {},
   "outputs": [
    {
     "name": "stdout",
     "output_type": "stream",
     "text": [
      "+--------------------+------+-----+\n",
      "|              window|symbol|count|\n",
      "+--------------------+------+-----+\n",
      "|{2021-06-12 02:33...|  ZBZX|   76|\n",
      "|{2021-06-12 02:32...|   ZVV|   63|\n",
      "|{2021-06-12 02:33...| ZTEST|  162|\n",
      "|{2021-06-12 02:32...|   ZVV|    7|\n",
      "|{2021-06-12 02:32...| ZXZZT|   84|\n",
      "|{2021-06-12 02:32...| ZVZZT|   79|\n",
      "|{2021-06-12 02:33...| ZWZZT|  119|\n",
      "|{2021-06-12 02:32...| ZVZZT|  107|\n",
      "|{2021-06-12 02:32...|  ZBZX|   91|\n",
      "|{2021-06-12 02:32...|  ZBZX|  119|\n",
      "|{2021-06-12 02:33...| ZVZZT|  130|\n",
      "|{2021-06-12 02:32...| ZTEST|  129|\n",
      "|{2021-06-12 02:33...|   ZVV|   81|\n",
      "|{2021-06-12 02:33...| ZTEST|  163|\n",
      "|{2021-06-12 02:34...|   ZVV|   22|\n",
      "|{2021-06-12 02:32...| ZWZZT|   47|\n",
      "|{2021-06-12 02:33...| ZTEST|  112|\n",
      "|{2021-06-12 02:32...| ZJZZT|   83|\n",
      "|{2021-06-12 02:33...| ZJZZT|  167|\n",
      "|{2021-06-12 02:32...| ZVZZT|   51|\n",
      "+--------------------+------+-----+\n",
      "\n"
     ]
    },
    {
     "data": {
      "text/plain": [
       "None"
      ]
     },
     "metadata": {},
     "output_type": "display_data"
    },
    {
     "ename": "KeyboardInterrupt",
     "evalue": "",
     "output_type": "error",
     "traceback": [
      "\u001b[0;31m---------------------------------------------------------------------------\u001b[0m",
      "\u001b[0;31mKeyboardInterrupt\u001b[0m                         Traceback (most recent call last)",
      "\u001b[0;32m<ipython-input-29-18d3403f5de3>\u001b[0m in \u001b[0;36m<module>\u001b[0;34m\u001b[0m\n\u001b[1;32m      2\u001b[0m     \u001b[0mclear_output\u001b[0m\u001b[0;34m(\u001b[0m\u001b[0mwait\u001b[0m\u001b[0;34m=\u001b[0m\u001b[0;32mTrue\u001b[0m\u001b[0;34m)\u001b[0m\u001b[0;34m\u001b[0m\u001b[0;34m\u001b[0m\u001b[0m\n\u001b[1;32m      3\u001b[0m     \u001b[0mdisplay\u001b[0m\u001b[0;34m(\u001b[0m\u001b[0mspark\u001b[0m\u001b[0;34m.\u001b[0m\u001b[0msql\u001b[0m\u001b[0;34m(\u001b[0m\u001b[0;34m'SELECT * FROM count_view LIMIT 20'\u001b[0m\u001b[0;34m)\u001b[0m\u001b[0;34m.\u001b[0m\u001b[0mshow\u001b[0m\u001b[0;34m(\u001b[0m\u001b[0;34m)\u001b[0m\u001b[0;34m)\u001b[0m\u001b[0;34m\u001b[0m\u001b[0;34m\u001b[0m\u001b[0m\n\u001b[0;32m----> 4\u001b[0;31m     \u001b[0mtime\u001b[0m\u001b[0;34m.\u001b[0m\u001b[0msleep\u001b[0m\u001b[0;34m(\u001b[0m\u001b[0;36m1\u001b[0m\u001b[0;34m)\u001b[0m\u001b[0;34m\u001b[0m\u001b[0;34m\u001b[0m\u001b[0m\n\u001b[0m",
      "\u001b[0;31mKeyboardInterrupt\u001b[0m: "
     ]
    }
   ],
   "source": [
    "while True:\n",
    "    clear_output(wait=True)\n",
    "    display(spark.sql('SELECT * FROM count_view LIMIT 20').show())\n",
    "    time.sleep(1)"
   ]
  },
  {
   "cell_type": "code",
   "execution_count": 67,
   "id": "d8622126",
   "metadata": {},
   "outputs": [],
   "source": [
    "# count_stream.stop()"
   ]
  },
  {
   "cell_type": "code",
   "execution_count": 145,
   "id": "18c09bb0",
   "metadata": {},
   "outputs": [],
   "source": [
    "########################\n",
    "# Visualisations\n",
    "########################\n",
    "# Graphing real-time data\n",
    "# loading packages\n",
    "import time\n",
    "import random as rd\n",
    "import numpy as np\n",
    "from IPython.display import clear_output\n",
    "import matplotlib.pyplot as plt\n",
    "\n",
    "\n",
    "# sample data from stocktrade_view\n",
    "#x_y = spark.sql('''SELECT * FROM stocktrade_view order by event_timestamp desc limit 2000''')\n",
    "#x_y_df = x_y.toPandas()\n",
    "#x_y_df"
   ]
  },
  {
   "cell_type": "code",
   "execution_count": 146,
   "id": "7f84b278",
   "metadata": {},
   "outputs": [],
   "source": [
    "# The following routine displays 3 graphs which include 1 scatter plot, 1 line graph and 1 column chart) \n",
    "def bunchofplots(x1, y1, title1, x2, data2, labels2, title2, x3, y3, title3):\n",
    "    clear_output(wait=True)\n",
    "    # Placing the plots in the plane\n",
    "    fig = plt.figure(figsize = (15,10))\n",
    "    plot1 = plt.subplot2grid((4, 9), (0, 0), rowspan=2, colspan=3)\n",
    "    plot2 = plt.subplot2grid((4, 9), (0, 4), rowspan=4, colspan=5)\n",
    "    plot3 = plt.subplot2grid((4, 9), (2, 0), rowspan=2, colspan=3)\n",
    "  \n",
    "    # Using numpy to create an array x\n",
    "    x = [x for x in range(0,11)]\n",
    "\n",
    "    \n",
    "    # scatter plot\n",
    "    plot1.scatter(x1, y1, color='k') # black dots\n",
    "    m, b = np.polyfit(x1, y1, 1)\n",
    "    plot1.plot(x1, [x * m for x in x1] + b) # showing the line of best-fit\n",
    "    plot1.set(xlabel = 'Price', ylabel = 'Quantity')\n",
    "    plot1.set_title(title1)\n",
    "\n",
    "    \n",
    "    # column chart\n",
    "    plot2.bar(x2 + 0.00, data2[0], color = 'g', width = 0.25)\n",
    "    plot2.bar(x2 + 0.25, data2[1], color = 'r', width = 0.25)\n",
    "    plot2.legend(labels=['BUY', 'SELL'])\n",
    "    plot2.set_xticks(x2)\n",
    "    plot2.set_xticklabels(labels2)\n",
    "\n",
    "    plot2.set_title(title2)\n",
    "    plot2.grid(True)\n",
    "    plot2.set(xlabel = 'Stock symbol', ylabel = 'Traded amount in $')\n",
    "\n",
    "    \n",
    "    # line graph\n",
    "    plot3.plot(x3, y3, color='r') \n",
    "    plot3.set_title(title3)\n",
    "    plot3.set(xlabel = 'Time', ylabel = 'Price')\n",
    "\n",
    "    # Packing all the plots and displaying them\n",
    "    plt.tight_layout()\n",
    "    plt.show()"
   ]
  },
  {
   "cell_type": "code",
   "execution_count": 147,
   "id": "3f4a4b97",
   "metadata": {},
   "outputs": [
    {
     "data": {
      "image/png": "[encoded data removed]",
      "text/plain": [
       "<Figure size 1080x720 with 3 Axes>"
      ]
     },
     "metadata": {
      "needs_background": "light"
     },
     "output_type": "display_data"
    },
    {
     "ename": "KeyboardInterrupt",
     "evalue": "",
     "output_type": "error",
     "traceback": [
      "\u001b[0;31m---------------------------------------------------------------------------\u001b[0m",
      "\u001b[0;31mKeyboardInterrupt\u001b[0m                         Traceback (most recent call last)",
      "\u001b[0;32m<ipython-input-147-fcc98f983c88>\u001b[0m in \u001b[0;36m<module>\u001b[0;34m\u001b[0m\n\u001b[1;32m     58\u001b[0m                     ''')\n\u001b[1;32m     59\u001b[0m \u001b[0;34m\u001b[0m\u001b[0m\n\u001b[0;32m---> 60\u001b[0;31m     \u001b[0mx_y3_df\u001b[0m \u001b[0;34m=\u001b[0m \u001b[0mx_y3\u001b[0m\u001b[0;34m.\u001b[0m\u001b[0mtoPandas\u001b[0m\u001b[0;34m(\u001b[0m\u001b[0;34m)\u001b[0m\u001b[0;34m\u001b[0m\u001b[0;34m\u001b[0m\u001b[0m\n\u001b[0m\u001b[1;32m     61\u001b[0m \u001b[0;34m\u001b[0m\u001b[0m\n\u001b[1;32m     62\u001b[0m     \u001b[0mx3\u001b[0m \u001b[0;34m=\u001b[0m \u001b[0mx_y3_df\u001b[0m\u001b[0;34m.\u001b[0m\u001b[0mevent_timestamp\u001b[0m\u001b[0;34m\u001b[0m\u001b[0;34m\u001b[0m\u001b[0m\n",
      "\u001b[0;32m/usr/local/spark/python/pyspark/sql/pandas/conversion.py\u001b[0m in \u001b[0;36mtoPandas\u001b[0;34m(self)\u001b[0m\n\u001b[1;32m    139\u001b[0m \u001b[0;34m\u001b[0m\u001b[0m\n\u001b[1;32m    140\u001b[0m         \u001b[0;31m# Below is toPandas without Arrow optimization.\u001b[0m\u001b[0;34m\u001b[0m\u001b[0;34m\u001b[0m\u001b[0;34m\u001b[0m\u001b[0m\n\u001b[0;32m--> 141\u001b[0;31m         \u001b[0mpdf\u001b[0m \u001b[0;34m=\u001b[0m \u001b[0mpd\u001b[0m\u001b[0;34m.\u001b[0m\u001b[0mDataFrame\u001b[0m\u001b[0;34m.\u001b[0m\u001b[0mfrom_records\u001b[0m\u001b[0;34m(\u001b[0m\u001b[0mself\u001b[0m\u001b[0;34m.\u001b[0m\u001b[0mcollect\u001b[0m\u001b[0;34m(\u001b[0m\u001b[0;34m)\u001b[0m\u001b[0;34m,\u001b[0m \u001b[0mcolumns\u001b[0m\u001b[0;34m=\u001b[0m\u001b[0mself\u001b[0m\u001b[0;34m.\u001b[0m\u001b[0mcolumns\u001b[0m\u001b[0;34m)\u001b[0m\u001b[0;34m\u001b[0m\u001b[0;34m\u001b[0m\u001b[0m\n\u001b[0m\u001b[1;32m    142\u001b[0m         \u001b[0mcolumn_counter\u001b[0m \u001b[0;34m=\u001b[0m \u001b[0mCounter\u001b[0m\u001b[0;34m(\u001b[0m\u001b[0mself\u001b[0m\u001b[0;34m.\u001b[0m\u001b[0mcolumns\u001b[0m\u001b[0;34m)\u001b[0m\u001b[0;34m\u001b[0m\u001b[0;34m\u001b[0m\u001b[0m\n\u001b[1;32m    143\u001b[0m \u001b[0;34m\u001b[0m\u001b[0m\n",
      "\u001b[0;32m/usr/local/spark/python/pyspark/sql/dataframe.py\u001b[0m in \u001b[0;36mcollect\u001b[0;34m(self)\u001b[0m\n\u001b[1;32m    675\u001b[0m         \"\"\"\n\u001b[1;32m    676\u001b[0m         \u001b[0;32mwith\u001b[0m \u001b[0mSCCallSiteSync\u001b[0m\u001b[0;34m(\u001b[0m\u001b[0mself\u001b[0m\u001b[0;34m.\u001b[0m\u001b[0m_sc\u001b[0m\u001b[0;34m)\u001b[0m \u001b[0;32mas\u001b[0m \u001b[0mcss\u001b[0m\u001b[0;34m:\u001b[0m\u001b[0;34m\u001b[0m\u001b[0;34m\u001b[0m\u001b[0m\n\u001b[0;32m--> 677\u001b[0;31m             \u001b[0msock_info\u001b[0m \u001b[0;34m=\u001b[0m \u001b[0mself\u001b[0m\u001b[0;34m.\u001b[0m\u001b[0m_jdf\u001b[0m\u001b[0;34m.\u001b[0m\u001b[0mcollectToPython\u001b[0m\u001b[0;34m(\u001b[0m\u001b[0;34m)\u001b[0m\u001b[0;34m\u001b[0m\u001b[0;34m\u001b[0m\u001b[0m\n\u001b[0m\u001b[1;32m    678\u001b[0m         \u001b[0;32mreturn\u001b[0m \u001b[0mlist\u001b[0m\u001b[0;34m(\u001b[0m\u001b[0m_load_from_socket\u001b[0m\u001b[0;34m(\u001b[0m\u001b[0msock_info\u001b[0m\u001b[0;34m,\u001b[0m \u001b[0mBatchedSerializer\u001b[0m\u001b[0;34m(\u001b[0m\u001b[0mPickleSerializer\u001b[0m\u001b[0;34m(\u001b[0m\u001b[0;34m)\u001b[0m\u001b[0;34m)\u001b[0m\u001b[0;34m)\u001b[0m\u001b[0;34m)\u001b[0m\u001b[0;34m\u001b[0m\u001b[0;34m\u001b[0m\u001b[0m\n\u001b[1;32m    679\u001b[0m \u001b[0;34m\u001b[0m\u001b[0m\n",
      "\u001b[0;32m/usr/local/spark/python/lib/py4j-0.10.9-src.zip/py4j/java_gateway.py\u001b[0m in \u001b[0;36m__call__\u001b[0;34m(self, *args)\u001b[0m\n\u001b[1;32m   1301\u001b[0m             \u001b[0mproto\u001b[0m\u001b[0;34m.\u001b[0m\u001b[0mEND_COMMAND_PART\u001b[0m\u001b[0;34m\u001b[0m\u001b[0;34m\u001b[0m\u001b[0m\n\u001b[1;32m   1302\u001b[0m \u001b[0;34m\u001b[0m\u001b[0m\n\u001b[0;32m-> 1303\u001b[0;31m         \u001b[0manswer\u001b[0m \u001b[0;34m=\u001b[0m \u001b[0mself\u001b[0m\u001b[0;34m.\u001b[0m\u001b[0mgateway_client\u001b[0m\u001b[0;34m.\u001b[0m\u001b[0msend_command\u001b[0m\u001b[0;34m(\u001b[0m\u001b[0mcommand\u001b[0m\u001b[0;34m)\u001b[0m\u001b[0;34m\u001b[0m\u001b[0;34m\u001b[0m\u001b[0m\n\u001b[0m\u001b[1;32m   1304\u001b[0m         return_value = get_return_value(\n\u001b[1;32m   1305\u001b[0m             answer, self.gateway_client, self.target_id, self.name)\n",
      "\u001b[0;32m/usr/local/spark/python/lib/py4j-0.10.9-src.zip/py4j/java_gateway.py\u001b[0m in \u001b[0;36msend_command\u001b[0;34m(self, command, retry, binary)\u001b[0m\n\u001b[1;32m   1031\u001b[0m         \u001b[0mconnection\u001b[0m \u001b[0;34m=\u001b[0m \u001b[0mself\u001b[0m\u001b[0;34m.\u001b[0m\u001b[0m_get_connection\u001b[0m\u001b[0;34m(\u001b[0m\u001b[0;34m)\u001b[0m\u001b[0;34m\u001b[0m\u001b[0;34m\u001b[0m\u001b[0m\n\u001b[1;32m   1032\u001b[0m         \u001b[0;32mtry\u001b[0m\u001b[0;34m:\u001b[0m\u001b[0;34m\u001b[0m\u001b[0;34m\u001b[0m\u001b[0m\n\u001b[0;32m-> 1033\u001b[0;31m             \u001b[0mresponse\u001b[0m \u001b[0;34m=\u001b[0m \u001b[0mconnection\u001b[0m\u001b[0;34m.\u001b[0m\u001b[0msend_command\u001b[0m\u001b[0;34m(\u001b[0m\u001b[0mcommand\u001b[0m\u001b[0;34m)\u001b[0m\u001b[0;34m\u001b[0m\u001b[0;34m\u001b[0m\u001b[0m\n\u001b[0m\u001b[1;32m   1034\u001b[0m             \u001b[0;32mif\u001b[0m \u001b[0mbinary\u001b[0m\u001b[0;34m:\u001b[0m\u001b[0;34m\u001b[0m\u001b[0;34m\u001b[0m\u001b[0m\n\u001b[1;32m   1035\u001b[0m                 \u001b[0;32mreturn\u001b[0m \u001b[0mresponse\u001b[0m\u001b[0;34m,\u001b[0m \u001b[0mself\u001b[0m\u001b[0;34m.\u001b[0m\u001b[0m_create_connection_guard\u001b[0m\u001b[0;34m(\u001b[0m\u001b[0mconnection\u001b[0m\u001b[0;34m)\u001b[0m\u001b[0;34m\u001b[0m\u001b[0;34m\u001b[0m\u001b[0m\n",
      "\u001b[0;32m/usr/local/spark/python/lib/py4j-0.10.9-src.zip/py4j/java_gateway.py\u001b[0m in \u001b[0;36msend_command\u001b[0;34m(self, command)\u001b[0m\n\u001b[1;32m   1198\u001b[0m \u001b[0;34m\u001b[0m\u001b[0m\n\u001b[1;32m   1199\u001b[0m         \u001b[0;32mtry\u001b[0m\u001b[0;34m:\u001b[0m\u001b[0;34m\u001b[0m\u001b[0;34m\u001b[0m\u001b[0m\n\u001b[0;32m-> 1200\u001b[0;31m             \u001b[0manswer\u001b[0m \u001b[0;34m=\u001b[0m \u001b[0msmart_decode\u001b[0m\u001b[0;34m(\u001b[0m\u001b[0mself\u001b[0m\u001b[0;34m.\u001b[0m\u001b[0mstream\u001b[0m\u001b[0;34m.\u001b[0m\u001b[0mreadline\u001b[0m\u001b[0;34m(\u001b[0m\u001b[0;34m)\u001b[0m\u001b[0;34m[\u001b[0m\u001b[0;34m:\u001b[0m\u001b[0;34m-\u001b[0m\u001b[0;36m1\u001b[0m\u001b[0;34m]\u001b[0m\u001b[0;34m)\u001b[0m\u001b[0;34m\u001b[0m\u001b[0;34m\u001b[0m\u001b[0m\n\u001b[0m\u001b[1;32m   1201\u001b[0m             \u001b[0mlogger\u001b[0m\u001b[0;34m.\u001b[0m\u001b[0mdebug\u001b[0m\u001b[0;34m(\u001b[0m\u001b[0;34m\"Answer received: {0}\"\u001b[0m\u001b[0;34m.\u001b[0m\u001b[0mformat\u001b[0m\u001b[0;34m(\u001b[0m\u001b[0manswer\u001b[0m\u001b[0;34m)\u001b[0m\u001b[0;34m)\u001b[0m\u001b[0;34m\u001b[0m\u001b[0;34m\u001b[0m\u001b[0m\n\u001b[1;32m   1202\u001b[0m             \u001b[0;32mif\u001b[0m \u001b[0manswer\u001b[0m\u001b[0;34m.\u001b[0m\u001b[0mstartswith\u001b[0m\u001b[0;34m(\u001b[0m\u001b[0mproto\u001b[0m\u001b[0;34m.\u001b[0m\u001b[0mRETURN_MESSAGE\u001b[0m\u001b[0;34m)\u001b[0m\u001b[0;34m:\u001b[0m\u001b[0;34m\u001b[0m\u001b[0;34m\u001b[0m\u001b[0m\n",
      "\u001b[0;32m/opt/conda/lib/python3.8/socket.py\u001b[0m in \u001b[0;36mreadinto\u001b[0;34m(self, b)\u001b[0m\n\u001b[1;32m    667\u001b[0m         \u001b[0;32mwhile\u001b[0m \u001b[0;32mTrue\u001b[0m\u001b[0;34m:\u001b[0m\u001b[0;34m\u001b[0m\u001b[0;34m\u001b[0m\u001b[0m\n\u001b[1;32m    668\u001b[0m             \u001b[0;32mtry\u001b[0m\u001b[0;34m:\u001b[0m\u001b[0;34m\u001b[0m\u001b[0;34m\u001b[0m\u001b[0m\n\u001b[0;32m--> 669\u001b[0;31m                 \u001b[0;32mreturn\u001b[0m \u001b[0mself\u001b[0m\u001b[0;34m.\u001b[0m\u001b[0m_sock\u001b[0m\u001b[0;34m.\u001b[0m\u001b[0mrecv_into\u001b[0m\u001b[0;34m(\u001b[0m\u001b[0mb\u001b[0m\u001b[0;34m)\u001b[0m\u001b[0;34m\u001b[0m\u001b[0;34m\u001b[0m\u001b[0m\n\u001b[0m\u001b[1;32m    670\u001b[0m             \u001b[0;32mexcept\u001b[0m \u001b[0mtimeout\u001b[0m\u001b[0;34m:\u001b[0m\u001b[0;34m\u001b[0m\u001b[0;34m\u001b[0m\u001b[0m\n\u001b[1;32m    671\u001b[0m                 \u001b[0mself\u001b[0m\u001b[0;34m.\u001b[0m\u001b[0m_timeout_occurred\u001b[0m \u001b[0;34m=\u001b[0m \u001b[0;32mTrue\u001b[0m\u001b[0;34m\u001b[0m\u001b[0;34m\u001b[0m\u001b[0m\n",
      "\u001b[0;31mKeyboardInterrupt\u001b[0m: "
     ]
    }
   ],
   "source": [
    "# combining and updating 3 graphs simultaneously \n",
    "stocktrade_stream.stop()\n",
    "\n",
    "\n",
    "stocktrade_stream = stocktrade_stream_df \\\n",
    "    .writeStream \\\n",
    "    .format(\"memory\") \\\n",
    "    .queryName(\"stocktrade_view\") \\\n",
    "    .start()    \n",
    "\n",
    "\n",
    "while True:\n",
    "    # aggregating streamed data and displaying in a scatter plot\n",
    "    # plotting Quantity vs Price\n",
    "    x_y1 = spark.sql('''SELECT * FROM stocktrade_view order by event_timestamp desc limit 200''')\n",
    "    x_y1_df = x_y1.toPandas()\n",
    "    \n",
    "    if x_y1_df.shape[0] > 0: \n",
    "        x1 = x_y1_df.price\n",
    "        y1 = x_y1_df.quantity\n",
    "        title1 = f'Quantity vs Price in last 200 transactions before {max(x_y1_df.event_timestamp)}'\n",
    "\n",
    "    \n",
    "    # aggregating the streamed data and displaying in a column plot\n",
    "    # plotting traded amount vs stock (symbol)\n",
    "    x_y2= spark.sql('''SELECT \n",
    "                        symbol\n",
    "                        , side\n",
    "                        , sum(price*quantity)/100 as traded_amount_in_dollars\n",
    "                        , max(event_timestamp) as max_event_timestamp\n",
    "                    FROM (select * from stocktrade_view order by event_timestamp desc limit 200) as current\n",
    "                    group by \n",
    "                            side\n",
    "                            , symbol\n",
    "\n",
    "                   ''')\n",
    "    x_y2_df = x_y2.toPandas()\n",
    "    \n",
    "    labels2 = list(x_y2_df.symbol.unique())\n",
    "\n",
    "    data2 = [ x_y2_df[x_y2_df['side'] == 'BUY']['traded_amount_in_dollars']\n",
    "            ,x_y2_df[x_y2_df['side'] == 'SELL']['traded_amount_in_dollars']\n",
    "           ]\n",
    "    \n",
    "    x2 = np.arange(len(x_y2_df.symbol.unique()))\n",
    " \n",
    "    title2 = 'Traded amount of last 200 transactions'\n",
    "    \n",
    "    \n",
    "    # aggregating the streamed data and displaying in a line plot\n",
    "    x_y3= spark.sql('''SELECT \n",
    "                            price\n",
    "                            , event_timestamp\n",
    "                            FROM stocktrade_view \n",
    "                            where side = 'SELL'\n",
    "                            and symbol = 'ZTEST'\n",
    "                            order by event_timestamp desc limit 10\n",
    "                    ''')\n",
    "    \n",
    "    x_y3_df = x_y3.toPandas()\n",
    "    \n",
    "    x3 = x_y3_df.event_timestamp\n",
    "    y3 = x_y3_df.price\n",
    "    \n",
    "    title3 = 'Last 10 sell-prices for the stock, ZTEST'\n",
    "    \n",
    "    \n",
    "    print('Preparing streamed data for plots - refreshing every 10 s')\n",
    "    if (x_y1_df.shape[0] > 0):\n",
    "        \n",
    "        bunchofplots(x1, y1, title1, x2, data2, labels2, title2, x3, y3, title3)\n",
    "    \n",
    "    \n",
    "    # updating every 10 s\n",
    "    time.sleep(10)    "
   ]
  },
  {
   "cell_type": "code",
   "execution_count": null,
   "id": "ea1b8e31",
   "metadata": {},
   "outputs": [],
   "source": [
    "# Build Spark Query 2 using view \"stocktraide_view\" - order by timestamp"
   ]
  },
  {
   "cell_type": "code",
   "execution_count": 33,
   "id": "a676481d",
   "metadata": {},
   "outputs": [
    {
     "name": "stdout",
     "output_type": "stream",
     "text": [
      "+---------+------------+--------------------+-------+------+----+-----+--------+------+\n",
      "|event_key| event_topic|     event_timestamp|account|symbol|side|price|quantity|userid|\n",
      "+---------+------------+--------------------+-------+------+----+-----+--------+------+\n",
      "|    ZVZZT|stock-trades|2021-06-09 06:21:...| LMN456| ZVZZT| BUY|  978|    1862|User_7|\n",
      "|    ZTEST|stock-trades|2021-06-09 06:21:...| XYZ789| ZTEST|SELL|  460|    4566|User_6|\n",
      "|    ZXZZT|stock-trades|2021-06-09 06:21:...| LMN456| ZXZZT|SELL|  545|    1652|User_9|\n",
      "|     ZBZX|stock-trades|2021-06-09 06:21:...| LMN456|  ZBZX|SELL|  971|    3537|User_3|\n",
      "|    ZJZZT|stock-trades|2021-06-09 06:21:...| LMN456| ZJZZT|SELL|  295|    4738|User_9|\n",
      "|    ZWZZT|stock-trades|2021-06-09 06:21:...| ABC123| ZWZZT|SELL|  838|    4270|User_9|\n",
      "|    ZJZZT|stock-trades|2021-06-09 06:21:...| LMN456| ZJZZT| BUY|  223|    4698|User_1|\n",
      "|    ZXZZT|stock-trades|2021-06-09 06:21:...| LMN456| ZXZZT|SELL|  264|    2136|User_7|\n",
      "|    ZJZZT|stock-trades|2021-06-09 06:21:...| ABC123| ZJZZT| BUY|  981|    4336|User_5|\n",
      "|     ZBZX|stock-trades|2021-06-09 06:21:...| XYZ789|  ZBZX|SELL|  490|    4877|User_1|\n",
      "|    ZVZZT|stock-trades|2021-06-09 06:21:...| LMN456| ZVZZT| BUY|  442|    4116|User_2|\n",
      "|     ZBZX|stock-trades|2021-06-09 06:21:...| ABC123|  ZBZX| BUY|  276|    3872|User_7|\n",
      "|     ZBZX|stock-trades|2021-06-09 06:21:...| XYZ789|  ZBZX|SELL|  330|    1035|User_7|\n",
      "|    ZVZZT|stock-trades|2021-06-09 06:21:...| XYZ789| ZVZZT|SELL|  772|    1345|User_8|\n",
      "|    ZJZZT|stock-trades|2021-06-09 06:21:...| XYZ789| ZJZZT| BUY|  443|    4185|User_1|\n",
      "+---------+------------+--------------------+-------+------+----+-----+--------+------+\n",
      "only showing top 15 rows\n",
      "\n"
     ]
    },
    {
     "data": {
      "text/plain": [
       "None"
      ]
     },
     "metadata": {},
     "output_type": "display_data"
    }
   ],
   "source": [
    "clear_output(wait=True)\n",
    "display(spark.sql('SELECT * FROM stocktrade_view order by event_timestamp desc').show(15))\n",
    "time.sleep(1)"
   ]
  },
  {
   "cell_type": "code",
   "execution_count": 69,
   "id": "eee25a86",
   "metadata": {},
   "outputs": [],
   "source": [
    "# Export Query 2 to dataframe then parquet file"
   ]
  },
  {
   "cell_type": "code",
   "execution_count": 34,
   "id": "d2bf5e15",
   "metadata": {},
   "outputs": [],
   "source": [
    "from pyspark import SparkFiles\n",
    "from pyspark.sql import SQLContext\n",
    "sc = spark.sparkContext\n",
    "sqlContext = SQLContext(sc)"
   ]
  },
  {
   "cell_type": "code",
   "execution_count": 41,
   "id": "89a8722d",
   "metadata": {},
   "outputs": [
    {
     "data": {
      "text/plain": [
       "13068"
      ]
     },
     "execution_count": 41,
     "metadata": {},
     "output_type": "execute_result"
    }
   ],
   "source": [
    "df = sqlContext.sql('SELECT * FROM stocktrade_view')\n",
    "df.count()\n",
    "# Wait for minutes, run this cell again, ensuring stream more than 13000 rows to the training and testing data."
   ]
  },
  {
   "cell_type": "code",
   "execution_count": 42,
   "id": "ff2bf681",
   "metadata": {},
   "outputs": [],
   "source": [
    "df_train = sqlContext.sql('SELECT * FROM stocktrade_view order by event_timestamp limit 10000')\n",
    "df_test = sqlContext.sql('SELECT * FROM stocktrade_view order by event_timestamp desc limit 3000')"
   ]
  },
  {
   "cell_type": "code",
   "execution_count": 43,
   "id": "36132a4e",
   "metadata": {},
   "outputs": [],
   "source": [
    "df_train.write.parquet('./query2_alldata.parquet',mode='append')"
   ]
  },
  {
   "cell_type": "code",
   "execution_count": null,
   "id": "8cdf38af",
   "metadata": {},
   "outputs": [],
   "source": [
    "# Read parquet file for visualisation and machine learning"
   ]
  },
  {
   "cell_type": "code",
   "execution_count": 44,
   "id": "70f40c28",
   "metadata": {},
   "outputs": [
    {
     "name": "stdout",
     "output_type": "stream",
     "text": [
      "+---------+------------+--------------------+------+-------+------+----+--------+-----+\n",
      "|event_key| event_topic|     event_timestamp|userid|account|symbol|side|quantity|price|\n",
      "+---------+------------+--------------------+------+-------+------+----+--------+-----+\n",
      "|    ZVZZT|stock-trades|2021-06-06 03:06:...|User_5| ABC123| ZVZZT|SELL|    1401|  287|\n",
      "|    ZVZZT|stock-trades|2021-06-06 03:06:...|User_3| LMN456| ZVZZT|SELL|     935|   98|\n",
      "|     ZBZX|stock-trades|2021-06-06 03:06:...|User_1| LMN456|  ZBZX| BUY|    1795|  306|\n",
      "|      ZVV|stock-trades|2021-06-06 03:06:...|User_2| LMN456|   ZVV| BUY|    1220|  106|\n",
      "|    ZJZZT|stock-trades|2021-06-06 03:06:...|User_4| XYZ789| ZJZZT|SELL|     189|  522|\n",
      "|    ZXZZT|stock-trades|2021-06-06 03:06:...|User_7| ABC123| ZXZZT| BUY|    3060|  545|\n",
      "|    ZVZZT|stock-trades|2021-06-06 03:06:...|User_1| XYZ789| ZVZZT|SELL|    3732|  757|\n",
      "|      ZVV|stock-trades|2021-06-06 03:06:...|User_8| XYZ789|   ZVV|SELL|    4210|  614|\n",
      "|    ZWZZT|stock-trades|2021-06-06 03:06:...|User_6| XYZ789| ZWZZT| BUY|    3501|  315|\n",
      "|    ZTEST|stock-trades|2021-06-06 03:06:...|User_8| XYZ789| ZTEST| BUY|    1903|   76|\n",
      "|      ZVV|stock-trades|2021-06-06 03:06:...|User_7| ABC123|   ZVV| BUY|    1969|  820|\n",
      "|    ZTEST|stock-trades|2021-06-06 03:06:...|User_3| LMN456| ZTEST|SELL|    3259|  990|\n",
      "|    ZTEST|stock-trades|2021-06-06 03:06:...|User_9| XYZ789| ZTEST|SELL|    3985|  883|\n",
      "|     ZBZX|stock-trades|2021-06-06 03:06:...|User_7| LMN456|  ZBZX| BUY|    4210|  277|\n",
      "|    ZXZZT|stock-trades|2021-06-06 03:06:...|User_2| LMN456| ZXZZT| BUY|    4547|  847|\n",
      "|    ZXZZT|stock-trades|2021-06-06 03:06:...|User_8| LMN456| ZXZZT|SELL|    2923|  449|\n",
      "|    ZJZZT|stock-trades|2021-06-06 03:06:...|User_4| XYZ789| ZJZZT|SELL|    2867|  578|\n",
      "|    ZJZZT|stock-trades|2021-06-06 03:06:...|User_8| XYZ789| ZJZZT|SELL|    4199|  333|\n",
      "|    ZJZZT|stock-trades|2021-06-06 03:06:...|User_7| ABC123| ZJZZT| BUY|    3060|  428|\n",
      "|      ZVV|stock-trades|2021-06-06 03:06:...|User_4| LMN456|   ZVV| BUY|    3679|   89|\n",
      "+---------+------------+--------------------+------+-------+------+----+--------+-----+\n",
      "only showing top 20 rows\n",
      "\n"
     ]
    }
   ],
   "source": [
    "query2_df = sqlContext.read.parquet('./query_alldata.parquet')\n",
    "query2_df.show(20)"
   ]
  },
  {
   "cell_type": "code",
   "execution_count": null,
   "id": "30b9652c",
   "metadata": {},
   "outputs": [],
   "source": [
    "# regression model to predict \"quantity\""
   ]
  },
  {
   "cell_type": "code",
   "execution_count": 45,
   "id": "d232fc90",
   "metadata": {},
   "outputs": [],
   "source": [
    "from pyspark.ml.regression import LinearRegression\n",
    "from pyspark.ml import Pipeline\n",
    "from pyspark.ml.evaluation import RegressionEvaluator"
   ]
  },
  {
   "cell_type": "code",
   "execution_count": 46,
   "id": "4da8f60b",
   "metadata": {},
   "outputs": [],
   "source": [
    "from pyspark.ml.feature import StringIndexer,VectorAssembler,VectorIndexer\n",
    "from pyspark.ml.feature import OneHotEncoder"
   ]
  },
  {
   "cell_type": "code",
   "execution_count": 47,
   "id": "91fa3283",
   "metadata": {},
   "outputs": [],
   "source": [
    "cat_cols = ['userid','account','symbol','side']"
   ]
  },
  {
   "cell_type": "code",
   "execution_count": 48,
   "id": "c629fc40",
   "metadata": {},
   "outputs": [],
   "source": [
    "stages = []"
   ]
  },
  {
   "cell_type": "code",
   "execution_count": 49,
   "id": "c394042e",
   "metadata": {},
   "outputs": [],
   "source": [
    "for cat_col in cat_cols:\n",
    "    col_indexer = StringIndexer(inputCol=cat_col, outputCol =f\"{cat_col}_ind\")\n",
    "    col_encoder = OneHotEncoder(inputCols=[f\"{cat_col}_ind\"],outputCols=[f\"{cat_col}_ohe\"])\n",
    "    stages += [col_indexer, col_encoder]"
   ]
  },
  {
   "cell_type": "code",
   "execution_count": 50,
   "id": "1c68e89f",
   "metadata": {},
   "outputs": [],
   "source": [
    "num_cols = ['price']"
   ]
  },
  {
   "cell_type": "code",
   "execution_count": 51,
   "id": "c26b0db8",
   "metadata": {},
   "outputs": [],
   "source": [
    "cat_cols_ohe = [f\"{cat_col}_ohe\" for cat_col in cat_cols]"
   ]
  },
  {
   "cell_type": "code",
   "execution_count": 52,
   "id": "5cf4c749",
   "metadata": {},
   "outputs": [],
   "source": [
    "assembler = VectorAssembler(inputCols=cat_cols_ohe+num_cols, outputCol=\"features\")"
   ]
  },
  {
   "cell_type": "code",
   "execution_count": 53,
   "id": "73d09ab9",
   "metadata": {},
   "outputs": [],
   "source": [
    "regression = LinearRegression(labelCol='quantity',regParam = 0, maxIter = 10)"
   ]
  },
  {
   "cell_type": "code",
   "execution_count": 54,
   "id": "9c15d317",
   "metadata": {},
   "outputs": [],
   "source": [
    "stages += [assembler,regression]"
   ]
  },
  {
   "cell_type": "code",
   "execution_count": 55,
   "id": "4a05ec9d",
   "metadata": {},
   "outputs": [
    {
     "name": "stdout",
     "output_type": "stream",
     "text": [
      "[StringIndexer_d4d28e7f56e4, OneHotEncoder_0b81d1dfe278, StringIndexer_23c52b5b3e05, OneHotEncoder_457111890396, StringIndexer_0fbb8fcbb5ea, OneHotEncoder_c8893d0e1642, StringIndexer_7df57323a903, OneHotEncoder_7a93e035824c, VectorAssembler_6bcb078922e2, LinearRegression_a66232e531da]\n"
     ]
    }
   ],
   "source": [
    "print(stages)"
   ]
  },
  {
   "cell_type": "code",
   "execution_count": 56,
   "id": "a2b828e0",
   "metadata": {},
   "outputs": [],
   "source": [
    "pipeline = Pipeline(stages=stages)"
   ]
  },
  {
   "cell_type": "code",
   "execution_count": 57,
   "id": "0b6b70fb",
   "metadata": {},
   "outputs": [],
   "source": [
    "pipeline = pipeline.fit(query2_df)"
   ]
  },
  {
   "cell_type": "code",
   "execution_count": 58,
   "id": "6418d544",
   "metadata": {},
   "outputs": [],
   "source": [
    "train_assessment = pipeline.transform(df_test)"
   ]
  },
  {
   "cell_type": "code",
   "execution_count": 59,
   "id": "8a0b058b",
   "metadata": {},
   "outputs": [
    {
     "name": "stdout",
     "output_type": "stream",
     "text": [
      "1462.4399649714212\n"
     ]
    }
   ],
   "source": [
    "lr_evaluator = RegressionEvaluator(metricName=\"rmse\", labelCol=regression.getLabelCol(), \\\n",
    "                                   predictionCol=regression.getPredictionCol())\n",
    "RMSE = lr_evaluator.evaluate(train_assessment)\n",
    "print(RMSE)"
   ]
  },
  {
   "cell_type": "code",
   "execution_count": 60,
   "id": "2e99d614",
   "metadata": {},
   "outputs": [
    {
     "name": "stdout",
     "output_type": "stream",
     "text": [
      "+---------+------------+--------------------+-------+------+----+-----+--------+------+----------+-------------+-----------+-------------+----------+-------------+--------+-------------+--------------------+------------------+\n",
      "|event_key| event_topic|     event_timestamp|account|symbol|side|price|quantity|userid|userid_ind|   userid_ohe|account_ind|  account_ohe|symbol_ind|   symbol_ohe|side_ind|     side_ohe|            features|        prediction|\n",
      "+---------+------------+--------------------+-------+------+----+-----+--------+------+----------+-------------+-----------+-------------+----------+-------------+--------+-------------+--------------------+------------------+\n",
      "|    ZXZZT|stock-trades|2021-06-09 06:26:...| LMN456| ZXZZT|SELL|  725|    2931|User_8|       0.0|(8,[0],[1.0])|        1.0|(2,[1],[1.0])|       4.0|(6,[4],[1.0])|     0.0|(1,[0],[1.0])|(18,[0,9,14,16,17...| 2500.946851935326|\n",
      "|     ZBZX|stock-trades|2021-06-09 06:26:...| XYZ789|  ZBZX| BUY|  512|    3317|User_5|       6.0|(8,[6],[1.0])|        0.0|(2,[0],[1.0])|       0.0|(6,[0],[1.0])|     1.0|    (1,[],[])|(18,[6,8,10,17],[...|2468.2066754595585|\n",
      "|    ZVZZT|stock-trades|2021-06-09 06:26:...| LMN456| ZVZZT|SELL|  534|    1611|User_7|       8.0|    (8,[],[])|        1.0|(2,[1],[1.0])|       3.0|(6,[3],[1.0])|     0.0|(1,[0],[1.0])|(18,[9,13,16,17],...|2504.8549037563916|\n",
      "|      ZVV|stock-trades|2021-06-09 06:26:...| LMN456|   ZVV| BUY|  552|    4480|User_9|       5.0|(8,[5],[1.0])|        1.0|(2,[1],[1.0])|       1.0|(6,[1],[1.0])|     1.0|    (1,[],[])|(18,[5,9,11,17],[...| 2495.387855605424|\n",
      "|    ZWZZT|stock-trades|2021-06-09 06:26:...| LMN456| ZWZZT|SELL|  611|    1454|User_3|       1.0|(8,[1],[1.0])|        1.0|(2,[1],[1.0])|       2.0|(6,[2],[1.0])|     0.0|(1,[0],[1.0])|(18,[1,9,12,16,17...|2521.7329209423388|\n",
      "|    ZJZZT|stock-trades|2021-06-09 06:26:...| LMN456| ZJZZT|SELL|   23|    3627|User_4|       7.0|(8,[7],[1.0])|        1.0|(2,[1],[1.0])|       6.0|    (6,[],[])|     0.0|(1,[0],[1.0])|(18,[7,9,16,17],[...|2502.6780535861017|\n",
      "|     ZBZX|stock-trades|2021-06-09 06:26:...| XYZ789|  ZBZX| BUY|  510|    1469|User_2|       3.0|(8,[3],[1.0])|        0.0|(2,[0],[1.0])|       0.0|(6,[0],[1.0])|     1.0|    (1,[],[])|(18,[3,8,10,17],[...|2481.2574324973025|\n",
      "|    ZXZZT|stock-trades|2021-06-09 06:26:...| XYZ789| ZXZZT| BUY|  788|    1920|User_4|       7.0|(8,[7],[1.0])|        0.0|(2,[0],[1.0])|       4.0|(6,[4],[1.0])|     1.0|    (1,[],[])|(18,[7,8,14,17],[...| 2488.669151736741|\n",
      "|     ZBZX|stock-trades|2021-06-09 06:26:...| ABC123|  ZBZX| BUY|   27|    1883|User_2|       3.0|(8,[3],[1.0])|        2.0|    (2,[],[])|       0.0|(6,[0],[1.0])|     1.0|    (1,[],[])|(18,[3,10,17],[1....|2482.0326123335744|\n",
      "|    ZWZZT|stock-trades|2021-06-09 06:26:...| XYZ789| ZWZZT| BUY|  922|    3200|User_5|       6.0|(8,[6],[1.0])|        0.0|(2,[0],[1.0])|       2.0|(6,[2],[1.0])|     1.0|    (1,[],[])|(18,[6,8,12,17],[...| 2483.199902629602|\n",
      "+---------+------------+--------------------+-------+------+----+-----+--------+------+----------+-------------+-----------+-------------+----------+-------------+--------+-------------+--------------------+------------------+\n",
      "only showing top 10 rows\n",
      "\n"
     ]
    }
   ],
   "source": [
    "train_assessment.show(10)"
   ]
  },
  {
   "cell_type": "code",
   "execution_count": 61,
   "id": "79c519db",
   "metadata": {},
   "outputs": [
    {
     "data": {
      "text/plain": [
       "3000"
      ]
     },
     "execution_count": 61,
     "metadata": {},
     "output_type": "execute_result"
    }
   ],
   "source": [
    "train_assessment.count()"
   ]
  },
  {
   "cell_type": "code",
   "execution_count": null,
   "id": "b65b3790",
   "metadata": {},
   "outputs": [],
   "source": [
    "# classification model to predict \"side\""
   ]
  },
  {
   "cell_type": "code",
   "execution_count": 121,
   "id": "f3696387",
   "metadata": {},
   "outputs": [],
   "source": [
    "from pyspark.ml.classification import RandomForestClassifier\n",
    "from pyspark.ml.evaluation import MulticlassClassificationEvaluator"
   ]
  },
  {
   "cell_type": "code",
   "execution_count": 146,
   "id": "252f785d",
   "metadata": {},
   "outputs": [],
   "source": [
    "cols_list = ['side','userid','account','symbol','quantity','price']"
   ]
  },
  {
   "cell_type": "code",
   "execution_count": 147,
   "id": "0aac0e14",
   "metadata": {},
   "outputs": [],
   "source": [
    "cat_cols = ['userid','account','symbol']"
   ]
  },
  {
   "cell_type": "code",
   "execution_count": 148,
   "id": "987e303f",
   "metadata": {},
   "outputs": [],
   "source": [
    "stages = []\n",
    "for cat_col in cat_cols:\n",
    "    col_indexer = StringIndexer(inputCol=cat_col, outputCol =f\"{cat_col}_ind\")\n",
    "    col_encoder = OneHotEncoder(inputCols=[f\"{cat_col}_ind\"],outputCols=[f\"{cat_col}_ohe\"])\n",
    "    stages += [col_indexer, col_encoder]"
   ]
  },
  {
   "cell_type": "code",
   "execution_count": 149,
   "id": "8d01c330",
   "metadata": {},
   "outputs": [],
   "source": [
    "target_indexer = StringIndexer(inputCol='side', outputCol='label')"
   ]
  },
  {
   "cell_type": "code",
   "execution_count": 150,
   "id": "0f10dcc0",
   "metadata": {},
   "outputs": [],
   "source": [
    "num_cols = ['quantity','price']"
   ]
  },
  {
   "cell_type": "code",
   "execution_count": 151,
   "id": "5f1fe5ac",
   "metadata": {},
   "outputs": [],
   "source": [
    "cat_cols_ohe = [f\"{cat_col}_ohe\" for cat_col in cat_cols]"
   ]
  },
  {
   "cell_type": "code",
   "execution_count": 152,
   "id": "9c028874",
   "metadata": {},
   "outputs": [],
   "source": [
    "assembler = VectorAssembler(inputCols= cat_cols_ohe + num_cols, outputCol=\"features\")"
   ]
  },
  {
   "cell_type": "code",
   "execution_count": 153,
   "id": "276c5e1d",
   "metadata": {},
   "outputs": [],
   "source": [
    "stages += [target_indexer,assembler]"
   ]
  },
  {
   "cell_type": "code",
   "execution_count": 154,
   "id": "8a6351b1",
   "metadata": {},
   "outputs": [
    {
     "name": "stdout",
     "output_type": "stream",
     "text": [
      "[StringIndexer_56482db069d5, OneHotEncoder_5cead5c69dcd, StringIndexer_852496767898, OneHotEncoder_ded4e7ba54f6, StringIndexer_62a364d08f21, OneHotEncoder_1a87fa46e484, StringIndexer_c91b597d572b, VectorAssembler_d34dc9176b7a]\n"
     ]
    }
   ],
   "source": [
    "print(stages)"
   ]
  },
  {
   "cell_type": "code",
   "execution_count": 155,
   "id": "dc3630bc",
   "metadata": {},
   "outputs": [],
   "source": [
    "pipeline = Pipeline(stages=stages)"
   ]
  },
  {
   "cell_type": "code",
   "execution_count": 156,
   "id": "2061c4ba",
   "metadata": {},
   "outputs": [],
   "source": [
    "pipeline_model = pipeline.fit(query2_df)"
   ]
  },
  {
   "cell_type": "code",
   "execution_count": 157,
   "id": "cc5ed625",
   "metadata": {},
   "outputs": [],
   "source": [
    "df = pipeline_model.transform(query2_df)"
   ]
  },
  {
   "cell_type": "code",
   "execution_count": 159,
   "id": "a9cbd8f0",
   "metadata": {},
   "outputs": [
    {
     "name": "stdout",
     "output_type": "stream",
     "text": [
      "+-----+--------------------+----+------+-------+------+--------+-----+\n",
      "|label|            features|side|userid|account|symbol|quantity|price|\n",
      "+-----+--------------------+----+------+-------+------+--------+-----+\n",
      "|  0.0|(18,[6,13,16,17],...|SELL|User_5| ABC123| ZVZZT|    1401|  287|\n",
      "|  0.0|(18,[1,9,13,16,17...|SELL|User_3| LMN456| ZVZZT|     935|   98|\n",
      "|  1.0|(18,[4,9,10,16,17...| BUY|User_1| LMN456|  ZBZX|    1795|  306|\n",
      "|  1.0|(18,[3,9,11,16,17...| BUY|User_2| LMN456|   ZVV|    1220|  106|\n",
      "|  0.0|(18,[7,8,16,17],[...|SELL|User_4| XYZ789| ZJZZT|     189|  522|\n",
      "|  1.0|(18,[14,16,17],[1...| BUY|User_7| ABC123| ZXZZT|    3060|  545|\n",
      "|  0.0|(18,[4,8,13,16,17...|SELL|User_1| XYZ789| ZVZZT|    3732|  757|\n",
      "|  0.0|(18,[0,8,11,16,17...|SELL|User_8| XYZ789|   ZVV|    4210|  614|\n",
      "|  1.0|(18,[2,8,12,16,17...| BUY|User_6| XYZ789| ZWZZT|    3501|  315|\n",
      "|  1.0|(18,[0,8,15,16,17...| BUY|User_8| XYZ789| ZTEST|    1903|   76|\n",
      "|  1.0|(18,[11,16,17],[1...| BUY|User_7| ABC123|   ZVV|    1969|  820|\n",
      "|  0.0|(18,[1,9,15,16,17...|SELL|User_3| LMN456| ZTEST|    3259|  990|\n",
      "|  0.0|(18,[5,8,15,16,17...|SELL|User_9| XYZ789| ZTEST|    3985|  883|\n",
      "|  1.0|(18,[9,10,16,17],...| BUY|User_7| LMN456|  ZBZX|    4210|  277|\n",
      "|  1.0|(18,[3,9,14,16,17...| BUY|User_2| LMN456| ZXZZT|    4547|  847|\n",
      "|  0.0|(18,[0,9,14,16,17...|SELL|User_8| LMN456| ZXZZT|    2923|  449|\n",
      "|  0.0|(18,[7,8,16,17],[...|SELL|User_4| XYZ789| ZJZZT|    2867|  578|\n",
      "|  0.0|(18,[0,8,16,17],[...|SELL|User_8| XYZ789| ZJZZT|    4199|  333|\n",
      "|  1.0|(18,[16,17],[3060...| BUY|User_7| ABC123| ZJZZT|    3060|  428|\n",
      "|  1.0|(18,[7,9,11,16,17...| BUY|User_4| LMN456|   ZVV|    3679|   89|\n",
      "+-----+--------------------+----+------+-------+------+--------+-----+\n",
      "only showing top 20 rows\n",
      "\n"
     ]
    }
   ],
   "source": [
    "df = df.select(['label','features'] + cols_list)\n",
    "df.show()"
   ]
  },
  {
   "cell_type": "code",
   "execution_count": 160,
   "id": "9c9dc971",
   "metadata": {},
   "outputs": [],
   "source": [
    "train_data,test_data = df.randomSplit([0.8,0.2], seed = 1)"
   ]
  },
  {
   "cell_type": "code",
   "execution_count": 161,
   "id": "e281b242",
   "metadata": {},
   "outputs": [],
   "source": [
    "rf = RandomForestClassifier(featuresCol='features', labelCol='label')"
   ]
  },
  {
   "cell_type": "code",
   "execution_count": 166,
   "id": "80080ed7",
   "metadata": {},
   "outputs": [],
   "source": [
    "rf_model = rf.fit(train_data)"
   ]
  },
  {
   "cell_type": "code",
   "execution_count": 167,
   "id": "f0158004",
   "metadata": {},
   "outputs": [],
   "source": [
    "train_preds = rf_model.transform(train_data)"
   ]
  },
  {
   "cell_type": "code",
   "execution_count": 168,
   "id": "5f584e38",
   "metadata": {},
   "outputs": [],
   "source": [
    "test_preds = rf_model.transform(test_data)"
   ]
  },
  {
   "cell_type": "code",
   "execution_count": 169,
   "id": "06ff0fd2",
   "metadata": {},
   "outputs": [
    {
     "name": "stdout",
     "output_type": "stream",
     "text": [
      "+----+------+-------+------+--------+-----+----------+--------------------+\n",
      "|side|userid|account|symbol|quantity|price|prediction|         probability|\n",
      "+----+------+-------+------+--------+-----+----------+--------------------+\n",
      "|SELL|User_8| XYZ789|  ZBZX|      52|  746|       1.0|[0.49796200566145...|\n",
      "|SELL|User_8| XYZ789|  ZBZX|      92|  486|       0.0|[0.50103944388423...|\n",
      "|SELL|User_8| XYZ789|  ZBZX|     443|  188|       0.0|[0.50623009865165...|\n",
      "|SELL|User_8| XYZ789|  ZBZX|     511|  332|       0.0|[0.50818578170980...|\n",
      "|SELL|User_8| XYZ789|  ZBZX|     796|  163|       0.0|[0.50475320487905...|\n",
      "|SELL|User_8| XYZ789|  ZBZX|     899|  542|       0.0|[0.50477670404205...|\n",
      "|SELL|User_8| XYZ789|  ZBZX|     959|  513|       0.0|[0.50477670404205...|\n",
      "|SELL|User_8| XYZ789|  ZBZX|    1138|  484|       0.0|[0.50477670404205...|\n",
      "|SELL|User_8| XYZ789|  ZBZX|    1182|  921|       0.0|[0.50069622594180...|\n",
      "|SELL|User_8| XYZ789|  ZBZX|    1251|  252|       0.0|[0.50442970031449...|\n",
      "+----+------+-------+------+--------+-----+----------+--------------------+\n",
      "only showing top 10 rows\n",
      "\n"
     ]
    }
   ],
   "source": [
    "train_preds.select(cols_list + ['prediction','probability']).show(10)"
   ]
  },
  {
   "cell_type": "code",
   "execution_count": 170,
   "id": "3cf11b27",
   "metadata": {},
   "outputs": [
    {
     "name": "stdout",
     "output_type": "stream",
     "text": [
      "[AUROC] train:0.5262660807496797 - test: 0.5009496079178354\n"
     ]
    }
   ],
   "source": [
    "from pyspark.ml.evaluation import BinaryClassificationEvaluator, MulticlassClassificationEvaluator\n",
    "evaluator = BinaryClassificationEvaluator(metricName= 'areaUnderROC')\n",
    "print(f\"[AUROC] train:{evaluator.evaluate(train_preds)} - test: {evaluator.evaluate(test_preds)}\")"
   ]
  },
  {
   "cell_type": "code",
   "execution_count": 171,
   "id": "532fa72a",
   "metadata": {},
   "outputs": [
    {
     "name": "stdout",
     "output_type": "stream",
     "text": [
      "[Accuracy] train:0.5177716865235523 - test: 0.5006371281901919\n"
     ]
    }
   ],
   "source": [
    "from pyspark.ml.evaluation import MulticlassClassificationEvaluator\n",
    "evaluator_multi = MulticlassClassificationEvaluator()\n",
    "acc_metric = {evaluator_multi.metricName: \"accuracy\"}\n",
    "print(f\"[Accuracy] train:{evaluator_multi.evaluate(train_preds,acc_metric)} - test: {evaluator_multi.evaluate(test_preds, acc_metric)}\")"
   ]
  },
  {
   "cell_type": "code",
   "execution_count": null,
   "id": "4f6a9426",
   "metadata": {},
   "outputs": [],
   "source": []
  }
 ],
 "metadata": {
  "kernelspec": {
   "display_name": "Python 3",
   "language": "python",
   "name": "python3"
  },
  "language_info": {
   "codemirror_mode": {
    "name": "ipython",
    "version": 3
   },
   "file_extension": ".py",
   "mimetype": "text/x-python",
   "name": "python",
   "nbconvert_exporter": "python",
   "pygments_lexer": "ipython3",
   "version": "3.8.8"
  }
 },
 "nbformat": 4,
 "nbformat_minor": 5
}
