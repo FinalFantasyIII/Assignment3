{
 "cells": [
  {
   "cell_type": "markdown",
   "id": "d4a70d52",
   "metadata": {},
   "source": [
    "# ASSIGNMENT 3 - BDE\n",
    "### STREAMING WITH KAFKA AND SPARK STREAMING\n",
    "#### TEAM - FINAL FANTASY III"
   ]
  },
  {
   "cell_type": "code",
   "execution_count": 1,
   "id": "220ba66f",
   "metadata": {},
   "outputs": [],
   "source": [
    "# Importing required packages and libraries\n",
    "from pyspark.sql import SparkSession\n",
    "from IPython.display import display, clear_output\n",
    "import time\n",
    "from pyspark.sql import functions as F\n",
    "from pyspark.sql.types import StructType, StructField, IntegerType, StringType\n",
    "import confluent_kafka\n",
    "import random as rd\n",
    "import numpy as np\n",
    "from IPython.display import clear_output\n",
    "import matplotlib.pyplot as plt"
   ]
  },
  {
   "cell_type": "code",
   "execution_count": 2,
   "id": "fb6f394a",
   "metadata": {},
   "outputs": [],
   "source": [
    "#Instantiate a local spark session and saved variable\n",
    "spark = SparkSession.builder \\\n",
    "        .appName('kafka') \\\n",
    "        .getOrCreate()"
   ]
  },
  {
   "cell_type": "code",
   "execution_count": 3,
   "id": "8a44b45c",
   "metadata": {},
   "outputs": [],
   "source": [
    "#Subscribe to the topic stock-trades from the Kafka broker and read latest data into a Spark dataframe called stream_df\n",
    "stream_df = spark \\\n",
    "  .readStream \\\n",
    "  .format(\"kafka\") \\\n",
    "  .option(\"kafka.bootstrap.servers\", \"broker:29092\") \\\n",
    "  .option(\"startingOffsets\", \"latest\") \\\n",
    "  .option(\"subscribe\", \"stock-trades\") \\\n",
    "  .load()"
   ]
  },
  {
   "cell_type": "code",
   "execution_count": 4,
   "id": "58aa34b2",
   "metadata": {},
   "outputs": [
    {
     "name": "stdout",
     "output_type": "stream",
     "text": [
      "root\n",
      " |-- key: binary (nullable = true)\n",
      " |-- value: binary (nullable = true)\n",
      " |-- topic: string (nullable = true)\n",
      " |-- partition: integer (nullable = true)\n",
      " |-- offset: long (nullable = true)\n",
      " |-- timestamp: timestamp (nullable = true)\n",
      " |-- timestampType: integer (nullable = true)\n",
      "\n"
     ]
    }
   ],
   "source": [
    "\n",
    "stream_df.printSchema()"
   ]
  },
  {
   "cell_type": "code",
   "execution_count": 5,
   "id": "71fbb7ff",
   "metadata": {},
   "outputs": [],
   "source": [
    "raw_stream = stream_df \\\n",
    "    .writeStream \\\n",
    "    .format(\"memory\") \\\n",
    "    .queryName(\"raw_stocktrade_view\") \\\n",
    "    .start()"
   ]
  },
  {
   "cell_type": "code",
   "execution_count": 6,
   "id": "03ae4a0e",
   "metadata": {
    "tags": []
   },
   "outputs": [
    {
     "name": "stdout",
     "output_type": "stream",
     "text": [
      "+---+-----+-----+---------+------+---------+-------------+\n",
      "|key|value|topic|partition|offset|timestamp|timestampType|\n",
      "+---+-----+-----+---------+------+---------+-------------+\n",
      "+---+-----+-----+---------+------+---------+-------------+\n",
      "\n"
     ]
    },
    {
     "data": {
      "text/plain": [
       "None"
      ]
     },
     "metadata": {},
     "output_type": "display_data"
    }
   ],
   "source": [
    "clear_output(wait=True)\n",
    "display(spark.sql('SELECT * FROM raw_stocktrade_view').show(20))\n",
    "time.sleep(10)"
   ]
  },
  {
   "cell_type": "code",
   "execution_count": 7,
   "id": "326cc175",
   "metadata": {},
   "outputs": [],
   "source": [
    "raw_stream.stop()"
   ]
  },
  {
   "cell_type": "code",
   "execution_count": 8,
   "id": "df3f3997",
   "metadata": {},
   "outputs": [],
   "source": [
    "#Create string stream from Stock Trade data\n",
    "string_stream_df = stream_df \\\n",
    "    .withColumn(\"key\", stream_df[\"key\"].cast(StringType())) \\\n",
    "    .withColumn(\"value\", stream_df[\"value\"].cast(StringType()))"
   ]
  },
  {
   "cell_type": "code",
   "execution_count": 9,
   "id": "517e62f2",
   "metadata": {},
   "outputs": [],
   "source": [
    "string_stream = string_stream_df \\\n",
    "    .writeStream \\\n",
    "    .format(\"memory\") \\\n",
    "    .queryName(\"string_stocktrade_view\") \\\n",
    "    .start()"
   ]
  },
  {
   "cell_type": "code",
   "execution_count": 10,
   "id": "e5353637",
   "metadata": {},
   "outputs": [
    {
     "name": "stdout",
     "output_type": "stream",
     "text": [
      "+---+-----+-----+---------+------+---------+-------------+\n",
      "|key|value|topic|partition|offset|timestamp|timestampType|\n",
      "+---+-----+-----+---------+------+---------+-------------+\n",
      "+---+-----+-----+---------+------+---------+-------------+\n",
      "\n"
     ]
    },
    {
     "data": {
      "text/plain": [
       "None"
      ]
     },
     "metadata": {},
     "output_type": "display_data"
    }
   ],
   "source": [
    "#Show 5 second output\n",
    "clear_output(wait=True)\n",
    "display(spark.sql('SELECT * FROM string_stocktrade_view').show(20, False))\n",
    "time.sleep(5)"
   ]
  },
  {
   "cell_type": "code",
   "execution_count": 11,
   "id": "47c87e2a",
   "metadata": {},
   "outputs": [],
   "source": [
    "string_stream.stop()"
   ]
  },
  {
   "cell_type": "code",
   "execution_count": 12,
   "id": "5158d0b4",
   "metadata": {},
   "outputs": [],
   "source": [
    "#Define values in the JSON from streaming\n",
    "schema_stocktrade = StructType([\n",
    "    StructField('payload', StructType([\n",
    "        StructField(\"side\", StringType(),  True),\n",
    "        StructField(\"quantity\", IntegerType(), True),\n",
    "        StructField(\"symbol\", StringType(),  True),\n",
    "        StructField(\"price\", IntegerType(),  True),\n",
    "        StructField(\"account\", StringType(),  True),\n",
    "        StructField(\"userid\", StringType(),  True)      \n",
    "    ]))\n",
    "])"
   ]
  },
  {
   "cell_type": "markdown",
   "id": "e0c51f95",
   "metadata": {},
   "source": [
    "### PART 3a - STREAM CREATION"
   ]
  },
  {
   "cell_type": "code",
   "execution_count": 13,
   "id": "0e931884",
   "metadata": {},
   "outputs": [],
   "source": [
    "#Stream 1 - JSON value stream\n",
    "json_stream_df = string_stream_df\\\n",
    "    .withColumn(\"value\", F.from_json(\"value\", schema_stocktrade))"
   ]
  },
  {
   "cell_type": "code",
   "execution_count": 14,
   "id": "685b1d2e",
   "metadata": {},
   "outputs": [
    {
     "name": "stdout",
     "output_type": "stream",
     "text": [
      "root\n",
      " |-- key: string (nullable = true)\n",
      " |-- value: struct (nullable = true)\n",
      " |    |-- payload: struct (nullable = true)\n",
      " |    |    |-- side: string (nullable = true)\n",
      " |    |    |-- quantity: integer (nullable = true)\n",
      " |    |    |-- symbol: string (nullable = true)\n",
      " |    |    |-- price: integer (nullable = true)\n",
      " |    |    |-- account: string (nullable = true)\n",
      " |    |    |-- userid: string (nullable = true)\n",
      " |-- topic: string (nullable = true)\n",
      " |-- partition: integer (nullable = true)\n",
      " |-- offset: long (nullable = true)\n",
      " |-- timestamp: timestamp (nullable = true)\n",
      " |-- timestampType: integer (nullable = true)\n",
      "\n"
     ]
    }
   ],
   "source": [
    "json_stream_df.printSchema()"
   ]
  },
  {
   "cell_type": "code",
   "execution_count": 15,
   "id": "f11f25db",
   "metadata": {},
   "outputs": [],
   "source": [
    "#Stream 2 - Define Stock Trade values stream\n",
    "stocktrade_stream_df = json_stream_df \\\n",
    "    .select( \\\n",
    "        F.col(\"key\").alias(\"event_key\"), \\\n",
    "        F.col(\"topic\").alias(\"event_topic\"), \\\n",
    "        F.col(\"timestamp\").alias(\"event_timestamp\"), \\\n",
    "        \"value.payload.account\", \\\n",
    "        \"value.payload.symbol\", \\\n",
    "        \"value.payload.side\", \\\n",
    "        \"value.payload.price\", \\\n",
    "        \"value.payload.quantity\", \\\n",
    "        \"value.payload.userid\"\n",
    "    )"
   ]
  },
  {
   "cell_type": "code",
   "execution_count": 16,
   "id": "1045be7a",
   "metadata": {},
   "outputs": [
    {
     "name": "stdout",
     "output_type": "stream",
     "text": [
      "root\n",
      " |-- event_key: string (nullable = true)\n",
      " |-- event_topic: string (nullable = true)\n",
      " |-- event_timestamp: timestamp (nullable = true)\n",
      " |-- account: string (nullable = true)\n",
      " |-- symbol: string (nullable = true)\n",
      " |-- side: string (nullable = true)\n",
      " |-- price: integer (nullable = true)\n",
      " |-- quantity: integer (nullable = true)\n",
      " |-- userid: string (nullable = true)\n",
      "\n"
     ]
    }
   ],
   "source": [
    "stocktrade_stream_df.printSchema()"
   ]
  },
  {
   "cell_type": "code",
   "execution_count": 17,
   "id": "a8f4ed6a",
   "metadata": {},
   "outputs": [],
   "source": [
    "#Create base Stock Trade View stream\n",
    "stocktrade_stream = stocktrade_stream_df \\\n",
    "    .writeStream \\\n",
    "    .format(\"memory\") \\\n",
    "    .queryName(\"stocktrade_view\") \\\n",
    "    .start()"
   ]
  },
  {
   "cell_type": "code",
   "execution_count": 18,
   "id": "895ef509",
   "metadata": {},
   "outputs": [
    {
     "name": "stdout",
     "output_type": "stream",
     "text": [
      "+---------+-----------+---------------+-------+------+----+-----+--------+------+\n",
      "|event_key|event_topic|event_timestamp|account|symbol|side|price|quantity|userid|\n",
      "+---------+-----------+---------------+-------+------+----+-----+--------+------+\n",
      "+---------+-----------+---------------+-------+------+----+-----+--------+------+\n",
      "\n"
     ]
    },
    {
     "data": {
      "text/plain": [
       "None"
      ]
     },
     "metadata": {},
     "output_type": "display_data"
    }
   ],
   "source": [
    "clear_output(wait=True)\n",
    "\n",
    "display(spark.sql('SELECT * FROM stocktrade_view').show(20))\n",
    "time.sleep(1)"
   ]
  },
  {
   "cell_type": "code",
   "execution_count": 19,
   "id": "aba2e15a",
   "metadata": {},
   "outputs": [
    {
     "name": "stdout",
     "output_type": "stream",
     "text": [
      "+---------+-----+-----+------+\n",
      "|event_key|count|price|   qty|\n",
      "+---------+-----+-----+------+\n",
      "|    ZXZZT|    5|283.0|2220.0|\n",
      "|    ZVZZT|    3|102.0|2526.0|\n",
      "|    ZTEST|    3|395.0|1801.0|\n",
      "|    ZWZZT|    3|249.0|2566.0|\n",
      "|    ZJZZT|    1|651.0|4592.0|\n",
      "|      ZVV|    4|517.0|2191.0|\n",
      "|     ZBZX|    3|467.0|3045.0|\n",
      "+---------+-----+-----+------+\n",
      "\n"
     ]
    },
    {
     "data": {
      "text/plain": [
       "None"
      ]
     },
     "metadata": {},
     "output_type": "display_data"
    }
   ],
   "source": [
    "#Create \n",
    "clear_output(wait=True)\n",
    "display(spark.sql('SELECT event_key, COUNT(1) AS count, round(mean(price),0) as price, round(mean(quantity),0) as qty FROM stocktrade_view GROUP BY 1').show(20))\n",
    "time.sleep(1)"
   ]
  },
  {
   "cell_type": "code",
   "execution_count": 20,
   "id": "ba3ccc3e",
   "metadata": {},
   "outputs": [],
   "source": [
    "stocktrade_stream.stop()"
   ]
  },
  {
   "cell_type": "markdown",
   "id": "a92b99e6",
   "metadata": {},
   "source": [
    "### Part 3b - WINDOW STEAM WITH WATERMARK"
   ]
  },
  {
   "cell_type": "code",
   "execution_count": 21,
   "id": "165db464",
   "metadata": {},
   "outputs": [],
   "source": [
    "#Set Window parameters\n",
    "window_duration = '60 seconds'\n",
    "slide_duration = '10 seconds'"
   ]
  },
  {
   "cell_type": "code",
   "execution_count": 22,
   "id": "bca44209",
   "metadata": {},
   "outputs": [],
   "source": [
    "#Create window view from stock_trade stream\n",
    "windowed_count_df = stocktrade_stream_df \\\n",
    "    .withWatermark(\"event_timestamp\", \"1 minutes\") \\\n",
    "    .groupBy(F.window(stocktrade_stream_df.event_timestamp, window_duration, slide_duration), stocktrade_stream_df.symbol) \\\n",
    "    .count()"
   ]
  },
  {
   "cell_type": "markdown",
   "id": "fecc92c6",
   "metadata": {},
   "source": [
    "### Part 3c - SPARK QUERY"
   ]
  },
  {
   "cell_type": "code",
   "execution_count": 23,
   "id": "2a468ac1",
   "metadata": {},
   "outputs": [],
   "source": [
    "#Count view = count of trade symbols within a \n",
    "count_stream = windowed_count_df \\\n",
    "    .writeStream \\\n",
    "    .format(\"memory\") \\\n",
    "    .outputMode(\"Complete\") \\\n",
    "    .queryName(\"count_view\") \\\n",
    "    .start()"
   ]
  },
  {
   "cell_type": "code",
   "execution_count": 27,
   "id": "55b58bea",
   "metadata": {},
   "outputs": [
    {
     "ename": "KeyboardInterrupt",
     "evalue": "",
     "output_type": "error",
     "traceback": [
      "\u001b[0;31m---------------------------------------------------------------------------\u001b[0m",
      "\u001b[0;31mKeyboardInterrupt\u001b[0m                         Traceback (most recent call last)",
      "\u001b[0;32m<ipython-input-27-18d3403f5de3>\u001b[0m in \u001b[0;36m<module>\u001b[0;34m\u001b[0m\n\u001b[1;32m      1\u001b[0m \u001b[0;32mwhile\u001b[0m \u001b[0;32mTrue\u001b[0m\u001b[0;34m:\u001b[0m\u001b[0;34m\u001b[0m\u001b[0;34m\u001b[0m\u001b[0m\n\u001b[1;32m      2\u001b[0m     \u001b[0mclear_output\u001b[0m\u001b[0;34m(\u001b[0m\u001b[0mwait\u001b[0m\u001b[0;34m=\u001b[0m\u001b[0;32mTrue\u001b[0m\u001b[0;34m)\u001b[0m\u001b[0;34m\u001b[0m\u001b[0;34m\u001b[0m\u001b[0m\n\u001b[0;32m----> 3\u001b[0;31m     \u001b[0mdisplay\u001b[0m\u001b[0;34m(\u001b[0m\u001b[0mspark\u001b[0m\u001b[0;34m.\u001b[0m\u001b[0msql\u001b[0m\u001b[0;34m(\u001b[0m\u001b[0;34m'SELECT * FROM count_view LIMIT 20'\u001b[0m\u001b[0;34m)\u001b[0m\u001b[0;34m.\u001b[0m\u001b[0mshow\u001b[0m\u001b[0;34m(\u001b[0m\u001b[0;34m)\u001b[0m\u001b[0;34m)\u001b[0m\u001b[0;34m\u001b[0m\u001b[0;34m\u001b[0m\u001b[0m\n\u001b[0m\u001b[1;32m      4\u001b[0m     \u001b[0mtime\u001b[0m\u001b[0;34m.\u001b[0m\u001b[0msleep\u001b[0m\u001b[0;34m(\u001b[0m\u001b[0;36m1\u001b[0m\u001b[0;34m)\u001b[0m\u001b[0;34m\u001b[0m\u001b[0;34m\u001b[0m\u001b[0m\n",
      "\u001b[0;32m/usr/local/spark/python/pyspark/sql/dataframe.py\u001b[0m in \u001b[0;36mshow\u001b[0;34m(self, n, truncate, vertical)\u001b[0m\n\u001b[1;32m    482\u001b[0m         \"\"\"\n\u001b[1;32m    483\u001b[0m         \u001b[0;32mif\u001b[0m \u001b[0misinstance\u001b[0m\u001b[0;34m(\u001b[0m\u001b[0mtruncate\u001b[0m\u001b[0;34m,\u001b[0m \u001b[0mbool\u001b[0m\u001b[0;34m)\u001b[0m \u001b[0;32mand\u001b[0m \u001b[0mtruncate\u001b[0m\u001b[0;34m:\u001b[0m\u001b[0;34m\u001b[0m\u001b[0;34m\u001b[0m\u001b[0m\n\u001b[0;32m--> 484\u001b[0;31m             \u001b[0mprint\u001b[0m\u001b[0;34m(\u001b[0m\u001b[0mself\u001b[0m\u001b[0;34m.\u001b[0m\u001b[0m_jdf\u001b[0m\u001b[0;34m.\u001b[0m\u001b[0mshowString\u001b[0m\u001b[0;34m(\u001b[0m\u001b[0mn\u001b[0m\u001b[0;34m,\u001b[0m \u001b[0;36m20\u001b[0m\u001b[0;34m,\u001b[0m \u001b[0mvertical\u001b[0m\u001b[0;34m)\u001b[0m\u001b[0;34m)\u001b[0m\u001b[0;34m\u001b[0m\u001b[0;34m\u001b[0m\u001b[0m\n\u001b[0m\u001b[1;32m    485\u001b[0m         \u001b[0;32melse\u001b[0m\u001b[0;34m:\u001b[0m\u001b[0;34m\u001b[0m\u001b[0;34m\u001b[0m\u001b[0m\n\u001b[1;32m    486\u001b[0m             \u001b[0mprint\u001b[0m\u001b[0;34m(\u001b[0m\u001b[0mself\u001b[0m\u001b[0;34m.\u001b[0m\u001b[0m_jdf\u001b[0m\u001b[0;34m.\u001b[0m\u001b[0mshowString\u001b[0m\u001b[0;34m(\u001b[0m\u001b[0mn\u001b[0m\u001b[0;34m,\u001b[0m \u001b[0mint\u001b[0m\u001b[0;34m(\u001b[0m\u001b[0mtruncate\u001b[0m\u001b[0;34m)\u001b[0m\u001b[0;34m,\u001b[0m \u001b[0mvertical\u001b[0m\u001b[0;34m)\u001b[0m\u001b[0;34m)\u001b[0m\u001b[0;34m\u001b[0m\u001b[0;34m\u001b[0m\u001b[0m\n",
      "\u001b[0;32m/usr/local/spark/python/lib/py4j-0.10.9-src.zip/py4j/java_gateway.py\u001b[0m in \u001b[0;36m__call__\u001b[0;34m(self, *args)\u001b[0m\n\u001b[1;32m   1301\u001b[0m             \u001b[0mproto\u001b[0m\u001b[0;34m.\u001b[0m\u001b[0mEND_COMMAND_PART\u001b[0m\u001b[0;34m\u001b[0m\u001b[0;34m\u001b[0m\u001b[0m\n\u001b[1;32m   1302\u001b[0m \u001b[0;34m\u001b[0m\u001b[0m\n\u001b[0;32m-> 1303\u001b[0;31m         \u001b[0manswer\u001b[0m \u001b[0;34m=\u001b[0m \u001b[0mself\u001b[0m\u001b[0;34m.\u001b[0m\u001b[0mgateway_client\u001b[0m\u001b[0;34m.\u001b[0m\u001b[0msend_command\u001b[0m\u001b[0;34m(\u001b[0m\u001b[0mcommand\u001b[0m\u001b[0;34m)\u001b[0m\u001b[0;34m\u001b[0m\u001b[0;34m\u001b[0m\u001b[0m\n\u001b[0m\u001b[1;32m   1304\u001b[0m         return_value = get_return_value(\n\u001b[1;32m   1305\u001b[0m             answer, self.gateway_client, self.target_id, self.name)\n",
      "\u001b[0;32m/usr/local/spark/python/lib/py4j-0.10.9-src.zip/py4j/java_gateway.py\u001b[0m in \u001b[0;36msend_command\u001b[0;34m(self, command, retry, binary)\u001b[0m\n\u001b[1;32m   1031\u001b[0m         \u001b[0mconnection\u001b[0m \u001b[0;34m=\u001b[0m \u001b[0mself\u001b[0m\u001b[0;34m.\u001b[0m\u001b[0m_get_connection\u001b[0m\u001b[0;34m(\u001b[0m\u001b[0;34m)\u001b[0m\u001b[0;34m\u001b[0m\u001b[0;34m\u001b[0m\u001b[0m\n\u001b[1;32m   1032\u001b[0m         \u001b[0;32mtry\u001b[0m\u001b[0;34m:\u001b[0m\u001b[0;34m\u001b[0m\u001b[0;34m\u001b[0m\u001b[0m\n\u001b[0;32m-> 1033\u001b[0;31m             \u001b[0mresponse\u001b[0m \u001b[0;34m=\u001b[0m \u001b[0mconnection\u001b[0m\u001b[0;34m.\u001b[0m\u001b[0msend_command\u001b[0m\u001b[0;34m(\u001b[0m\u001b[0mcommand\u001b[0m\u001b[0;34m)\u001b[0m\u001b[0;34m\u001b[0m\u001b[0;34m\u001b[0m\u001b[0m\n\u001b[0m\u001b[1;32m   1034\u001b[0m             \u001b[0;32mif\u001b[0m \u001b[0mbinary\u001b[0m\u001b[0;34m:\u001b[0m\u001b[0;34m\u001b[0m\u001b[0;34m\u001b[0m\u001b[0m\n\u001b[1;32m   1035\u001b[0m                 \u001b[0;32mreturn\u001b[0m \u001b[0mresponse\u001b[0m\u001b[0;34m,\u001b[0m \u001b[0mself\u001b[0m\u001b[0;34m.\u001b[0m\u001b[0m_create_connection_guard\u001b[0m\u001b[0;34m(\u001b[0m\u001b[0mconnection\u001b[0m\u001b[0;34m)\u001b[0m\u001b[0;34m\u001b[0m\u001b[0;34m\u001b[0m\u001b[0m\n",
      "\u001b[0;32m/usr/local/spark/python/lib/py4j-0.10.9-src.zip/py4j/java_gateway.py\u001b[0m in \u001b[0;36msend_command\u001b[0;34m(self, command)\u001b[0m\n\u001b[1;32m   1198\u001b[0m \u001b[0;34m\u001b[0m\u001b[0m\n\u001b[1;32m   1199\u001b[0m         \u001b[0;32mtry\u001b[0m\u001b[0;34m:\u001b[0m\u001b[0;34m\u001b[0m\u001b[0;34m\u001b[0m\u001b[0m\n\u001b[0;32m-> 1200\u001b[0;31m             \u001b[0manswer\u001b[0m \u001b[0;34m=\u001b[0m \u001b[0msmart_decode\u001b[0m\u001b[0;34m(\u001b[0m\u001b[0mself\u001b[0m\u001b[0;34m.\u001b[0m\u001b[0mstream\u001b[0m\u001b[0;34m.\u001b[0m\u001b[0mreadline\u001b[0m\u001b[0;34m(\u001b[0m\u001b[0;34m)\u001b[0m\u001b[0;34m[\u001b[0m\u001b[0;34m:\u001b[0m\u001b[0;34m-\u001b[0m\u001b[0;36m1\u001b[0m\u001b[0;34m]\u001b[0m\u001b[0;34m)\u001b[0m\u001b[0;34m\u001b[0m\u001b[0;34m\u001b[0m\u001b[0m\n\u001b[0m\u001b[1;32m   1201\u001b[0m             \u001b[0mlogger\u001b[0m\u001b[0;34m.\u001b[0m\u001b[0mdebug\u001b[0m\u001b[0;34m(\u001b[0m\u001b[0;34m\"Answer received: {0}\"\u001b[0m\u001b[0;34m.\u001b[0m\u001b[0mformat\u001b[0m\u001b[0;34m(\u001b[0m\u001b[0manswer\u001b[0m\u001b[0;34m)\u001b[0m\u001b[0;34m)\u001b[0m\u001b[0;34m\u001b[0m\u001b[0;34m\u001b[0m\u001b[0m\n\u001b[1;32m   1202\u001b[0m             \u001b[0;32mif\u001b[0m \u001b[0manswer\u001b[0m\u001b[0;34m.\u001b[0m\u001b[0mstartswith\u001b[0m\u001b[0;34m(\u001b[0m\u001b[0mproto\u001b[0m\u001b[0;34m.\u001b[0m\u001b[0mRETURN_MESSAGE\u001b[0m\u001b[0;34m)\u001b[0m\u001b[0;34m:\u001b[0m\u001b[0;34m\u001b[0m\u001b[0;34m\u001b[0m\u001b[0m\n",
      "\u001b[0;32m/opt/conda/lib/python3.8/socket.py\u001b[0m in \u001b[0;36mreadinto\u001b[0;34m(self, b)\u001b[0m\n\u001b[1;32m    667\u001b[0m         \u001b[0;32mwhile\u001b[0m \u001b[0;32mTrue\u001b[0m\u001b[0;34m:\u001b[0m\u001b[0;34m\u001b[0m\u001b[0;34m\u001b[0m\u001b[0m\n\u001b[1;32m    668\u001b[0m             \u001b[0;32mtry\u001b[0m\u001b[0;34m:\u001b[0m\u001b[0;34m\u001b[0m\u001b[0;34m\u001b[0m\u001b[0m\n\u001b[0;32m--> 669\u001b[0;31m                 \u001b[0;32mreturn\u001b[0m \u001b[0mself\u001b[0m\u001b[0;34m.\u001b[0m\u001b[0m_sock\u001b[0m\u001b[0;34m.\u001b[0m\u001b[0mrecv_into\u001b[0m\u001b[0;34m(\u001b[0m\u001b[0mb\u001b[0m\u001b[0;34m)\u001b[0m\u001b[0;34m\u001b[0m\u001b[0;34m\u001b[0m\u001b[0m\n\u001b[0m\u001b[1;32m    670\u001b[0m             \u001b[0;32mexcept\u001b[0m \u001b[0mtimeout\u001b[0m\u001b[0;34m:\u001b[0m\u001b[0;34m\u001b[0m\u001b[0;34m\u001b[0m\u001b[0m\n\u001b[1;32m    671\u001b[0m                 \u001b[0mself\u001b[0m\u001b[0;34m.\u001b[0m\u001b[0m_timeout_occurred\u001b[0m \u001b[0;34m=\u001b[0m \u001b[0;32mTrue\u001b[0m\u001b[0;34m\u001b[0m\u001b[0;34m\u001b[0m\u001b[0m\n",
      "\u001b[0;31mKeyboardInterrupt\u001b[0m: "
     ]
    }
   ],
   "source": [
    "while True:\n",
    "    clear_output(wait=True)\n",
    "    display(spark.sql('SELECT * FROM count_view LIMIT 20').show())\n",
    "    time.sleep(1)"
   ]
  },
  {
   "cell_type": "code",
   "execution_count": 28,
   "id": "b6c3514a",
   "metadata": {},
   "outputs": [],
   "source": [
    "count_stream.stop()"
   ]
  },
  {
   "cell_type": "markdown",
   "id": "8e1cc01b",
   "metadata": {},
   "source": [
    "### PART 3e - VISUALISATIONS"
   ]
  },
  {
   "cell_type": "code",
   "execution_count": 29,
   "id": "52697da2",
   "metadata": {},
   "outputs": [
    {
     "data": {
      "text/html": [
       "<div>\n",
       "<style scoped>\n",
       "    .dataframe tbody tr th:only-of-type {\n",
       "        vertical-align: middle;\n",
       "    }\n",
       "\n",
       "    .dataframe tbody tr th {\n",
       "        vertical-align: top;\n",
       "    }\n",
       "\n",
       "    .dataframe thead th {\n",
       "        text-align: right;\n",
       "    }\n",
       "</style>\n",
       "<table border=\"1\" class=\"dataframe\">\n",
       "  <thead>\n",
       "    <tr style=\"text-align: right;\">\n",
       "      <th></th>\n",
       "      <th>event_key</th>\n",
       "      <th>event_topic</th>\n",
       "      <th>event_timestamp</th>\n",
       "      <th>account</th>\n",
       "      <th>symbol</th>\n",
       "      <th>side</th>\n",
       "      <th>price</th>\n",
       "      <th>quantity</th>\n",
       "      <th>userid</th>\n",
       "    </tr>\n",
       "  </thead>\n",
       "  <tbody>\n",
       "    <tr>\n",
       "      <th>0</th>\n",
       "      <td>ZXZZT</td>\n",
       "      <td>stock-trades</td>\n",
       "      <td>2021-06-13 06:38:24.769</td>\n",
       "      <td>XYZ789</td>\n",
       "      <td>ZXZZT</td>\n",
       "      <td>BUY</td>\n",
       "      <td>387</td>\n",
       "      <td>1375</td>\n",
       "      <td>User_6</td>\n",
       "    </tr>\n",
       "    <tr>\n",
       "      <th>1</th>\n",
       "      <td>ZBZX</td>\n",
       "      <td>stock-trades</td>\n",
       "      <td>2021-06-13 06:38:24.673</td>\n",
       "      <td>XYZ789</td>\n",
       "      <td>ZBZX</td>\n",
       "      <td>BUY</td>\n",
       "      <td>828</td>\n",
       "      <td>161</td>\n",
       "      <td>User_7</td>\n",
       "    </tr>\n",
       "    <tr>\n",
       "      <th>2</th>\n",
       "      <td>ZWZZT</td>\n",
       "      <td>stock-trades</td>\n",
       "      <td>2021-06-13 06:38:24.661</td>\n",
       "      <td>ABC123</td>\n",
       "      <td>ZWZZT</td>\n",
       "      <td>SELL</td>\n",
       "      <td>30</td>\n",
       "      <td>4748</td>\n",
       "      <td>User_5</td>\n",
       "    </tr>\n",
       "    <tr>\n",
       "      <th>3</th>\n",
       "      <td>ZTEST</td>\n",
       "      <td>stock-trades</td>\n",
       "      <td>2021-06-13 06:38:24.569</td>\n",
       "      <td>ABC123</td>\n",
       "      <td>ZTEST</td>\n",
       "      <td>BUY</td>\n",
       "      <td>465</td>\n",
       "      <td>1040</td>\n",
       "      <td>User_5</td>\n",
       "    </tr>\n",
       "    <tr>\n",
       "      <th>4</th>\n",
       "      <td>ZWZZT</td>\n",
       "      <td>stock-trades</td>\n",
       "      <td>2021-06-13 06:38:24.569</td>\n",
       "      <td>XYZ789</td>\n",
       "      <td>ZWZZT</td>\n",
       "      <td>BUY</td>\n",
       "      <td>347</td>\n",
       "      <td>706</td>\n",
       "      <td>User_5</td>\n",
       "    </tr>\n",
       "    <tr>\n",
       "      <th>...</th>\n",
       "      <td>...</td>\n",
       "      <td>...</td>\n",
       "      <td>...</td>\n",
       "      <td>...</td>\n",
       "      <td>...</td>\n",
       "      <td>...</td>\n",
       "      <td>...</td>\n",
       "      <td>...</td>\n",
       "      <td>...</td>\n",
       "    </tr>\n",
       "    <tr>\n",
       "      <th>72</th>\n",
       "      <td>ZWZZT</td>\n",
       "      <td>stock-trades</td>\n",
       "      <td>2021-06-13 06:38:21.220</td>\n",
       "      <td>XYZ789</td>\n",
       "      <td>ZWZZT</td>\n",
       "      <td>SELL</td>\n",
       "      <td>408</td>\n",
       "      <td>2986</td>\n",
       "      <td>User_9</td>\n",
       "    </tr>\n",
       "    <tr>\n",
       "      <th>73</th>\n",
       "      <td>ZJZZT</td>\n",
       "      <td>stock-trades</td>\n",
       "      <td>2021-06-13 06:38:21.125</td>\n",
       "      <td>XYZ789</td>\n",
       "      <td>ZJZZT</td>\n",
       "      <td>SELL</td>\n",
       "      <td>651</td>\n",
       "      <td>4592</td>\n",
       "      <td>User_8</td>\n",
       "    </tr>\n",
       "    <tr>\n",
       "      <th>74</th>\n",
       "      <td>ZTEST</td>\n",
       "      <td>stock-trades</td>\n",
       "      <td>2021-06-13 06:38:21.054</td>\n",
       "      <td>LMN456</td>\n",
       "      <td>ZTEST</td>\n",
       "      <td>SELL</td>\n",
       "      <td>400</td>\n",
       "      <td>860</td>\n",
       "      <td>User_9</td>\n",
       "    </tr>\n",
       "    <tr>\n",
       "      <th>75</th>\n",
       "      <td>ZBZX</td>\n",
       "      <td>stock-trades</td>\n",
       "      <td>2021-06-13 06:38:21.044</td>\n",
       "      <td>ABC123</td>\n",
       "      <td>ZBZX</td>\n",
       "      <td>SELL</td>\n",
       "      <td>652</td>\n",
       "      <td>4755</td>\n",
       "      <td>User_5</td>\n",
       "    </tr>\n",
       "    <tr>\n",
       "      <th>76</th>\n",
       "      <td>ZVV</td>\n",
       "      <td>stock-trades</td>\n",
       "      <td>2021-06-13 06:38:21.026</td>\n",
       "      <td>XYZ789</td>\n",
       "      <td>ZVV</td>\n",
       "      <td>BUY</td>\n",
       "      <td>822</td>\n",
       "      <td>1052</td>\n",
       "      <td>User_4</td>\n",
       "    </tr>\n",
       "  </tbody>\n",
       "</table>\n",
       "<p>77 rows × 9 columns</p>\n",
       "</div>"
      ],
      "text/plain": [
       "   event_key   event_topic         event_timestamp account symbol  side  \\\n",
       "0      ZXZZT  stock-trades 2021-06-13 06:38:24.769  XYZ789  ZXZZT   BUY   \n",
       "1       ZBZX  stock-trades 2021-06-13 06:38:24.673  XYZ789   ZBZX   BUY   \n",
       "2      ZWZZT  stock-trades 2021-06-13 06:38:24.661  ABC123  ZWZZT  SELL   \n",
       "3      ZTEST  stock-trades 2021-06-13 06:38:24.569  ABC123  ZTEST   BUY   \n",
       "4      ZWZZT  stock-trades 2021-06-13 06:38:24.569  XYZ789  ZWZZT   BUY   \n",
       "..       ...           ...                     ...     ...    ...   ...   \n",
       "72     ZWZZT  stock-trades 2021-06-13 06:38:21.220  XYZ789  ZWZZT  SELL   \n",
       "73     ZJZZT  stock-trades 2021-06-13 06:38:21.125  XYZ789  ZJZZT  SELL   \n",
       "74     ZTEST  stock-trades 2021-06-13 06:38:21.054  LMN456  ZTEST  SELL   \n",
       "75      ZBZX  stock-trades 2021-06-13 06:38:21.044  ABC123   ZBZX  SELL   \n",
       "76       ZVV  stock-trades 2021-06-13 06:38:21.026  XYZ789    ZVV   BUY   \n",
       "\n",
       "    price  quantity  userid  \n",
       "0     387      1375  User_6  \n",
       "1     828       161  User_7  \n",
       "2      30      4748  User_5  \n",
       "3     465      1040  User_5  \n",
       "4     347       706  User_5  \n",
       "..    ...       ...     ...  \n",
       "72    408      2986  User_9  \n",
       "73    651      4592  User_8  \n",
       "74    400       860  User_9  \n",
       "75    652      4755  User_5  \n",
       "76    822      1052  User_4  \n",
       "\n",
       "[77 rows x 9 columns]"
      ]
     },
     "execution_count": 29,
     "metadata": {},
     "output_type": "execute_result"
    }
   ],
   "source": [
    "# Graphing real-time data\n",
    "# loading packages\n",
    "import time\n",
    "import random as rd\n",
    "import numpy as np\n",
    "from IPython.display import clear_output\n",
    "import matplotlib.pyplot as plt\n",
    "\n",
    "# sample data from stocktrade_view\n",
    "x_y = spark.sql('''SELECT * FROM stocktrade_view order by event_timestamp desc limit 2000''')\n",
    "x_y_df = x_y.toPandas()\n",
    "x_y_df"
   ]
  },
  {
   "cell_type": "code",
   "execution_count": 30,
   "id": "d55f6feb",
   "metadata": {},
   "outputs": [],
   "source": [
    "# The following routine displays 3 graphs which include 1 scatter plot, 1 line graph and 1 column chart) \n",
    "def bunchofplots(x1, y1, title1, x2, data2, labels2, title2, x3, y3, title3):\n",
    "    clear_output(wait=True)\n",
    "    # Placing the plots in the plane\n",
    "    fig = plt.figure(figsize = (15,10))\n",
    "    plot1 = plt.subplot2grid((4, 9), (0, 0), rowspan=2, colspan=3)\n",
    "    plot2 = plt.subplot2grid((4, 9), (0, 4), rowspan=4, colspan=5)\n",
    "    plot3 = plt.subplot2grid((4, 9), (2, 0), rowspan=2, colspan=3)\n",
    "  \n",
    "    # Using numpy to create an array x\n",
    "    x = [x for x in range(0,11)]\n",
    "\n",
    "    \n",
    "    # scatter plot\n",
    "    plot1.scatter(x1, y1, color='k') # black dots\n",
    "    m, b = np.polyfit(x1, y1, 1)\n",
    "    plot1.plot(x1, [x * m for x in x1] + b) # showing the line of best-fit\n",
    "    plot1.set(xlabel = 'Price', ylabel = 'Quantity')\n",
    "    plot1.set_title(title1)\n",
    "\n",
    "    \n",
    "    # column chart\n",
    "    plot2.bar(x2 + 0.00, data2[0], color = 'g', width = 0.25)\n",
    "    plot2.bar(x2 + 0.25, data2[1], color = 'r', width = 0.25)\n",
    "    plot2.legend(labels=['BUY', 'SELL'])\n",
    "    plot2.set_xticks(x2)\n",
    "    plot2.set_xticklabels(labels2)\n",
    "\n",
    "    plot2.set_title(title2)\n",
    "    plot2.grid(True)\n",
    "    plot2.set(xlabel = 'Stock symbol', ylabel = 'Traded amount in $')\n",
    "\n",
    "    \n",
    "    # line graph\n",
    "    plot3.plot(x3, y3, color='r') \n",
    "    plot3.set_title(title3)\n",
    "    plot3.set(xlabel = 'Time', ylabel = 'Price')\n",
    "\n",
    "    # Packing all the plots and displaying them\n",
    "    plt.tight_layout()\n",
    "    plt.show()"
   ]
  },
  {
   "cell_type": "code",
   "execution_count": 31,
   "id": "61450098",
   "metadata": {},
   "outputs": [
    {
     "data": {
      "image/png": "[encoded data removed]",
      "text/plain": [
       "<Figure size 1080x720 with 3 Axes>"
      ]
     },
     "metadata": {
      "needs_background": "light"
     },
     "output_type": "display_data"
    },
    {
     "ename": "KeyboardInterrupt",
     "evalue": "",
     "output_type": "error",
     "traceback": [
      "\u001b[0;31m---------------------------------------------------------------------------\u001b[0m",
      "\u001b[0;31mKeyboardInterrupt\u001b[0m                         Traceback (most recent call last)",
      "\u001b[0;32m<ipython-input-31-888f4da18a5b>\u001b[0m in \u001b[0;36m<module>\u001b[0;34m\u001b[0m\n\u001b[1;32m     72\u001b[0m \u001b[0;34m\u001b[0m\u001b[0m\n\u001b[1;32m     73\u001b[0m     \u001b[0;31m# updating every 10 s\u001b[0m\u001b[0;34m\u001b[0m\u001b[0;34m\u001b[0m\u001b[0;34m\u001b[0m\u001b[0m\n\u001b[0;32m---> 74\u001b[0;31m     \u001b[0mtime\u001b[0m\u001b[0;34m.\u001b[0m\u001b[0msleep\u001b[0m\u001b[0;34m(\u001b[0m\u001b[0;36m10\u001b[0m\u001b[0;34m)\u001b[0m\u001b[0;34m\u001b[0m\u001b[0;34m\u001b[0m\u001b[0m\n\u001b[0m",
      "\u001b[0;31mKeyboardInterrupt\u001b[0m: "
     ]
    }
   ],
   "source": [
    "# combining and updating 3 graphs simultaneously \n",
    "stocktrade_stream.stop()\n",
    "\n",
    "stocktrade_stream = stocktrade_stream_df \\\n",
    "    .writeStream \\\n",
    "    .format(\"memory\") \\\n",
    "    .queryName(\"stocktrade_view\") \\\n",
    "    .start()    \n",
    "\n",
    "\n",
    "while True:\n",
    "    # aggregating streamed data and displaying in a scatter plot\n",
    "    # plotting Quantity vs Price\n",
    "    x_y1 = spark.sql('''SELECT * FROM stocktrade_view order by event_timestamp desc limit 200''')\n",
    "    x_y1_df = x_y1.toPandas()\n",
    "    \n",
    "    if x_y1_df.shape[0] > 0: \n",
    "        x1 = x_y1_df.price\n",
    "        y1 = x_y1_df.quantity\n",
    "        title1 = f'Quantity vs Price in last 200 transactions before {max(x_y1_df.event_timestamp)}'\n",
    "\n",
    "    \n",
    "    # aggregating the streamed data and displaying in a column plot\n",
    "    # plotting traded amount vs stock (symbol)\n",
    "    x_y2= spark.sql('''SELECT \n",
    "                        symbol\n",
    "                        , side\n",
    "                        , sum(price*quantity)/100 as traded_amount_in_dollars\n",
    "                        , max(event_timestamp) as max_event_timestamp\n",
    "                    FROM (select * from stocktrade_view order by event_timestamp desc limit 200) as current\n",
    "                    group by \n",
    "                            side\n",
    "                            , symbol\n",
    "\n",
    "                   ''')\n",
    "    x_y2_df = x_y2.toPandas()\n",
    "    \n",
    "    labels2 = list(x_y2_df.symbol.unique())\n",
    "\n",
    "    data2 = [ x_y2_df[x_y2_df['side'] == 'BUY']['traded_amount_in_dollars']\n",
    "            ,x_y2_df[x_y2_df['side'] == 'SELL']['traded_amount_in_dollars']\n",
    "           ]\n",
    "    \n",
    "    x2 = np.arange(len(x_y2_df.symbol.unique()))\n",
    " \n",
    "    title2 = 'Traded amount of last 200 transactions'\n",
    "    \n",
    "    \n",
    "    # aggregating the streamed data and displaying in a line plot\n",
    "    x_y3= spark.sql('''SELECT \n",
    "                            price\n",
    "                            , event_timestamp\n",
    "                            FROM stocktrade_view \n",
    "                            where side = 'SELL'\n",
    "                            and symbol = 'ZTEST'\n",
    "                            order by event_timestamp desc limit 10\n",
    "                    ''')\n",
    "    \n",
    "    x_y3_df = x_y3.toPandas()\n",
    "    \n",
    "    x3 = x_y3_df.event_timestamp\n",
    "    y3 = x_y3_df.price\n",
    "    \n",
    "    title3 = 'Last 10 sell-prices for the stock, ZTEST'\n",
    "    \n",
    "    \n",
    "    print('Preparing streamed data for plots - refreshing every 10 s')\n",
    "    if (x_y1_df.shape[0] > 0):\n",
    "        \n",
    "        bunchofplots(x1, y1, title1, x2, data2, labels2, title2, x3, y3, title3)\n",
    "    \n",
    "    \n",
    "    # updating every 10 s\n",
    "    time.sleep(10)   "
   ]
  },
  {
   "cell_type": "markdown",
   "id": "522af56a",
   "metadata": {},
   "source": [
    "### PART 3d - PARQUET SINK "
   ]
  },
  {
   "cell_type": "code",
   "execution_count": 32,
   "id": "0ff15bc7",
   "metadata": {},
   "outputs": [],
   "source": [
    "# Create dataframe for training and test data, then export to parquet file\n",
    "from pyspark import SparkFiles\n",
    "from pyspark.sql import SQLContext\n",
    "sc = spark.sparkContext\n",
    "sqlContext = SQLContext(sc)"
   ]
  },
  {
   "cell_type": "code",
   "execution_count": 33,
   "id": "cd1ed5de",
   "metadata": {},
   "outputs": [
    {
     "data": {
      "text/plain": [
       "10566"
      ]
     },
     "execution_count": 33,
     "metadata": {},
     "output_type": "execute_result"
    }
   ],
   "source": [
    "# Capture training data - Automatically stops when rows exceed 10000 (checking every 30 seconds). \n",
    "df = sqlContext.sql('SELECT * FROM stocktrade_view')\n",
    "\n",
    "while(df.count() < 10000):\n",
    "    time.sleep(30)\n",
    "    df = sqlContext.sql('SELECT * FROM stocktrade_view')\n",
    "\n",
    "df.count()"
   ]
  },
  {
   "cell_type": "code",
   "execution_count": 34,
   "id": "5ccaec2a",
   "metadata": {},
   "outputs": [
    {
     "data": {
      "text/plain": [
       "10000"
      ]
     },
     "execution_count": 34,
     "metadata": {},
     "output_type": "execute_result"
    }
   ],
   "source": [
    "# Set whole streaming dataset to 10000 rows\n",
    "df_train = sqlContext.sql('SELECT * FROM stocktrade_view order by event_timestamp limit 8000')\n",
    "df_test = sqlContext.sql('SELECT * FROM stocktrade_view order by event_timestamp desc limit 2000')\n",
    "df_concat = df_train.union(df_test)\n",
    "df_concat.count()"
   ]
  },
  {
   "cell_type": "code",
   "execution_count": 35,
   "id": "59617c70",
   "metadata": {},
   "outputs": [],
   "source": [
    "# Sink all data and traning data to parquet files separately\n",
    "df_train.write.parquet('./query2_trainingdata.parquet',mode='append')\n",
    "df_concat.write.parquet('./query2_alldata.parquet',mode='append')"
   ]
  },
  {
   "cell_type": "code",
   "execution_count": 36,
   "id": "131575b5",
   "metadata": {},
   "outputs": [
    {
     "name": "stdout",
     "output_type": "stream",
     "text": [
      "+---------+------------+--------------------+-------+------+----+-----+--------+------+\n",
      "|event_key| event_topic|     event_timestamp|account|symbol|side|price|quantity|userid|\n",
      "+---------+------------+--------------------+-------+------+----+-----+--------+------+\n",
      "|    ZVZZT|stock-trades|2021-06-13 07:07:...| XYZ789| ZVZZT|SELL|  411|    1897|User_7|\n",
      "|    ZVZZT|stock-trades|2021-06-13 07:07:...| LMN456| ZVZZT| BUY|  253|    3377|User_4|\n",
      "|    ZJZZT|stock-trades|2021-06-13 07:07:...| ABC123| ZJZZT| BUY|  925|    3648|User_7|\n",
      "|    ZXZZT|stock-trades|2021-06-13 07:07:...| XYZ789| ZXZZT|SELL|  543|    1046|User_1|\n",
      "|      ZVV|stock-trades|2021-06-13 07:07:...| ABC123|   ZVV| BUY|   62|    3178|User_8|\n",
      "|    ZTEST|stock-trades|2021-06-13 07:07:...| LMN456| ZTEST|SELL|  270|    3418|User_9|\n",
      "|    ZTEST|stock-trades|2021-06-13 07:07:...| ABC123| ZTEST| BUY|  329|    4134|User_8|\n",
      "|    ZVZZT|stock-trades|2021-06-13 07:07:...| XYZ789| ZVZZT| BUY|  668|    3429|User_6|\n",
      "|    ZTEST|stock-trades|2021-06-13 07:07:...| LMN456| ZTEST| BUY|  745|    4448|User_5|\n",
      "|    ZXZZT|stock-trades|2021-06-13 07:07:...| ABC123| ZXZZT| BUY|  706|    2733|User_4|\n",
      "|     ZBZX|stock-trades|2021-06-13 07:07:...| LMN456|  ZBZX|SELL|  308|     387|User_4|\n",
      "|    ZTEST|stock-trades|2021-06-13 07:07:...| LMN456| ZTEST|SELL|  920|     380|User_2|\n",
      "|      ZVV|stock-trades|2021-06-13 07:07:...| ABC123|   ZVV|SELL|  966|    3548|User_4|\n",
      "|    ZJZZT|stock-trades|2021-06-13 07:07:...| XYZ789| ZJZZT|SELL|  846|    2400|User_2|\n",
      "|    ZVZZT|stock-trades|2021-06-13 07:07:...| LMN456| ZVZZT|SELL|  618|     831|User_2|\n",
      "|    ZVZZT|stock-trades|2021-06-13 07:07:...| LMN456| ZVZZT| BUY|  478|    1898|User_9|\n",
      "|     ZBZX|stock-trades|2021-06-13 07:07:...| ABC123|  ZBZX|SELL|  660|    2327|User_6|\n",
      "|    ZTEST|stock-trades|2021-06-13 07:07:...| XYZ789| ZTEST|SELL|  506|    2575|User_6|\n",
      "|      ZVV|stock-trades|2021-06-13 07:07:...| ABC123|   ZVV|SELL|  624|    1706|User_8|\n",
      "|    ZXZZT|stock-trades|2021-06-13 07:07:...| LMN456| ZXZZT| BUY|  737|    1972|User_8|\n",
      "+---------+------------+--------------------+-------+------+----+-----+--------+------+\n",
      "only showing top 20 rows\n",
      "\n"
     ]
    }
   ],
   "source": [
    "# Read parquet file for visualisation and machine learning\n",
    "query2_df = sqlContext.read.parquet('./query2_alldata.parquet')\n",
    "query2_df.show(20)"
   ]
  },
  {
   "cell_type": "markdown",
   "id": "ae9169e3",
   "metadata": {},
   "source": [
    "### PART 4a - ML WITH SPARK"
   ]
  },
  {
   "cell_type": "code",
   "execution_count": 37,
   "id": "532a86e9",
   "metadata": {},
   "outputs": [],
   "source": [
    "# Setup pipelines to train regression model to predict \"quantity\"\n",
    "from pyspark.ml.regression import LinearRegression\n",
    "from pyspark.ml import Pipeline\n",
    "from pyspark.ml.evaluation import RegressionEvaluator\n",
    "from pyspark.ml.feature import StringIndexer,VectorAssembler,VectorIndexer\n",
    "from pyspark.ml.feature import OneHotEncoder"
   ]
  },
  {
   "cell_type": "code",
   "execution_count": 38,
   "id": "45a1479a",
   "metadata": {},
   "outputs": [],
   "source": [
    "cat_cols = ['userid','account','symbol','side']"
   ]
  },
  {
   "cell_type": "code",
   "execution_count": 39,
   "id": "10e2a014",
   "metadata": {},
   "outputs": [],
   "source": [
    "stages = []"
   ]
  },
  {
   "cell_type": "code",
   "execution_count": 40,
   "id": "8e22260f",
   "metadata": {},
   "outputs": [],
   "source": [
    "for cat_col in cat_cols:\n",
    "    col_indexer = StringIndexer(inputCol=cat_col, outputCol =f\"{cat_col}_ind\")\n",
    "    col_encoder = OneHotEncoder(inputCols=[f\"{cat_col}_ind\"],outputCols=[f\"{cat_col}_ohe\"])\n",
    "    stages += [col_indexer, col_encoder]"
   ]
  },
  {
   "cell_type": "code",
   "execution_count": 41,
   "id": "0123270a",
   "metadata": {},
   "outputs": [],
   "source": [
    "num_cols = ['price']"
   ]
  },
  {
   "cell_type": "code",
   "execution_count": 42,
   "id": "2fa06915",
   "metadata": {},
   "outputs": [],
   "source": [
    "cat_cols_ohe = [f\"{cat_col}_ohe\" for cat_col in cat_cols]"
   ]
  },
  {
   "cell_type": "code",
   "execution_count": 43,
   "id": "765c906c",
   "metadata": {},
   "outputs": [],
   "source": [
    "assembler = VectorAssembler(inputCols=cat_cols_ohe+num_cols, outputCol=\"features\")"
   ]
  },
  {
   "cell_type": "code",
   "execution_count": 44,
   "id": "060a2840",
   "metadata": {},
   "outputs": [],
   "source": [
    "regression = LinearRegression(labelCol='quantity',regParam = 0, maxIter = 10)"
   ]
  },
  {
   "cell_type": "code",
   "execution_count": 45,
   "id": "bf2ba926",
   "metadata": {},
   "outputs": [],
   "source": [
    "stages += [assembler,regression]"
   ]
  },
  {
   "cell_type": "code",
   "execution_count": 46,
   "id": "661ccc1b",
   "metadata": {},
   "outputs": [
    {
     "name": "stdout",
     "output_type": "stream",
     "text": [
      "[StringIndexer_0545b0ad3784, OneHotEncoder_6aa80ae58d2b, StringIndexer_e41dc164d5fc, OneHotEncoder_ef2ab78ff4e8, StringIndexer_b5537e86502e, OneHotEncoder_34ed8798af42, StringIndexer_d3ed88643036, OneHotEncoder_5daf2714152a, VectorAssembler_fa0228ba1552, LinearRegression_ba152b6feab6]\n"
     ]
    }
   ],
   "source": [
    "print(stages)"
   ]
  },
  {
   "cell_type": "code",
   "execution_count": 47,
   "id": "eefda4a4",
   "metadata": {},
   "outputs": [],
   "source": [
    "pipeline = Pipeline(stages=stages)"
   ]
  },
  {
   "cell_type": "code",
   "execution_count": 48,
   "id": "1d8cbb91",
   "metadata": {},
   "outputs": [],
   "source": [
    "pipeline = pipeline.fit(query2_df)"
   ]
  },
  {
   "cell_type": "code",
   "execution_count": 49,
   "id": "ebcfdb3c",
   "metadata": {},
   "outputs": [],
   "source": [
    "train_assessment = pipeline.transform(query2_df)"
   ]
  },
  {
   "cell_type": "code",
   "execution_count": 50,
   "id": "4e2ed85d",
   "metadata": {},
   "outputs": [
    {
     "name": "stdout",
     "output_type": "stream",
     "text": [
      "1441.2931935753345\n"
     ]
    }
   ],
   "source": [
    "#Trained regression model evaluation- RMSE\n",
    "lr_evaluator = RegressionEvaluator(metricName=\"rmse\", labelCol=regression.getLabelCol(), \\\n",
    "                                   predictionCol=regression.getPredictionCol())\n",
    "RMSE = lr_evaluator.evaluate(train_assessment)\n",
    "print(RMSE)"
   ]
  },
  {
   "cell_type": "code",
   "execution_count": 51,
   "id": "e776adca",
   "metadata": {},
   "outputs": [
    {
     "name": "stdout",
     "output_type": "stream",
     "text": [
      "+---------+------------+--------------------+-------+------+----+-----+--------+------+----------+-------------+-----------+-------------+----------+-------------+--------+-------------+--------------------+------------------+\n",
      "|event_key| event_topic|     event_timestamp|account|symbol|side|price|quantity|userid|userid_ind|   userid_ohe|account_ind|  account_ohe|symbol_ind|   symbol_ohe|side_ind|     side_ohe|            features|        prediction|\n",
      "+---------+------------+--------------------+-------+------+----+-----+--------+------+----------+-------------+-----------+-------------+----------+-------------+--------+-------------+--------------------+------------------+\n",
      "|    ZVZZT|stock-trades|2021-06-13 07:07:...| XYZ789| ZVZZT|SELL|  411|    1897|User_7|       8.0|    (8,[],[])|        1.0|(2,[1],[1.0])|       1.0|(6,[1],[1.0])|     0.0|(1,[0],[1.0])|(18,[9,11,16,17],...|2530.2531950811617|\n",
      "|    ZVZZT|stock-trades|2021-06-13 07:07:...| LMN456| ZVZZT| BUY|  253|    3377|User_4|       2.0|(8,[2],[1.0])|        0.0|(2,[0],[1.0])|       1.0|(6,[1],[1.0])|     1.0|    (1,[],[])|(18,[2,8,11,17],[...|  2514.24724183384|\n",
      "|    ZJZZT|stock-trades|2021-06-13 07:07:...| ABC123| ZJZZT| BUY|  925|    3648|User_7|       8.0|    (8,[],[])|        2.0|    (2,[],[])|       2.0|(6,[2],[1.0])|     1.0|    (1,[],[])|(18,[12,17],[1.0,...| 2539.305770737068|\n",
      "|    ZXZZT|stock-trades|2021-06-13 07:07:...| XYZ789| ZXZZT|SELL|  543|    1046|User_1|       7.0|(8,[7],[1.0])|        1.0|(2,[1],[1.0])|       5.0|(6,[5],[1.0])|     0.0|(1,[0],[1.0])|(18,[7,9,15,16,17...| 2555.478709192589|\n",
      "|      ZVV|stock-trades|2021-06-13 07:07:...| ABC123|   ZVV| BUY|   62|    3178|User_8|       0.0|(8,[0],[1.0])|        2.0|    (2,[],[])|       3.0|(6,[3],[1.0])|     1.0|    (1,[],[])|(18,[0,13,17],[1....| 2399.693985596208|\n",
      "|    ZTEST|stock-trades|2021-06-13 07:07:...| LMN456| ZTEST|SELL|  270|    3418|User_9|       1.0|(8,[1],[1.0])|        0.0|(2,[0],[1.0])|       0.0|(6,[0],[1.0])|     0.0|(1,[0],[1.0])|(18,[1,8,10,16,17...| 2442.558389655471|\n",
      "|    ZTEST|stock-trades|2021-06-13 07:07:...| ABC123| ZTEST| BUY|  329|    4134|User_8|       0.0|(8,[0],[1.0])|        2.0|    (2,[],[])|       0.0|(6,[0],[1.0])|     1.0|    (1,[],[])|(18,[0,10,17],[1....| 2435.487563531367|\n",
      "|    ZVZZT|stock-trades|2021-06-13 07:07:...| XYZ789| ZVZZT| BUY|  668|    3429|User_6|       3.0|(8,[3],[1.0])|        1.0|(2,[1],[1.0])|       1.0|(6,[1],[1.0])|     1.0|    (1,[],[])|(18,[3,9,11,17],[...| 2597.895492905522|\n",
      "|    ZTEST|stock-trades|2021-06-13 07:07:...| LMN456| ZTEST| BUY|  745|    4448|User_5|       5.0|(8,[5],[1.0])|        0.0|(2,[0],[1.0])|       0.0|(6,[0],[1.0])|     1.0|    (1,[],[])|(18,[5,8,10,17],[...| 2422.444952421579|\n",
      "|    ZXZZT|stock-trades|2021-06-13 07:07:...| ABC123| ZXZZT| BUY|  706|    2733|User_4|       2.0|(8,[2],[1.0])|        2.0|    (2,[],[])|       5.0|(6,[5],[1.0])|     1.0|    (1,[],[])|(18,[2,15,17],[1....|2577.9306829078437|\n",
      "+---------+------------+--------------------+-------+------+----+-----+--------+------+----------+-------------+-----------+-------------+----------+-------------+--------+-------------+--------------------+------------------+\n",
      "only showing top 10 rows\n",
      "\n"
     ]
    }
   ],
   "source": [
    "train_assessment.show(10)"
   ]
  },
  {
   "cell_type": "code",
   "execution_count": 52,
   "id": "57fbf40d",
   "metadata": {},
   "outputs": [
    {
     "data": {
      "text/plain": [
       "34667"
      ]
     },
     "execution_count": 52,
     "metadata": {},
     "output_type": "execute_result"
    }
   ],
   "source": [
    "train_assessment.count()"
   ]
  },
  {
   "cell_type": "code",
   "execution_count": 53,
   "id": "ffe84a3d",
   "metadata": {},
   "outputs": [],
   "source": [
    "test_assessment = pipeline.transform(df_test)"
   ]
  },
  {
   "cell_type": "code",
   "execution_count": 54,
   "id": "33faff63",
   "metadata": {},
   "outputs": [
    {
     "name": "stdout",
     "output_type": "stream",
     "text": [
      "1449.017953887715\n"
     ]
    }
   ],
   "source": [
    "#Regression model test evaluation- RMSE\n",
    "lr_evaluator = RegressionEvaluator(metricName=\"rmse\", labelCol=regression.getLabelCol(), \\\n",
    "                                   predictionCol=regression.getPredictionCol())\n",
    "RMSE = lr_evaluator.evaluate(test_assessment)\n",
    "print(RMSE)"
   ]
  },
  {
   "cell_type": "code",
   "execution_count": 56,
   "id": "528fa80c",
   "metadata": {},
   "outputs": [],
   "source": [
    "# Create pipelines for RF classification model to predict \"side\"\n",
    "from pyspark.ml.classification import RandomForestClassifier\n",
    "from pyspark.ml.evaluation import MulticlassClassificationEvaluator"
   ]
  },
  {
   "cell_type": "code",
   "execution_count": 57,
   "id": "85ca8fca",
   "metadata": {},
   "outputs": [],
   "source": [
    "cols_list = ['side','userid','account','symbol','quantity','price']"
   ]
  },
  {
   "cell_type": "code",
   "execution_count": 58,
   "id": "6df020e5",
   "metadata": {},
   "outputs": [],
   "source": [
    "cat_cols = ['userid','account','symbol']"
   ]
  },
  {
   "cell_type": "code",
   "execution_count": 59,
   "id": "820a75ee",
   "metadata": {},
   "outputs": [],
   "source": [
    "stages = []\n",
    "for cat_col in cat_cols:\n",
    "    col_indexer = StringIndexer(inputCol=cat_col, outputCol =f\"{cat_col}_ind\")\n",
    "    col_encoder = OneHotEncoder(inputCols=[f\"{cat_col}_ind\"],outputCols=[f\"{cat_col}_ohe\"])\n",
    "    stages += [col_indexer, col_encoder]"
   ]
  },
  {
   "cell_type": "code",
   "execution_count": 60,
   "id": "59c42d94",
   "metadata": {},
   "outputs": [],
   "source": [
    "target_indexer = StringIndexer(inputCol='side', outputCol='label')"
   ]
  },
  {
   "cell_type": "code",
   "execution_count": 61,
   "id": "db64c546",
   "metadata": {},
   "outputs": [],
   "source": [
    "num_cols = ['quantity','price']"
   ]
  },
  {
   "cell_type": "code",
   "execution_count": 62,
   "id": "4760448b",
   "metadata": {},
   "outputs": [],
   "source": [
    "cat_cols_ohe = [f\"{cat_col}_ohe\" for cat_col in cat_cols]"
   ]
  },
  {
   "cell_type": "code",
   "execution_count": 63,
   "id": "2d227585",
   "metadata": {},
   "outputs": [],
   "source": [
    "assembler = VectorAssembler(inputCols= cat_cols_ohe + num_cols, outputCol=\"features\")"
   ]
  },
  {
   "cell_type": "code",
   "execution_count": 64,
   "id": "914af24b",
   "metadata": {},
   "outputs": [],
   "source": [
    "stages += [target_indexer,assembler]"
   ]
  },
  {
   "cell_type": "code",
   "execution_count": 65,
   "id": "572bc84c",
   "metadata": {},
   "outputs": [
    {
     "name": "stdout",
     "output_type": "stream",
     "text": [
      "[StringIndexer_f46415de4c1a, OneHotEncoder_21fc385f4074, StringIndexer_e873a435a989, OneHotEncoder_ea819fd7a684, StringIndexer_94fd74bd372d, OneHotEncoder_e17dd676d398, StringIndexer_4f6ea5cb7160, VectorAssembler_7f746b72bbd5]\n"
     ]
    }
   ],
   "source": [
    "print(stages)"
   ]
  },
  {
   "cell_type": "code",
   "execution_count": 66,
   "id": "6e2d0a5c",
   "metadata": {},
   "outputs": [],
   "source": [
    "pipeline = Pipeline(stages=stages)"
   ]
  },
  {
   "cell_type": "code",
   "execution_count": 67,
   "id": "61fc55e2",
   "metadata": {},
   "outputs": [],
   "source": [
    "pipeline_model = pipeline.fit(query2_df)"
   ]
  },
  {
   "cell_type": "code",
   "execution_count": 68,
   "id": "11735d67",
   "metadata": {},
   "outputs": [],
   "source": [
    "df = pipeline_model.transform(query2_df)"
   ]
  },
  {
   "cell_type": "code",
   "execution_count": 69,
   "id": "038c5235",
   "metadata": {},
   "outputs": [
    {
     "name": "stdout",
     "output_type": "stream",
     "text": [
      "+-----+--------------------+----+------+-------+------+--------+-----+\n",
      "|label|            features|side|userid|account|symbol|quantity|price|\n",
      "+-----+--------------------+----+------+-------+------+--------+-----+\n",
      "|  0.0|(18,[9,11,16,17],...|SELL|User_7| XYZ789| ZVZZT|    1897|  411|\n",
      "|  1.0|(18,[2,8,11,16,17...| BUY|User_4| LMN456| ZVZZT|    3377|  253|\n",
      "|  1.0|(18,[12,16,17],[1...| BUY|User_7| ABC123| ZJZZT|    3648|  925|\n",
      "|  0.0|(18,[7,9,15,16,17...|SELL|User_1| XYZ789| ZXZZT|    1046|  543|\n",
      "|  1.0|(18,[0,13,16,17],...| BUY|User_8| ABC123|   ZVV|    3178|   62|\n",
      "|  0.0|(18,[1,8,10,16,17...|SELL|User_9| LMN456| ZTEST|    3418|  270|\n",
      "|  1.0|(18,[0,10,16,17],...| BUY|User_8| ABC123| ZTEST|    4134|  329|\n",
      "|  1.0|(18,[3,9,11,16,17...| BUY|User_6| XYZ789| ZVZZT|    3429|  668|\n",
      "|  1.0|(18,[5,8,10,16,17...| BUY|User_5| LMN456| ZTEST|    4448|  745|\n",
      "|  1.0|(18,[2,15,16,17],...| BUY|User_4| ABC123| ZXZZT|    2733|  706|\n",
      "|  0.0|(18,[2,8,16,17],[...|SELL|User_4| LMN456|  ZBZX|     387|  308|\n",
      "|  0.0|(18,[4,8,10,16,17...|SELL|User_2| LMN456| ZTEST|     380|  920|\n",
      "|  0.0|(18,[2,13,16,17],...|SELL|User_4| ABC123|   ZVV|    3548|  966|\n",
      "|  0.0|(18,[4,9,12,16,17...|SELL|User_2| XYZ789| ZJZZT|    2400|  846|\n",
      "|  0.0|(18,[4,8,11,16,17...|SELL|User_2| LMN456| ZVZZT|     831|  618|\n",
      "|  1.0|(18,[1,8,11,16,17...| BUY|User_9| LMN456| ZVZZT|    1898|  478|\n",
      "|  0.0|(18,[3,16,17],[1....|SELL|User_6| ABC123|  ZBZX|    2327|  660|\n",
      "|  0.0|(18,[3,9,10,16,17...|SELL|User_6| XYZ789| ZTEST|    2575|  506|\n",
      "|  0.0|(18,[0,13,16,17],...|SELL|User_8| ABC123|   ZVV|    1706|  624|\n",
      "|  1.0|(18,[0,8,15,16,17...| BUY|User_8| LMN456| ZXZZT|    1972|  737|\n",
      "+-----+--------------------+----+------+-------+------+--------+-----+\n",
      "only showing top 20 rows\n",
      "\n"
     ]
    }
   ],
   "source": [
    "df = df.select(['label','features'] + cols_list)\n",
    "df.show()"
   ]
  },
  {
   "cell_type": "code",
   "execution_count": 70,
   "id": "2caaa05f",
   "metadata": {},
   "outputs": [],
   "source": [
    "train_data,test_data = df.randomSplit([0.8,0.2], seed = 1)"
   ]
  },
  {
   "cell_type": "code",
   "execution_count": 71,
   "id": "ada9f679",
   "metadata": {},
   "outputs": [],
   "source": [
    "rf = RandomForestClassifier(featuresCol='features', labelCol='label')"
   ]
  },
  {
   "cell_type": "code",
   "execution_count": 72,
   "id": "d37e9381",
   "metadata": {},
   "outputs": [],
   "source": [
    "rf_model = rf.fit(train_data)"
   ]
  },
  {
   "cell_type": "code",
   "execution_count": 73,
   "id": "d215f0b3",
   "metadata": {},
   "outputs": [],
   "source": [
    "train_preds = rf_model.transform(train_data)"
   ]
  },
  {
   "cell_type": "code",
   "execution_count": 74,
   "id": "ff4f748b",
   "metadata": {},
   "outputs": [],
   "source": [
    "test_preds = rf_model.transform(test_data)"
   ]
  },
  {
   "cell_type": "code",
   "execution_count": 75,
   "id": "6d572e43",
   "metadata": {},
   "outputs": [
    {
     "name": "stdout",
     "output_type": "stream",
     "text": [
      "+----+------+-------+------+--------+-----+----------+--------------------+\n",
      "|side|userid|account|symbol|quantity|price|prediction|         probability|\n",
      "+----+------+-------+------+--------+-----+----------+--------------------+\n",
      "|SELL|User_8| LMN456| ZTEST|     137|  393|       1.0|[0.47875469743298...|\n",
      "|SELL|User_8| LMN456| ZTEST|     470|  933|       1.0|[0.49599375605152...|\n",
      "|SELL|User_8| LMN456| ZTEST|     498|  363|       1.0|[0.47875469743298...|\n",
      "|SELL|User_8| LMN456| ZTEST|     521|  243|       1.0|[0.47625139107393...|\n",
      "|SELL|User_8| LMN456| ZTEST|     696|  661|       1.0|[0.48365536690112...|\n",
      "|SELL|User_8| LMN456| ZTEST|    1081|  289|       1.0|[0.47385633573854...|\n",
      "|SELL|User_8| LMN456| ZTEST|    1547|  417|       1.0|[0.48824779170913...|\n",
      "|SELL|User_8| LMN456| ZTEST|    1767|  482|       1.0|[0.49220640337526...|\n",
      "|SELL|User_8| LMN456| ZTEST|    2710|  880|       1.0|[0.49461924123541...|\n",
      "|SELL|User_8| LMN456| ZTEST|    2870|  720|       1.0|[0.49607927372345...|\n",
      "+----+------+-------+------+--------+-----+----------+--------------------+\n",
      "only showing top 10 rows\n",
      "\n"
     ]
    }
   ],
   "source": [
    "#Create test prediction - output\n",
    "train_preds.select(cols_list + ['prediction','probability']).show(10)"
   ]
  },
  {
   "cell_type": "code",
   "execution_count": 76,
   "id": "fb3bc5b2",
   "metadata": {},
   "outputs": [
    {
     "name": "stdout",
     "output_type": "stream",
     "text": [
      "[AUROC] train:0.5661856705770992 - test: 0.5201047231999099\n"
     ]
    }
   ],
   "source": [
    "#RF classification - AUROC\n",
    "from pyspark.ml.evaluation import BinaryClassificationEvaluator, MulticlassClassificationEvaluator\n",
    "evaluator = BinaryClassificationEvaluator(metricName= 'areaUnderROC')\n",
    "print(f\"[AUROC] train:{evaluator.evaluate(train_preds)} - test: {evaluator.evaluate(test_preds)}\")"
   ]
  },
  {
   "cell_type": "code",
   "execution_count": 77,
   "id": "3a086e93",
   "metadata": {},
   "outputs": [
    {
     "name": "stdout",
     "output_type": "stream",
     "text": [
      "[Accuracy] train:0.5455493991508958 - test: 0.5157864105921722\n"
     ]
    }
   ],
   "source": [
    "#RF classification - Accuracy\n",
    "from pyspark.ml.evaluation import MulticlassClassificationEvaluator\n",
    "evaluator_multi = MulticlassClassificationEvaluator()\n",
    "acc_metric = {evaluator_multi.metricName: \"accuracy\"}\n",
    "print(f\"[Accuracy] train:{evaluator_multi.evaluate(train_preds,acc_metric)} - test: {evaluator_multi.evaluate(test_preds, acc_metric)}\")"
   ]
  },
  {
   "cell_type": "code",
   "execution_count": null,
   "id": "76d9c738",
   "metadata": {},
   "outputs": [],
   "source": [
    "spark.stop()"
   ]
  }
 ],
 "metadata": {
  "kernelspec": {
   "display_name": "Python 3",
   "language": "python",
   "name": "python3"
  },
  "language_info": {
   "codemirror_mode": {
    "name": "ipython",
    "version": 3
   },
   "file_extension": ".py",
   "mimetype": "text/x-python",
   "name": "python",
   "nbconvert_exporter": "python",
   "pygments_lexer": "ipython3",
   "version": "3.8.8"
  }
 },
 "nbformat": 4,
 "nbformat_minor": 5
}
