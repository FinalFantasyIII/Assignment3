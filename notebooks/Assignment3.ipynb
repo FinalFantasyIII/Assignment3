{
 "cells": [
  {
   "cell_type": "code",
   "execution_count": 45,
   "id": "1e73f08b",
   "metadata": {},
   "outputs": [],
   "source": [
    "from pyspark.sql import SparkSession\n",
    "from IPython.display import display, clear_output\n",
    "import time\n",
    "from pyspark.sql import functions as F\n",
    "from pyspark.sql.types import StructType, StructField, IntegerType, StringType"
   ]
  },
  {
   "cell_type": "code",
   "execution_count": 62,
   "id": "a2f738c1",
   "metadata": {},
   "outputs": [],
   "source": [
    "spark = SparkSession.builder \\\n",
    "        .appName('kafka') \\\n",
    "        .getOrCreate()"
   ]
  },
  {
   "cell_type": "code",
   "execution_count": 78,
   "id": "798a5f60",
   "metadata": {},
   "outputs": [],
   "source": [
    "stream_df = spark \\\n",
    "  .readStream \\\n",
    "  .format(\"kafka\") \\\n",
    "  .option(\"kafka.bootstrap.servers\", \"broker:29092\") \\\n",
    "  .option(\"startingOffsets\", \"earliest\") \\\n",
    "  .option(\"subscribe\", \"stock-trades\") \\\n",
    "  .load()"
   ]
  },
  {
   "cell_type": "code",
   "execution_count": 79,
   "id": "d8bb030c",
   "metadata": {},
   "outputs": [
    {
     "name": "stdout",
     "output_type": "stream",
     "text": [
      "root\n",
      " |-- key: binary (nullable = true)\n",
      " |-- value: binary (nullable = true)\n",
      " |-- topic: string (nullable = true)\n",
      " |-- partition: integer (nullable = true)\n",
      " |-- offset: long (nullable = true)\n",
      " |-- timestamp: timestamp (nullable = true)\n",
      " |-- timestampType: integer (nullable = true)\n",
      "\n"
     ]
    }
   ],
   "source": [
    "stream_df.printSchema()"
   ]
  },
  {
   "cell_type": "code",
   "execution_count": 80,
   "id": "77a51f6e",
   "metadata": {},
   "outputs": [],
   "source": [
    "raw_stream = stream_df \\\n",
    "    .writeStream \\\n",
    "    .format(\"memory\") \\\n",
    "    .queryName(\"raw_stocktrade_view\") \\\n",
    "    .start()"
   ]
  },
  {
   "cell_type": "code",
   "execution_count": 81,
   "id": "f51ac45b",
   "metadata": {},
   "outputs": [],
   "source": [
    "clear_output(wait=True)"
   ]
  },
  {
   "cell_type": "code",
   "execution_count": 82,
   "id": "8f8a0f54",
   "metadata": {},
   "outputs": [],
   "source": [
    "time.sleep(10)"
   ]
  },
  {
   "cell_type": "code",
   "execution_count": 83,
   "id": "62a5a638",
   "metadata": {},
   "outputs": [
    {
     "name": "stdout",
     "output_type": "stream",
     "text": [
      "+----------------+--------------------+------------+---------+------+--------------------+-------------+\n",
      "|             key|               value|       topic|partition|offset|           timestamp|timestampType|\n",
      "+----------------+--------------------+------------+---------+------+--------------------+-------------+\n",
      "|[5A 57 5A 5A 54]|[7B 22 73 63 68 6...|stock-trades|        0|     0|2021-06-05 07:40:...|            0|\n",
      "|[5A 58 5A 5A 54]|[7B 22 73 63 68 6...|stock-trades|        0|     1|2021-06-05 07:40:...|            0|\n",
      "|[5A 56 5A 5A 54]|[7B 22 73 63 68 6...|stock-trades|        0|     2|2021-06-05 07:40:...|            0|\n",
      "|[5A 56 5A 5A 54]|[7B 22 73 63 68 6...|stock-trades|        0|     3|2021-06-05 07:40:...|            0|\n",
      "|[5A 58 5A 5A 54]|[7B 22 73 63 68 6...|stock-trades|        0|     4|2021-06-05 07:40:...|            0|\n",
      "|[5A 54 45 53 54]|[7B 22 73 63 68 6...|stock-trades|        0|     5|2021-06-05 07:40:...|            0|\n",
      "|   [5A 42 5A 58]|[7B 22 73 63 68 6...|stock-trades|        0|     6|2021-06-05 07:40:...|            0|\n",
      "|      [5A 56 56]|[7B 22 73 63 68 6...|stock-trades|        0|     7|2021-06-05 07:40:...|            0|\n",
      "|[5A 56 5A 5A 54]|[7B 22 73 63 68 6...|stock-trades|        0|     8|2021-06-05 07:40:...|            0|\n",
      "|   [5A 42 5A 58]|[7B 22 73 63 68 6...|stock-trades|        0|     9|2021-06-05 07:40:...|            0|\n",
      "|[5A 57 5A 5A 54]|[7B 22 73 63 68 6...|stock-trades|        0|    10|2021-06-05 07:40:...|            0|\n",
      "|[5A 57 5A 5A 54]|[7B 22 73 63 68 6...|stock-trades|        0|    11|2021-06-05 07:40:...|            0|\n",
      "|[5A 58 5A 5A 54]|[7B 22 73 63 68 6...|stock-trades|        0|    12|2021-06-05 07:40:...|            0|\n",
      "|[5A 57 5A 5A 54]|[7B 22 73 63 68 6...|stock-trades|        0|    13|2021-06-05 07:40:...|            0|\n",
      "|[5A 54 45 53 54]|[7B 22 73 63 68 6...|stock-trades|        0|    14|2021-06-05 07:40:...|            0|\n",
      "|      [5A 56 56]|[7B 22 73 63 68 6...|stock-trades|        0|    15|2021-06-05 07:40:...|            0|\n",
      "|[5A 54 45 53 54]|[7B 22 73 63 68 6...|stock-trades|        0|    16|2021-06-05 07:40:...|            0|\n",
      "|      [5A 56 56]|[7B 22 73 63 68 6...|stock-trades|        0|    17|2021-06-05 07:40:...|            0|\n",
      "|[5A 4A 5A 5A 54]|[7B 22 73 63 68 6...|stock-trades|        0|    18|2021-06-05 07:40:...|            0|\n",
      "|[5A 57 5A 5A 54]|[7B 22 73 63 68 6...|stock-trades|        0|    19|2021-06-05 07:40:...|            0|\n",
      "+----------------+--------------------+------------+---------+------+--------------------+-------------+\n",
      "only showing top 20 rows\n",
      "\n"
     ]
    },
    {
     "data": {
      "text/plain": [
       "None"
      ]
     },
     "metadata": {},
     "output_type": "display_data"
    }
   ],
   "source": [
    "clear_output(wait=True)\n",
    "display(spark.sql('SELECT * FROM raw_stocktrade_view').show(20))\n",
    "time.sleep(1)"
   ]
  },
  {
   "cell_type": "code",
   "execution_count": 77,
   "id": "ab9b1795",
   "metadata": {},
   "outputs": [],
   "source": [
    "raw_stream.stop()"
   ]
  },
  {
   "cell_type": "code",
   "execution_count": 85,
   "id": "5a637b70",
   "metadata": {},
   "outputs": [],
   "source": [
    "string_stream_df = stream_df \\\n",
    "    .withColumn(\"key\", stream_df[\"key\"].cast(StringType())) \\\n",
    "    .withColumn(\"value\", stream_df[\"value\"].cast(StringType()))"
   ]
  },
  {
   "cell_type": "code",
   "execution_count": 86,
   "id": "7e500359",
   "metadata": {},
   "outputs": [],
   "source": [
    "string_stream = string_stream_df \\\n",
    "    .writeStream \\\n",
    "    .format(\"memory\") \\\n",
    "    .queryName(\"string_stocktrade_view\") \\\n",
    "    .start()"
   ]
  },
  {
   "cell_type": "code",
   "execution_count": 107,
   "id": "cf87541b",
   "metadata": {},
   "outputs": [
    {
     "name": "stdout",
     "output_type": "stream",
     "text": [
      "+-----+-------------------------------------------------------------------------------------------------------------------------------------------------------------------------------------------------------------------------------------------------------------------------------------------------------------------------------------------------------------------------------------------------------------------------------------------------------------------------------------------------------------------------------------------------------------------------------------------------------------------------------------------------------------------------------------------------------------------------------------------------------------------------------------------------------------------------------------------------------------------------------------------------------------------------------------------------------------------------------------------------------------+------------+---------+------+-----------------------+-------------+\n",
      "|key  |value                                                                                                                                                                                                                                                                                                                                                                                                                                                                                                                                                                                                                                                                                                                                                                                                                                                                                                                                                                                                        |topic       |partition|offset|timestamp              |timestampType|\n",
      "+-----+-------------------------------------------------------------------------------------------------------------------------------------------------------------------------------------------------------------------------------------------------------------------------------------------------------------------------------------------------------------------------------------------------------------------------------------------------------------------------------------------------------------------------------------------------------------------------------------------------------------------------------------------------------------------------------------------------------------------------------------------------------------------------------------------------------------------------------------------------------------------------------------------------------------------------------------------------------------------------------------------------------------+------------+---------+------+-----------------------+-------------+\n",
      "|ZWZZT|{\"schema\":{\"type\":\"struct\",\"fields\":[{\"type\":\"string\",\"optional\":false,\"doc\":\"A simulated trade side (buy or sell or short)\",\"field\":\"side\"},{\"type\":\"int32\",\"optional\":false,\"doc\":\"A simulated random quantity of the trade\",\"field\":\"quantity\"},{\"type\":\"string\",\"optional\":false,\"doc\":\"Simulated stock symbols\",\"field\":\"symbol\"},{\"type\":\"int32\",\"optional\":false,\"doc\":\"A simulated random trade price in pennies\",\"field\":\"price\"},{\"type\":\"string\",\"optional\":false,\"doc\":\"Simulated accounts assigned to the trade\",\"field\":\"account\"},{\"type\":\"string\",\"optional\":false,\"doc\":\"The simulated user who executed the trade\",\"field\":\"userid\"}],\"optional\":false,\"name\":\"ksql.StockTrade\",\"doc\":\"Defines a hypothetical stock trade using some known test stock symbols.\",\"parameters\":{\"connect.record.doc\":\"Defines a hypothetical stock trade using some known test stock symbols.\"}},\"payload\":{\"side\":\"BUY\",\"quantity\":1769,\"symbol\":\"ZWZZT\",\"price\":161,\"account\":\"XYZ789\",\"userid\":\"User_4\"}} |stock-trades|0        |0     |2021-06-05 07:40:45.631|0            |\n",
      "|ZXZZT|{\"schema\":{\"type\":\"struct\",\"fields\":[{\"type\":\"string\",\"optional\":false,\"doc\":\"A simulated trade side (buy or sell or short)\",\"field\":\"side\"},{\"type\":\"int32\",\"optional\":false,\"doc\":\"A simulated random quantity of the trade\",\"field\":\"quantity\"},{\"type\":\"string\",\"optional\":false,\"doc\":\"Simulated stock symbols\",\"field\":\"symbol\"},{\"type\":\"int32\",\"optional\":false,\"doc\":\"A simulated random trade price in pennies\",\"field\":\"price\"},{\"type\":\"string\",\"optional\":false,\"doc\":\"Simulated accounts assigned to the trade\",\"field\":\"account\"},{\"type\":\"string\",\"optional\":false,\"doc\":\"The simulated user who executed the trade\",\"field\":\"userid\"}],\"optional\":false,\"name\":\"ksql.StockTrade\",\"doc\":\"Defines a hypothetical stock trade using some known test stock symbols.\",\"parameters\":{\"connect.record.doc\":\"Defines a hypothetical stock trade using some known test stock symbols.\"}},\"payload\":{\"side\":\"SELL\",\"quantity\":998,\"symbol\":\"ZXZZT\",\"price\":327,\"account\":\"LMN456\",\"userid\":\"User_6\"}} |stock-trades|0        |1     |2021-06-05 07:40:46.313|0            |\n",
      "|ZVZZT|{\"schema\":{\"type\":\"struct\",\"fields\":[{\"type\":\"string\",\"optional\":false,\"doc\":\"A simulated trade side (buy or sell or short)\",\"field\":\"side\"},{\"type\":\"int32\",\"optional\":false,\"doc\":\"A simulated random quantity of the trade\",\"field\":\"quantity\"},{\"type\":\"string\",\"optional\":false,\"doc\":\"Simulated stock symbols\",\"field\":\"symbol\"},{\"type\":\"int32\",\"optional\":false,\"doc\":\"A simulated random trade price in pennies\",\"field\":\"price\"},{\"type\":\"string\",\"optional\":false,\"doc\":\"Simulated accounts assigned to the trade\",\"field\":\"account\"},{\"type\":\"string\",\"optional\":false,\"doc\":\"The simulated user who executed the trade\",\"field\":\"userid\"}],\"optional\":false,\"name\":\"ksql.StockTrade\",\"doc\":\"Defines a hypothetical stock trade using some known test stock symbols.\",\"parameters\":{\"connect.record.doc\":\"Defines a hypothetical stock trade using some known test stock symbols.\"}},\"payload\":{\"side\":\"SELL\",\"quantity\":4974,\"symbol\":\"ZVZZT\",\"price\":414,\"account\":\"ABC123\",\"userid\":\"User_1\"}}|stock-trades|0        |2     |2021-06-05 07:40:46.47 |0            |\n",
      "|ZVZZT|{\"schema\":{\"type\":\"struct\",\"fields\":[{\"type\":\"string\",\"optional\":false,\"doc\":\"A simulated trade side (buy or sell or short)\",\"field\":\"side\"},{\"type\":\"int32\",\"optional\":false,\"doc\":\"A simulated random quantity of the trade\",\"field\":\"quantity\"},{\"type\":\"string\",\"optional\":false,\"doc\":\"Simulated stock symbols\",\"field\":\"symbol\"},{\"type\":\"int32\",\"optional\":false,\"doc\":\"A simulated random trade price in pennies\",\"field\":\"price\"},{\"type\":\"string\",\"optional\":false,\"doc\":\"Simulated accounts assigned to the trade\",\"field\":\"account\"},{\"type\":\"string\",\"optional\":false,\"doc\":\"The simulated user who executed the trade\",\"field\":\"userid\"}],\"optional\":false,\"name\":\"ksql.StockTrade\",\"doc\":\"Defines a hypothetical stock trade using some known test stock symbols.\",\"parameters\":{\"connect.record.doc\":\"Defines a hypothetical stock trade using some known test stock symbols.\"}},\"payload\":{\"side\":\"BUY\",\"quantity\":1143,\"symbol\":\"ZVZZT\",\"price\":572,\"account\":\"XYZ789\",\"userid\":\"User_3\"}} |stock-trades|0        |3     |2021-06-05 07:40:46.747|0            |\n",
      "|ZXZZT|{\"schema\":{\"type\":\"struct\",\"fields\":[{\"type\":\"string\",\"optional\":false,\"doc\":\"A simulated trade side (buy or sell or short)\",\"field\":\"side\"},{\"type\":\"int32\",\"optional\":false,\"doc\":\"A simulated random quantity of the trade\",\"field\":\"quantity\"},{\"type\":\"string\",\"optional\":false,\"doc\":\"Simulated stock symbols\",\"field\":\"symbol\"},{\"type\":\"int32\",\"optional\":false,\"doc\":\"A simulated random trade price in pennies\",\"field\":\"price\"},{\"type\":\"string\",\"optional\":false,\"doc\":\"Simulated accounts assigned to the trade\",\"field\":\"account\"},{\"type\":\"string\",\"optional\":false,\"doc\":\"The simulated user who executed the trade\",\"field\":\"userid\"}],\"optional\":false,\"name\":\"ksql.StockTrade\",\"doc\":\"Defines a hypothetical stock trade using some known test stock symbols.\",\"parameters\":{\"connect.record.doc\":\"Defines a hypothetical stock trade using some known test stock symbols.\"}},\"payload\":{\"side\":\"SELL\",\"quantity\":6,\"symbol\":\"ZXZZT\",\"price\":785,\"account\":\"LMN456\",\"userid\":\"User_4\"}}   |stock-trades|0        |4     |2021-06-05 07:40:47.066|0            |\n",
      "|ZTEST|{\"schema\":{\"type\":\"struct\",\"fields\":[{\"type\":\"string\",\"optional\":false,\"doc\":\"A simulated trade side (buy or sell or short)\",\"field\":\"side\"},{\"type\":\"int32\",\"optional\":false,\"doc\":\"A simulated random quantity of the trade\",\"field\":\"quantity\"},{\"type\":\"string\",\"optional\":false,\"doc\":\"Simulated stock symbols\",\"field\":\"symbol\"},{\"type\":\"int32\",\"optional\":false,\"doc\":\"A simulated random trade price in pennies\",\"field\":\"price\"},{\"type\":\"string\",\"optional\":false,\"doc\":\"Simulated accounts assigned to the trade\",\"field\":\"account\"},{\"type\":\"string\",\"optional\":false,\"doc\":\"The simulated user who executed the trade\",\"field\":\"userid\"}],\"optional\":false,\"name\":\"ksql.StockTrade\",\"doc\":\"Defines a hypothetical stock trade using some known test stock symbols.\",\"parameters\":{\"connect.record.doc\":\"Defines a hypothetical stock trade using some known test stock symbols.\"}},\"payload\":{\"side\":\"BUY\",\"quantity\":1014,\"symbol\":\"ZTEST\",\"price\":389,\"account\":\"ABC123\",\"userid\":\"User_2\"}} |stock-trades|0        |5     |2021-06-05 07:40:47.235|0            |\n",
      "|ZBZX |{\"schema\":{\"type\":\"struct\",\"fields\":[{\"type\":\"string\",\"optional\":false,\"doc\":\"A simulated trade side (buy or sell or short)\",\"field\":\"side\"},{\"type\":\"int32\",\"optional\":false,\"doc\":\"A simulated random quantity of the trade\",\"field\":\"quantity\"},{\"type\":\"string\",\"optional\":false,\"doc\":\"Simulated stock symbols\",\"field\":\"symbol\"},{\"type\":\"int32\",\"optional\":false,\"doc\":\"A simulated random trade price in pennies\",\"field\":\"price\"},{\"type\":\"string\",\"optional\":false,\"doc\":\"Simulated accounts assigned to the trade\",\"field\":\"account\"},{\"type\":\"string\",\"optional\":false,\"doc\":\"The simulated user who executed the trade\",\"field\":\"userid\"}],\"optional\":false,\"name\":\"ksql.StockTrade\",\"doc\":\"Defines a hypothetical stock trade using some known test stock symbols.\",\"parameters\":{\"connect.record.doc\":\"Defines a hypothetical stock trade using some known test stock symbols.\"}},\"payload\":{\"side\":\"SELL\",\"quantity\":2883,\"symbol\":\"ZBZX\",\"price\":128,\"account\":\"ABC123\",\"userid\":\"User_7\"}} |stock-trades|0        |6     |2021-06-05 07:40:48.117|0            |\n",
      "|ZVV  |{\"schema\":{\"type\":\"struct\",\"fields\":[{\"type\":\"string\",\"optional\":false,\"doc\":\"A simulated trade side (buy or sell or short)\",\"field\":\"side\"},{\"type\":\"int32\",\"optional\":false,\"doc\":\"A simulated random quantity of the trade\",\"field\":\"quantity\"},{\"type\":\"string\",\"optional\":false,\"doc\":\"Simulated stock symbols\",\"field\":\"symbol\"},{\"type\":\"int32\",\"optional\":false,\"doc\":\"A simulated random trade price in pennies\",\"field\":\"price\"},{\"type\":\"string\",\"optional\":false,\"doc\":\"Simulated accounts assigned to the trade\",\"field\":\"account\"},{\"type\":\"string\",\"optional\":false,\"doc\":\"The simulated user who executed the trade\",\"field\":\"userid\"}],\"optional\":false,\"name\":\"ksql.StockTrade\",\"doc\":\"Defines a hypothetical stock trade using some known test stock symbols.\",\"parameters\":{\"connect.record.doc\":\"Defines a hypothetical stock trade using some known test stock symbols.\"}},\"payload\":{\"side\":\"BUY\",\"quantity\":104,\"symbol\":\"ZVV\",\"price\":976,\"account\":\"ABC123\",\"userid\":\"User_4\"}}    |stock-trades|0        |7     |2021-06-05 07:40:48.615|0            |\n",
      "|ZVZZT|{\"schema\":{\"type\":\"struct\",\"fields\":[{\"type\":\"string\",\"optional\":false,\"doc\":\"A simulated trade side (buy or sell or short)\",\"field\":\"side\"},{\"type\":\"int32\",\"optional\":false,\"doc\":\"A simulated random quantity of the trade\",\"field\":\"quantity\"},{\"type\":\"string\",\"optional\":false,\"doc\":\"Simulated stock symbols\",\"field\":\"symbol\"},{\"type\":\"int32\",\"optional\":false,\"doc\":\"A simulated random trade price in pennies\",\"field\":\"price\"},{\"type\":\"string\",\"optional\":false,\"doc\":\"Simulated accounts assigned to the trade\",\"field\":\"account\"},{\"type\":\"string\",\"optional\":false,\"doc\":\"The simulated user who executed the trade\",\"field\":\"userid\"}],\"optional\":false,\"name\":\"ksql.StockTrade\",\"doc\":\"Defines a hypothetical stock trade using some known test stock symbols.\",\"parameters\":{\"connect.record.doc\":\"Defines a hypothetical stock trade using some known test stock symbols.\"}},\"payload\":{\"side\":\"BUY\",\"quantity\":2265,\"symbol\":\"ZVZZT\",\"price\":132,\"account\":\"LMN456\",\"userid\":\"User_5\"}} |stock-trades|0        |8     |2021-06-05 07:40:48.626|0            |\n",
      "|ZBZX |{\"schema\":{\"type\":\"struct\",\"fields\":[{\"type\":\"string\",\"optional\":false,\"doc\":\"A simulated trade side (buy or sell or short)\",\"field\":\"side\"},{\"type\":\"int32\",\"optional\":false,\"doc\":\"A simulated random quantity of the trade\",\"field\":\"quantity\"},{\"type\":\"string\",\"optional\":false,\"doc\":\"Simulated stock symbols\",\"field\":\"symbol\"},{\"type\":\"int32\",\"optional\":false,\"doc\":\"A simulated random trade price in pennies\",\"field\":\"price\"},{\"type\":\"string\",\"optional\":false,\"doc\":\"Simulated accounts assigned to the trade\",\"field\":\"account\"},{\"type\":\"string\",\"optional\":false,\"doc\":\"The simulated user who executed the trade\",\"field\":\"userid\"}],\"optional\":false,\"name\":\"ksql.StockTrade\",\"doc\":\"Defines a hypothetical stock trade using some known test stock symbols.\",\"parameters\":{\"connect.record.doc\":\"Defines a hypothetical stock trade using some known test stock symbols.\"}},\"payload\":{\"side\":\"SELL\",\"quantity\":4944,\"symbol\":\"ZBZX\",\"price\":322,\"account\":\"XYZ789\",\"userid\":\"User_2\"}} |stock-trades|0        |9     |2021-06-05 07:40:49.348|0            |\n",
      "|ZWZZT|{\"schema\":{\"type\":\"struct\",\"fields\":[{\"type\":\"string\",\"optional\":false,\"doc\":\"A simulated trade side (buy or sell or short)\",\"field\":\"side\"},{\"type\":\"int32\",\"optional\":false,\"doc\":\"A simulated random quantity of the trade\",\"field\":\"quantity\"},{\"type\":\"string\",\"optional\":false,\"doc\":\"Simulated stock symbols\",\"field\":\"symbol\"},{\"type\":\"int32\",\"optional\":false,\"doc\":\"A simulated random trade price in pennies\",\"field\":\"price\"},{\"type\":\"string\",\"optional\":false,\"doc\":\"Simulated accounts assigned to the trade\",\"field\":\"account\"},{\"type\":\"string\",\"optional\":false,\"doc\":\"The simulated user who executed the trade\",\"field\":\"userid\"}],\"optional\":false,\"name\":\"ksql.StockTrade\",\"doc\":\"Defines a hypothetical stock trade using some known test stock symbols.\",\"parameters\":{\"connect.record.doc\":\"Defines a hypothetical stock trade using some known test stock symbols.\"}},\"payload\":{\"side\":\"BUY\",\"quantity\":2963,\"symbol\":\"ZWZZT\",\"price\":384,\"account\":\"XYZ789\",\"userid\":\"User_9\"}} |stock-trades|0        |10    |2021-06-05 07:40:50.083|0            |\n",
      "|ZWZZT|{\"schema\":{\"type\":\"struct\",\"fields\":[{\"type\":\"string\",\"optional\":false,\"doc\":\"A simulated trade side (buy or sell or short)\",\"field\":\"side\"},{\"type\":\"int32\",\"optional\":false,\"doc\":\"A simulated random quantity of the trade\",\"field\":\"quantity\"},{\"type\":\"string\",\"optional\":false,\"doc\":\"Simulated stock symbols\",\"field\":\"symbol\"},{\"type\":\"int32\",\"optional\":false,\"doc\":\"A simulated random trade price in pennies\",\"field\":\"price\"},{\"type\":\"string\",\"optional\":false,\"doc\":\"Simulated accounts assigned to the trade\",\"field\":\"account\"},{\"type\":\"string\",\"optional\":false,\"doc\":\"The simulated user who executed the trade\",\"field\":\"userid\"}],\"optional\":false,\"name\":\"ksql.StockTrade\",\"doc\":\"Defines a hypothetical stock trade using some known test stock symbols.\",\"parameters\":{\"connect.record.doc\":\"Defines a hypothetical stock trade using some known test stock symbols.\"}},\"payload\":{\"side\":\"BUY\",\"quantity\":3303,\"symbol\":\"ZWZZT\",\"price\":825,\"account\":\"LMN456\",\"userid\":\"User_5\"}} |stock-trades|0        |11    |2021-06-05 07:40:50.213|0            |\n",
      "|ZXZZT|{\"schema\":{\"type\":\"struct\",\"fields\":[{\"type\":\"string\",\"optional\":false,\"doc\":\"A simulated trade side (buy or sell or short)\",\"field\":\"side\"},{\"type\":\"int32\",\"optional\":false,\"doc\":\"A simulated random quantity of the trade\",\"field\":\"quantity\"},{\"type\":\"string\",\"optional\":false,\"doc\":\"Simulated stock symbols\",\"field\":\"symbol\"},{\"type\":\"int32\",\"optional\":false,\"doc\":\"A simulated random trade price in pennies\",\"field\":\"price\"},{\"type\":\"string\",\"optional\":false,\"doc\":\"Simulated accounts assigned to the trade\",\"field\":\"account\"},{\"type\":\"string\",\"optional\":false,\"doc\":\"The simulated user who executed the trade\",\"field\":\"userid\"}],\"optional\":false,\"name\":\"ksql.StockTrade\",\"doc\":\"Defines a hypothetical stock trade using some known test stock symbols.\",\"parameters\":{\"connect.record.doc\":\"Defines a hypothetical stock trade using some known test stock symbols.\"}},\"payload\":{\"side\":\"SELL\",\"quantity\":3590,\"symbol\":\"ZXZZT\",\"price\":504,\"account\":\"LMN456\",\"userid\":\"User_1\"}}|stock-trades|0        |12    |2021-06-05 07:40:50.884|0            |\n",
      "|ZWZZT|{\"schema\":{\"type\":\"struct\",\"fields\":[{\"type\":\"string\",\"optional\":false,\"doc\":\"A simulated trade side (buy or sell or short)\",\"field\":\"side\"},{\"type\":\"int32\",\"optional\":false,\"doc\":\"A simulated random quantity of the trade\",\"field\":\"quantity\"},{\"type\":\"string\",\"optional\":false,\"doc\":\"Simulated stock symbols\",\"field\":\"symbol\"},{\"type\":\"int32\",\"optional\":false,\"doc\":\"A simulated random trade price in pennies\",\"field\":\"price\"},{\"type\":\"string\",\"optional\":false,\"doc\":\"Simulated accounts assigned to the trade\",\"field\":\"account\"},{\"type\":\"string\",\"optional\":false,\"doc\":\"The simulated user who executed the trade\",\"field\":\"userid\"}],\"optional\":false,\"name\":\"ksql.StockTrade\",\"doc\":\"Defines a hypothetical stock trade using some known test stock symbols.\",\"parameters\":{\"connect.record.doc\":\"Defines a hypothetical stock trade using some known test stock symbols.\"}},\"payload\":{\"side\":\"SELL\",\"quantity\":1736,\"symbol\":\"ZWZZT\",\"price\":982,\"account\":\"ABC123\",\"userid\":\"User_3\"}}|stock-trades|0        |13    |2021-06-05 07:40:51.011|0            |\n",
      "|ZTEST|{\"schema\":{\"type\":\"struct\",\"fields\":[{\"type\":\"string\",\"optional\":false,\"doc\":\"A simulated trade side (buy or sell or short)\",\"field\":\"side\"},{\"type\":\"int32\",\"optional\":false,\"doc\":\"A simulated random quantity of the trade\",\"field\":\"quantity\"},{\"type\":\"string\",\"optional\":false,\"doc\":\"Simulated stock symbols\",\"field\":\"symbol\"},{\"type\":\"int32\",\"optional\":false,\"doc\":\"A simulated random trade price in pennies\",\"field\":\"price\"},{\"type\":\"string\",\"optional\":false,\"doc\":\"Simulated accounts assigned to the trade\",\"field\":\"account\"},{\"type\":\"string\",\"optional\":false,\"doc\":\"The simulated user who executed the trade\",\"field\":\"userid\"}],\"optional\":false,\"name\":\"ksql.StockTrade\",\"doc\":\"Defines a hypothetical stock trade using some known test stock symbols.\",\"parameters\":{\"connect.record.doc\":\"Defines a hypothetical stock trade using some known test stock symbols.\"}},\"payload\":{\"side\":\"SELL\",\"quantity\":140,\"symbol\":\"ZTEST\",\"price\":760,\"account\":\"XYZ789\",\"userid\":\"User_2\"}} |stock-trades|0        |14    |2021-06-05 07:40:51.493|0            |\n",
      "|ZVV  |{\"schema\":{\"type\":\"struct\",\"fields\":[{\"type\":\"string\",\"optional\":false,\"doc\":\"A simulated trade side (buy or sell or short)\",\"field\":\"side\"},{\"type\":\"int32\",\"optional\":false,\"doc\":\"A simulated random quantity of the trade\",\"field\":\"quantity\"},{\"type\":\"string\",\"optional\":false,\"doc\":\"Simulated stock symbols\",\"field\":\"symbol\"},{\"type\":\"int32\",\"optional\":false,\"doc\":\"A simulated random trade price in pennies\",\"field\":\"price\"},{\"type\":\"string\",\"optional\":false,\"doc\":\"Simulated accounts assigned to the trade\",\"field\":\"account\"},{\"type\":\"string\",\"optional\":false,\"doc\":\"The simulated user who executed the trade\",\"field\":\"userid\"}],\"optional\":false,\"name\":\"ksql.StockTrade\",\"doc\":\"Defines a hypothetical stock trade using some known test stock symbols.\",\"parameters\":{\"connect.record.doc\":\"Defines a hypothetical stock trade using some known test stock symbols.\"}},\"payload\":{\"side\":\"BUY\",\"quantity\":2886,\"symbol\":\"ZVV\",\"price\":52,\"account\":\"LMN456\",\"userid\":\"User_6\"}}    |stock-trades|0        |15    |2021-06-05 07:40:51.518|0            |\n",
      "|ZTEST|{\"schema\":{\"type\":\"struct\",\"fields\":[{\"type\":\"string\",\"optional\":false,\"doc\":\"A simulated trade side (buy or sell or short)\",\"field\":\"side\"},{\"type\":\"int32\",\"optional\":false,\"doc\":\"A simulated random quantity of the trade\",\"field\":\"quantity\"},{\"type\":\"string\",\"optional\":false,\"doc\":\"Simulated stock symbols\",\"field\":\"symbol\"},{\"type\":\"int32\",\"optional\":false,\"doc\":\"A simulated random trade price in pennies\",\"field\":\"price\"},{\"type\":\"string\",\"optional\":false,\"doc\":\"Simulated accounts assigned to the trade\",\"field\":\"account\"},{\"type\":\"string\",\"optional\":false,\"doc\":\"The simulated user who executed the trade\",\"field\":\"userid\"}],\"optional\":false,\"name\":\"ksql.StockTrade\",\"doc\":\"Defines a hypothetical stock trade using some known test stock symbols.\",\"parameters\":{\"connect.record.doc\":\"Defines a hypothetical stock trade using some known test stock symbols.\"}},\"payload\":{\"side\":\"BUY\",\"quantity\":1097,\"symbol\":\"ZTEST\",\"price\":619,\"account\":\"ABC123\",\"userid\":\"User_9\"}} |stock-trades|0        |16    |2021-06-05 07:40:52.476|0            |\n",
      "|ZVV  |{\"schema\":{\"type\":\"struct\",\"fields\":[{\"type\":\"string\",\"optional\":false,\"doc\":\"A simulated trade side (buy or sell or short)\",\"field\":\"side\"},{\"type\":\"int32\",\"optional\":false,\"doc\":\"A simulated random quantity of the trade\",\"field\":\"quantity\"},{\"type\":\"string\",\"optional\":false,\"doc\":\"Simulated stock symbols\",\"field\":\"symbol\"},{\"type\":\"int32\",\"optional\":false,\"doc\":\"A simulated random trade price in pennies\",\"field\":\"price\"},{\"type\":\"string\",\"optional\":false,\"doc\":\"Simulated accounts assigned to the trade\",\"field\":\"account\"},{\"type\":\"string\",\"optional\":false,\"doc\":\"The simulated user who executed the trade\",\"field\":\"userid\"}],\"optional\":false,\"name\":\"ksql.StockTrade\",\"doc\":\"Defines a hypothetical stock trade using some known test stock symbols.\",\"parameters\":{\"connect.record.doc\":\"Defines a hypothetical stock trade using some known test stock symbols.\"}},\"payload\":{\"side\":\"BUY\",\"quantity\":1983,\"symbol\":\"ZVV\",\"price\":32,\"account\":\"LMN456\",\"userid\":\"User_1\"}}    |stock-trades|0        |17    |2021-06-05 07:40:52.868|0            |\n",
      "|ZJZZT|{\"schema\":{\"type\":\"struct\",\"fields\":[{\"type\":\"string\",\"optional\":false,\"doc\":\"A simulated trade side (buy or sell or short)\",\"field\":\"side\"},{\"type\":\"int32\",\"optional\":false,\"doc\":\"A simulated random quantity of the trade\",\"field\":\"quantity\"},{\"type\":\"string\",\"optional\":false,\"doc\":\"Simulated stock symbols\",\"field\":\"symbol\"},{\"type\":\"int32\",\"optional\":false,\"doc\":\"A simulated random trade price in pennies\",\"field\":\"price\"},{\"type\":\"string\",\"optional\":false,\"doc\":\"Simulated accounts assigned to the trade\",\"field\":\"account\"},{\"type\":\"string\",\"optional\":false,\"doc\":\"The simulated user who executed the trade\",\"field\":\"userid\"}],\"optional\":false,\"name\":\"ksql.StockTrade\",\"doc\":\"Defines a hypothetical stock trade using some known test stock symbols.\",\"parameters\":{\"connect.record.doc\":\"Defines a hypothetical stock trade using some known test stock symbols.\"}},\"payload\":{\"side\":\"SELL\",\"quantity\":464,\"symbol\":\"ZJZZT\",\"price\":77,\"account\":\"LMN456\",\"userid\":\"User_1\"}}  |stock-trades|0        |18    |2021-06-05 07:40:53.375|0            |\n",
      "|ZWZZT|{\"schema\":{\"type\":\"struct\",\"fields\":[{\"type\":\"string\",\"optional\":false,\"doc\":\"A simulated trade side (buy or sell or short)\",\"field\":\"side\"},{\"type\":\"int32\",\"optional\":false,\"doc\":\"A simulated random quantity of the trade\",\"field\":\"quantity\"},{\"type\":\"string\",\"optional\":false,\"doc\":\"Simulated stock symbols\",\"field\":\"symbol\"},{\"type\":\"int32\",\"optional\":false,\"doc\":\"A simulated random trade price in pennies\",\"field\":\"price\"},{\"type\":\"string\",\"optional\":false,\"doc\":\"Simulated accounts assigned to the trade\",\"field\":\"account\"},{\"type\":\"string\",\"optional\":false,\"doc\":\"The simulated user who executed the trade\",\"field\":\"userid\"}],\"optional\":false,\"name\":\"ksql.StockTrade\",\"doc\":\"Defines a hypothetical stock trade using some known test stock symbols.\",\"parameters\":{\"connect.record.doc\":\"Defines a hypothetical stock trade using some known test stock symbols.\"}},\"payload\":{\"side\":\"SELL\",\"quantity\":2803,\"symbol\":\"ZWZZT\",\"price\":237,\"account\":\"XYZ789\",\"userid\":\"User_6\"}}|stock-trades|0        |19    |2021-06-05 07:40:53.718|0            |\n",
      "+-----+-------------------------------------------------------------------------------------------------------------------------------------------------------------------------------------------------------------------------------------------------------------------------------------------------------------------------------------------------------------------------------------------------------------------------------------------------------------------------------------------------------------------------------------------------------------------------------------------------------------------------------------------------------------------------------------------------------------------------------------------------------------------------------------------------------------------------------------------------------------------------------------------------------------------------------------------------------------------------------------------------------------+------------+---------+------+-----------------------+-------------+\n",
      "only showing top 20 rows\n",
      "\n"
     ]
    },
    {
     "data": {
      "text/plain": [
       "None"
      ]
     },
     "metadata": {},
     "output_type": "display_data"
    }
   ],
   "source": [
    "clear_output(wait=True)\n",
    "display(spark.sql('SELECT * FROM string_stocktrade_view').show(20, False))\n",
    "time.sleep(1)"
   ]
  },
  {
   "cell_type": "code",
   "execution_count": 108,
   "id": "b98b93a2",
   "metadata": {},
   "outputs": [],
   "source": [
    "string_stream.stop()"
   ]
  },
  {
   "cell_type": "code",
   "execution_count": 157,
   "id": "f51fee35",
   "metadata": {},
   "outputs": [],
   "source": [
    "schema_stocktrade = StructType([\n",
    "    StructField('payload', StructType([\n",
    "        StructField(\"side\", StringType(),  True),\n",
    "        StructField(\"quantity\", IntegerType(), True),\n",
    "        StructField(\"symbol\", StringType(),  True),\n",
    "        StructField(\"price\", IntegerType(),  True),\n",
    "        StructField(\"account\", StringType(),  True),\n",
    "        StructField(\"userid\", StringType(),  True)      \n",
    "    ]))\n",
    "])"
   ]
  },
  {
   "cell_type": "code",
   "execution_count": 158,
   "id": "b82eaecc",
   "metadata": {},
   "outputs": [],
   "source": [
    "json_stream_df = string_stream_df\\\n",
    "    .withColumn(\"value\", F.from_json(\"value\", schema_stocktrade))"
   ]
  },
  {
   "cell_type": "code",
   "execution_count": 159,
   "id": "74d0d6e8",
   "metadata": {},
   "outputs": [
    {
     "name": "stdout",
     "output_type": "stream",
     "text": [
      "root\n",
      " |-- key: string (nullable = true)\n",
      " |-- value: struct (nullable = true)\n",
      " |    |-- payload: struct (nullable = true)\n",
      " |    |    |-- side: string (nullable = true)\n",
      " |    |    |-- quantity: integer (nullable = true)\n",
      " |    |    |-- symbol: string (nullable = true)\n",
      " |    |    |-- price: integer (nullable = true)\n",
      " |    |    |-- account: string (nullable = true)\n",
      " |    |    |-- userid: string (nullable = true)\n",
      " |-- topic: string (nullable = true)\n",
      " |-- partition: integer (nullable = true)\n",
      " |-- offset: long (nullable = true)\n",
      " |-- timestamp: timestamp (nullable = true)\n",
      " |-- timestampType: integer (nullable = true)\n",
      "\n"
     ]
    }
   ],
   "source": [
    "json_stream_df.printSchema()"
   ]
  },
  {
   "cell_type": "code",
   "execution_count": 186,
   "id": "4e09d65c",
   "metadata": {},
   "outputs": [
    {
     "ename": "IllegalArgumentException",
     "evalue": "Cannot start query with name extract_stock_view as a query with that name is already active in this SparkSession",
     "output_type": "error",
     "traceback": [
      "\u001b[0;31m---------------------------------------------------------------------------\u001b[0m",
      "\u001b[0;31mIllegalArgumentException\u001b[0m                  Traceback (most recent call last)",
      "\u001b[0;32m<ipython-input-186-73eb2b8a0686>\u001b[0m in \u001b[0;36m<module>\u001b[0;34m\u001b[0m\n\u001b[0;32m----> 1\u001b[0;31m \u001b[0mjson_stream\u001b[0m \u001b[0;34m=\u001b[0m \u001b[0mjson_stream_df\u001b[0m\u001b[0;31m \u001b[0m\u001b[0;31m\\\u001b[0m\u001b[0;34m\u001b[0m\u001b[0;34m\u001b[0m\u001b[0m\n\u001b[0m\u001b[1;32m      2\u001b[0m     \u001b[0;34m.\u001b[0m\u001b[0mwriteStream\u001b[0m\u001b[0;31m \u001b[0m\u001b[0;31m\\\u001b[0m\u001b[0;34m\u001b[0m\u001b[0;34m\u001b[0m\u001b[0m\n\u001b[1;32m      3\u001b[0m     \u001b[0;34m.\u001b[0m\u001b[0mformat\u001b[0m\u001b[0;34m(\u001b[0m\u001b[0;34m\"memory\"\u001b[0m\u001b[0;34m)\u001b[0m\u001b[0;31m \u001b[0m\u001b[0;31m\\\u001b[0m\u001b[0;34m\u001b[0m\u001b[0;34m\u001b[0m\u001b[0m\n\u001b[1;32m      4\u001b[0m     \u001b[0;34m.\u001b[0m\u001b[0mqueryName\u001b[0m\u001b[0;34m(\u001b[0m\u001b[0;34m\"extract_stock_view\"\u001b[0m\u001b[0;34m)\u001b[0m\u001b[0;31m \u001b[0m\u001b[0;31m\\\u001b[0m\u001b[0;34m\u001b[0m\u001b[0;34m\u001b[0m\u001b[0m\n\u001b[1;32m      5\u001b[0m     \u001b[0;34m.\u001b[0m\u001b[0mstart\u001b[0m\u001b[0;34m(\u001b[0m\u001b[0;34m)\u001b[0m\u001b[0;34m\u001b[0m\u001b[0;34m\u001b[0m\u001b[0m\n",
      "\u001b[0;32m/usr/local/spark/python/pyspark/sql/streaming.py\u001b[0m in \u001b[0;36mstart\u001b[0;34m(self, path, format, outputMode, partitionBy, queryName, **options)\u001b[0m\n\u001b[1;32m   1489\u001b[0m             \u001b[0mself\u001b[0m\u001b[0;34m.\u001b[0m\u001b[0mqueryName\u001b[0m\u001b[0;34m(\u001b[0m\u001b[0mqueryName\u001b[0m\u001b[0;34m)\u001b[0m\u001b[0;34m\u001b[0m\u001b[0;34m\u001b[0m\u001b[0m\n\u001b[1;32m   1490\u001b[0m         \u001b[0;32mif\u001b[0m \u001b[0mpath\u001b[0m \u001b[0;32mis\u001b[0m \u001b[0;32mNone\u001b[0m\u001b[0;34m:\u001b[0m\u001b[0;34m\u001b[0m\u001b[0;34m\u001b[0m\u001b[0m\n\u001b[0;32m-> 1491\u001b[0;31m             \u001b[0;32mreturn\u001b[0m \u001b[0mself\u001b[0m\u001b[0;34m.\u001b[0m\u001b[0m_sq\u001b[0m\u001b[0;34m(\u001b[0m\u001b[0mself\u001b[0m\u001b[0;34m.\u001b[0m\u001b[0m_jwrite\u001b[0m\u001b[0;34m.\u001b[0m\u001b[0mstart\u001b[0m\u001b[0;34m(\u001b[0m\u001b[0;34m)\u001b[0m\u001b[0;34m)\u001b[0m\u001b[0;34m\u001b[0m\u001b[0;34m\u001b[0m\u001b[0m\n\u001b[0m\u001b[1;32m   1492\u001b[0m         \u001b[0;32melse\u001b[0m\u001b[0;34m:\u001b[0m\u001b[0;34m\u001b[0m\u001b[0;34m\u001b[0m\u001b[0m\n\u001b[1;32m   1493\u001b[0m             \u001b[0;32mreturn\u001b[0m \u001b[0mself\u001b[0m\u001b[0;34m.\u001b[0m\u001b[0m_sq\u001b[0m\u001b[0;34m(\u001b[0m\u001b[0mself\u001b[0m\u001b[0;34m.\u001b[0m\u001b[0m_jwrite\u001b[0m\u001b[0;34m.\u001b[0m\u001b[0mstart\u001b[0m\u001b[0;34m(\u001b[0m\u001b[0mpath\u001b[0m\u001b[0;34m)\u001b[0m\u001b[0;34m)\u001b[0m\u001b[0;34m\u001b[0m\u001b[0;34m\u001b[0m\u001b[0m\n",
      "\u001b[0;32m/usr/local/spark/python/lib/py4j-0.10.9-src.zip/py4j/java_gateway.py\u001b[0m in \u001b[0;36m__call__\u001b[0;34m(self, *args)\u001b[0m\n\u001b[1;32m   1302\u001b[0m \u001b[0;34m\u001b[0m\u001b[0m\n\u001b[1;32m   1303\u001b[0m         \u001b[0manswer\u001b[0m \u001b[0;34m=\u001b[0m \u001b[0mself\u001b[0m\u001b[0;34m.\u001b[0m\u001b[0mgateway_client\u001b[0m\u001b[0;34m.\u001b[0m\u001b[0msend_command\u001b[0m\u001b[0;34m(\u001b[0m\u001b[0mcommand\u001b[0m\u001b[0;34m)\u001b[0m\u001b[0;34m\u001b[0m\u001b[0;34m\u001b[0m\u001b[0m\n\u001b[0;32m-> 1304\u001b[0;31m         return_value = get_return_value(\n\u001b[0m\u001b[1;32m   1305\u001b[0m             answer, self.gateway_client, self.target_id, self.name)\n\u001b[1;32m   1306\u001b[0m \u001b[0;34m\u001b[0m\u001b[0m\n",
      "\u001b[0;32m/usr/local/spark/python/pyspark/sql/utils.py\u001b[0m in \u001b[0;36mdeco\u001b[0;34m(*a, **kw)\u001b[0m\n\u001b[1;32m    115\u001b[0m                 \u001b[0;31m# Hide where the exception came from that shows a non-Pythonic\u001b[0m\u001b[0;34m\u001b[0m\u001b[0;34m\u001b[0m\u001b[0;34m\u001b[0m\u001b[0m\n\u001b[1;32m    116\u001b[0m                 \u001b[0;31m# JVM exception message.\u001b[0m\u001b[0;34m\u001b[0m\u001b[0;34m\u001b[0m\u001b[0;34m\u001b[0m\u001b[0m\n\u001b[0;32m--> 117\u001b[0;31m                 \u001b[0;32mraise\u001b[0m \u001b[0mconverted\u001b[0m \u001b[0;32mfrom\u001b[0m \u001b[0;32mNone\u001b[0m\u001b[0;34m\u001b[0m\u001b[0;34m\u001b[0m\u001b[0m\n\u001b[0m\u001b[1;32m    118\u001b[0m             \u001b[0;32melse\u001b[0m\u001b[0;34m:\u001b[0m\u001b[0;34m\u001b[0m\u001b[0;34m\u001b[0m\u001b[0m\n\u001b[1;32m    119\u001b[0m                 \u001b[0;32mraise\u001b[0m\u001b[0;34m\u001b[0m\u001b[0;34m\u001b[0m\u001b[0m\n",
      "\u001b[0;31mIllegalArgumentException\u001b[0m: Cannot start query with name extract_stock_view as a query with that name is already active in this SparkSession"
     ]
    }
   ],
   "source": [
    "json_stream = json_stream_df \\\n",
    "    .writeStream \\\n",
    "    .format(\"memory\") \\\n",
    "    .queryName(\"extract_stock_view\") \\\n",
    "    .start()"
   ]
  },
  {
   "cell_type": "code",
   "execution_count": 187,
   "id": "972b842f",
   "metadata": {},
   "outputs": [
    {
     "name": "stdout",
     "output_type": "stream",
     "text": [
      "+-----+--------------------+------------+---------+------+--------------------+-------------+\n",
      "|  key|               value|       topic|partition|offset|           timestamp|timestampType|\n",
      "+-----+--------------------+------------+---------+------+--------------------+-------------+\n",
      "|ZWZZT|{{BUY, 1769, ZWZZ...|stock-trades|        0|     0|2021-06-05 07:40:...|            0|\n",
      "|ZXZZT|{{SELL, 998, ZXZZ...|stock-trades|        0|     1|2021-06-05 07:40:...|            0|\n",
      "|ZVZZT|{{SELL, 4974, ZVZ...|stock-trades|        0|     2|2021-06-05 07:40:...|            0|\n",
      "|ZVZZT|{{BUY, 1143, ZVZZ...|stock-trades|        0|     3|2021-06-05 07:40:...|            0|\n",
      "|ZXZZT|{{SELL, 6, ZXZZT,...|stock-trades|        0|     4|2021-06-05 07:40:...|            0|\n",
      "|ZTEST|{{BUY, 1014, ZTES...|stock-trades|        0|     5|2021-06-05 07:40:...|            0|\n",
      "| ZBZX|{{SELL, 2883, ZBZ...|stock-trades|        0|     6|2021-06-05 07:40:...|            0|\n",
      "|  ZVV|{{BUY, 104, ZVV, ...|stock-trades|        0|     7|2021-06-05 07:40:...|            0|\n",
      "|ZVZZT|{{BUY, 2265, ZVZZ...|stock-trades|        0|     8|2021-06-05 07:40:...|            0|\n",
      "| ZBZX|{{SELL, 4944, ZBZ...|stock-trades|        0|     9|2021-06-05 07:40:...|            0|\n",
      "|ZWZZT|{{BUY, 2963, ZWZZ...|stock-trades|        0|    10|2021-06-05 07:40:...|            0|\n",
      "|ZWZZT|{{BUY, 3303, ZWZZ...|stock-trades|        0|    11|2021-06-05 07:40:...|            0|\n",
      "|ZXZZT|{{SELL, 3590, ZXZ...|stock-trades|        0|    12|2021-06-05 07:40:...|            0|\n",
      "|ZWZZT|{{SELL, 1736, ZWZ...|stock-trades|        0|    13|2021-06-05 07:40:...|            0|\n",
      "|ZTEST|{{SELL, 140, ZTES...|stock-trades|        0|    14|2021-06-05 07:40:...|            0|\n",
      "|  ZVV|{{BUY, 2886, ZVV,...|stock-trades|        0|    15|2021-06-05 07:40:...|            0|\n",
      "|ZTEST|{{BUY, 1097, ZTES...|stock-trades|        0|    16|2021-06-05 07:40:...|            0|\n",
      "|  ZVV|{{BUY, 1983, ZVV,...|stock-trades|        0|    17|2021-06-05 07:40:...|            0|\n",
      "|ZJZZT|{{SELL, 464, ZJZZ...|stock-trades|        0|    18|2021-06-05 07:40:...|            0|\n",
      "|ZWZZT|{{SELL, 2803, ZWZ...|stock-trades|        0|    19|2021-06-05 07:40:...|            0|\n",
      "+-----+--------------------+------------+---------+------+--------------------+-------------+\n",
      "only showing top 20 rows\n",
      "\n"
     ]
    },
    {
     "data": {
      "text/plain": [
       "None"
      ]
     },
     "metadata": {},
     "output_type": "display_data"
    }
   ],
   "source": [
    "clear_output(wait=True)\n",
    "display(spark.sql('SELECT * FROM extract_stock_view').show(20))\n",
    "time.sleep(1)"
   ]
  },
  {
   "cell_type": "code",
   "execution_count": 194,
   "id": "faebcec3",
   "metadata": {},
   "outputs": [],
   "source": [
    "json_stream.stop()"
   ]
  },
  {
   "cell_type": "code",
   "execution_count": 200,
   "id": "59d4e3e4",
   "metadata": {},
   "outputs": [],
   "source": [
    "stocktrade_stream_df = json_stream_df \\\n",
    "    .select( \\\n",
    "        F.col(\"key\").alias(\"event_key\"), \\\n",
    "        F.col(\"topic\").alias(\"event_topic\"), \\\n",
    "        F.col(\"timestamp\").alias(\"event_timestamp\"), \\\n",
    "        \"value.payload.account\", \\\n",
    "        \"value.payload.symbol\", \\\n",
    "        \"value.payload.side\", \\\n",
    "        \"value.payload.price\", \\\n",
    "        \"value.payload.quantity\", \\\n",
    "        \"value.payload.userid\"\n",
    "    )"
   ]
  },
  {
   "cell_type": "code",
   "execution_count": 201,
   "id": "35bd8533",
   "metadata": {},
   "outputs": [
    {
     "name": "stdout",
     "output_type": "stream",
     "text": [
      "root\n",
      " |-- event_key: string (nullable = true)\n",
      " |-- event_topic: string (nullable = true)\n",
      " |-- event_timestamp: timestamp (nullable = true)\n",
      " |-- account: string (nullable = true)\n",
      " |-- symbol: string (nullable = true)\n",
      " |-- side: string (nullable = true)\n",
      " |-- price: integer (nullable = true)\n",
      " |-- quantity: integer (nullable = true)\n",
      " |-- userid: string (nullable = true)\n",
      "\n"
     ]
    }
   ],
   "source": [
    "stocktrade_stream_df.printSchema()"
   ]
  },
  {
   "cell_type": "code",
   "execution_count": 205,
   "id": "ea32b2f1",
   "metadata": {},
   "outputs": [],
   "source": [
    "stocktrade_stream = stocktrade_stream_df \\\n",
    "    .writeStream \\\n",
    "    .format(\"memory\") \\\n",
    "    .queryName(\"stocktrade_view\") \\\n",
    "    .start()"
   ]
  },
  {
   "cell_type": "code",
   "execution_count": 204,
   "id": "3e64d7e2",
   "metadata": {},
   "outputs": [
    {
     "name": "stdout",
     "output_type": "stream",
     "text": [
      "+---------+------------+--------------------+-------+------+----+-----+--------+------+\n",
      "|event_key| event_topic|     event_timestamp|account|symbol|side|price|quantity|userid|\n",
      "+---------+------------+--------------------+-------+------+----+-----+--------+------+\n",
      "|    ZWZZT|stock-trades|2021-06-05 07:40:...| XYZ789| ZWZZT| BUY|  161|    1769|User_4|\n",
      "|    ZXZZT|stock-trades|2021-06-05 07:40:...| LMN456| ZXZZT|SELL|  327|     998|User_6|\n",
      "|    ZVZZT|stock-trades|2021-06-05 07:40:...| ABC123| ZVZZT|SELL|  414|    4974|User_1|\n",
      "|    ZVZZT|stock-trades|2021-06-05 07:40:...| XYZ789| ZVZZT| BUY|  572|    1143|User_3|\n",
      "|    ZXZZT|stock-trades|2021-06-05 07:40:...| LMN456| ZXZZT|SELL|  785|       6|User_4|\n",
      "|    ZTEST|stock-trades|2021-06-05 07:40:...| ABC123| ZTEST| BUY|  389|    1014|User_2|\n",
      "|     ZBZX|stock-trades|2021-06-05 07:40:...| ABC123|  ZBZX|SELL|  128|    2883|User_7|\n",
      "|      ZVV|stock-trades|2021-06-05 07:40:...| ABC123|   ZVV| BUY|  976|     104|User_4|\n",
      "|    ZVZZT|stock-trades|2021-06-05 07:40:...| LMN456| ZVZZT| BUY|  132|    2265|User_5|\n",
      "|     ZBZX|stock-trades|2021-06-05 07:40:...| XYZ789|  ZBZX|SELL|  322|    4944|User_2|\n",
      "|    ZWZZT|stock-trades|2021-06-05 07:40:...| XYZ789| ZWZZT| BUY|  384|    2963|User_9|\n",
      "|    ZWZZT|stock-trades|2021-06-05 07:40:...| LMN456| ZWZZT| BUY|  825|    3303|User_5|\n",
      "|    ZXZZT|stock-trades|2021-06-05 07:40:...| LMN456| ZXZZT|SELL|  504|    3590|User_1|\n",
      "|    ZWZZT|stock-trades|2021-06-05 07:40:...| ABC123| ZWZZT|SELL|  982|    1736|User_3|\n",
      "|    ZTEST|stock-trades|2021-06-05 07:40:...| XYZ789| ZTEST|SELL|  760|     140|User_2|\n",
      "|      ZVV|stock-trades|2021-06-05 07:40:...| LMN456|   ZVV| BUY|   52|    2886|User_6|\n",
      "|    ZTEST|stock-trades|2021-06-05 07:40:...| ABC123| ZTEST| BUY|  619|    1097|User_9|\n",
      "|      ZVV|stock-trades|2021-06-05 07:40:...| LMN456|   ZVV| BUY|   32|    1983|User_1|\n",
      "|    ZJZZT|stock-trades|2021-06-05 07:40:...| LMN456| ZJZZT|SELL|   77|     464|User_1|\n",
      "|    ZWZZT|stock-trades|2021-06-05 07:40:...| XYZ789| ZWZZT|SELL|  237|    2803|User_6|\n",
      "+---------+------------+--------------------+-------+------+----+-----+--------+------+\n",
      "only showing top 20 rows\n",
      "\n"
     ]
    },
    {
     "data": {
      "text/plain": [
       "None"
      ]
     },
     "metadata": {},
     "output_type": "display_data"
    }
   ],
   "source": [
    "clear_output(wait=True)\n",
    "display(spark.sql('SELECT * FROM stocktrade_view').show(20))\n",
    "time.sleep(1)"
   ]
  },
  {
   "cell_type": "code",
   "execution_count": 207,
   "id": "aa7b63fe",
   "metadata": {},
   "outputs": [
    {
     "name": "stdout",
     "output_type": "stream",
     "text": [
      "+---------+-----+-----+------+\n",
      "|event_key|count|price|   qty|\n",
      "+---------+-----+-----+------+\n",
      "|    ZXZZT|22195|503.0|2506.0|\n",
      "|    ZVZZT|22120|503.0|2506.0|\n",
      "|    ZTEST|22172|500.0|2488.0|\n",
      "|    ZWZZT|22217|503.0|2494.0|\n",
      "|    ZJZZT|22123|504.0|2501.0|\n",
      "|      ZVV|22354|502.0|2487.0|\n",
      "|     ZBZX|22194|504.0|2496.0|\n",
      "+---------+-----+-----+------+\n",
      "\n"
     ]
    },
    {
     "data": {
      "text/plain": [
       "None"
      ]
     },
     "metadata": {},
     "output_type": "display_data"
    }
   ],
   "source": [
    "clear_output(wait=True)\n",
    "display(spark.sql('SELECT event_key, COUNT(1) AS count, round(mean(price),0) as price, round(mean(quantity),0) as qty FROM stocktrade_view GROUP BY 1').show(20))\n",
    "time.sleep(1)"
   ]
  },
  {
   "cell_type": "code",
   "execution_count": 203,
   "id": "85d2f36a",
   "metadata": {},
   "outputs": [],
   "source": [
    "stocktrade_stream.stop()"
   ]
  },
  {
   "cell_type": "code",
   "execution_count": 180,
   "id": "9d63aa57",
   "metadata": {},
   "outputs": [],
   "source": [
    "window_duration = '60 seconds'\n",
    "slide_duration = '10 seconds'"
   ]
  },
  {
   "cell_type": "code",
   "execution_count": 183,
   "id": "4ea3c3c3",
   "metadata": {},
   "outputs": [],
   "source": [
    "windowed_count_df = stocktrade_stream_df \\\n",
    "    .withWatermark(\"event_timestamp\", \"1 minutes\") \\\n",
    "    .groupBy(F.window(stocktrade_stream_df.event_timestamp, window_duration, slide_duration), stocktrade_stream_df.symbol) \\\n",
    "    .count()"
   ]
  },
  {
   "cell_type": "code",
   "execution_count": 184,
   "id": "03bb1e68",
   "metadata": {},
   "outputs": [],
   "source": [
    "count_stream = windowed_count_df \\\n",
    "    .writeStream \\\n",
    "    .format(\"memory\") \\\n",
    "    .outputMode(\"Complete\") \\\n",
    "    .queryName(\"count_view\") \\\n",
    "    .start()"
   ]
  },
  {
   "cell_type": "code",
   "execution_count": 185,
   "id": "4eaf5da4",
   "metadata": {},
   "outputs": [
    {
     "ename": "KeyboardInterrupt",
     "evalue": "",
     "output_type": "error",
     "traceback": [
      "\u001b[0;31m---------------------------------------------------------------------------\u001b[0m",
      "\u001b[0;31mKeyboardInterrupt\u001b[0m                         Traceback (most recent call last)",
      "\u001b[0;32m<ipython-input-185-18d3403f5de3>\u001b[0m in \u001b[0;36m<module>\u001b[0;34m\u001b[0m\n\u001b[1;32m      1\u001b[0m \u001b[0;32mwhile\u001b[0m \u001b[0;32mTrue\u001b[0m\u001b[0;34m:\u001b[0m\u001b[0;34m\u001b[0m\u001b[0;34m\u001b[0m\u001b[0m\n\u001b[1;32m      2\u001b[0m     \u001b[0mclear_output\u001b[0m\u001b[0;34m(\u001b[0m\u001b[0mwait\u001b[0m\u001b[0;34m=\u001b[0m\u001b[0;32mTrue\u001b[0m\u001b[0;34m)\u001b[0m\u001b[0;34m\u001b[0m\u001b[0;34m\u001b[0m\u001b[0m\n\u001b[0;32m----> 3\u001b[0;31m     \u001b[0mdisplay\u001b[0m\u001b[0;34m(\u001b[0m\u001b[0mspark\u001b[0m\u001b[0;34m.\u001b[0m\u001b[0msql\u001b[0m\u001b[0;34m(\u001b[0m\u001b[0;34m'SELECT * FROM count_view LIMIT 20'\u001b[0m\u001b[0;34m)\u001b[0m\u001b[0;34m.\u001b[0m\u001b[0mshow\u001b[0m\u001b[0;34m(\u001b[0m\u001b[0;34m)\u001b[0m\u001b[0;34m)\u001b[0m\u001b[0;34m\u001b[0m\u001b[0;34m\u001b[0m\u001b[0m\n\u001b[0m\u001b[1;32m      4\u001b[0m     \u001b[0mtime\u001b[0m\u001b[0;34m.\u001b[0m\u001b[0msleep\u001b[0m\u001b[0;34m(\u001b[0m\u001b[0;36m1\u001b[0m\u001b[0;34m)\u001b[0m\u001b[0;34m\u001b[0m\u001b[0;34m\u001b[0m\u001b[0m\n",
      "\u001b[0;32m/usr/local/spark/python/pyspark/sql/dataframe.py\u001b[0m in \u001b[0;36mshow\u001b[0;34m(self, n, truncate, vertical)\u001b[0m\n\u001b[1;32m    482\u001b[0m         \"\"\"\n\u001b[1;32m    483\u001b[0m         \u001b[0;32mif\u001b[0m \u001b[0misinstance\u001b[0m\u001b[0;34m(\u001b[0m\u001b[0mtruncate\u001b[0m\u001b[0;34m,\u001b[0m \u001b[0mbool\u001b[0m\u001b[0;34m)\u001b[0m \u001b[0;32mand\u001b[0m \u001b[0mtruncate\u001b[0m\u001b[0;34m:\u001b[0m\u001b[0;34m\u001b[0m\u001b[0;34m\u001b[0m\u001b[0m\n\u001b[0;32m--> 484\u001b[0;31m             \u001b[0mprint\u001b[0m\u001b[0;34m(\u001b[0m\u001b[0mself\u001b[0m\u001b[0;34m.\u001b[0m\u001b[0m_jdf\u001b[0m\u001b[0;34m.\u001b[0m\u001b[0mshowString\u001b[0m\u001b[0;34m(\u001b[0m\u001b[0mn\u001b[0m\u001b[0;34m,\u001b[0m \u001b[0;36m20\u001b[0m\u001b[0;34m,\u001b[0m \u001b[0mvertical\u001b[0m\u001b[0;34m)\u001b[0m\u001b[0;34m)\u001b[0m\u001b[0;34m\u001b[0m\u001b[0;34m\u001b[0m\u001b[0m\n\u001b[0m\u001b[1;32m    485\u001b[0m         \u001b[0;32melse\u001b[0m\u001b[0;34m:\u001b[0m\u001b[0;34m\u001b[0m\u001b[0;34m\u001b[0m\u001b[0m\n\u001b[1;32m    486\u001b[0m             \u001b[0mprint\u001b[0m\u001b[0;34m(\u001b[0m\u001b[0mself\u001b[0m\u001b[0;34m.\u001b[0m\u001b[0m_jdf\u001b[0m\u001b[0;34m.\u001b[0m\u001b[0mshowString\u001b[0m\u001b[0;34m(\u001b[0m\u001b[0mn\u001b[0m\u001b[0;34m,\u001b[0m \u001b[0mint\u001b[0m\u001b[0;34m(\u001b[0m\u001b[0mtruncate\u001b[0m\u001b[0;34m)\u001b[0m\u001b[0;34m,\u001b[0m \u001b[0mvertical\u001b[0m\u001b[0;34m)\u001b[0m\u001b[0;34m)\u001b[0m\u001b[0;34m\u001b[0m\u001b[0;34m\u001b[0m\u001b[0m\n",
      "\u001b[0;32m/usr/local/spark/python/lib/py4j-0.10.9-src.zip/py4j/java_gateway.py\u001b[0m in \u001b[0;36m__call__\u001b[0;34m(self, *args)\u001b[0m\n\u001b[1;32m   1301\u001b[0m             \u001b[0mproto\u001b[0m\u001b[0;34m.\u001b[0m\u001b[0mEND_COMMAND_PART\u001b[0m\u001b[0;34m\u001b[0m\u001b[0;34m\u001b[0m\u001b[0m\n\u001b[1;32m   1302\u001b[0m \u001b[0;34m\u001b[0m\u001b[0m\n\u001b[0;32m-> 1303\u001b[0;31m         \u001b[0manswer\u001b[0m \u001b[0;34m=\u001b[0m \u001b[0mself\u001b[0m\u001b[0;34m.\u001b[0m\u001b[0mgateway_client\u001b[0m\u001b[0;34m.\u001b[0m\u001b[0msend_command\u001b[0m\u001b[0;34m(\u001b[0m\u001b[0mcommand\u001b[0m\u001b[0;34m)\u001b[0m\u001b[0;34m\u001b[0m\u001b[0;34m\u001b[0m\u001b[0m\n\u001b[0m\u001b[1;32m   1304\u001b[0m         return_value = get_return_value(\n\u001b[1;32m   1305\u001b[0m             answer, self.gateway_client, self.target_id, self.name)\n",
      "\u001b[0;32m/usr/local/spark/python/lib/py4j-0.10.9-src.zip/py4j/java_gateway.py\u001b[0m in \u001b[0;36msend_command\u001b[0;34m(self, command, retry, binary)\u001b[0m\n\u001b[1;32m   1031\u001b[0m         \u001b[0mconnection\u001b[0m \u001b[0;34m=\u001b[0m \u001b[0mself\u001b[0m\u001b[0;34m.\u001b[0m\u001b[0m_get_connection\u001b[0m\u001b[0;34m(\u001b[0m\u001b[0;34m)\u001b[0m\u001b[0;34m\u001b[0m\u001b[0;34m\u001b[0m\u001b[0m\n\u001b[1;32m   1032\u001b[0m         \u001b[0;32mtry\u001b[0m\u001b[0;34m:\u001b[0m\u001b[0;34m\u001b[0m\u001b[0;34m\u001b[0m\u001b[0m\n\u001b[0;32m-> 1033\u001b[0;31m             \u001b[0mresponse\u001b[0m \u001b[0;34m=\u001b[0m \u001b[0mconnection\u001b[0m\u001b[0;34m.\u001b[0m\u001b[0msend_command\u001b[0m\u001b[0;34m(\u001b[0m\u001b[0mcommand\u001b[0m\u001b[0;34m)\u001b[0m\u001b[0;34m\u001b[0m\u001b[0;34m\u001b[0m\u001b[0m\n\u001b[0m\u001b[1;32m   1034\u001b[0m             \u001b[0;32mif\u001b[0m \u001b[0mbinary\u001b[0m\u001b[0;34m:\u001b[0m\u001b[0;34m\u001b[0m\u001b[0;34m\u001b[0m\u001b[0m\n\u001b[1;32m   1035\u001b[0m                 \u001b[0;32mreturn\u001b[0m \u001b[0mresponse\u001b[0m\u001b[0;34m,\u001b[0m \u001b[0mself\u001b[0m\u001b[0;34m.\u001b[0m\u001b[0m_create_connection_guard\u001b[0m\u001b[0;34m(\u001b[0m\u001b[0mconnection\u001b[0m\u001b[0;34m)\u001b[0m\u001b[0;34m\u001b[0m\u001b[0;34m\u001b[0m\u001b[0m\n",
      "\u001b[0;32m/usr/local/spark/python/lib/py4j-0.10.9-src.zip/py4j/java_gateway.py\u001b[0m in \u001b[0;36msend_command\u001b[0;34m(self, command)\u001b[0m\n\u001b[1;32m   1198\u001b[0m \u001b[0;34m\u001b[0m\u001b[0m\n\u001b[1;32m   1199\u001b[0m         \u001b[0;32mtry\u001b[0m\u001b[0;34m:\u001b[0m\u001b[0;34m\u001b[0m\u001b[0;34m\u001b[0m\u001b[0m\n\u001b[0;32m-> 1200\u001b[0;31m             \u001b[0manswer\u001b[0m \u001b[0;34m=\u001b[0m \u001b[0msmart_decode\u001b[0m\u001b[0;34m(\u001b[0m\u001b[0mself\u001b[0m\u001b[0;34m.\u001b[0m\u001b[0mstream\u001b[0m\u001b[0;34m.\u001b[0m\u001b[0mreadline\u001b[0m\u001b[0;34m(\u001b[0m\u001b[0;34m)\u001b[0m\u001b[0;34m[\u001b[0m\u001b[0;34m:\u001b[0m\u001b[0;34m-\u001b[0m\u001b[0;36m1\u001b[0m\u001b[0;34m]\u001b[0m\u001b[0;34m)\u001b[0m\u001b[0;34m\u001b[0m\u001b[0;34m\u001b[0m\u001b[0m\n\u001b[0m\u001b[1;32m   1201\u001b[0m             \u001b[0mlogger\u001b[0m\u001b[0;34m.\u001b[0m\u001b[0mdebug\u001b[0m\u001b[0;34m(\u001b[0m\u001b[0;34m\"Answer received: {0}\"\u001b[0m\u001b[0;34m.\u001b[0m\u001b[0mformat\u001b[0m\u001b[0;34m(\u001b[0m\u001b[0manswer\u001b[0m\u001b[0;34m)\u001b[0m\u001b[0;34m)\u001b[0m\u001b[0;34m\u001b[0m\u001b[0;34m\u001b[0m\u001b[0m\n\u001b[1;32m   1202\u001b[0m             \u001b[0;32mif\u001b[0m \u001b[0manswer\u001b[0m\u001b[0;34m.\u001b[0m\u001b[0mstartswith\u001b[0m\u001b[0;34m(\u001b[0m\u001b[0mproto\u001b[0m\u001b[0;34m.\u001b[0m\u001b[0mRETURN_MESSAGE\u001b[0m\u001b[0;34m)\u001b[0m\u001b[0;34m:\u001b[0m\u001b[0;34m\u001b[0m\u001b[0;34m\u001b[0m\u001b[0m\n",
      "\u001b[0;32m/opt/conda/lib/python3.8/socket.py\u001b[0m in \u001b[0;36mreadinto\u001b[0;34m(self, b)\u001b[0m\n\u001b[1;32m    667\u001b[0m         \u001b[0;32mwhile\u001b[0m \u001b[0;32mTrue\u001b[0m\u001b[0;34m:\u001b[0m\u001b[0;34m\u001b[0m\u001b[0;34m\u001b[0m\u001b[0m\n\u001b[1;32m    668\u001b[0m             \u001b[0;32mtry\u001b[0m\u001b[0;34m:\u001b[0m\u001b[0;34m\u001b[0m\u001b[0;34m\u001b[0m\u001b[0m\n\u001b[0;32m--> 669\u001b[0;31m                 \u001b[0;32mreturn\u001b[0m \u001b[0mself\u001b[0m\u001b[0;34m.\u001b[0m\u001b[0m_sock\u001b[0m\u001b[0;34m.\u001b[0m\u001b[0mrecv_into\u001b[0m\u001b[0;34m(\u001b[0m\u001b[0mb\u001b[0m\u001b[0;34m)\u001b[0m\u001b[0;34m\u001b[0m\u001b[0;34m\u001b[0m\u001b[0m\n\u001b[0m\u001b[1;32m    670\u001b[0m             \u001b[0;32mexcept\u001b[0m \u001b[0mtimeout\u001b[0m\u001b[0;34m:\u001b[0m\u001b[0;34m\u001b[0m\u001b[0;34m\u001b[0m\u001b[0m\n\u001b[1;32m    671\u001b[0m                 \u001b[0mself\u001b[0m\u001b[0;34m.\u001b[0m\u001b[0m_timeout_occurred\u001b[0m \u001b[0;34m=\u001b[0m \u001b[0;32mTrue\u001b[0m\u001b[0;34m\u001b[0m\u001b[0;34m\u001b[0m\u001b[0m\n",
      "\u001b[0;31mKeyboardInterrupt\u001b[0m: "
     ]
    }
   ],
   "source": [
    "while True:\n",
    "    clear_output(wait=True)\n",
    "    display(spark.sql('SELECT * FROM count_view LIMIT 20').show())\n",
    "    time.sleep(1)"
   ]
  },
  {
   "cell_type": "code",
   "execution_count": 41,
   "id": "1bacb844",
   "metadata": {},
   "outputs": [],
   "source": [
    "count_stream.stop()"
   ]
  }
 ],
 "metadata": {
  "kernelspec": {
   "display_name": "Python 3",
   "language": "python",
   "name": "python3"
  },
  "language_info": {
   "codemirror_mode": {
    "name": "ipython",
    "version": 3
   },
   "file_extension": ".py",
   "mimetype": "text/x-python",
   "name": "python",
   "nbconvert_exporter": "python",
   "pygments_lexer": "ipython3",
   "version": "3.8.8"
  }
 },
 "nbformat": 4,
 "nbformat_minor": 5
}
